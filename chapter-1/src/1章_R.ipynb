{
 "cells": [
  {
   "cell_type": "markdown",
   "metadata": {
    "id": "pCbOP-x725Jd"
   },
   "source": [
    "# １章 システムデータの加工・可視化を行う２０本ノック"
   ]
  },
  {
   "cell_type": "code",
   "execution_count": 1,
   "metadata": {
    "tags": []
   },
   "outputs": [
    {
     "data": {
      "text/html": [
       "<table class=\"dataframe\">\n",
       "<caption>A matrix: 192 × 16 of type chr</caption>\n",
       "<thead>\n",
       "\t<tr><th></th><th scope=col>Package</th><th scope=col>LibPath</th><th scope=col>Version</th><th scope=col>Priority</th><th scope=col>Depends</th><th scope=col>Imports</th><th scope=col>LinkingTo</th><th scope=col>Suggests</th><th scope=col>Enhances</th><th scope=col>License</th><th scope=col>License_is_FOSS</th><th scope=col>License_restricts_use</th><th scope=col>OS_type</th><th scope=col>MD5sum</th><th scope=col>NeedsCompilation</th><th scope=col>Built</th></tr>\n",
       "</thead>\n",
       "<tbody>\n",
       "\t<tr><th scope=row>askpass</th><td><span style=white-space:pre-wrap>askpass   </span></td><td>/opt/conda/lib/R/library</td><td><span style=white-space:pre-wrap>1.1    </span></td><td><span style=white-space:pre-wrap>NA         </span></td><td><span style=white-space:pre-wrap>NA                                                 </span></td><td><span style=white-space:pre-wrap>sys (&gt;= 2.1)                                                                                                                                      </span></td><td>NA</td><td><span style=white-space:pre-wrap>testthat                                                                                                                                                                                                                                                                                                                                                                                                                                                                                                                                                                                                                                                                                                                                                               </span></td><td>NA </td><td><span style=white-space:pre-wrap>MIT + file LICENSE         </span></td><td>NA</td><td>NA</td><td>NA</td><td>NA</td><td>yes</td><td>3.6.3</td></tr>\n",
       "\t<tr><th scope=row>assertthat</th><td>assertthat</td><td>/opt/conda/lib/R/library</td><td>0.2.1  </td><td>NA         </td><td>NA                                                 </td><td>tools                                                                                                                                             </td><td>NA</td><td>testthat, covr                                                                                                                                                                                                                                                                                                                                                                                                                                                                                                                                                                                                                                                                                                                                                         </td><td>NA </td><td>GPL-3                      </td><td>NA</td><td>NA</td><td>NA</td><td>NA</td><td>no </td><td>3.6.3</td></tr>\n",
       "\t<tr><th scope=row>backports</th><td>backports </td><td>/opt/conda/lib/R/library</td><td><span style=white-space:pre-wrap>1.2.1  </span></td><td><span style=white-space:pre-wrap>NA         </span></td><td><span style=white-space:pre-wrap>R (&gt;= 3.0.0)                                       </span></td><td><span style=white-space:pre-wrap>NA                                                                                                                                                </span></td><td>NA</td><td><span style=white-space:pre-wrap>NA                                                                                                                                                                                                                                                                                                                                                                                                                                                                                                                                                                                                                                                                                                                                                                     </span></td><td>NA </td><td><span style=white-space:pre-wrap>GPL-2 | GPL-3              </span></td><td>NA</td><td>NA</td><td>NA</td><td>NA</td><td>yes</td><td>3.6.3</td></tr>\n",
       "\t<tr><th scope=row>base</th><td>base      </td><td>/opt/conda/lib/R/library</td><td>3.6.3  </td><td>base       </td><td>NA                                                 </td><td>NA                                                                                                                                                </td><td>NA</td><td>methods                                                                                                                                                                                                                                                                                                                                                                                                                                                                                                                                                                                                                                                                                                                                                                </td><td>NA </td><td>Part of R 3.6.3            </td><td>NA</td><td>NA</td><td>NA</td><td>NA</td><td>NA </td><td>3.6.3</td></tr>\n",
       "\t<tr><th scope=row>base64enc</th><td>base64enc </td><td>/opt/conda/lib/R/library</td><td><span style=white-space:pre-wrap>0.1-3  </span></td><td><span style=white-space:pre-wrap>NA         </span></td><td><span style=white-space:pre-wrap>R (&gt;= 2.9.0)                                       </span></td><td><span style=white-space:pre-wrap>NA                                                                                                                                                </span></td><td>NA</td><td><span style=white-space:pre-wrap>NA                                                                                                                                                                                                                                                                                                                                                                                                                                                                                                                                                                                                                                                                                                                                                                     </span></td><td>png</td><td><span style=white-space:pre-wrap>GPL-2 | GPL-3              </span></td><td>NA</td><td>NA</td><td>NA</td><td>NA</td><td>yes</td><td>3.6.3</td></tr>\n",
       "\t<tr><th scope=row>bit</th><td><span style=white-space:pre-wrap>bit       </span></td><td>/opt/conda/lib/R/library</td><td><span style=white-space:pre-wrap>4.0.4  </span></td><td><span style=white-space:pre-wrap>NA         </span></td><td><span style=white-space:pre-wrap>R (&gt;= 2.9.2)                                       </span></td><td><span style=white-space:pre-wrap>NA                                                                                                                                                </span></td><td>NA</td><td><span style=white-space:pre-wrap>testthat (&gt;= 0.11.0), roxygen2, knitr, rmarkdown,\n",
       "microbenchmark, bit64 (&gt;= 4.0.0), ff (&gt;= 4.0.0)                                                                                                                                                                                                                                                                                                                                                                                                                                                                                                                                                                                                                                                                     </span></td><td>NA </td><td><span style=white-space:pre-wrap>GPL-2 | GPL-3              </span></td><td>NA</td><td>NA</td><td>NA</td><td>NA</td><td>yes</td><td>3.6.3</td></tr>\n",
       "\t<tr><th scope=row>bit64</th><td><span style=white-space:pre-wrap>bit64     </span></td><td>/opt/conda/lib/R/library</td><td><span style=white-space:pre-wrap>4.0.5  </span></td><td><span style=white-space:pre-wrap>NA         </span></td><td>R (&gt;= 3.0.1), bit (&gt;= 4.0.0), utils, methods, stats</td><td><span style=white-space:pre-wrap>NA                                                                                                                                                </span></td><td>NA</td><td><span style=white-space:pre-wrap>NA                                                                                                                                                                                                                                                                                                                                                                                                                                                                                                                                                                                                                                                                                                                                                                     </span></td><td>NA </td><td><span style=white-space:pre-wrap>GPL-2 | GPL-3              </span></td><td>NA</td><td>NA</td><td>NA</td><td>NA</td><td>yes</td><td>3.6.3</td></tr>\n",
       "\t<tr><th scope=row>bitops</th><td><span style=white-space:pre-wrap>bitops    </span></td><td>/opt/conda/lib/R/library</td><td><span style=white-space:pre-wrap>1.0-7  </span></td><td><span style=white-space:pre-wrap>NA         </span></td><td><span style=white-space:pre-wrap>NA                                                 </span></td><td><span style=white-space:pre-wrap>NA                                                                                                                                                </span></td><td>NA</td><td><span style=white-space:pre-wrap>NA                                                                                                                                                                                                                                                                                                                                                                                                                                                                                                                                                                                                                                                                                                                                                                     </span></td><td>NA </td><td><span style=white-space:pre-wrap>GPL (&gt;= 2)                 </span></td><td>NA</td><td>NA</td><td>NA</td><td>NA</td><td>yes</td><td>3.6.3</td></tr>\n",
       "\t<tr><th scope=row>blob</th><td><span style=white-space:pre-wrap>blob      </span></td><td>/opt/conda/lib/R/library</td><td><span style=white-space:pre-wrap>1.2.1  </span></td><td><span style=white-space:pre-wrap>NA         </span></td><td><span style=white-space:pre-wrap>NA                                                 </span></td><td><span style=white-space:pre-wrap>methods, rlang, vctrs (&gt;= 0.2.1)                                                                                                                  </span></td><td>NA</td><td><span style=white-space:pre-wrap>covr, crayon, pillar (&gt;= 1.2.1), testthat                                                                                                                                                                                                                                                                                                                                                                                                                                                                                                                                                                                                                                                                                                                              </span></td><td>NA </td><td><span style=white-space:pre-wrap>GPL-3                      </span></td><td>NA</td><td>NA</td><td>NA</td><td>NA</td><td>no </td><td>3.6.3</td></tr>\n",
       "\t<tr><th scope=row>brew</th><td>brew      </td><td>/opt/conda/lib/R/library</td><td>1.0-6  </td><td>NA         </td><td>NA                                                 </td><td>NA                                                                                                                                                </td><td>NA</td><td>NA                                                                                                                                                                                                                                                                                                                                                                                                                                                                                                                                                                                                                                                                                                                                                                     </td><td>NA </td><td>GPL-2                      </td><td>NA</td><td>NA</td><td>NA</td><td>NA</td><td>NA </td><td>3.6.3</td></tr>\n",
       "\t<tr><th scope=row>brio</th><td><span style=white-space:pre-wrap>brio      </span></td><td>/opt/conda/lib/R/library</td><td><span style=white-space:pre-wrap>1.1.2  </span></td><td><span style=white-space:pre-wrap>NA         </span></td><td><span style=white-space:pre-wrap>NA                                                 </span></td><td><span style=white-space:pre-wrap>NA                                                                                                                                                </span></td><td>NA</td><td><span style=white-space:pre-wrap>testthat (&gt;= 2.1.0), covr                                                                                                                                                                                                                                                                                                                                                                                                                                                                                                                                                                                                                                                                                                                                              </span></td><td>NA </td><td><span style=white-space:pre-wrap>MIT + file LICENSE         </span></td><td>NA</td><td>NA</td><td>NA</td><td>NA</td><td>yes</td><td>3.6.3</td></tr>\n",
       "\t<tr><th scope=row>broom</th><td><span style=white-space:pre-wrap>broom     </span></td><td>/opt/conda/lib/R/library</td><td><span style=white-space:pre-wrap>0.7.6  </span></td><td><span style=white-space:pre-wrap>NA         </span></td><td><span style=white-space:pre-wrap>R (&gt;= 3.1)                                         </span></td><td><span style=white-space:pre-wrap>backports, dplyr (&gt;= 1.0.0), ellipsis, generics (&gt;= 0.0.2),\n",
       "glue, methods, purrr, rlang, stringr, tibble (&gt;= 3.0.0), tidyr\n",
       "(&gt;= 1.0.0)           </span></td><td>NA</td><td>AER, akima, AUC, bbmle, betareg, biglm, binGroup, boot,\n",
       "btergm, car, caret, cluster, cmprsk, coda, covr, drc, e1071,\n",
       "emmeans, epiR, ergm (&gt;= 3.10.4), fixest (&gt;= 0.8.1), gam (&gt;=\n",
       "1.15), gee, geepack, ggplot2, glmnet, glmnetUtils, gmm, Hmisc,\n",
       "irlba, joineRML, Kendall, knitr, ks, Lahman, lavaan, leaps,\n",
       "lfe, lm.beta, lme4, lmodel2, lmtest (&gt;= 0.9.38), lsmeans, maps,\n",
       "maptools, margins, MASS, Matrix, mclust, mediation, metafor,\n",
       "mfx, mgcv, mlogit, modeldata, modeltests, muhaz, multcomp,\n",
       "network, nnet, orcutt (&gt;= 2.2), ordinal, plm, poLCA, psych,\n",
       "quantreg, Rchoice, rgeos, rmarkdown, robust, robustbase,\n",
       "rsample, sandwich, sp, spdep, spatialreg, speedglm, spelling,\n",
       "survey, survival, systemfit, testthat (&gt;= 2.1.0), tseries,\n",
       "vars, zoo</td><td>NA </td><td><span style=white-space:pre-wrap>MIT + file LICENSE         </span></td><td>NA</td><td>NA</td><td>NA</td><td>NA</td><td>no </td><td>3.6.3</td></tr>\n",
       "\t<tr><th scope=row>bslib</th><td><span style=white-space:pre-wrap>bslib     </span></td><td>/opt/conda/lib/R/library</td><td>0.2.5.1</td><td><span style=white-space:pre-wrap>NA         </span></td><td><span style=white-space:pre-wrap>R (&gt;= 2.10)                                        </span></td><td><span style=white-space:pre-wrap>grDevices, htmltools (&gt;= 0.5.1), jsonlite, sass (&gt;= 0.4.0),\n",
       "jquerylib (&gt;= 0.1.3), rlang, magrittr                                                </span></td><td>NA</td><td><span style=white-space:pre-wrap>shiny (&gt;= 1.6.0), rmarkdown (&gt;= 2.7), thematic, knitr,\n",
       "testthat, withr, rappdirs, curl                                                                                                                                                                                                                                                                                                                                                                                                                                                                                                                                                                                                                                                                                </span></td><td>NA </td><td><span style=white-space:pre-wrap>MIT + file LICENSE         </span></td><td>NA</td><td>NA</td><td>NA</td><td>NA</td><td>no </td><td>3.6.3</td></tr>\n",
       "\t<tr><th scope=row>cachem</th><td>cachem    </td><td>/opt/conda/lib/R/library</td><td>1.0.5  </td><td>NA         </td><td>NA                                                 </td><td>rlang, fastmap                                                                                                                                    </td><td>NA</td><td>testthat                                                                                                                                                                                                                                                                                                                                                                                                                                                                                                                                                                                                                                                                                                                                                               </td><td>NA </td><td>MIT + file LICENSE         </td><td>NA</td><td>NA</td><td>NA</td><td>NA</td><td>yes</td><td>3.6.3</td></tr>\n",
       "\t<tr><th scope=row>callr</th><td><span style=white-space:pre-wrap>callr     </span></td><td>/opt/conda/lib/R/library</td><td><span style=white-space:pre-wrap>3.7.0  </span></td><td><span style=white-space:pre-wrap>NA         </span></td><td><span style=white-space:pre-wrap>NA                                                 </span></td><td><span style=white-space:pre-wrap>processx (&gt;= 3.5.0), R6, utils                                                                                                                    </span></td><td>NA</td><td><span style=white-space:pre-wrap>cli, covr, ps, rprojroot, spelling, testthat, withr (&gt;=\n",
       "2.3.0)                                                                                                                                                                                                                                                                                                                                                                                                                                                                                                                                                                                                                                                                                                        </span></td><td>NA </td><td><span style=white-space:pre-wrap>MIT + file LICENSE         </span></td><td>NA</td><td>NA</td><td>NA</td><td>NA</td><td>no </td><td>3.6.3</td></tr>\n",
       "\t<tr><th scope=row>caret</th><td><span style=white-space:pre-wrap>caret     </span></td><td>/opt/conda/lib/R/library</td><td>6.0-88 </td><td><span style=white-space:pre-wrap>NA         </span></td><td><span style=white-space:pre-wrap>R (&gt;= 3.2.0), lattice (&gt;= 0.20), ggplot2           </span></td><td>foreach, methods, plyr, ModelMetrics (&gt;= 1.2.2.2), nlme,\n",
       "reshape2, stats, stats4, utils, grDevices, recipes (&gt;= 0.1.10),\n",
       "withr (&gt;= 2.0.0), pROC,</td><td>NA</td><td><span style=white-space:pre-wrap>BradleyTerry2, e1071, earth (&gt;= 2.2-3), fastICA, gam (&gt;=\n",
       "1.15), ipred, kernlab, knitr, klaR, MASS, ellipse, Matrix, mda,\n",
       "mgcv, mlbench, MLmetrics, nnet, party (&gt;= 0.9-99992), pls,\n",
       "proxy, randomForest, RANN, rmarkdown, spls, subselect, pamr,\n",
       "superpc, Cubist, testthat (&gt;= 0.9.1), rpart, dplyr, covr                                                                                                                                                                                                                                                                                                                                                                                                                                                          </span></td><td>NA </td><td><span style=white-space:pre-wrap>GPL (&gt;= 2)                 </span></td><td>NA</td><td>NA</td><td>NA</td><td>NA</td><td>yes</td><td>3.6.3</td></tr>\n",
       "\t<tr><th scope=row>cellranger</th><td>cellranger</td><td>/opt/conda/lib/R/library</td><td><span style=white-space:pre-wrap>1.1.0  </span></td><td><span style=white-space:pre-wrap>NA         </span></td><td><span style=white-space:pre-wrap>R (&gt;= 3.0.0)                                       </span></td><td><span style=white-space:pre-wrap>rematch, tibble                                                                                                                                   </span></td><td>NA</td><td><span style=white-space:pre-wrap>covr, testthat (&gt;= 1.0.0), knitr, rmarkdown                                                                                                                                                                                                                                                                                                                                                                                                                                                                                                                                                                                                                                                                                                                            </span></td><td>NA </td><td><span style=white-space:pre-wrap>MIT + file LICENSE         </span></td><td>NA</td><td>NA</td><td>NA</td><td>NA</td><td>no </td><td>3.6.3</td></tr>\n",
       "\t<tr><th scope=row>class</th><td><span style=white-space:pre-wrap>class     </span></td><td>/opt/conda/lib/R/library</td><td>7.3-19 </td><td>recommended</td><td><span style=white-space:pre-wrap>R (&gt;= 3.0.0), stats, utils                         </span></td><td><span style=white-space:pre-wrap>MASS                                                                                                                                              </span></td><td>NA</td><td><span style=white-space:pre-wrap>NA                                                                                                                                                                                                                                                                                                                                                                                                                                                                                                                                                                                                                                                                                                                                                                     </span></td><td>NA </td><td><span style=white-space:pre-wrap>GPL-2 | GPL-3              </span></td><td>NA</td><td>NA</td><td>NA</td><td>NA</td><td>yes</td><td>3.6.3</td></tr>\n",
       "\t<tr><th scope=row>cli</th><td><span style=white-space:pre-wrap>cli       </span></td><td>/opt/conda/lib/R/library</td><td><span style=white-space:pre-wrap>2.5.0  </span></td><td><span style=white-space:pre-wrap>NA         </span></td><td><span style=white-space:pre-wrap>R (&gt;= 2.10)                                        </span></td><td><span style=white-space:pre-wrap>glue, utils                                                                                                                                       </span></td><td>NA</td><td><span style=white-space:pre-wrap>callr, covr, grDevices, htmlwidgets, knitr, methods, mockery,\n",
       "ps (&gt;= 1.3.4.9000), rmarkdown, rstudioapi, prettycode (&gt;=\n",
       "1.1.0), testthat, tibble, withr                                                                                                                                                                                                                                                                                                                                                                                                                                                                                                                                                                                                              </span></td><td>NA </td><td><span style=white-space:pre-wrap>MIT + file LICENSE         </span></td><td>NA</td><td>NA</td><td>NA</td><td>NA</td><td>no </td><td>3.6.3</td></tr>\n",
       "\t<tr><th scope=row>clipr</th><td><span style=white-space:pre-wrap>clipr     </span></td><td>/opt/conda/lib/R/library</td><td><span style=white-space:pre-wrap>0.7.1  </span></td><td><span style=white-space:pre-wrap>NA         </span></td><td><span style=white-space:pre-wrap>NA                                                 </span></td><td><span style=white-space:pre-wrap>utils                                                                                                                                             </span></td><td>NA</td><td><span style=white-space:pre-wrap>covr, knitr, rmarkdown, rstudioapi (&gt;= 0.5), testthat (&gt;=\n",
       "2.0.0)                                                                                                                                                                                                                                                                                                                                                                                                                                                                                                                                                                                                                                                                                                      </span></td><td>NA </td><td><span style=white-space:pre-wrap>GPL-3                      </span></td><td>NA</td><td>NA</td><td>NA</td><td>NA</td><td>no </td><td>3.6.3</td></tr>\n",
       "\t<tr><th scope=row>codetools</th><td>codetools </td><td>/opt/conda/lib/R/library</td><td>0.2-18 </td><td>recommended</td><td><span style=white-space:pre-wrap>R (&gt;= 2.1)                                         </span></td><td><span style=white-space:pre-wrap>NA                                                                                                                                                </span></td><td>NA</td><td><span style=white-space:pre-wrap>NA                                                                                                                                                                                                                                                                                                                                                                                                                                                                                                                                                                                                                                                                                                                                                                     </span></td><td>NA </td><td><span style=white-space:pre-wrap>GPL                        </span></td><td>NA</td><td>NA</td><td>NA</td><td>NA</td><td>no </td><td>3.6.3</td></tr>\n",
       "\t<tr><th scope=row>colorspace</th><td>colorspace</td><td>/opt/conda/lib/R/library</td><td><span style=white-space:pre-wrap>2.0-1  </span></td><td><span style=white-space:pre-wrap>NA         </span></td><td><span style=white-space:pre-wrap>R (&gt;= 3.0.0), methods                              </span></td><td><span style=white-space:pre-wrap>graphics, grDevices, stats                                                                                                                        </span></td><td>NA</td><td><span style=white-space:pre-wrap>datasets, utils, KernSmooth, MASS, kernlab, mvtnorm, vcd,\n",
       "tcltk, shiny, shinyjs, ggplot2, dplyr, scales, grid, png, jpeg,\n",
       "knitr, rmarkdown, RColorBrewer, rcartocolor, scico, viridis,\n",
       "wesanderson                                                                                                                                                                                                                                                                                                                                                                                                                                                                                                                                                                  </span></td><td>NA </td><td>BSD_3_clause + file LICENSE</td><td>NA</td><td>NA</td><td>NA</td><td>NA</td><td>yes</td><td>3.6.3</td></tr>\n",
       "\t<tr><th scope=row>commonmark</th><td>commonmark</td><td>/opt/conda/lib/R/library</td><td>1.7    </td><td>NA         </td><td>NA                                                 </td><td>NA                                                                                                                                                </td><td>NA</td><td>curl, testthat, xml2                                                                                                                                                                                                                                                                                                                                                                                                                                                                                                                                                                                                                                                                                                                                                   </td><td>NA </td><td>BSD_2_clause + file LICENSE</td><td>NA</td><td>NA</td><td>NA</td><td>NA</td><td>yes</td><td>3.6.3</td></tr>\n",
       "\t<tr><th scope=row>compiler</th><td>compiler  </td><td>/opt/conda/lib/R/library</td><td>3.6.3  </td><td>base       </td><td>NA                                                 </td><td>NA                                                                                                                                                </td><td>NA</td><td>NA                                                                                                                                                                                                                                                                                                                                                                                                                                                                                                                                                                                                                                                                                                                                                                     </td><td>NA </td><td>Part of R 3.6.3            </td><td>NA</td><td>NA</td><td>NA</td><td>NA</td><td>NA </td><td>3.6.3</td></tr>\n",
       "\t<tr><th scope=row>cpp11</th><td>cpp11     </td><td>/opt/conda/lib/R/library</td><td>0.2.7  </td><td>NA         </td><td>NA                                                 </td><td>NA                                                                                                                                                </td><td>NA</td><td>bench, brio, callr, cli, covr, decor, desc, ggplot2, glue,\n",
       "knitr, lobstr, mockery, progress, rmarkdown, scales, testthat,\n",
       "tibble, utils, vctrs, withr                                                                                                                                                                                                                                                                                                                                                                                                                                                                                                                                                                                                                </td><td>NA </td><td>MIT + file LICENSE         </td><td>NA</td><td>NA</td><td>NA</td><td>NA</td><td>no </td><td>3.6.3</td></tr>\n",
       "\t<tr><th scope=row>crayon</th><td>crayon    </td><td>/opt/conda/lib/R/library</td><td>1.4.1  </td><td>NA         </td><td>NA                                                 </td><td>grDevices, methods, utils                                                                                                                         </td><td>NA</td><td>mockery, rstudioapi, testthat, withr                                                                                                                                                                                                                                                                                                                                                                                                                                                                                                                                                                                                                                                                                                                                   </td><td>NA </td><td>MIT + file LICENSE         </td><td>NA</td><td>NA</td><td>NA</td><td>NA</td><td>no </td><td>3.6.3</td></tr>\n",
       "\t<tr><th scope=row>curl</th><td><span style=white-space:pre-wrap>curl      </span></td><td>/opt/conda/lib/R/library</td><td><span style=white-space:pre-wrap>4.3.1  </span></td><td><span style=white-space:pre-wrap>NA         </span></td><td><span style=white-space:pre-wrap>R (&gt;= 3.0.0)                                       </span></td><td><span style=white-space:pre-wrap>NA                                                                                                                                                </span></td><td>NA</td><td><span style=white-space:pre-wrap>spelling, testthat (&gt;= 1.0.0), knitr, jsonlite, rmarkdown,\n",
       "magrittr, httpuv (&gt;= 1.4.4), webutils                                                                                                                                                                                                                                                                                                                                                                                                                                                                                                                                                                                                                                                                      </span></td><td>NA </td><td><span style=white-space:pre-wrap>MIT + file LICENSE         </span></td><td>NA</td><td>NA</td><td>NA</td><td>NA</td><td>yes</td><td>3.6.3</td></tr>\n",
       "\t<tr><th scope=row>data.table</th><td>data.table</td><td>/opt/conda/lib/R/library</td><td>1.14.0 </td><td><span style=white-space:pre-wrap>NA         </span></td><td><span style=white-space:pre-wrap>R (&gt;= 3.1.0)                                       </span></td><td><span style=white-space:pre-wrap>methods                                                                                                                                           </span></td><td>NA</td><td><span style=white-space:pre-wrap>bit64 (&gt;= 4.0.0), bit (&gt;= 4.0.4), curl, R.utils, xts,\n",
       "nanotime, zoo (&gt;= 1.8-1), yaml, knitr, rmarkdown                                                                                                                                                                                                                                                                                                                                                                                                                                                                                                                                                                                                                                                                </span></td><td>NA </td><td><span style=white-space:pre-wrap>MPL-2.0 | file LICENSE     </span></td><td>NA</td><td>NA</td><td>NA</td><td>NA</td><td>yes</td><td>3.6.3</td></tr>\n",
       "\t<tr><th scope=row>datasets</th><td>datasets  </td><td>/opt/conda/lib/R/library</td><td>3.6.3  </td><td>base       </td><td>NA                                                 </td><td>NA                                                                                                                                                </td><td>NA</td><td>NA                                                                                                                                                                                                                                                                                                                                                                                                                                                                                                                                                                                                                                                                                                                                                                     </td><td>NA </td><td>Part of R 3.6.3            </td><td>NA</td><td>NA</td><td>NA</td><td>NA</td><td>NA </td><td>3.6.3</td></tr>\n",
       "\t<tr><th scope=row>DBI</th><td><span style=white-space:pre-wrap>DBI       </span></td><td>/opt/conda/lib/R/library</td><td><span style=white-space:pre-wrap>1.1.1  </span></td><td><span style=white-space:pre-wrap>NA         </span></td><td><span style=white-space:pre-wrap>methods, R (&gt;= 3.0.0)                              </span></td><td><span style=white-space:pre-wrap>NA                                                                                                                                                </span></td><td>NA</td><td><span style=white-space:pre-wrap>blob, covr, dbplyr, dplyr, glue, hms, knitr, magrittr,\n",
       "rmarkdown, rprojroot, RMariaDB, RSQLite (&gt;= 1.1-2), testthat,\n",
       "xml2                                                                                                                                                                                                                                                                                                                                                                                                                                                                                                                                                                                                                                            </span></td><td>NA </td><td><span style=white-space:pre-wrap>LGPL (&gt;= 2.1)              </span></td><td>NA</td><td>NA</td><td>NA</td><td>NA</td><td>no </td><td>3.6.3</td></tr>\n",
       "\t<tr><th scope=row>⋮</th><td>⋮</td><td>⋮</td><td>⋮</td><td>⋮</td><td>⋮</td><td>⋮</td><td>⋮</td><td>⋮</td><td>⋮</td><td>⋮</td><td>⋮</td><td>⋮</td><td>⋮</td><td>⋮</td><td>⋮</td><td>⋮</td></tr>\n",
       "\t<tr><th scope=row>survival</th><td><span style=white-space:pre-wrap>survival   </span></td><td>/opt/conda/lib/R/library</td><td><span style=white-space:pre-wrap>3.2-11  </span></td><td>recommended</td><td><span style=white-space:pre-wrap>R (&gt;= 3.5.0)                                  </span></td><td><span style=white-space:pre-wrap>graphics, Matrix, methods, splines, stats, utils                                                                                                                                                                                                                                                                                                                                                                                                                                                                                                                                       </span></td><td><span style=white-space:pre-wrap>NA              </span></td><td><span style=white-space:pre-wrap>NA                                                                                                                                                                                                                </span></td><td><span style=white-space:pre-wrap>NA      </span></td><td><span style=white-space:pre-wrap>LGPL (&gt;= 2)                           </span></td><td>NA</td><td>NA</td><td>NA</td><td>NA</td><td>yes</td><td>3.6.3</td></tr>\n",
       "\t<tr><th scope=row>sys</th><td><span style=white-space:pre-wrap>sys        </span></td><td>/opt/conda/lib/R/library</td><td><span style=white-space:pre-wrap>3.4     </span></td><td><span style=white-space:pre-wrap>NA         </span></td><td><span style=white-space:pre-wrap>NA                                            </span></td><td><span style=white-space:pre-wrap>NA                                                                                                                                                                                                                                                                                                                                                                                                                                                                                                                                                                                     </span></td><td><span style=white-space:pre-wrap>NA              </span></td><td><span style=white-space:pre-wrap>unix (&gt;= 1.4), spelling, testthat                                                                                                                                                                                 </span></td><td><span style=white-space:pre-wrap>NA      </span></td><td><span style=white-space:pre-wrap>MIT + file LICENSE                    </span></td><td>NA</td><td>NA</td><td>NA</td><td>NA</td><td>yes</td><td>3.6.3</td></tr>\n",
       "\t<tr><th scope=row>tcltk</th><td>tcltk      </td><td>/opt/conda/lib/R/library</td><td>3.6.3   </td><td>base       </td><td>NA                                            </td><td>utils                                                                                                                                                                                                                                                                                                                                                                                                                                                                                                                                                                                  </td><td>NA              </td><td>NA                                                                                                                                                                                                                </td><td>NA      </td><td>Part of R 3.6.3                       </td><td>NA</td><td>NA</td><td>NA</td><td>NA</td><td>yes</td><td>3.6.3</td></tr>\n",
       "\t<tr><th scope=row>testthat</th><td><span style=white-space:pre-wrap>testthat   </span></td><td>/opt/conda/lib/R/library</td><td><span style=white-space:pre-wrap>3.0.2   </span></td><td><span style=white-space:pre-wrap>NA         </span></td><td><span style=white-space:pre-wrap>R (&gt;= 3.1)                                    </span></td><td><span style=white-space:pre-wrap>brio, callr (&gt;= 3.5.1), cli (&gt;= 2.2.0), crayon (&gt;= 1.3.4),\n",
       "desc, digest, ellipsis (&gt;= 0.2.0), evaluate, jsonlite,\n",
       "lifecycle, magrittr, methods, pkgload, praise, processx, ps (&gt;=\n",
       "1.3.4), R6 (&gt;= 2.2.0), rlang (&gt;= 0.4.9), utils, waldo (&gt;=\n",
       "0.2.4), withr (&gt;= 2.3.0)                                                                                                                                                                                                                                                                                                               </span></td><td><span style=white-space:pre-wrap>NA              </span></td><td><span style=white-space:pre-wrap>covr, curl (&gt;= 0.9.5), diffviewer (&gt;= 0.1.0), knitr, mockery,\n",
       "rmarkdown, rstudioapi, shiny, usethis, vctrs (&gt;= 0.1.0), xml2                                                                                      </span></td><td><span style=white-space:pre-wrap>NA      </span></td><td><span style=white-space:pre-wrap>MIT + file LICENSE                    </span></td><td>NA</td><td>NA</td><td>NA</td><td>NA</td><td>yes</td><td>3.6.3</td></tr>\n",
       "\t<tr><th scope=row>tibble</th><td><span style=white-space:pre-wrap>tibble     </span></td><td>/opt/conda/lib/R/library</td><td><span style=white-space:pre-wrap>3.1.2   </span></td><td><span style=white-space:pre-wrap>NA         </span></td><td><span style=white-space:pre-wrap>R (&gt;= 3.1.0)                                  </span></td><td><span style=white-space:pre-wrap>ellipsis (&gt;= 0.3.2), fansi (&gt;= 0.4.0), lifecycle (&gt;= 0.2.0),\n",
       "magrittr, methods, pillar (&gt;= 1.6.0), pkgconfig, rlang (&gt;=\n",
       "0.4.3), utils, vctrs (&gt;= 0.3.8)                                                                                                                                                                                                                                                                                                                                                                                                                              </span></td><td><span style=white-space:pre-wrap>NA              </span></td><td>bench, bit64, blob, cli, covr, crayon (&gt;= 1.3.4), DiagrammeR,\n",
       "dplyr, evaluate, formattable, ggplot2, hms, htmltools, knitr,\n",
       "lubridate, mockr, nycflights13, purrr, rmarkdown, testthat (&gt;=\n",
       "3.0.2), tidyr, withr</td><td><span style=white-space:pre-wrap>NA      </span></td><td><span style=white-space:pre-wrap>MIT + file LICENSE                    </span></td><td>NA</td><td>NA</td><td>NA</td><td>NA</td><td>yes</td><td>3.6.3</td></tr>\n",
       "\t<tr><th scope=row>tidyr</th><td><span style=white-space:pre-wrap>tidyr      </span></td><td>/opt/conda/lib/R/library</td><td><span style=white-space:pre-wrap>1.1.3   </span></td><td><span style=white-space:pre-wrap>NA         </span></td><td><span style=white-space:pre-wrap>R (&gt;= 3.1)                                    </span></td><td><span style=white-space:pre-wrap>dplyr (&gt;= 0.8.2), ellipsis (&gt;= 0.1.0), glue, lifecycle,\n",
       "magrittr, purrr, rlang, tibble (&gt;= 2.1.1), tidyselect (&gt;=\n",
       "1.1.0), utils, vctrs (&gt;= 0.3.6)                                                                                                                                                                                                                                                                                                                                                                                                                                    </span></td><td>cpp11 (&gt;= 0.2.6)</td><td><span style=white-space:pre-wrap>covr, data.table, jsonlite, knitr, readr, repurrrsive (&gt;=\n",
       "1.0.0), rmarkdown, testthat (&gt;= 3.0.0)                                                                                                                 </span></td><td><span style=white-space:pre-wrap>NA      </span></td><td><span style=white-space:pre-wrap>MIT + file LICENSE                    </span></td><td>NA</td><td>NA</td><td>NA</td><td>NA</td><td>yes</td><td>3.6.3</td></tr>\n",
       "\t<tr><th scope=row>tidyselect</th><td>tidyselect </td><td>/opt/conda/lib/R/library</td><td><span style=white-space:pre-wrap>1.1.1   </span></td><td><span style=white-space:pre-wrap>NA         </span></td><td><span style=white-space:pre-wrap>R (&gt;= 3.2)                                    </span></td><td><span style=white-space:pre-wrap>ellipsis, glue (&gt;= 1.3.0), purrr (&gt;= 0.3.2), rlang (&gt;= 0.4.6),\n",
       "vctrs (&gt;= 0.3.0)                                                                                                                                                                                                                                                                                                                                                                                                                                                                                                       </span></td><td><span style=white-space:pre-wrap>NA              </span></td><td><span style=white-space:pre-wrap>covr, crayon, dplyr, knitr, magrittr, rmarkdown, testthat (&gt;=\n",
       "2.3.0), tibble (&gt;= 2.1.3), withr                                                                                                                   </span></td><td><span style=white-space:pre-wrap>NA      </span></td><td><span style=white-space:pre-wrap>MIT + file LICENSE                    </span></td><td>NA</td><td>NA</td><td>NA</td><td>NA</td><td>yes</td><td>3.6.3</td></tr>\n",
       "\t<tr><th scope=row>tidyverse</th><td><span style=white-space:pre-wrap>tidyverse  </span></td><td>/opt/conda/lib/R/library</td><td><span style=white-space:pre-wrap>1.3.1   </span></td><td><span style=white-space:pre-wrap>NA         </span></td><td><span style=white-space:pre-wrap>R (&gt;= 3.3)                                    </span></td><td>broom (&gt;= 0.7.6), cli (&gt;= 2.4.0), crayon (&gt;= 1.4.1), dbplyr\n",
       "(&gt;= 2.1.1), dplyr (&gt;= 1.0.5), dtplyr (&gt;= 1.1.0), forcats (&gt;=\n",
       "0.5.1), googledrive (&gt;= 1.0.1), googlesheets4 (&gt;= 0.3.0),\n",
       "ggplot2 (&gt;= 3.3.3), haven (&gt;= 2.3.1), hms (&gt;= 1.0.0), httr (&gt;=\n",
       "1.4.2), jsonlite (&gt;= 1.7.2), lubridate (&gt;= 1.7.10), magrittr\n",
       "(&gt;= 2.0.1), modelr (&gt;= 0.1.8), pillar (&gt;= 1.6.0), purrr (&gt;=\n",
       "0.3.4), readr (&gt;= 1.4.0), readxl (&gt;= 1.3.1), reprex (&gt;= 2.0.0),\n",
       "rlang (&gt;= 0.4.10), rstudioapi (&gt;= 0.13), rvest (&gt;= 1.0.0),\n",
       "stringr (&gt;= 1.4.0), tibble (&gt;= 3.1.0), tidyr (&gt;= 1.1.3), xml2\n",
       "(&gt;= 1.3.2)</td><td><span style=white-space:pre-wrap>NA              </span></td><td><span style=white-space:pre-wrap>covr, feather, glue, knitr, rmarkdown, testthat                                                                                                                                                                   </span></td><td><span style=white-space:pre-wrap>NA      </span></td><td><span style=white-space:pre-wrap>MIT + file LICENSE                    </span></td><td>NA</td><td>NA</td><td>NA</td><td>NA</td><td>no </td><td>3.6.3</td></tr>\n",
       "\t<tr><th scope=row>timeDate</th><td><span style=white-space:pre-wrap>timeDate   </span></td><td>/opt/conda/lib/R/library</td><td>3043.102</td><td><span style=white-space:pre-wrap>NA         </span></td><td>R (&gt;= 2.15.1), graphics, utils, stats, methods</td><td><span style=white-space:pre-wrap>NA                                                                                                                                                                                                                                                                                                                                                                                                                                                                                                                                                                                     </span></td><td><span style=white-space:pre-wrap>NA              </span></td><td><span style=white-space:pre-wrap>date, RUnit                                                                                                                                                                                                       </span></td><td><span style=white-space:pre-wrap>NA      </span></td><td><span style=white-space:pre-wrap>GPL (&gt;= 2)                            </span></td><td>NA</td><td>NA</td><td>NA</td><td>NA</td><td>no </td><td>3.6.3</td></tr>\n",
       "\t<tr><th scope=row>tinytex</th><td><span style=white-space:pre-wrap>tinytex    </span></td><td>/opt/conda/lib/R/library</td><td><span style=white-space:pre-wrap>0.31    </span></td><td><span style=white-space:pre-wrap>NA         </span></td><td><span style=white-space:pre-wrap>NA                                            </span></td><td><span style=white-space:pre-wrap>xfun (&gt;= 0.19)                                                                                                                                                                                                                                                                                                                                                                                                                                                                                                                                                                         </span></td><td><span style=white-space:pre-wrap>NA              </span></td><td><span style=white-space:pre-wrap>testit, rstudioapi                                                                                                                                                                                                </span></td><td><span style=white-space:pre-wrap>NA      </span></td><td><span style=white-space:pre-wrap>MIT + file LICENSE                    </span></td><td>NA</td><td>NA</td><td>NA</td><td>NA</td><td>no </td><td>3.6.3</td></tr>\n",
       "\t<tr><th scope=row>tools</th><td>tools      </td><td>/opt/conda/lib/R/library</td><td>3.6.3   </td><td>base       </td><td>NA                                            </td><td>NA                                                                                                                                                                                                                                                                                                                                                                                                                                                                                                                                                                                     </td><td>NA              </td><td>codetools, methods, xml2, curl, commonmark                                                                                                                                                                        </td><td>NA      </td><td>Part of R 3.6.3                       </td><td>NA</td><td>NA</td><td>NA</td><td>NA</td><td>yes</td><td>3.6.3</td></tr>\n",
       "\t<tr><th scope=row>tseries</th><td><span style=white-space:pre-wrap>tseries    </span></td><td>/opt/conda/lib/R/library</td><td>0.10-48 </td><td><span style=white-space:pre-wrap>NA         </span></td><td><span style=white-space:pre-wrap>R (&gt;= 2.10.0)                                 </span></td><td><span style=white-space:pre-wrap>graphics, stats, utils, quadprog, zoo, quantmod (&gt;= 0.4-9)                                                                                                                                                                                                                                                                                                                                                                                                                                                                                                                             </span></td><td><span style=white-space:pre-wrap>NA              </span></td><td><span style=white-space:pre-wrap>NA                                                                                                                                                                                                                </span></td><td><span style=white-space:pre-wrap>NA      </span></td><td><span style=white-space:pre-wrap>GPL-2                                 </span></td><td>NA</td><td>NA</td><td>NA</td><td>NA</td><td>yes</td><td>3.6.3</td></tr>\n",
       "\t<tr><th scope=row>TTR</th><td><span style=white-space:pre-wrap>TTR        </span></td><td>/opt/conda/lib/R/library</td><td><span style=white-space:pre-wrap>0.24.2  </span></td><td><span style=white-space:pre-wrap>NA         </span></td><td><span style=white-space:pre-wrap>NA                                            </span></td><td><span style=white-space:pre-wrap>xts (&gt;= 0.10-0), zoo, curl                                                                                                                                                                                                                                                                                                                                                                                                                                                                                                                                                             </span></td><td><span style=white-space:pre-wrap>xts             </span></td><td><span style=white-space:pre-wrap>RUnit                                                                                                                                                                                                             </span></td><td>quantmod</td><td><span style=white-space:pre-wrap>GPL (&gt;= 2)                            </span></td><td>NA</td><td>NA</td><td>NA</td><td>NA</td><td>yes</td><td>3.6.3</td></tr>\n",
       "\t<tr><th scope=row>urca</th><td><span style=white-space:pre-wrap>urca       </span></td><td>/opt/conda/lib/R/library</td><td><span style=white-space:pre-wrap>1.3-0   </span></td><td><span style=white-space:pre-wrap>NA         </span></td><td><span style=white-space:pre-wrap>R (&gt;= 2.0.0), methods                         </span></td><td><span style=white-space:pre-wrap>nlme, graphics, stats                                                                                                                                                                                                                                                                                                                                                                                                                                                                                                                                                                  </span></td><td><span style=white-space:pre-wrap>NA              </span></td><td><span style=white-space:pre-wrap>NA                                                                                                                                                                                                                </span></td><td><span style=white-space:pre-wrap>NA      </span></td><td><span style=white-space:pre-wrap>GPL (&gt;= 2)                            </span></td><td>NA</td><td>NA</td><td>NA</td><td>NA</td><td>yes</td><td>3.6.3</td></tr>\n",
       "\t<tr><th scope=row>usethis</th><td><span style=white-space:pre-wrap>usethis    </span></td><td>/opt/conda/lib/R/library</td><td><span style=white-space:pre-wrap>1.6.3   </span></td><td><span style=white-space:pre-wrap>NA         </span></td><td><span style=white-space:pre-wrap>R (&gt;= 3.2)                                    </span></td><td><span style=white-space:pre-wrap>clipr (&gt;= 0.3.0), cli, crayon, curl (&gt;= 2.7), desc, fs (&gt;=\n",
       "1.3.0), gh (&gt;= 1.1.0), git2r (&gt;= 0.23), glue (&gt;= 1.3.0), purrr,\n",
       "rematch2, rlang (&gt;= 0.4.3), rprojroot (&gt;= 1.2), rstudioapi,\n",
       "stats, utils, whisker, withr, yaml                                                                                                                                                                                                                                                                                                                                                           </span></td><td><span style=white-space:pre-wrap>NA              </span></td><td><span style=white-space:pre-wrap>covr, knitr, magick, pkgdown (&gt;= 1.4.0), rmarkdown, roxygen2,\n",
       "spelling (&gt;= 1.2), styler (&gt;= 1.2.0), testthat (&gt;= 2.1.0)                                                                                          </span></td><td><span style=white-space:pre-wrap>NA      </span></td><td><span style=white-space:pre-wrap>GPL-3                                 </span></td><td>NA</td><td>NA</td><td>NA</td><td>NA</td><td>no </td><td>3.6.3</td></tr>\n",
       "\t<tr><th scope=row>utf8</th><td><span style=white-space:pre-wrap>utf8       </span></td><td>/opt/conda/lib/R/library</td><td><span style=white-space:pre-wrap>1.2.1   </span></td><td><span style=white-space:pre-wrap>NA         </span></td><td><span style=white-space:pre-wrap>R (&gt;= 2.10)                                   </span></td><td><span style=white-space:pre-wrap>NA                                                                                                                                                                                                                                                                                                                                                                                                                                                                                                                                                                                     </span></td><td><span style=white-space:pre-wrap>NA              </span></td><td><span style=white-space:pre-wrap>covr, knitr, rlang, rmarkdown, testthat (&gt;= 3.0.0)                                                                                                                                                                </span></td><td><span style=white-space:pre-wrap>NA      </span></td><td>Apache License (== 2.0) | file LICENSE</td><td>NA</td><td>NA</td><td>NA</td><td>NA</td><td>yes</td><td>3.6.3</td></tr>\n",
       "\t<tr><th scope=row>utils</th><td>utils      </td><td>/opt/conda/lib/R/library</td><td>3.6.3   </td><td>base       </td><td>NA                                            </td><td>NA                                                                                                                                                                                                                                                                                                                                                                                                                                                                                                                                                                                     </td><td>NA              </td><td>methods, xml2, commonmark                                                                                                                                                                                         </td><td>NA      </td><td>Part of R 3.6.3                       </td><td>NA</td><td>NA</td><td>NA</td><td>NA</td><td>yes</td><td>3.6.3</td></tr>\n",
       "\t<tr><th scope=row>uuid</th><td><span style=white-space:pre-wrap>uuid       </span></td><td>/opt/conda/lib/R/library</td><td><span style=white-space:pre-wrap>0.1-4   </span></td><td><span style=white-space:pre-wrap>NA         </span></td><td><span style=white-space:pre-wrap>R (&gt;= 2.9.0)                                  </span></td><td><span style=white-space:pre-wrap>NA                                                                                                                                                                                                                                                                                                                                                                                                                                                                                                                                                                                     </span></td><td><span style=white-space:pre-wrap>NA              </span></td><td><span style=white-space:pre-wrap>NA                                                                                                                                                                                                                </span></td><td><span style=white-space:pre-wrap>NA      </span></td><td><span style=white-space:pre-wrap>MIT + file LICENSE                    </span></td><td>NA</td><td>NA</td><td>NA</td><td>NA</td><td>yes</td><td>3.6.3</td></tr>\n",
       "\t<tr><th scope=row>vctrs</th><td><span style=white-space:pre-wrap>vctrs      </span></td><td>/opt/conda/lib/R/library</td><td><span style=white-space:pre-wrap>0.3.8   </span></td><td><span style=white-space:pre-wrap>NA         </span></td><td><span style=white-space:pre-wrap>R (&gt;= 3.3)                                    </span></td><td><span style=white-space:pre-wrap>ellipsis (&gt;= 0.2.0), glue, rlang (&gt;= 0.4.10)                                                                                                                                                                                                                                                                                                                                                                                                                                                                                                                                           </span></td><td><span style=white-space:pre-wrap>NA              </span></td><td><span style=white-space:pre-wrap>bit64, covr, crayon, dplyr (&gt;= 0.8.5), generics, knitr,\n",
       "pillar (&gt;= 1.4.4), pkgdown, rmarkdown, testthat (&gt;= 2.3.0),\n",
       "tibble, withr, xml2, waldo (&gt;= 0.2.0), zeallot                                              </span></td><td><span style=white-space:pre-wrap>NA      </span></td><td><span style=white-space:pre-wrap>MIT + file LICENSE                    </span></td><td>NA</td><td>NA</td><td>NA</td><td>NA</td><td>yes</td><td>3.6.3</td></tr>\n",
       "\t<tr><th scope=row>viridisLite</th><td>viridisLite</td><td>/opt/conda/lib/R/library</td><td><span style=white-space:pre-wrap>0.4.0   </span></td><td><span style=white-space:pre-wrap>NA         </span></td><td><span style=white-space:pre-wrap>R (&gt;= 2.10)                                   </span></td><td><span style=white-space:pre-wrap>NA                                                                                                                                                                                                                                                                                                                                                                                                                                                                                                                                                                                     </span></td><td><span style=white-space:pre-wrap>NA              </span></td><td><span style=white-space:pre-wrap>hexbin (&gt;= 1.27.0), ggplot2 (&gt;= 1.0.1), testthat, covr                                                                                                                                                            </span></td><td><span style=white-space:pre-wrap>NA      </span></td><td><span style=white-space:pre-wrap>MIT + file LICENSE                    </span></td><td>NA</td><td>NA</td><td>NA</td><td>NA</td><td>no </td><td>3.6.3</td></tr>\n",
       "\t<tr><th scope=row>waldo</th><td><span style=white-space:pre-wrap>waldo      </span></td><td>/opt/conda/lib/R/library</td><td><span style=white-space:pre-wrap>0.2.5   </span></td><td><span style=white-space:pre-wrap>NA         </span></td><td><span style=white-space:pre-wrap>NA                                            </span></td><td><span style=white-space:pre-wrap>cli, diffobj, fansi, glue, methods, rematch2, rlang (&gt;=\n",
       "0.4.10), tibble                                                                                                                                                                                                                                                                                                                                                                                                                                                                                                               </span></td><td><span style=white-space:pre-wrap>NA              </span></td><td><span style=white-space:pre-wrap>testthat (&gt;= 3.0.0), covr, R6                                                                                                                                                                                     </span></td><td><span style=white-space:pre-wrap>NA      </span></td><td><span style=white-space:pre-wrap>MIT + file LICENSE                    </span></td><td>NA</td><td>NA</td><td>NA</td><td>NA</td><td>no </td><td>3.6.3</td></tr>\n",
       "\t<tr><th scope=row>whisker</th><td>whisker    </td><td>/opt/conda/lib/R/library</td><td>0.4     </td><td>NA         </td><td>NA                                            </td><td>NA                                                                                                                                                                                                                                                                                                                                                                                                                                                                                                                                                                                     </td><td>NA              </td><td>markdown                                                                                                                                                                                                          </td><td>NA      </td><td>GPL-3                                 </td><td>NA</td><td>NA</td><td>NA</td><td>NA</td><td>no </td><td>3.6.3</td></tr>\n",
       "\t<tr><th scope=row>withr</th><td><span style=white-space:pre-wrap>withr      </span></td><td>/opt/conda/lib/R/library</td><td><span style=white-space:pre-wrap>2.4.2   </span></td><td><span style=white-space:pre-wrap>NA         </span></td><td><span style=white-space:pre-wrap>R (&gt;= 3.2.0)                                  </span></td><td><span style=white-space:pre-wrap>graphics, grDevices, stats                                                                                                                                                                                                                                                                                                                                                                                                                                                                                                                                                             </span></td><td><span style=white-space:pre-wrap>NA              </span></td><td><span style=white-space:pre-wrap>covr, DBI, knitr, lattice, methods, rmarkdown, RSQLite,\n",
       "testthat (&gt;= 2.1.0)                                                                                                                                      </span></td><td><span style=white-space:pre-wrap>NA      </span></td><td><span style=white-space:pre-wrap>MIT + file LICENSE                    </span></td><td>NA</td><td>NA</td><td>NA</td><td>NA</td><td>no </td><td>3.6.3</td></tr>\n",
       "\t<tr><th scope=row>xfun</th><td><span style=white-space:pre-wrap>xfun       </span></td><td>/opt/conda/lib/R/library</td><td><span style=white-space:pre-wrap>0.23    </span></td><td><span style=white-space:pre-wrap>NA         </span></td><td><span style=white-space:pre-wrap>NA                                            </span></td><td><span style=white-space:pre-wrap>stats, tools                                                                                                                                                                                                                                                                                                                                                                                                                                                                                                                                                                           </span></td><td><span style=white-space:pre-wrap>NA              </span></td><td><span style=white-space:pre-wrap>testit, parallel, codetools, rstudioapi, tinytex (&gt;= 0.30),\n",
       "mime, markdown, knitr, htmltools, remotes, pak, renv, curl,\n",
       "jsonlite, rmarkdown                                                                     </span></td><td><span style=white-space:pre-wrap>NA      </span></td><td><span style=white-space:pre-wrap>MIT + file LICENSE                    </span></td><td>NA</td><td>NA</td><td>NA</td><td>NA</td><td>yes</td><td>3.6.3</td></tr>\n",
       "\t<tr><th scope=row>xml2</th><td><span style=white-space:pre-wrap>xml2       </span></td><td>/opt/conda/lib/R/library</td><td><span style=white-space:pre-wrap>1.3.2   </span></td><td><span style=white-space:pre-wrap>NA         </span></td><td><span style=white-space:pre-wrap>R (&gt;= 3.1.0)                                  </span></td><td><span style=white-space:pre-wrap>methods                                                                                                                                                                                                                                                                                                                                                                                                                                                                                                                                                                                </span></td><td><span style=white-space:pre-wrap>NA              </span></td><td><span style=white-space:pre-wrap>covr, curl, httr, knitr, magrittr, mockery, rmarkdown,\n",
       "testthat (&gt;= 2.1.0)                                                                                                                                       </span></td><td><span style=white-space:pre-wrap>NA      </span></td><td><span style=white-space:pre-wrap>GPL (&gt;= 2)                            </span></td><td>NA</td><td>NA</td><td>NA</td><td>NA</td><td>yes</td><td>3.6.3</td></tr>\n",
       "\t<tr><th scope=row>xopen</th><td><span style=white-space:pre-wrap>xopen      </span></td><td>/opt/conda/lib/R/library</td><td><span style=white-space:pre-wrap>1.0.0   </span></td><td><span style=white-space:pre-wrap>NA         </span></td><td><span style=white-space:pre-wrap>R (&gt;= 3.1)                                    </span></td><td><span style=white-space:pre-wrap>processx                                                                                                                                                                                                                                                                                                                                                                                                                                                                                                                                                                               </span></td><td><span style=white-space:pre-wrap>NA              </span></td><td><span style=white-space:pre-wrap>ps, testthat                                                                                                                                                                                                      </span></td><td><span style=white-space:pre-wrap>NA      </span></td><td><span style=white-space:pre-wrap>MIT + file LICENSE                    </span></td><td>NA</td><td>NA</td><td>NA</td><td>NA</td><td>no </td><td>3.6.3</td></tr>\n",
       "\t<tr><th scope=row>xtable</th><td><span style=white-space:pre-wrap>xtable     </span></td><td>/opt/conda/lib/R/library</td><td><span style=white-space:pre-wrap>1.8-4   </span></td><td><span style=white-space:pre-wrap>NA         </span></td><td><span style=white-space:pre-wrap>R (&gt;= 2.10.0)                                 </span></td><td><span style=white-space:pre-wrap>stats, utils                                                                                                                                                                                                                                                                                                                                                                                                                                                                                                                                                                           </span></td><td><span style=white-space:pre-wrap>NA              </span></td><td><span style=white-space:pre-wrap>knitr, plm, zoo, survival                                                                                                                                                                                         </span></td><td><span style=white-space:pre-wrap>NA      </span></td><td><span style=white-space:pre-wrap>GPL (&gt;= 2)                            </span></td><td>NA</td><td>NA</td><td>NA</td><td>NA</td><td>no </td><td>3.6.3</td></tr>\n",
       "\t<tr><th scope=row>xts</th><td><span style=white-space:pre-wrap>xts        </span></td><td>/opt/conda/lib/R/library</td><td><span style=white-space:pre-wrap>0.12.1  </span></td><td><span style=white-space:pre-wrap>NA         </span></td><td><span style=white-space:pre-wrap>zoo (&gt;= 1.7-12)                               </span></td><td><span style=white-space:pre-wrap>methods                                                                                                                                                                                                                                                                                                                                                                                                                                                                                                                                                                                </span></td><td><span style=white-space:pre-wrap>zoo             </span></td><td><span style=white-space:pre-wrap>timeSeries, timeDate, tseries, chron, fts, tis, RUnit                                                                                                                                                             </span></td><td><span style=white-space:pre-wrap>NA      </span></td><td><span style=white-space:pre-wrap>GPL (&gt;= 2)                            </span></td><td>NA</td><td>NA</td><td>NA</td><td>NA</td><td>yes</td><td>3.6.3</td></tr>\n",
       "\t<tr><th scope=row>yaml</th><td>yaml       </td><td>/opt/conda/lib/R/library</td><td>2.2.1   </td><td>NA         </td><td>NA                                            </td><td>NA                                                                                                                                                                                                                                                                                                                                                                                                                                                                                                                                                                                     </td><td>NA              </td><td>RUnit                                                                                                                                                                                                             </td><td>NA      </td><td>BSD_3_clause + file LICENSE           </td><td>NA</td><td>NA</td><td>NA</td><td>NA</td><td>yes</td><td>3.6.3</td></tr>\n",
       "\t<tr><th scope=row>zoo</th><td><span style=white-space:pre-wrap>zoo        </span></td><td>/opt/conda/lib/R/library</td><td><span style=white-space:pre-wrap>1.8-9   </span></td><td><span style=white-space:pre-wrap>NA         </span></td><td><span style=white-space:pre-wrap>R (&gt;= 3.1.0), stats                           </span></td><td><span style=white-space:pre-wrap>utils, graphics, grDevices, lattice (&gt;= 0.20-27)                                                                                                                                                                                                                                                                                                                                                                                                                                                                                                                                       </span></td><td><span style=white-space:pre-wrap>NA              </span></td><td><span style=white-space:pre-wrap>AER, coda, chron, fts, ggplot2 (&gt;= 3.0.0), mondate, scales,\n",
       "stinepack, strucchange, timeDate, timeSeries, tis, tseries, xts                                                                                      </span></td><td><span style=white-space:pre-wrap>NA      </span></td><td><span style=white-space:pre-wrap>GPL-2 | GPL-3                         </span></td><td>NA</td><td>NA</td><td>NA</td><td>NA</td><td>yes</td><td>3.6.3</td></tr>\n",
       "</tbody>\n",
       "</table>\n"
      ],
      "text/latex": [
       "A matrix: 192 × 16 of type chr\n",
       "\\begin{tabular}{r|llllllllllllllll}\n",
       "  & Package & LibPath & Version & Priority & Depends & Imports & LinkingTo & Suggests & Enhances & License & License\\_is\\_FOSS & License\\_restricts\\_use & OS\\_type & MD5sum & NeedsCompilation & Built\\\\\n",
       "\\hline\n",
       "\taskpass & askpass    & /opt/conda/lib/R/library & 1.1     & NA          & NA                                                  & sys (>= 2.1)                                                                                                                                       & NA & testthat                                                                                                                                                                                                                                                                                                                                                                                                                                                                                                                                                                                                                                                                                                                                                                & NA  & MIT + file LICENSE          & NA & NA & NA & NA & yes & 3.6.3\\\\\n",
       "\tassertthat & assertthat & /opt/conda/lib/R/library & 0.2.1   & NA          & NA                                                  & tools                                                                                                                                              & NA & testthat, covr                                                                                                                                                                                                                                                                                                                                                                                                                                                                                                                                                                                                                                                                                                                                                          & NA  & GPL-3                       & NA & NA & NA & NA & no  & 3.6.3\\\\\n",
       "\tbackports & backports  & /opt/conda/lib/R/library & 1.2.1   & NA          & R (>= 3.0.0)                                        & NA                                                                                                                                                 & NA & NA                                                                                                                                                                                                                                                                                                                                                                                                                                                                                                                                                                                                                                                                                                                                                                      & NA  & GPL-2 \\textbar{} GPL-3               & NA & NA & NA & NA & yes & 3.6.3\\\\\n",
       "\tbase & base       & /opt/conda/lib/R/library & 3.6.3   & base        & NA                                                  & NA                                                                                                                                                 & NA & methods                                                                                                                                                                                                                                                                                                                                                                                                                                                                                                                                                                                                                                                                                                                                                                 & NA  & Part of R 3.6.3             & NA & NA & NA & NA & NA  & 3.6.3\\\\\n",
       "\tbase64enc & base64enc  & /opt/conda/lib/R/library & 0.1-3   & NA          & R (>= 2.9.0)                                        & NA                                                                                                                                                 & NA & NA                                                                                                                                                                                                                                                                                                                                                                                                                                                                                                                                                                                                                                                                                                                                                                      & png & GPL-2 \\textbar{} GPL-3               & NA & NA & NA & NA & yes & 3.6.3\\\\\n",
       "\tbit & bit        & /opt/conda/lib/R/library & 4.0.4   & NA          & R (>= 2.9.2)                                        & NA                                                                                                                                                 & NA & testthat (>= 0.11.0), roxygen2, knitr, rmarkdown,\n",
       "microbenchmark, bit64 (>= 4.0.0), ff (>= 4.0.0)                                                                                                                                                                                                                                                                                                                                                                                                                                                                                                                                                                                                                                                                      & NA  & GPL-2 \\textbar{} GPL-3               & NA & NA & NA & NA & yes & 3.6.3\\\\\n",
       "\tbit64 & bit64      & /opt/conda/lib/R/library & 4.0.5   & NA          & R (>= 3.0.1), bit (>= 4.0.0), utils, methods, stats & NA                                                                                                                                                 & NA & NA                                                                                                                                                                                                                                                                                                                                                                                                                                                                                                                                                                                                                                                                                                                                                                      & NA  & GPL-2 \\textbar{} GPL-3               & NA & NA & NA & NA & yes & 3.6.3\\\\\n",
       "\tbitops & bitops     & /opt/conda/lib/R/library & 1.0-7   & NA          & NA                                                  & NA                                                                                                                                                 & NA & NA                                                                                                                                                                                                                                                                                                                                                                                                                                                                                                                                                                                                                                                                                                                                                                      & NA  & GPL (>= 2)                  & NA & NA & NA & NA & yes & 3.6.3\\\\\n",
       "\tblob & blob       & /opt/conda/lib/R/library & 1.2.1   & NA          & NA                                                  & methods, rlang, vctrs (>= 0.2.1)                                                                                                                   & NA & covr, crayon, pillar (>= 1.2.1), testthat                                                                                                                                                                                                                                                                                                                                                                                                                                                                                                                                                                                                                                                                                                                               & NA  & GPL-3                       & NA & NA & NA & NA & no  & 3.6.3\\\\\n",
       "\tbrew & brew       & /opt/conda/lib/R/library & 1.0-6   & NA          & NA                                                  & NA                                                                                                                                                 & NA & NA                                                                                                                                                                                                                                                                                                                                                                                                                                                                                                                                                                                                                                                                                                                                                                      & NA  & GPL-2                       & NA & NA & NA & NA & NA  & 3.6.3\\\\\n",
       "\tbrio & brio       & /opt/conda/lib/R/library & 1.1.2   & NA          & NA                                                  & NA                                                                                                                                                 & NA & testthat (>= 2.1.0), covr                                                                                                                                                                                                                                                                                                                                                                                                                                                                                                                                                                                                                                                                                                                                               & NA  & MIT + file LICENSE          & NA & NA & NA & NA & yes & 3.6.3\\\\\n",
       "\tbroom & broom      & /opt/conda/lib/R/library & 0.7.6   & NA          & R (>= 3.1)                                          & backports, dplyr (>= 1.0.0), ellipsis, generics (>= 0.0.2),\n",
       "glue, methods, purrr, rlang, stringr, tibble (>= 3.0.0), tidyr\n",
       "(>= 1.0.0)            & NA & AER, akima, AUC, bbmle, betareg, biglm, binGroup, boot,\n",
       "btergm, car, caret, cluster, cmprsk, coda, covr, drc, e1071,\n",
       "emmeans, epiR, ergm (>= 3.10.4), fixest (>= 0.8.1), gam (>=\n",
       "1.15), gee, geepack, ggplot2, glmnet, glmnetUtils, gmm, Hmisc,\n",
       "irlba, joineRML, Kendall, knitr, ks, Lahman, lavaan, leaps,\n",
       "lfe, lm.beta, lme4, lmodel2, lmtest (>= 0.9.38), lsmeans, maps,\n",
       "maptools, margins, MASS, Matrix, mclust, mediation, metafor,\n",
       "mfx, mgcv, mlogit, modeldata, modeltests, muhaz, multcomp,\n",
       "network, nnet, orcutt (>= 2.2), ordinal, plm, poLCA, psych,\n",
       "quantreg, Rchoice, rgeos, rmarkdown, robust, robustbase,\n",
       "rsample, sandwich, sp, spdep, spatialreg, speedglm, spelling,\n",
       "survey, survival, systemfit, testthat (>= 2.1.0), tseries,\n",
       "vars, zoo & NA  & MIT + file LICENSE          & NA & NA & NA & NA & no  & 3.6.3\\\\\n",
       "\tbslib & bslib      & /opt/conda/lib/R/library & 0.2.5.1 & NA          & R (>= 2.10)                                         & grDevices, htmltools (>= 0.5.1), jsonlite, sass (>= 0.4.0),\n",
       "jquerylib (>= 0.1.3), rlang, magrittr                                                 & NA & shiny (>= 1.6.0), rmarkdown (>= 2.7), thematic, knitr,\n",
       "testthat, withr, rappdirs, curl                                                                                                                                                                                                                                                                                                                                                                                                                                                                                                                                                                                                                                                                                 & NA  & MIT + file LICENSE          & NA & NA & NA & NA & no  & 3.6.3\\\\\n",
       "\tcachem & cachem     & /opt/conda/lib/R/library & 1.0.5   & NA          & NA                                                  & rlang, fastmap                                                                                                                                     & NA & testthat                                                                                                                                                                                                                                                                                                                                                                                                                                                                                                                                                                                                                                                                                                                                                                & NA  & MIT + file LICENSE          & NA & NA & NA & NA & yes & 3.6.3\\\\\n",
       "\tcallr & callr      & /opt/conda/lib/R/library & 3.7.0   & NA          & NA                                                  & processx (>= 3.5.0), R6, utils                                                                                                                     & NA & cli, covr, ps, rprojroot, spelling, testthat, withr (>=\n",
       "2.3.0)                                                                                                                                                                                                                                                                                                                                                                                                                                                                                                                                                                                                                                                                                                         & NA  & MIT + file LICENSE          & NA & NA & NA & NA & no  & 3.6.3\\\\\n",
       "\tcaret & caret      & /opt/conda/lib/R/library & 6.0-88  & NA          & R (>= 3.2.0), lattice (>= 0.20), ggplot2            & foreach, methods, plyr, ModelMetrics (>= 1.2.2.2), nlme,\n",
       "reshape2, stats, stats4, utils, grDevices, recipes (>= 0.1.10),\n",
       "withr (>= 2.0.0), pROC, & NA & BradleyTerry2, e1071, earth (>= 2.2-3), fastICA, gam (>=\n",
       "1.15), ipred, kernlab, knitr, klaR, MASS, ellipse, Matrix, mda,\n",
       "mgcv, mlbench, MLmetrics, nnet, party (>= 0.9-99992), pls,\n",
       "proxy, randomForest, RANN, rmarkdown, spls, subselect, pamr,\n",
       "superpc, Cubist, testthat (>= 0.9.1), rpart, dplyr, covr                                                                                                                                                                                                                                                                                                                                                                                                                                                           & NA  & GPL (>= 2)                  & NA & NA & NA & NA & yes & 3.6.3\\\\\n",
       "\tcellranger & cellranger & /opt/conda/lib/R/library & 1.1.0   & NA          & R (>= 3.0.0)                                        & rematch, tibble                                                                                                                                    & NA & covr, testthat (>= 1.0.0), knitr, rmarkdown                                                                                                                                                                                                                                                                                                                                                                                                                                                                                                                                                                                                                                                                                                                             & NA  & MIT + file LICENSE          & NA & NA & NA & NA & no  & 3.6.3\\\\\n",
       "\tclass & class      & /opt/conda/lib/R/library & 7.3-19  & recommended & R (>= 3.0.0), stats, utils                          & MASS                                                                                                                                               & NA & NA                                                                                                                                                                                                                                                                                                                                                                                                                                                                                                                                                                                                                                                                                                                                                                      & NA  & GPL-2 \\textbar{} GPL-3               & NA & NA & NA & NA & yes & 3.6.3\\\\\n",
       "\tcli & cli        & /opt/conda/lib/R/library & 2.5.0   & NA          & R (>= 2.10)                                         & glue, utils                                                                                                                                        & NA & callr, covr, grDevices, htmlwidgets, knitr, methods, mockery,\n",
       "ps (>= 1.3.4.9000), rmarkdown, rstudioapi, prettycode (>=\n",
       "1.1.0), testthat, tibble, withr                                                                                                                                                                                                                                                                                                                                                                                                                                                                                                                                                                                                               & NA  & MIT + file LICENSE          & NA & NA & NA & NA & no  & 3.6.3\\\\\n",
       "\tclipr & clipr      & /opt/conda/lib/R/library & 0.7.1   & NA          & NA                                                  & utils                                                                                                                                              & NA & covr, knitr, rmarkdown, rstudioapi (>= 0.5), testthat (>=\n",
       "2.0.0)                                                                                                                                                                                                                                                                                                                                                                                                                                                                                                                                                                                                                                                                                                       & NA  & GPL-3                       & NA & NA & NA & NA & no  & 3.6.3\\\\\n",
       "\tcodetools & codetools  & /opt/conda/lib/R/library & 0.2-18  & recommended & R (>= 2.1)                                          & NA                                                                                                                                                 & NA & NA                                                                                                                                                                                                                                                                                                                                                                                                                                                                                                                                                                                                                                                                                                                                                                      & NA  & GPL                         & NA & NA & NA & NA & no  & 3.6.3\\\\\n",
       "\tcolorspace & colorspace & /opt/conda/lib/R/library & 2.0-1   & NA          & R (>= 3.0.0), methods                               & graphics, grDevices, stats                                                                                                                         & NA & datasets, utils, KernSmooth, MASS, kernlab, mvtnorm, vcd,\n",
       "tcltk, shiny, shinyjs, ggplot2, dplyr, scales, grid, png, jpeg,\n",
       "knitr, rmarkdown, RColorBrewer, rcartocolor, scico, viridis,\n",
       "wesanderson                                                                                                                                                                                                                                                                                                                                                                                                                                                                                                                                                                   & NA  & BSD\\_3\\_clause + file LICENSE & NA & NA & NA & NA & yes & 3.6.3\\\\\n",
       "\tcommonmark & commonmark & /opt/conda/lib/R/library & 1.7     & NA          & NA                                                  & NA                                                                                                                                                 & NA & curl, testthat, xml2                                                                                                                                                                                                                                                                                                                                                                                                                                                                                                                                                                                                                                                                                                                                                    & NA  & BSD\\_2\\_clause + file LICENSE & NA & NA & NA & NA & yes & 3.6.3\\\\\n",
       "\tcompiler & compiler   & /opt/conda/lib/R/library & 3.6.3   & base        & NA                                                  & NA                                                                                                                                                 & NA & NA                                                                                                                                                                                                                                                                                                                                                                                                                                                                                                                                                                                                                                                                                                                                                                      & NA  & Part of R 3.6.3             & NA & NA & NA & NA & NA  & 3.6.3\\\\\n",
       "\tcpp11 & cpp11      & /opt/conda/lib/R/library & 0.2.7   & NA          & NA                                                  & NA                                                                                                                                                 & NA & bench, brio, callr, cli, covr, decor, desc, ggplot2, glue,\n",
       "knitr, lobstr, mockery, progress, rmarkdown, scales, testthat,\n",
       "tibble, utils, vctrs, withr                                                                                                                                                                                                                                                                                                                                                                                                                                                                                                                                                                                                                 & NA  & MIT + file LICENSE          & NA & NA & NA & NA & no  & 3.6.3\\\\\n",
       "\tcrayon & crayon     & /opt/conda/lib/R/library & 1.4.1   & NA          & NA                                                  & grDevices, methods, utils                                                                                                                          & NA & mockery, rstudioapi, testthat, withr                                                                                                                                                                                                                                                                                                                                                                                                                                                                                                                                                                                                                                                                                                                                    & NA  & MIT + file LICENSE          & NA & NA & NA & NA & no  & 3.6.3\\\\\n",
       "\tcurl & curl       & /opt/conda/lib/R/library & 4.3.1   & NA          & R (>= 3.0.0)                                        & NA                                                                                                                                                 & NA & spelling, testthat (>= 1.0.0), knitr, jsonlite, rmarkdown,\n",
       "magrittr, httpuv (>= 1.4.4), webutils                                                                                                                                                                                                                                                                                                                                                                                                                                                                                                                                                                                                                                                                       & NA  & MIT + file LICENSE          & NA & NA & NA & NA & yes & 3.6.3\\\\\n",
       "\tdata.table & data.table & /opt/conda/lib/R/library & 1.14.0  & NA          & R (>= 3.1.0)                                        & methods                                                                                                                                            & NA & bit64 (>= 4.0.0), bit (>= 4.0.4), curl, R.utils, xts,\n",
       "nanotime, zoo (>= 1.8-1), yaml, knitr, rmarkdown                                                                                                                                                                                                                                                                                                                                                                                                                                                                                                                                                                                                                                                                 & NA  & MPL-2.0 \\textbar{} file LICENSE      & NA & NA & NA & NA & yes & 3.6.3\\\\\n",
       "\tdatasets & datasets   & /opt/conda/lib/R/library & 3.6.3   & base        & NA                                                  & NA                                                                                                                                                 & NA & NA                                                                                                                                                                                                                                                                                                                                                                                                                                                                                                                                                                                                                                                                                                                                                                      & NA  & Part of R 3.6.3             & NA & NA & NA & NA & NA  & 3.6.3\\\\\n",
       "\tDBI & DBI        & /opt/conda/lib/R/library & 1.1.1   & NA          & methods, R (>= 3.0.0)                               & NA                                                                                                                                                 & NA & blob, covr, dbplyr, dplyr, glue, hms, knitr, magrittr,\n",
       "rmarkdown, rprojroot, RMariaDB, RSQLite (>= 1.1-2), testthat,\n",
       "xml2                                                                                                                                                                                                                                                                                                                                                                                                                                                                                                                                                                                                                                             & NA  & LGPL (>= 2.1)               & NA & NA & NA & NA & no  & 3.6.3\\\\\n",
       "\t⋮ & ⋮ & ⋮ & ⋮ & ⋮ & ⋮ & ⋮ & ⋮ & ⋮ & ⋮ & ⋮ & ⋮ & ⋮ & ⋮ & ⋮ & ⋮ & ⋮\\\\\n",
       "\tsurvival & survival    & /opt/conda/lib/R/library & 3.2-11   & recommended & R (>= 3.5.0)                                   & graphics, Matrix, methods, splines, stats, utils                                                                                                                                                                                                                                                                                                                                                                                                                                                                                                                                        & NA               & NA                                                                                                                                                                                                                 & NA       & LGPL (>= 2)                            & NA & NA & NA & NA & yes & 3.6.3\\\\\n",
       "\tsys & sys         & /opt/conda/lib/R/library & 3.4      & NA          & NA                                             & NA                                                                                                                                                                                                                                                                                                                                                                                                                                                                                                                                                                                      & NA               & unix (>= 1.4), spelling, testthat                                                                                                                                                                                  & NA       & MIT + file LICENSE                     & NA & NA & NA & NA & yes & 3.6.3\\\\\n",
       "\ttcltk & tcltk       & /opt/conda/lib/R/library & 3.6.3    & base        & NA                                             & utils                                                                                                                                                                                                                                                                                                                                                                                                                                                                                                                                                                                   & NA               & NA                                                                                                                                                                                                                 & NA       & Part of R 3.6.3                        & NA & NA & NA & NA & yes & 3.6.3\\\\\n",
       "\ttestthat & testthat    & /opt/conda/lib/R/library & 3.0.2    & NA          & R (>= 3.1)                                     & brio, callr (>= 3.5.1), cli (>= 2.2.0), crayon (>= 1.3.4),\n",
       "desc, digest, ellipsis (>= 0.2.0), evaluate, jsonlite,\n",
       "lifecycle, magrittr, methods, pkgload, praise, processx, ps (>=\n",
       "1.3.4), R6 (>= 2.2.0), rlang (>= 0.4.9), utils, waldo (>=\n",
       "0.2.4), withr (>= 2.3.0)                                                                                                                                                                                                                                                                                                                & NA               & covr, curl (>= 0.9.5), diffviewer (>= 0.1.0), knitr, mockery,\n",
       "rmarkdown, rstudioapi, shiny, usethis, vctrs (>= 0.1.0), xml2                                                                                       & NA       & MIT + file LICENSE                     & NA & NA & NA & NA & yes & 3.6.3\\\\\n",
       "\ttibble & tibble      & /opt/conda/lib/R/library & 3.1.2    & NA          & R (>= 3.1.0)                                   & ellipsis (>= 0.3.2), fansi (>= 0.4.0), lifecycle (>= 0.2.0),\n",
       "magrittr, methods, pillar (>= 1.6.0), pkgconfig, rlang (>=\n",
       "0.4.3), utils, vctrs (>= 0.3.8)                                                                                                                                                                                                                                                                                                                                                                                                                               & NA               & bench, bit64, blob, cli, covr, crayon (>= 1.3.4), DiagrammeR,\n",
       "dplyr, evaluate, formattable, ggplot2, hms, htmltools, knitr,\n",
       "lubridate, mockr, nycflights13, purrr, rmarkdown, testthat (>=\n",
       "3.0.2), tidyr, withr & NA       & MIT + file LICENSE                     & NA & NA & NA & NA & yes & 3.6.3\\\\\n",
       "\ttidyr & tidyr       & /opt/conda/lib/R/library & 1.1.3    & NA          & R (>= 3.1)                                     & dplyr (>= 0.8.2), ellipsis (>= 0.1.0), glue, lifecycle,\n",
       "magrittr, purrr, rlang, tibble (>= 2.1.1), tidyselect (>=\n",
       "1.1.0), utils, vctrs (>= 0.3.6)                                                                                                                                                                                                                                                                                                                                                                                                                                     & cpp11 (>= 0.2.6) & covr, data.table, jsonlite, knitr, readr, repurrrsive (>=\n",
       "1.0.0), rmarkdown, testthat (>= 3.0.0)                                                                                                                  & NA       & MIT + file LICENSE                     & NA & NA & NA & NA & yes & 3.6.3\\\\\n",
       "\ttidyselect & tidyselect  & /opt/conda/lib/R/library & 1.1.1    & NA          & R (>= 3.2)                                     & ellipsis, glue (>= 1.3.0), purrr (>= 0.3.2), rlang (>= 0.4.6),\n",
       "vctrs (>= 0.3.0)                                                                                                                                                                                                                                                                                                                                                                                                                                                                                                        & NA               & covr, crayon, dplyr, knitr, magrittr, rmarkdown, testthat (>=\n",
       "2.3.0), tibble (>= 2.1.3), withr                                                                                                                    & NA       & MIT + file LICENSE                     & NA & NA & NA & NA & yes & 3.6.3\\\\\n",
       "\ttidyverse & tidyverse   & /opt/conda/lib/R/library & 1.3.1    & NA          & R (>= 3.3)                                     & broom (>= 0.7.6), cli (>= 2.4.0), crayon (>= 1.4.1), dbplyr\n",
       "(>= 2.1.1), dplyr (>= 1.0.5), dtplyr (>= 1.1.0), forcats (>=\n",
       "0.5.1), googledrive (>= 1.0.1), googlesheets4 (>= 0.3.0),\n",
       "ggplot2 (>= 3.3.3), haven (>= 2.3.1), hms (>= 1.0.0), httr (>=\n",
       "1.4.2), jsonlite (>= 1.7.2), lubridate (>= 1.7.10), magrittr\n",
       "(>= 2.0.1), modelr (>= 0.1.8), pillar (>= 1.6.0), purrr (>=\n",
       "0.3.4), readr (>= 1.4.0), readxl (>= 1.3.1), reprex (>= 2.0.0),\n",
       "rlang (>= 0.4.10), rstudioapi (>= 0.13), rvest (>= 1.0.0),\n",
       "stringr (>= 1.4.0), tibble (>= 3.1.0), tidyr (>= 1.1.3), xml2\n",
       "(>= 1.3.2) & NA               & covr, feather, glue, knitr, rmarkdown, testthat                                                                                                                                                                    & NA       & MIT + file LICENSE                     & NA & NA & NA & NA & no  & 3.6.3\\\\\n",
       "\ttimeDate & timeDate    & /opt/conda/lib/R/library & 3043.102 & NA          & R (>= 2.15.1), graphics, utils, stats, methods & NA                                                                                                                                                                                                                                                                                                                                                                                                                                                                                                                                                                                      & NA               & date, RUnit                                                                                                                                                                                                        & NA       & GPL (>= 2)                             & NA & NA & NA & NA & no  & 3.6.3\\\\\n",
       "\ttinytex & tinytex     & /opt/conda/lib/R/library & 0.31     & NA          & NA                                             & xfun (>= 0.19)                                                                                                                                                                                                                                                                                                                                                                                                                                                                                                                                                                          & NA               & testit, rstudioapi                                                                                                                                                                                                 & NA       & MIT + file LICENSE                     & NA & NA & NA & NA & no  & 3.6.3\\\\\n",
       "\ttools & tools       & /opt/conda/lib/R/library & 3.6.3    & base        & NA                                             & NA                                                                                                                                                                                                                                                                                                                                                                                                                                                                                                                                                                                      & NA               & codetools, methods, xml2, curl, commonmark                                                                                                                                                                         & NA       & Part of R 3.6.3                        & NA & NA & NA & NA & yes & 3.6.3\\\\\n",
       "\ttseries & tseries     & /opt/conda/lib/R/library & 0.10-48  & NA          & R (>= 2.10.0)                                  & graphics, stats, utils, quadprog, zoo, quantmod (>= 0.4-9)                                                                                                                                                                                                                                                                                                                                                                                                                                                                                                                              & NA               & NA                                                                                                                                                                                                                 & NA       & GPL-2                                  & NA & NA & NA & NA & yes & 3.6.3\\\\\n",
       "\tTTR & TTR         & /opt/conda/lib/R/library & 0.24.2   & NA          & NA                                             & xts (>= 0.10-0), zoo, curl                                                                                                                                                                                                                                                                                                                                                                                                                                                                                                                                                              & xts              & RUnit                                                                                                                                                                                                              & quantmod & GPL (>= 2)                             & NA & NA & NA & NA & yes & 3.6.3\\\\\n",
       "\turca & urca        & /opt/conda/lib/R/library & 1.3-0    & NA          & R (>= 2.0.0), methods                          & nlme, graphics, stats                                                                                                                                                                                                                                                                                                                                                                                                                                                                                                                                                                   & NA               & NA                                                                                                                                                                                                                 & NA       & GPL (>= 2)                             & NA & NA & NA & NA & yes & 3.6.3\\\\\n",
       "\tusethis & usethis     & /opt/conda/lib/R/library & 1.6.3    & NA          & R (>= 3.2)                                     & clipr (>= 0.3.0), cli, crayon, curl (>= 2.7), desc, fs (>=\n",
       "1.3.0), gh (>= 1.1.0), git2r (>= 0.23), glue (>= 1.3.0), purrr,\n",
       "rematch2, rlang (>= 0.4.3), rprojroot (>= 1.2), rstudioapi,\n",
       "stats, utils, whisker, withr, yaml                                                                                                                                                                                                                                                                                                                                                            & NA               & covr, knitr, magick, pkgdown (>= 1.4.0), rmarkdown, roxygen2,\n",
       "spelling (>= 1.2), styler (>= 1.2.0), testthat (>= 2.1.0)                                                                                           & NA       & GPL-3                                  & NA & NA & NA & NA & no  & 3.6.3\\\\\n",
       "\tutf8 & utf8        & /opt/conda/lib/R/library & 1.2.1    & NA          & R (>= 2.10)                                    & NA                                                                                                                                                                                                                                                                                                                                                                                                                                                                                                                                                                                      & NA               & covr, knitr, rlang, rmarkdown, testthat (>= 3.0.0)                                                                                                                                                                 & NA       & Apache License (== 2.0) \\textbar{} file LICENSE & NA & NA & NA & NA & yes & 3.6.3\\\\\n",
       "\tutils & utils       & /opt/conda/lib/R/library & 3.6.3    & base        & NA                                             & NA                                                                                                                                                                                                                                                                                                                                                                                                                                                                                                                                                                                      & NA               & methods, xml2, commonmark                                                                                                                                                                                          & NA       & Part of R 3.6.3                        & NA & NA & NA & NA & yes & 3.6.3\\\\\n",
       "\tuuid & uuid        & /opt/conda/lib/R/library & 0.1-4    & NA          & R (>= 2.9.0)                                   & NA                                                                                                                                                                                                                                                                                                                                                                                                                                                                                                                                                                                      & NA               & NA                                                                                                                                                                                                                 & NA       & MIT + file LICENSE                     & NA & NA & NA & NA & yes & 3.6.3\\\\\n",
       "\tvctrs & vctrs       & /opt/conda/lib/R/library & 0.3.8    & NA          & R (>= 3.3)                                     & ellipsis (>= 0.2.0), glue, rlang (>= 0.4.10)                                                                                                                                                                                                                                                                                                                                                                                                                                                                                                                                            & NA               & bit64, covr, crayon, dplyr (>= 0.8.5), generics, knitr,\n",
       "pillar (>= 1.4.4), pkgdown, rmarkdown, testthat (>= 2.3.0),\n",
       "tibble, withr, xml2, waldo (>= 0.2.0), zeallot                                               & NA       & MIT + file LICENSE                     & NA & NA & NA & NA & yes & 3.6.3\\\\\n",
       "\tviridisLite & viridisLite & /opt/conda/lib/R/library & 0.4.0    & NA          & R (>= 2.10)                                    & NA                                                                                                                                                                                                                                                                                                                                                                                                                                                                                                                                                                                      & NA               & hexbin (>= 1.27.0), ggplot2 (>= 1.0.1), testthat, covr                                                                                                                                                             & NA       & MIT + file LICENSE                     & NA & NA & NA & NA & no  & 3.6.3\\\\\n",
       "\twaldo & waldo       & /opt/conda/lib/R/library & 0.2.5    & NA          & NA                                             & cli, diffobj, fansi, glue, methods, rematch2, rlang (>=\n",
       "0.4.10), tibble                                                                                                                                                                                                                                                                                                                                                                                                                                                                                                                & NA               & testthat (>= 3.0.0), covr, R6                                                                                                                                                                                      & NA       & MIT + file LICENSE                     & NA & NA & NA & NA & no  & 3.6.3\\\\\n",
       "\twhisker & whisker     & /opt/conda/lib/R/library & 0.4      & NA          & NA                                             & NA                                                                                                                                                                                                                                                                                                                                                                                                                                                                                                                                                                                      & NA               & markdown                                                                                                                                                                                                           & NA       & GPL-3                                  & NA & NA & NA & NA & no  & 3.6.3\\\\\n",
       "\twithr & withr       & /opt/conda/lib/R/library & 2.4.2    & NA          & R (>= 3.2.0)                                   & graphics, grDevices, stats                                                                                                                                                                                                                                                                                                                                                                                                                                                                                                                                                              & NA               & covr, DBI, knitr, lattice, methods, rmarkdown, RSQLite,\n",
       "testthat (>= 2.1.0)                                                                                                                                       & NA       & MIT + file LICENSE                     & NA & NA & NA & NA & no  & 3.6.3\\\\\n",
       "\txfun & xfun        & /opt/conda/lib/R/library & 0.23     & NA          & NA                                             & stats, tools                                                                                                                                                                                                                                                                                                                                                                                                                                                                                                                                                                            & NA               & testit, parallel, codetools, rstudioapi, tinytex (>= 0.30),\n",
       "mime, markdown, knitr, htmltools, remotes, pak, renv, curl,\n",
       "jsonlite, rmarkdown                                                                      & NA       & MIT + file LICENSE                     & NA & NA & NA & NA & yes & 3.6.3\\\\\n",
       "\txml2 & xml2        & /opt/conda/lib/R/library & 1.3.2    & NA          & R (>= 3.1.0)                                   & methods                                                                                                                                                                                                                                                                                                                                                                                                                                                                                                                                                                                 & NA               & covr, curl, httr, knitr, magrittr, mockery, rmarkdown,\n",
       "testthat (>= 2.1.0)                                                                                                                                        & NA       & GPL (>= 2)                             & NA & NA & NA & NA & yes & 3.6.3\\\\\n",
       "\txopen & xopen       & /opt/conda/lib/R/library & 1.0.0    & NA          & R (>= 3.1)                                     & processx                                                                                                                                                                                                                                                                                                                                                                                                                                                                                                                                                                                & NA               & ps, testthat                                                                                                                                                                                                       & NA       & MIT + file LICENSE                     & NA & NA & NA & NA & no  & 3.6.3\\\\\n",
       "\txtable & xtable      & /opt/conda/lib/R/library & 1.8-4    & NA          & R (>= 2.10.0)                                  & stats, utils                                                                                                                                                                                                                                                                                                                                                                                                                                                                                                                                                                            & NA               & knitr, plm, zoo, survival                                                                                                                                                                                          & NA       & GPL (>= 2)                             & NA & NA & NA & NA & no  & 3.6.3\\\\\n",
       "\txts & xts         & /opt/conda/lib/R/library & 0.12.1   & NA          & zoo (>= 1.7-12)                                & methods                                                                                                                                                                                                                                                                                                                                                                                                                                                                                                                                                                                 & zoo              & timeSeries, timeDate, tseries, chron, fts, tis, RUnit                                                                                                                                                              & NA       & GPL (>= 2)                             & NA & NA & NA & NA & yes & 3.6.3\\\\\n",
       "\tyaml & yaml        & /opt/conda/lib/R/library & 2.2.1    & NA          & NA                                             & NA                                                                                                                                                                                                                                                                                                                                                                                                                                                                                                                                                                                      & NA               & RUnit                                                                                                                                                                                                              & NA       & BSD\\_3\\_clause + file LICENSE            & NA & NA & NA & NA & yes & 3.6.3\\\\\n",
       "\tzoo & zoo         & /opt/conda/lib/R/library & 1.8-9    & NA          & R (>= 3.1.0), stats                            & utils, graphics, grDevices, lattice (>= 0.20-27)                                                                                                                                                                                                                                                                                                                                                                                                                                                                                                                                        & NA               & AER, coda, chron, fts, ggplot2 (>= 3.0.0), mondate, scales,\n",
       "stinepack, strucchange, timeDate, timeSeries, tis, tseries, xts                                                                                       & NA       & GPL-2 \\textbar{} GPL-3                          & NA & NA & NA & NA & yes & 3.6.3\\\\\n",
       "\\end{tabular}\n"
      ],
      "text/markdown": [
       "\n",
       "A matrix: 192 × 16 of type chr\n",
       "\n",
       "| <!--/--> | Package | LibPath | Version | Priority | Depends | Imports | LinkingTo | Suggests | Enhances | License | License_is_FOSS | License_restricts_use | OS_type | MD5sum | NeedsCompilation | Built |\n",
       "|---|---|---|---|---|---|---|---|---|---|---|---|---|---|---|---|---|\n",
       "| askpass | askpass    | /opt/conda/lib/R/library | 1.1     | NA          | NA                                                  | sys (&gt;= 2.1)                                                                                                                                       | NA | testthat                                                                                                                                                                                                                                                                                                                                                                                                                                                                                                                                                                                                                                                                                                                                                                | NA  | MIT + file LICENSE          | NA | NA | NA | NA | yes | 3.6.3 |\n",
       "| assertthat | assertthat | /opt/conda/lib/R/library | 0.2.1   | NA          | NA                                                  | tools                                                                                                                                              | NA | testthat, covr                                                                                                                                                                                                                                                                                                                                                                                                                                                                                                                                                                                                                                                                                                                                                          | NA  | GPL-3                       | NA | NA | NA | NA | no  | 3.6.3 |\n",
       "| backports | backports  | /opt/conda/lib/R/library | 1.2.1   | NA          | R (&gt;= 3.0.0)                                        | NA                                                                                                                                                 | NA | NA                                                                                                                                                                                                                                                                                                                                                                                                                                                                                                                                                                                                                                                                                                                                                                      | NA  | GPL-2 | GPL-3               | NA | NA | NA | NA | yes | 3.6.3 |\n",
       "| base | base       | /opt/conda/lib/R/library | 3.6.3   | base        | NA                                                  | NA                                                                                                                                                 | NA | methods                                                                                                                                                                                                                                                                                                                                                                                                                                                                                                                                                                                                                                                                                                                                                                 | NA  | Part of R 3.6.3             | NA | NA | NA | NA | NA  | 3.6.3 |\n",
       "| base64enc | base64enc  | /opt/conda/lib/R/library | 0.1-3   | NA          | R (&gt;= 2.9.0)                                        | NA                                                                                                                                                 | NA | NA                                                                                                                                                                                                                                                                                                                                                                                                                                                                                                                                                                                                                                                                                                                                                                      | png | GPL-2 | GPL-3               | NA | NA | NA | NA | yes | 3.6.3 |\n",
       "| bit | bit        | /opt/conda/lib/R/library | 4.0.4   | NA          | R (&gt;= 2.9.2)                                        | NA                                                                                                                                                 | NA | testthat (&gt;= 0.11.0), roxygen2, knitr, rmarkdown,\n",
       "microbenchmark, bit64 (&gt;= 4.0.0), ff (&gt;= 4.0.0)                                                                                                                                                                                                                                                                                                                                                                                                                                                                                                                                                                                                                                                                      | NA  | GPL-2 | GPL-3               | NA | NA | NA | NA | yes | 3.6.3 |\n",
       "| bit64 | bit64      | /opt/conda/lib/R/library | 4.0.5   | NA          | R (&gt;= 3.0.1), bit (&gt;= 4.0.0), utils, methods, stats | NA                                                                                                                                                 | NA | NA                                                                                                                                                                                                                                                                                                                                                                                                                                                                                                                                                                                                                                                                                                                                                                      | NA  | GPL-2 | GPL-3               | NA | NA | NA | NA | yes | 3.6.3 |\n",
       "| bitops | bitops     | /opt/conda/lib/R/library | 1.0-7   | NA          | NA                                                  | NA                                                                                                                                                 | NA | NA                                                                                                                                                                                                                                                                                                                                                                                                                                                                                                                                                                                                                                                                                                                                                                      | NA  | GPL (&gt;= 2)                  | NA | NA | NA | NA | yes | 3.6.3 |\n",
       "| blob | blob       | /opt/conda/lib/R/library | 1.2.1   | NA          | NA                                                  | methods, rlang, vctrs (&gt;= 0.2.1)                                                                                                                   | NA | covr, crayon, pillar (&gt;= 1.2.1), testthat                                                                                                                                                                                                                                                                                                                                                                                                                                                                                                                                                                                                                                                                                                                               | NA  | GPL-3                       | NA | NA | NA | NA | no  | 3.6.3 |\n",
       "| brew | brew       | /opt/conda/lib/R/library | 1.0-6   | NA          | NA                                                  | NA                                                                                                                                                 | NA | NA                                                                                                                                                                                                                                                                                                                                                                                                                                                                                                                                                                                                                                                                                                                                                                      | NA  | GPL-2                       | NA | NA | NA | NA | NA  | 3.6.3 |\n",
       "| brio | brio       | /opt/conda/lib/R/library | 1.1.2   | NA          | NA                                                  | NA                                                                                                                                                 | NA | testthat (&gt;= 2.1.0), covr                                                                                                                                                                                                                                                                                                                                                                                                                                                                                                                                                                                                                                                                                                                                               | NA  | MIT + file LICENSE          | NA | NA | NA | NA | yes | 3.6.3 |\n",
       "| broom | broom      | /opt/conda/lib/R/library | 0.7.6   | NA          | R (&gt;= 3.1)                                          | backports, dplyr (&gt;= 1.0.0), ellipsis, generics (&gt;= 0.0.2),\n",
       "glue, methods, purrr, rlang, stringr, tibble (&gt;= 3.0.0), tidyr\n",
       "(&gt;= 1.0.0)            | NA | AER, akima, AUC, bbmle, betareg, biglm, binGroup, boot,\n",
       "btergm, car, caret, cluster, cmprsk, coda, covr, drc, e1071,\n",
       "emmeans, epiR, ergm (&gt;= 3.10.4), fixest (&gt;= 0.8.1), gam (&gt;=\n",
       "1.15), gee, geepack, ggplot2, glmnet, glmnetUtils, gmm, Hmisc,\n",
       "irlba, joineRML, Kendall, knitr, ks, Lahman, lavaan, leaps,\n",
       "lfe, lm.beta, lme4, lmodel2, lmtest (&gt;= 0.9.38), lsmeans, maps,\n",
       "maptools, margins, MASS, Matrix, mclust, mediation, metafor,\n",
       "mfx, mgcv, mlogit, modeldata, modeltests, muhaz, multcomp,\n",
       "network, nnet, orcutt (&gt;= 2.2), ordinal, plm, poLCA, psych,\n",
       "quantreg, Rchoice, rgeos, rmarkdown, robust, robustbase,\n",
       "rsample, sandwich, sp, spdep, spatialreg, speedglm, spelling,\n",
       "survey, survival, systemfit, testthat (&gt;= 2.1.0), tseries,\n",
       "vars, zoo | NA  | MIT + file LICENSE          | NA | NA | NA | NA | no  | 3.6.3 |\n",
       "| bslib | bslib      | /opt/conda/lib/R/library | 0.2.5.1 | NA          | R (&gt;= 2.10)                                         | grDevices, htmltools (&gt;= 0.5.1), jsonlite, sass (&gt;= 0.4.0),\n",
       "jquerylib (&gt;= 0.1.3), rlang, magrittr                                                 | NA | shiny (&gt;= 1.6.0), rmarkdown (&gt;= 2.7), thematic, knitr,\n",
       "testthat, withr, rappdirs, curl                                                                                                                                                                                                                                                                                                                                                                                                                                                                                                                                                                                                                                                                                 | NA  | MIT + file LICENSE          | NA | NA | NA | NA | no  | 3.6.3 |\n",
       "| cachem | cachem     | /opt/conda/lib/R/library | 1.0.5   | NA          | NA                                                  | rlang, fastmap                                                                                                                                     | NA | testthat                                                                                                                                                                                                                                                                                                                                                                                                                                                                                                                                                                                                                                                                                                                                                                | NA  | MIT + file LICENSE          | NA | NA | NA | NA | yes | 3.6.3 |\n",
       "| callr | callr      | /opt/conda/lib/R/library | 3.7.0   | NA          | NA                                                  | processx (&gt;= 3.5.0), R6, utils                                                                                                                     | NA | cli, covr, ps, rprojroot, spelling, testthat, withr (&gt;=\n",
       "2.3.0)                                                                                                                                                                                                                                                                                                                                                                                                                                                                                                                                                                                                                                                                                                         | NA  | MIT + file LICENSE          | NA | NA | NA | NA | no  | 3.6.3 |\n",
       "| caret | caret      | /opt/conda/lib/R/library | 6.0-88  | NA          | R (&gt;= 3.2.0), lattice (&gt;= 0.20), ggplot2            | foreach, methods, plyr, ModelMetrics (&gt;= 1.2.2.2), nlme,\n",
       "reshape2, stats, stats4, utils, grDevices, recipes (&gt;= 0.1.10),\n",
       "withr (&gt;= 2.0.0), pROC, | NA | BradleyTerry2, e1071, earth (&gt;= 2.2-3), fastICA, gam (&gt;=\n",
       "1.15), ipred, kernlab, knitr, klaR, MASS, ellipse, Matrix, mda,\n",
       "mgcv, mlbench, MLmetrics, nnet, party (&gt;= 0.9-99992), pls,\n",
       "proxy, randomForest, RANN, rmarkdown, spls, subselect, pamr,\n",
       "superpc, Cubist, testthat (&gt;= 0.9.1), rpart, dplyr, covr                                                                                                                                                                                                                                                                                                                                                                                                                                                           | NA  | GPL (&gt;= 2)                  | NA | NA | NA | NA | yes | 3.6.3 |\n",
       "| cellranger | cellranger | /opt/conda/lib/R/library | 1.1.0   | NA          | R (&gt;= 3.0.0)                                        | rematch, tibble                                                                                                                                    | NA | covr, testthat (&gt;= 1.0.0), knitr, rmarkdown                                                                                                                                                                                                                                                                                                                                                                                                                                                                                                                                                                                                                                                                                                                             | NA  | MIT + file LICENSE          | NA | NA | NA | NA | no  | 3.6.3 |\n",
       "| class | class      | /opt/conda/lib/R/library | 7.3-19  | recommended | R (&gt;= 3.0.0), stats, utils                          | MASS                                                                                                                                               | NA | NA                                                                                                                                                                                                                                                                                                                                                                                                                                                                                                                                                                                                                                                                                                                                                                      | NA  | GPL-2 | GPL-3               | NA | NA | NA | NA | yes | 3.6.3 |\n",
       "| cli | cli        | /opt/conda/lib/R/library | 2.5.0   | NA          | R (&gt;= 2.10)                                         | glue, utils                                                                                                                                        | NA | callr, covr, grDevices, htmlwidgets, knitr, methods, mockery,\n",
       "ps (&gt;= 1.3.4.9000), rmarkdown, rstudioapi, prettycode (&gt;=\n",
       "1.1.0), testthat, tibble, withr                                                                                                                                                                                                                                                                                                                                                                                                                                                                                                                                                                                                               | NA  | MIT + file LICENSE          | NA | NA | NA | NA | no  | 3.6.3 |\n",
       "| clipr | clipr      | /opt/conda/lib/R/library | 0.7.1   | NA          | NA                                                  | utils                                                                                                                                              | NA | covr, knitr, rmarkdown, rstudioapi (&gt;= 0.5), testthat (&gt;=\n",
       "2.0.0)                                                                                                                                                                                                                                                                                                                                                                                                                                                                                                                                                                                                                                                                                                       | NA  | GPL-3                       | NA | NA | NA | NA | no  | 3.6.3 |\n",
       "| codetools | codetools  | /opt/conda/lib/R/library | 0.2-18  | recommended | R (&gt;= 2.1)                                          | NA                                                                                                                                                 | NA | NA                                                                                                                                                                                                                                                                                                                                                                                                                                                                                                                                                                                                                                                                                                                                                                      | NA  | GPL                         | NA | NA | NA | NA | no  | 3.6.3 |\n",
       "| colorspace | colorspace | /opt/conda/lib/R/library | 2.0-1   | NA          | R (&gt;= 3.0.0), methods                               | graphics, grDevices, stats                                                                                                                         | NA | datasets, utils, KernSmooth, MASS, kernlab, mvtnorm, vcd,\n",
       "tcltk, shiny, shinyjs, ggplot2, dplyr, scales, grid, png, jpeg,\n",
       "knitr, rmarkdown, RColorBrewer, rcartocolor, scico, viridis,\n",
       "wesanderson                                                                                                                                                                                                                                                                                                                                                                                                                                                                                                                                                                   | NA  | BSD_3_clause + file LICENSE | NA | NA | NA | NA | yes | 3.6.3 |\n",
       "| commonmark | commonmark | /opt/conda/lib/R/library | 1.7     | NA          | NA                                                  | NA                                                                                                                                                 | NA | curl, testthat, xml2                                                                                                                                                                                                                                                                                                                                                                                                                                                                                                                                                                                                                                                                                                                                                    | NA  | BSD_2_clause + file LICENSE | NA | NA | NA | NA | yes | 3.6.3 |\n",
       "| compiler | compiler   | /opt/conda/lib/R/library | 3.6.3   | base        | NA                                                  | NA                                                                                                                                                 | NA | NA                                                                                                                                                                                                                                                                                                                                                                                                                                                                                                                                                                                                                                                                                                                                                                      | NA  | Part of R 3.6.3             | NA | NA | NA | NA | NA  | 3.6.3 |\n",
       "| cpp11 | cpp11      | /opt/conda/lib/R/library | 0.2.7   | NA          | NA                                                  | NA                                                                                                                                                 | NA | bench, brio, callr, cli, covr, decor, desc, ggplot2, glue,\n",
       "knitr, lobstr, mockery, progress, rmarkdown, scales, testthat,\n",
       "tibble, utils, vctrs, withr                                                                                                                                                                                                                                                                                                                                                                                                                                                                                                                                                                                                                 | NA  | MIT + file LICENSE          | NA | NA | NA | NA | no  | 3.6.3 |\n",
       "| crayon | crayon     | /opt/conda/lib/R/library | 1.4.1   | NA          | NA                                                  | grDevices, methods, utils                                                                                                                          | NA | mockery, rstudioapi, testthat, withr                                                                                                                                                                                                                                                                                                                                                                                                                                                                                                                                                                                                                                                                                                                                    | NA  | MIT + file LICENSE          | NA | NA | NA | NA | no  | 3.6.3 |\n",
       "| curl | curl       | /opt/conda/lib/R/library | 4.3.1   | NA          | R (&gt;= 3.0.0)                                        | NA                                                                                                                                                 | NA | spelling, testthat (&gt;= 1.0.0), knitr, jsonlite, rmarkdown,\n",
       "magrittr, httpuv (&gt;= 1.4.4), webutils                                                                                                                                                                                                                                                                                                                                                                                                                                                                                                                                                                                                                                                                       | NA  | MIT + file LICENSE          | NA | NA | NA | NA | yes | 3.6.3 |\n",
       "| data.table | data.table | /opt/conda/lib/R/library | 1.14.0  | NA          | R (&gt;= 3.1.0)                                        | methods                                                                                                                                            | NA | bit64 (&gt;= 4.0.0), bit (&gt;= 4.0.4), curl, R.utils, xts,\n",
       "nanotime, zoo (&gt;= 1.8-1), yaml, knitr, rmarkdown                                                                                                                                                                                                                                                                                                                                                                                                                                                                                                                                                                                                                                                                 | NA  | MPL-2.0 | file LICENSE      | NA | NA | NA | NA | yes | 3.6.3 |\n",
       "| datasets | datasets   | /opt/conda/lib/R/library | 3.6.3   | base        | NA                                                  | NA                                                                                                                                                 | NA | NA                                                                                                                                                                                                                                                                                                                                                                                                                                                                                                                                                                                                                                                                                                                                                                      | NA  | Part of R 3.6.3             | NA | NA | NA | NA | NA  | 3.6.3 |\n",
       "| DBI | DBI        | /opt/conda/lib/R/library | 1.1.1   | NA          | methods, R (&gt;= 3.0.0)                               | NA                                                                                                                                                 | NA | blob, covr, dbplyr, dplyr, glue, hms, knitr, magrittr,\n",
       "rmarkdown, rprojroot, RMariaDB, RSQLite (&gt;= 1.1-2), testthat,\n",
       "xml2                                                                                                                                                                                                                                                                                                                                                                                                                                                                                                                                                                                                                                             | NA  | LGPL (&gt;= 2.1)               | NA | NA | NA | NA | no  | 3.6.3 |\n",
       "| ⋮ | ⋮ | ⋮ | ⋮ | ⋮ | ⋮ | ⋮ | ⋮ | ⋮ | ⋮ | ⋮ | ⋮ | ⋮ | ⋮ | ⋮ | ⋮ | ⋮ |\n",
       "| survival | survival    | /opt/conda/lib/R/library | 3.2-11   | recommended | R (&gt;= 3.5.0)                                   | graphics, Matrix, methods, splines, stats, utils                                                                                                                                                                                                                                                                                                                                                                                                                                                                                                                                        | NA               | NA                                                                                                                                                                                                                 | NA       | LGPL (&gt;= 2)                            | NA | NA | NA | NA | yes | 3.6.3 |\n",
       "| sys | sys         | /opt/conda/lib/R/library | 3.4      | NA          | NA                                             | NA                                                                                                                                                                                                                                                                                                                                                                                                                                                                                                                                                                                      | NA               | unix (&gt;= 1.4), spelling, testthat                                                                                                                                                                                  | NA       | MIT + file LICENSE                     | NA | NA | NA | NA | yes | 3.6.3 |\n",
       "| tcltk | tcltk       | /opt/conda/lib/R/library | 3.6.3    | base        | NA                                             | utils                                                                                                                                                                                                                                                                                                                                                                                                                                                                                                                                                                                   | NA               | NA                                                                                                                                                                                                                 | NA       | Part of R 3.6.3                        | NA | NA | NA | NA | yes | 3.6.3 |\n",
       "| testthat | testthat    | /opt/conda/lib/R/library | 3.0.2    | NA          | R (&gt;= 3.1)                                     | brio, callr (&gt;= 3.5.1), cli (&gt;= 2.2.0), crayon (&gt;= 1.3.4),\n",
       "desc, digest, ellipsis (&gt;= 0.2.0), evaluate, jsonlite,\n",
       "lifecycle, magrittr, methods, pkgload, praise, processx, ps (&gt;=\n",
       "1.3.4), R6 (&gt;= 2.2.0), rlang (&gt;= 0.4.9), utils, waldo (&gt;=\n",
       "0.2.4), withr (&gt;= 2.3.0)                                                                                                                                                                                                                                                                                                                | NA               | covr, curl (&gt;= 0.9.5), diffviewer (&gt;= 0.1.0), knitr, mockery,\n",
       "rmarkdown, rstudioapi, shiny, usethis, vctrs (&gt;= 0.1.0), xml2                                                                                       | NA       | MIT + file LICENSE                     | NA | NA | NA | NA | yes | 3.6.3 |\n",
       "| tibble | tibble      | /opt/conda/lib/R/library | 3.1.2    | NA          | R (&gt;= 3.1.0)                                   | ellipsis (&gt;= 0.3.2), fansi (&gt;= 0.4.0), lifecycle (&gt;= 0.2.0),\n",
       "magrittr, methods, pillar (&gt;= 1.6.0), pkgconfig, rlang (&gt;=\n",
       "0.4.3), utils, vctrs (&gt;= 0.3.8)                                                                                                                                                                                                                                                                                                                                                                                                                               | NA               | bench, bit64, blob, cli, covr, crayon (&gt;= 1.3.4), DiagrammeR,\n",
       "dplyr, evaluate, formattable, ggplot2, hms, htmltools, knitr,\n",
       "lubridate, mockr, nycflights13, purrr, rmarkdown, testthat (&gt;=\n",
       "3.0.2), tidyr, withr | NA       | MIT + file LICENSE                     | NA | NA | NA | NA | yes | 3.6.3 |\n",
       "| tidyr | tidyr       | /opt/conda/lib/R/library | 1.1.3    | NA          | R (&gt;= 3.1)                                     | dplyr (&gt;= 0.8.2), ellipsis (&gt;= 0.1.0), glue, lifecycle,\n",
       "magrittr, purrr, rlang, tibble (&gt;= 2.1.1), tidyselect (&gt;=\n",
       "1.1.0), utils, vctrs (&gt;= 0.3.6)                                                                                                                                                                                                                                                                                                                                                                                                                                     | cpp11 (&gt;= 0.2.6) | covr, data.table, jsonlite, knitr, readr, repurrrsive (&gt;=\n",
       "1.0.0), rmarkdown, testthat (&gt;= 3.0.0)                                                                                                                  | NA       | MIT + file LICENSE                     | NA | NA | NA | NA | yes | 3.6.3 |\n",
       "| tidyselect | tidyselect  | /opt/conda/lib/R/library | 1.1.1    | NA          | R (&gt;= 3.2)                                     | ellipsis, glue (&gt;= 1.3.0), purrr (&gt;= 0.3.2), rlang (&gt;= 0.4.6),\n",
       "vctrs (&gt;= 0.3.0)                                                                                                                                                                                                                                                                                                                                                                                                                                                                                                        | NA               | covr, crayon, dplyr, knitr, magrittr, rmarkdown, testthat (&gt;=\n",
       "2.3.0), tibble (&gt;= 2.1.3), withr                                                                                                                    | NA       | MIT + file LICENSE                     | NA | NA | NA | NA | yes | 3.6.3 |\n",
       "| tidyverse | tidyverse   | /opt/conda/lib/R/library | 1.3.1    | NA          | R (&gt;= 3.3)                                     | broom (&gt;= 0.7.6), cli (&gt;= 2.4.0), crayon (&gt;= 1.4.1), dbplyr\n",
       "(&gt;= 2.1.1), dplyr (&gt;= 1.0.5), dtplyr (&gt;= 1.1.0), forcats (&gt;=\n",
       "0.5.1), googledrive (&gt;= 1.0.1), googlesheets4 (&gt;= 0.3.0),\n",
       "ggplot2 (&gt;= 3.3.3), haven (&gt;= 2.3.1), hms (&gt;= 1.0.0), httr (&gt;=\n",
       "1.4.2), jsonlite (&gt;= 1.7.2), lubridate (&gt;= 1.7.10), magrittr\n",
       "(&gt;= 2.0.1), modelr (&gt;= 0.1.8), pillar (&gt;= 1.6.0), purrr (&gt;=\n",
       "0.3.4), readr (&gt;= 1.4.0), readxl (&gt;= 1.3.1), reprex (&gt;= 2.0.0),\n",
       "rlang (&gt;= 0.4.10), rstudioapi (&gt;= 0.13), rvest (&gt;= 1.0.0),\n",
       "stringr (&gt;= 1.4.0), tibble (&gt;= 3.1.0), tidyr (&gt;= 1.1.3), xml2\n",
       "(&gt;= 1.3.2) | NA               | covr, feather, glue, knitr, rmarkdown, testthat                                                                                                                                                                    | NA       | MIT + file LICENSE                     | NA | NA | NA | NA | no  | 3.6.3 |\n",
       "| timeDate | timeDate    | /opt/conda/lib/R/library | 3043.102 | NA          | R (&gt;= 2.15.1), graphics, utils, stats, methods | NA                                                                                                                                                                                                                                                                                                                                                                                                                                                                                                                                                                                      | NA               | date, RUnit                                                                                                                                                                                                        | NA       | GPL (&gt;= 2)                             | NA | NA | NA | NA | no  | 3.6.3 |\n",
       "| tinytex | tinytex     | /opt/conda/lib/R/library | 0.31     | NA          | NA                                             | xfun (&gt;= 0.19)                                                                                                                                                                                                                                                                                                                                                                                                                                                                                                                                                                          | NA               | testit, rstudioapi                                                                                                                                                                                                 | NA       | MIT + file LICENSE                     | NA | NA | NA | NA | no  | 3.6.3 |\n",
       "| tools | tools       | /opt/conda/lib/R/library | 3.6.3    | base        | NA                                             | NA                                                                                                                                                                                                                                                                                                                                                                                                                                                                                                                                                                                      | NA               | codetools, methods, xml2, curl, commonmark                                                                                                                                                                         | NA       | Part of R 3.6.3                        | NA | NA | NA | NA | yes | 3.6.3 |\n",
       "| tseries | tseries     | /opt/conda/lib/R/library | 0.10-48  | NA          | R (&gt;= 2.10.0)                                  | graphics, stats, utils, quadprog, zoo, quantmod (&gt;= 0.4-9)                                                                                                                                                                                                                                                                                                                                                                                                                                                                                                                              | NA               | NA                                                                                                                                                                                                                 | NA       | GPL-2                                  | NA | NA | NA | NA | yes | 3.6.3 |\n",
       "| TTR | TTR         | /opt/conda/lib/R/library | 0.24.2   | NA          | NA                                             | xts (&gt;= 0.10-0), zoo, curl                                                                                                                                                                                                                                                                                                                                                                                                                                                                                                                                                              | xts              | RUnit                                                                                                                                                                                                              | quantmod | GPL (&gt;= 2)                             | NA | NA | NA | NA | yes | 3.6.3 |\n",
       "| urca | urca        | /opt/conda/lib/R/library | 1.3-0    | NA          | R (&gt;= 2.0.0), methods                          | nlme, graphics, stats                                                                                                                                                                                                                                                                                                                                                                                                                                                                                                                                                                   | NA               | NA                                                                                                                                                                                                                 | NA       | GPL (&gt;= 2)                             | NA | NA | NA | NA | yes | 3.6.3 |\n",
       "| usethis | usethis     | /opt/conda/lib/R/library | 1.6.3    | NA          | R (&gt;= 3.2)                                     | clipr (&gt;= 0.3.0), cli, crayon, curl (&gt;= 2.7), desc, fs (&gt;=\n",
       "1.3.0), gh (&gt;= 1.1.0), git2r (&gt;= 0.23), glue (&gt;= 1.3.0), purrr,\n",
       "rematch2, rlang (&gt;= 0.4.3), rprojroot (&gt;= 1.2), rstudioapi,\n",
       "stats, utils, whisker, withr, yaml                                                                                                                                                                                                                                                                                                                                                            | NA               | covr, knitr, magick, pkgdown (&gt;= 1.4.0), rmarkdown, roxygen2,\n",
       "spelling (&gt;= 1.2), styler (&gt;= 1.2.0), testthat (&gt;= 2.1.0)                                                                                           | NA       | GPL-3                                  | NA | NA | NA | NA | no  | 3.6.3 |\n",
       "| utf8 | utf8        | /opt/conda/lib/R/library | 1.2.1    | NA          | R (&gt;= 2.10)                                    | NA                                                                                                                                                                                                                                                                                                                                                                                                                                                                                                                                                                                      | NA               | covr, knitr, rlang, rmarkdown, testthat (&gt;= 3.0.0)                                                                                                                                                                 | NA       | Apache License (== 2.0) | file LICENSE | NA | NA | NA | NA | yes | 3.6.3 |\n",
       "| utils | utils       | /opt/conda/lib/R/library | 3.6.3    | base        | NA                                             | NA                                                                                                                                                                                                                                                                                                                                                                                                                                                                                                                                                                                      | NA               | methods, xml2, commonmark                                                                                                                                                                                          | NA       | Part of R 3.6.3                        | NA | NA | NA | NA | yes | 3.6.3 |\n",
       "| uuid | uuid        | /opt/conda/lib/R/library | 0.1-4    | NA          | R (&gt;= 2.9.0)                                   | NA                                                                                                                                                                                                                                                                                                                                                                                                                                                                                                                                                                                      | NA               | NA                                                                                                                                                                                                                 | NA       | MIT + file LICENSE                     | NA | NA | NA | NA | yes | 3.6.3 |\n",
       "| vctrs | vctrs       | /opt/conda/lib/R/library | 0.3.8    | NA          | R (&gt;= 3.3)                                     | ellipsis (&gt;= 0.2.0), glue, rlang (&gt;= 0.4.10)                                                                                                                                                                                                                                                                                                                                                                                                                                                                                                                                            | NA               | bit64, covr, crayon, dplyr (&gt;= 0.8.5), generics, knitr,\n",
       "pillar (&gt;= 1.4.4), pkgdown, rmarkdown, testthat (&gt;= 2.3.0),\n",
       "tibble, withr, xml2, waldo (&gt;= 0.2.0), zeallot                                               | NA       | MIT + file LICENSE                     | NA | NA | NA | NA | yes | 3.6.3 |\n",
       "| viridisLite | viridisLite | /opt/conda/lib/R/library | 0.4.0    | NA          | R (&gt;= 2.10)                                    | NA                                                                                                                                                                                                                                                                                                                                                                                                                                                                                                                                                                                      | NA               | hexbin (&gt;= 1.27.0), ggplot2 (&gt;= 1.0.1), testthat, covr                                                                                                                                                             | NA       | MIT + file LICENSE                     | NA | NA | NA | NA | no  | 3.6.3 |\n",
       "| waldo | waldo       | /opt/conda/lib/R/library | 0.2.5    | NA          | NA                                             | cli, diffobj, fansi, glue, methods, rematch2, rlang (&gt;=\n",
       "0.4.10), tibble                                                                                                                                                                                                                                                                                                                                                                                                                                                                                                                | NA               | testthat (&gt;= 3.0.0), covr, R6                                                                                                                                                                                      | NA       | MIT + file LICENSE                     | NA | NA | NA | NA | no  | 3.6.3 |\n",
       "| whisker | whisker     | /opt/conda/lib/R/library | 0.4      | NA          | NA                                             | NA                                                                                                                                                                                                                                                                                                                                                                                                                                                                                                                                                                                      | NA               | markdown                                                                                                                                                                                                           | NA       | GPL-3                                  | NA | NA | NA | NA | no  | 3.6.3 |\n",
       "| withr | withr       | /opt/conda/lib/R/library | 2.4.2    | NA          | R (&gt;= 3.2.0)                                   | graphics, grDevices, stats                                                                                                                                                                                                                                                                                                                                                                                                                                                                                                                                                              | NA               | covr, DBI, knitr, lattice, methods, rmarkdown, RSQLite,\n",
       "testthat (&gt;= 2.1.0)                                                                                                                                       | NA       | MIT + file LICENSE                     | NA | NA | NA | NA | no  | 3.6.3 |\n",
       "| xfun | xfun        | /opt/conda/lib/R/library | 0.23     | NA          | NA                                             | stats, tools                                                                                                                                                                                                                                                                                                                                                                                                                                                                                                                                                                            | NA               | testit, parallel, codetools, rstudioapi, tinytex (&gt;= 0.30),\n",
       "mime, markdown, knitr, htmltools, remotes, pak, renv, curl,\n",
       "jsonlite, rmarkdown                                                                      | NA       | MIT + file LICENSE                     | NA | NA | NA | NA | yes | 3.6.3 |\n",
       "| xml2 | xml2        | /opt/conda/lib/R/library | 1.3.2    | NA          | R (&gt;= 3.1.0)                                   | methods                                                                                                                                                                                                                                                                                                                                                                                                                                                                                                                                                                                 | NA               | covr, curl, httr, knitr, magrittr, mockery, rmarkdown,\n",
       "testthat (&gt;= 2.1.0)                                                                                                                                        | NA       | GPL (&gt;= 2)                             | NA | NA | NA | NA | yes | 3.6.3 |\n",
       "| xopen | xopen       | /opt/conda/lib/R/library | 1.0.0    | NA          | R (&gt;= 3.1)                                     | processx                                                                                                                                                                                                                                                                                                                                                                                                                                                                                                                                                                                | NA               | ps, testthat                                                                                                                                                                                                       | NA       | MIT + file LICENSE                     | NA | NA | NA | NA | no  | 3.6.3 |\n",
       "| xtable | xtable      | /opt/conda/lib/R/library | 1.8-4    | NA          | R (&gt;= 2.10.0)                                  | stats, utils                                                                                                                                                                                                                                                                                                                                                                                                                                                                                                                                                                            | NA               | knitr, plm, zoo, survival                                                                                                                                                                                          | NA       | GPL (&gt;= 2)                             | NA | NA | NA | NA | no  | 3.6.3 |\n",
       "| xts | xts         | /opt/conda/lib/R/library | 0.12.1   | NA          | zoo (&gt;= 1.7-12)                                | methods                                                                                                                                                                                                                                                                                                                                                                                                                                                                                                                                                                                 | zoo              | timeSeries, timeDate, tseries, chron, fts, tis, RUnit                                                                                                                                                              | NA       | GPL (&gt;= 2)                             | NA | NA | NA | NA | yes | 3.6.3 |\n",
       "| yaml | yaml        | /opt/conda/lib/R/library | 2.2.1    | NA          | NA                                             | NA                                                                                                                                                                                                                                                                                                                                                                                                                                                                                                                                                                                      | NA               | RUnit                                                                                                                                                                                                              | NA       | BSD_3_clause + file LICENSE            | NA | NA | NA | NA | yes | 3.6.3 |\n",
       "| zoo | zoo         | /opt/conda/lib/R/library | 1.8-9    | NA          | R (&gt;= 3.1.0), stats                            | utils, graphics, grDevices, lattice (&gt;= 0.20-27)                                                                                                                                                                                                                                                                                                                                                                                                                                                                                                                                        | NA               | AER, coda, chron, fts, ggplot2 (&gt;= 3.0.0), mondate, scales,\n",
       "stinepack, strucchange, timeDate, timeSeries, tis, tseries, xts                                                                                       | NA       | GPL-2 | GPL-3                          | NA | NA | NA | NA | yes | 3.6.3 |\n",
       "\n"
      ],
      "text/plain": [
       "            Package     LibPath                  Version  Priority   \n",
       "askpass     askpass     /opt/conda/lib/R/library 1.1      NA         \n",
       "assertthat  assertthat  /opt/conda/lib/R/library 0.2.1    NA         \n",
       "backports   backports   /opt/conda/lib/R/library 1.2.1    NA         \n",
       "base        base        /opt/conda/lib/R/library 3.6.3    base       \n",
       "base64enc   base64enc   /opt/conda/lib/R/library 0.1-3    NA         \n",
       "bit         bit         /opt/conda/lib/R/library 4.0.4    NA         \n",
       "bit64       bit64       /opt/conda/lib/R/library 4.0.5    NA         \n",
       "bitops      bitops      /opt/conda/lib/R/library 1.0-7    NA         \n",
       "blob        blob        /opt/conda/lib/R/library 1.2.1    NA         \n",
       "brew        brew        /opt/conda/lib/R/library 1.0-6    NA         \n",
       "brio        brio        /opt/conda/lib/R/library 1.1.2    NA         \n",
       "broom       broom       /opt/conda/lib/R/library 0.7.6    NA         \n",
       "bslib       bslib       /opt/conda/lib/R/library 0.2.5.1  NA         \n",
       "cachem      cachem      /opt/conda/lib/R/library 1.0.5    NA         \n",
       "callr       callr       /opt/conda/lib/R/library 3.7.0    NA         \n",
       "caret       caret       /opt/conda/lib/R/library 6.0-88   NA         \n",
       "cellranger  cellranger  /opt/conda/lib/R/library 1.1.0    NA         \n",
       "class       class       /opt/conda/lib/R/library 7.3-19   recommended\n",
       "cli         cli         /opt/conda/lib/R/library 2.5.0    NA         \n",
       "clipr       clipr       /opt/conda/lib/R/library 0.7.1    NA         \n",
       "codetools   codetools   /opt/conda/lib/R/library 0.2-18   recommended\n",
       "colorspace  colorspace  /opt/conda/lib/R/library 2.0-1    NA         \n",
       "commonmark  commonmark  /opt/conda/lib/R/library 1.7      NA         \n",
       "compiler    compiler    /opt/conda/lib/R/library 3.6.3    base       \n",
       "cpp11       cpp11       /opt/conda/lib/R/library 0.2.7    NA         \n",
       "crayon      crayon      /opt/conda/lib/R/library 1.4.1    NA         \n",
       "curl        curl        /opt/conda/lib/R/library 4.3.1    NA         \n",
       "data.table  data.table  /opt/conda/lib/R/library 1.14.0   NA         \n",
       "datasets    datasets    /opt/conda/lib/R/library 3.6.3    base       \n",
       "DBI         DBI         /opt/conda/lib/R/library 1.1.1    NA         \n",
       "⋮           ⋮           ⋮                        ⋮        ⋮          \n",
       "survival    survival    /opt/conda/lib/R/library 3.2-11   recommended\n",
       "sys         sys         /opt/conda/lib/R/library 3.4      NA         \n",
       "tcltk       tcltk       /opt/conda/lib/R/library 3.6.3    base       \n",
       "testthat    testthat    /opt/conda/lib/R/library 3.0.2    NA         \n",
       "tibble      tibble      /opt/conda/lib/R/library 3.1.2    NA         \n",
       "tidyr       tidyr       /opt/conda/lib/R/library 1.1.3    NA         \n",
       "tidyselect  tidyselect  /opt/conda/lib/R/library 1.1.1    NA         \n",
       "tidyverse   tidyverse   /opt/conda/lib/R/library 1.3.1    NA         \n",
       "timeDate    timeDate    /opt/conda/lib/R/library 3043.102 NA         \n",
       "tinytex     tinytex     /opt/conda/lib/R/library 0.31     NA         \n",
       "tools       tools       /opt/conda/lib/R/library 3.6.3    base       \n",
       "tseries     tseries     /opt/conda/lib/R/library 0.10-48  NA         \n",
       "TTR         TTR         /opt/conda/lib/R/library 0.24.2   NA         \n",
       "urca        urca        /opt/conda/lib/R/library 1.3-0    NA         \n",
       "usethis     usethis     /opt/conda/lib/R/library 1.6.3    NA         \n",
       "utf8        utf8        /opt/conda/lib/R/library 1.2.1    NA         \n",
       "utils       utils       /opt/conda/lib/R/library 3.6.3    base       \n",
       "uuid        uuid        /opt/conda/lib/R/library 0.1-4    NA         \n",
       "vctrs       vctrs       /opt/conda/lib/R/library 0.3.8    NA         \n",
       "viridisLite viridisLite /opt/conda/lib/R/library 0.4.0    NA         \n",
       "waldo       waldo       /opt/conda/lib/R/library 0.2.5    NA         \n",
       "whisker     whisker     /opt/conda/lib/R/library 0.4      NA         \n",
       "withr       withr       /opt/conda/lib/R/library 2.4.2    NA         \n",
       "xfun        xfun        /opt/conda/lib/R/library 0.23     NA         \n",
       "xml2        xml2        /opt/conda/lib/R/library 1.3.2    NA         \n",
       "xopen       xopen       /opt/conda/lib/R/library 1.0.0    NA         \n",
       "xtable      xtable      /opt/conda/lib/R/library 1.8-4    NA         \n",
       "xts         xts         /opt/conda/lib/R/library 0.12.1   NA         \n",
       "yaml        yaml        /opt/conda/lib/R/library 2.2.1    NA         \n",
       "zoo         zoo         /opt/conda/lib/R/library 1.8-9    NA         \n",
       "            Depends                                            \n",
       "askpass     NA                                                 \n",
       "assertthat  NA                                                 \n",
       "backports   R (>= 3.0.0)                                       \n",
       "base        NA                                                 \n",
       "base64enc   R (>= 2.9.0)                                       \n",
       "bit         R (>= 2.9.2)                                       \n",
       "bit64       R (>= 3.0.1), bit (>= 4.0.0), utils, methods, stats\n",
       "bitops      NA                                                 \n",
       "blob        NA                                                 \n",
       "brew        NA                                                 \n",
       "brio        NA                                                 \n",
       "broom       R (>= 3.1)                                         \n",
       "bslib       R (>= 2.10)                                        \n",
       "cachem      NA                                                 \n",
       "callr       NA                                                 \n",
       "caret       R (>= 3.2.0), lattice (>= 0.20), ggplot2           \n",
       "cellranger  R (>= 3.0.0)                                       \n",
       "class       R (>= 3.0.0), stats, utils                         \n",
       "cli         R (>= 2.10)                                        \n",
       "clipr       NA                                                 \n",
       "codetools   R (>= 2.1)                                         \n",
       "colorspace  R (>= 3.0.0), methods                              \n",
       "commonmark  NA                                                 \n",
       "compiler    NA                                                 \n",
       "cpp11       NA                                                 \n",
       "crayon      NA                                                 \n",
       "curl        R (>= 3.0.0)                                       \n",
       "data.table  R (>= 3.1.0)                                       \n",
       "datasets    NA                                                 \n",
       "DBI         methods, R (>= 3.0.0)                              \n",
       "⋮           ⋮                                                  \n",
       "survival    R (>= 3.5.0)                                       \n",
       "sys         NA                                                 \n",
       "tcltk       NA                                                 \n",
       "testthat    R (>= 3.1)                                         \n",
       "tibble      R (>= 3.1.0)                                       \n",
       "tidyr       R (>= 3.1)                                         \n",
       "tidyselect  R (>= 3.2)                                         \n",
       "tidyverse   R (>= 3.3)                                         \n",
       "timeDate    R (>= 2.15.1), graphics, utils, stats, methods     \n",
       "tinytex     NA                                                 \n",
       "tools       NA                                                 \n",
       "tseries     R (>= 2.10.0)                                      \n",
       "TTR         NA                                                 \n",
       "urca        R (>= 2.0.0), methods                              \n",
       "usethis     R (>= 3.2)                                         \n",
       "utf8        R (>= 2.10)                                        \n",
       "utils       NA                                                 \n",
       "uuid        R (>= 2.9.0)                                       \n",
       "vctrs       R (>= 3.3)                                         \n",
       "viridisLite R (>= 2.10)                                        \n",
       "waldo       NA                                                 \n",
       "whisker     NA                                                 \n",
       "withr       R (>= 3.2.0)                                       \n",
       "xfun        NA                                                 \n",
       "xml2        R (>= 3.1.0)                                       \n",
       "xopen       R (>= 3.1)                                         \n",
       "xtable      R (>= 2.10.0)                                      \n",
       "xts         zoo (>= 1.7-12)                                    \n",
       "yaml        NA                                                 \n",
       "zoo         R (>= 3.1.0), stats                                \n",
       "            Imports                                                                                                                                                                                                                                                                                                                                                                                                                                                                                                                                                                                \n",
       "askpass     sys (>= 2.1)                                                                                                                                                                                                                                                                                                                                                                                                                                                                                                                                                                           \n",
       "assertthat  tools                                                                                                                                                                                                                                                                                                                                                                                                                                                                                                                                                                                  \n",
       "backports   NA                                                                                                                                                                                                                                                                                                                                                                                                                                                                                                                                                                                     \n",
       "base        NA                                                                                                                                                                                                                                                                                                                                                                                                                                                                                                                                                                                     \n",
       "base64enc   NA                                                                                                                                                                                                                                                                                                                                                                                                                                                                                                                                                                                     \n",
       "bit         NA                                                                                                                                                                                                                                                                                                                                                                                                                                                                                                                                                                                     \n",
       "bit64       NA                                                                                                                                                                                                                                                                                                                                                                                                                                                                                                                                                                                     \n",
       "bitops      NA                                                                                                                                                                                                                                                                                                                                                                                                                                                                                                                                                                                     \n",
       "blob        methods, rlang, vctrs (>= 0.2.1)                                                                                                                                                                                                                                                                                                                                                                                                                                                                                                                                                       \n",
       "brew        NA                                                                                                                                                                                                                                                                                                                                                                                                                                                                                                                                                                                     \n",
       "brio        NA                                                                                                                                                                                                                                                                                                                                                                                                                                                                                                                                                                                     \n",
       "broom       backports, dplyr (>= 1.0.0), ellipsis, generics (>= 0.0.2),\\nglue, methods, purrr, rlang, stringr, tibble (>= 3.0.0), tidyr\\n(>= 1.0.0)                                                                                                                                                                                                                                                                                                                                                                                                                                                \n",
       "bslib       grDevices, htmltools (>= 0.5.1), jsonlite, sass (>= 0.4.0),\\njquerylib (>= 0.1.3), rlang, magrittr                                                                                                                                                                                                                                                                                                                                                                                                                                                                                     \n",
       "cachem      rlang, fastmap                                                                                                                                                                                                                                                                                                                                                                                                                                                                                                                                                                         \n",
       "callr       processx (>= 3.5.0), R6, utils                                                                                                                                                                                                                                                                                                                                                                                                                                                                                                                                                         \n",
       "caret       foreach, methods, plyr, ModelMetrics (>= 1.2.2.2), nlme,\\nreshape2, stats, stats4, utils, grDevices, recipes (>= 0.1.10),\\nwithr (>= 2.0.0), pROC,                                                                                                                                                                                                                                                                                                                                                                                                                                     \n",
       "cellranger  rematch, tibble                                                                                                                                                                                                                                                                                                                                                                                                                                                                                                                                                                        \n",
       "class       MASS                                                                                                                                                                                                                                                                                                                                                                                                                                                                                                                                                                                   \n",
       "cli         glue, utils                                                                                                                                                                                                                                                                                                                                                                                                                                                                                                                                                                            \n",
       "clipr       utils                                                                                                                                                                                                                                                                                                                                                                                                                                                                                                                                                                                  \n",
       "codetools   NA                                                                                                                                                                                                                                                                                                                                                                                                                                                                                                                                                                                     \n",
       "colorspace  graphics, grDevices, stats                                                                                                                                                                                                                                                                                                                                                                                                                                                                                                                                                             \n",
       "commonmark  NA                                                                                                                                                                                                                                                                                                                                                                                                                                                                                                                                                                                     \n",
       "compiler    NA                                                                                                                                                                                                                                                                                                                                                                                                                                                                                                                                                                                     \n",
       "cpp11       NA                                                                                                                                                                                                                                                                                                                                                                                                                                                                                                                                                                                     \n",
       "crayon      grDevices, methods, utils                                                                                                                                                                                                                                                                                                                                                                                                                                                                                                                                                              \n",
       "curl        NA                                                                                                                                                                                                                                                                                                                                                                                                                                                                                                                                                                                     \n",
       "data.table  methods                                                                                                                                                                                                                                                                                                                                                                                                                                                                                                                                                                                \n",
       "datasets    NA                                                                                                                                                                                                                                                                                                                                                                                                                                                                                                                                                                                     \n",
       "DBI         NA                                                                                                                                                                                                                                                                                                                                                                                                                                                                                                                                                                                     \n",
       "⋮           ⋮                                                                                                                                                                                                                                                                                                                                                                                                                                                                                                                                                                                      \n",
       "survival    graphics, Matrix, methods, splines, stats, utils                                                                                                                                                                                                                                                                                                                                                                                                                                                                                                                                       \n",
       "sys         NA                                                                                                                                                                                                                                                                                                                                                                                                                                                                                                                                                                                     \n",
       "tcltk       utils                                                                                                                                                                                                                                                                                                                                                                                                                                                                                                                                                                                  \n",
       "testthat    brio, callr (>= 3.5.1), cli (>= 2.2.0), crayon (>= 1.3.4),\\ndesc, digest, ellipsis (>= 0.2.0), evaluate, jsonlite,\\nlifecycle, magrittr, methods, pkgload, praise, processx, ps (>=\\n1.3.4), R6 (>= 2.2.0), rlang (>= 0.4.9), utils, waldo (>=\\n0.2.4), withr (>= 2.3.0)                                                                                                                                                                                                                                                                                                               \n",
       "tibble      ellipsis (>= 0.3.2), fansi (>= 0.4.0), lifecycle (>= 0.2.0),\\nmagrittr, methods, pillar (>= 1.6.0), pkgconfig, rlang (>=\\n0.4.3), utils, vctrs (>= 0.3.8)                                                                                                                                                                                                                                                                                                                                                                                                                              \n",
       "tidyr       dplyr (>= 0.8.2), ellipsis (>= 0.1.0), glue, lifecycle,\\nmagrittr, purrr, rlang, tibble (>= 2.1.1), tidyselect (>=\\n1.1.0), utils, vctrs (>= 0.3.6)                                                                                                                                                                                                                                                                                                                                                                                                                                    \n",
       "tidyselect  ellipsis, glue (>= 1.3.0), purrr (>= 0.3.2), rlang (>= 0.4.6),\\nvctrs (>= 0.3.0)                                                                                                                                                                                                                                                                                                                                                                                                                                                                                                       \n",
       "tidyverse   broom (>= 0.7.6), cli (>= 2.4.0), crayon (>= 1.4.1), dbplyr\\n(>= 2.1.1), dplyr (>= 1.0.5), dtplyr (>= 1.1.0), forcats (>=\\n0.5.1), googledrive (>= 1.0.1), googlesheets4 (>= 0.3.0),\\nggplot2 (>= 3.3.3), haven (>= 2.3.1), hms (>= 1.0.0), httr (>=\\n1.4.2), jsonlite (>= 1.7.2), lubridate (>= 1.7.10), magrittr\\n(>= 2.0.1), modelr (>= 0.1.8), pillar (>= 1.6.0), purrr (>=\\n0.3.4), readr (>= 1.4.0), readxl (>= 1.3.1), reprex (>= 2.0.0),\\nrlang (>= 0.4.10), rstudioapi (>= 0.13), rvest (>= 1.0.0),\\nstringr (>= 1.4.0), tibble (>= 3.1.0), tidyr (>= 1.1.3), xml2\\n(>= 1.3.2)\n",
       "timeDate    NA                                                                                                                                                                                                                                                                                                                                                                                                                                                                                                                                                                                     \n",
       "tinytex     xfun (>= 0.19)                                                                                                                                                                                                                                                                                                                                                                                                                                                                                                                                                                         \n",
       "tools       NA                                                                                                                                                                                                                                                                                                                                                                                                                                                                                                                                                                                     \n",
       "tseries     graphics, stats, utils, quadprog, zoo, quantmod (>= 0.4-9)                                                                                                                                                                                                                                                                                                                                                                                                                                                                                                                             \n",
       "TTR         xts (>= 0.10-0), zoo, curl                                                                                                                                                                                                                                                                                                                                                                                                                                                                                                                                                             \n",
       "urca        nlme, graphics, stats                                                                                                                                                                                                                                                                                                                                                                                                                                                                                                                                                                  \n",
       "usethis     clipr (>= 0.3.0), cli, crayon, curl (>= 2.7), desc, fs (>=\\n1.3.0), gh (>= 1.1.0), git2r (>= 0.23), glue (>= 1.3.0), purrr,\\nrematch2, rlang (>= 0.4.3), rprojroot (>= 1.2), rstudioapi,\\nstats, utils, whisker, withr, yaml                                                                                                                                                                                                                                                                                                                                                           \n",
       "utf8        NA                                                                                                                                                                                                                                                                                                                                                                                                                                                                                                                                                                                     \n",
       "utils       NA                                                                                                                                                                                                                                                                                                                                                                                                                                                                                                                                                                                     \n",
       "uuid        NA                                                                                                                                                                                                                                                                                                                                                                                                                                                                                                                                                                                     \n",
       "vctrs       ellipsis (>= 0.2.0), glue, rlang (>= 0.4.10)                                                                                                                                                                                                                                                                                                                                                                                                                                                                                                                                           \n",
       "viridisLite NA                                                                                                                                                                                                                                                                                                                                                                                                                                                                                                                                                                                     \n",
       "waldo       cli, diffobj, fansi, glue, methods, rematch2, rlang (>=\\n0.4.10), tibble                                                                                                                                                                                                                                                                                                                                                                                                                                                                                                               \n",
       "whisker     NA                                                                                                                                                                                                                                                                                                                                                                                                                                                                                                                                                                                     \n",
       "withr       graphics, grDevices, stats                                                                                                                                                                                                                                                                                                                                                                                                                                                                                                                                                             \n",
       "xfun        stats, tools                                                                                                                                                                                                                                                                                                                                                                                                                                                                                                                                                                           \n",
       "xml2        methods                                                                                                                                                                                                                                                                                                                                                                                                                                                                                                                                                                                \n",
       "xopen       processx                                                                                                                                                                                                                                                                                                                                                                                                                                                                                                                                                                               \n",
       "xtable      stats, utils                                                                                                                                                                                                                                                                                                                                                                                                                                                                                                                                                                           \n",
       "xts         methods                                                                                                                                                                                                                                                                                                                                                                                                                                                                                                                                                                                \n",
       "yaml        NA                                                                                                                                                                                                                                                                                                                                                                                                                                                                                                                                                                                     \n",
       "zoo         utils, graphics, grDevices, lattice (>= 0.20-27)                                                                                                                                                                                                                                                                                                                                                                                                                                                                                                                                       \n",
       "            LinkingTo       \n",
       "askpass     NA              \n",
       "assertthat  NA              \n",
       "backports   NA              \n",
       "base        NA              \n",
       "base64enc   NA              \n",
       "bit         NA              \n",
       "bit64       NA              \n",
       "bitops      NA              \n",
       "blob        NA              \n",
       "brew        NA              \n",
       "brio        NA              \n",
       "broom       NA              \n",
       "bslib       NA              \n",
       "cachem      NA              \n",
       "callr       NA              \n",
       "caret       NA              \n",
       "cellranger  NA              \n",
       "class       NA              \n",
       "cli         NA              \n",
       "clipr       NA              \n",
       "codetools   NA              \n",
       "colorspace  NA              \n",
       "commonmark  NA              \n",
       "compiler    NA              \n",
       "cpp11       NA              \n",
       "crayon      NA              \n",
       "curl        NA              \n",
       "data.table  NA              \n",
       "datasets    NA              \n",
       "DBI         NA              \n",
       "⋮           ⋮               \n",
       "survival    NA              \n",
       "sys         NA              \n",
       "tcltk       NA              \n",
       "testthat    NA              \n",
       "tibble      NA              \n",
       "tidyr       cpp11 (>= 0.2.6)\n",
       "tidyselect  NA              \n",
       "tidyverse   NA              \n",
       "timeDate    NA              \n",
       "tinytex     NA              \n",
       "tools       NA              \n",
       "tseries     NA              \n",
       "TTR         xts             \n",
       "urca        NA              \n",
       "usethis     NA              \n",
       "utf8        NA              \n",
       "utils       NA              \n",
       "uuid        NA              \n",
       "vctrs       NA              \n",
       "viridisLite NA              \n",
       "waldo       NA              \n",
       "whisker     NA              \n",
       "withr       NA              \n",
       "xfun        NA              \n",
       "xml2        NA              \n",
       "xopen       NA              \n",
       "xtable      NA              \n",
       "xts         zoo             \n",
       "yaml        NA              \n",
       "zoo         NA              \n",
       "            Suggests                                                                                                                                                                                                                                                                                                                                                                                                                                                                                                                                                                                                                                                                                                                                                               \n",
       "askpass     testthat                                                                                                                                                                                                                                                                                                                                                                                                                                                                                                                                                                                                                                                                                                                                                               \n",
       "assertthat  testthat, covr                                                                                                                                                                                                                                                                                                                                                                                                                                                                                                                                                                                                                                                                                                                                                         \n",
       "backports   NA                                                                                                                                                                                                                                                                                                                                                                                                                                                                                                                                                                                                                                                                                                                                                                     \n",
       "base        methods                                                                                                                                                                                                                                                                                                                                                                                                                                                                                                                                                                                                                                                                                                                                                                \n",
       "base64enc   NA                                                                                                                                                                                                                                                                                                                                                                                                                                                                                                                                                                                                                                                                                                                                                                     \n",
       "bit         testthat (>= 0.11.0), roxygen2, knitr, rmarkdown,\\nmicrobenchmark, bit64 (>= 4.0.0), ff (>= 4.0.0)                                                                                                                                                                                                                                                                                                                                                                                                                                                                                                                                                                                                                                                                     \n",
       "bit64       NA                                                                                                                                                                                                                                                                                                                                                                                                                                                                                                                                                                                                                                                                                                                                                                     \n",
       "bitops      NA                                                                                                                                                                                                                                                                                                                                                                                                                                                                                                                                                                                                                                                                                                                                                                     \n",
       "blob        covr, crayon, pillar (>= 1.2.1), testthat                                                                                                                                                                                                                                                                                                                                                                                                                                                                                                                                                                                                                                                                                                                              \n",
       "brew        NA                                                                                                                                                                                                                                                                                                                                                                                                                                                                                                                                                                                                                                                                                                                                                                     \n",
       "brio        testthat (>= 2.1.0), covr                                                                                                                                                                                                                                                                                                                                                                                                                                                                                                                                                                                                                                                                                                                                              \n",
       "broom       AER, akima, AUC, bbmle, betareg, biglm, binGroup, boot,\\nbtergm, car, caret, cluster, cmprsk, coda, covr, drc, e1071,\\nemmeans, epiR, ergm (>= 3.10.4), fixest (>= 0.8.1), gam (>=\\n1.15), gee, geepack, ggplot2, glmnet, glmnetUtils, gmm, Hmisc,\\nirlba, joineRML, Kendall, knitr, ks, Lahman, lavaan, leaps,\\nlfe, lm.beta, lme4, lmodel2, lmtest (>= 0.9.38), lsmeans, maps,\\nmaptools, margins, MASS, Matrix, mclust, mediation, metafor,\\nmfx, mgcv, mlogit, modeldata, modeltests, muhaz, multcomp,\\nnetwork, nnet, orcutt (>= 2.2), ordinal, plm, poLCA, psych,\\nquantreg, Rchoice, rgeos, rmarkdown, robust, robustbase,\\nrsample, sandwich, sp, spdep, spatialreg, speedglm, spelling,\\nsurvey, survival, systemfit, testthat (>= 2.1.0), tseries,\\nvars, zoo\n",
       "bslib       shiny (>= 1.6.0), rmarkdown (>= 2.7), thematic, knitr,\\ntestthat, withr, rappdirs, curl                                                                                                                                                                                                                                                                                                                                                                                                                                                                                                                                                                                                                                                                                \n",
       "cachem      testthat                                                                                                                                                                                                                                                                                                                                                                                                                                                                                                                                                                                                                                                                                                                                                               \n",
       "callr       cli, covr, ps, rprojroot, spelling, testthat, withr (>=\\n2.3.0)                                                                                                                                                                                                                                                                                                                                                                                                                                                                                                                                                                                                                                                                                                        \n",
       "caret       BradleyTerry2, e1071, earth (>= 2.2-3), fastICA, gam (>=\\n1.15), ipred, kernlab, knitr, klaR, MASS, ellipse, Matrix, mda,\\nmgcv, mlbench, MLmetrics, nnet, party (>= 0.9-99992), pls,\\nproxy, randomForest, RANN, rmarkdown, spls, subselect, pamr,\\nsuperpc, Cubist, testthat (>= 0.9.1), rpart, dplyr, covr                                                                                                                                                                                                                                                                                                                                                                                                                                                          \n",
       "cellranger  covr, testthat (>= 1.0.0), knitr, rmarkdown                                                                                                                                                                                                                                                                                                                                                                                                                                                                                                                                                                                                                                                                                                                            \n",
       "class       NA                                                                                                                                                                                                                                                                                                                                                                                                                                                                                                                                                                                                                                                                                                                                                                     \n",
       "cli         callr, covr, grDevices, htmlwidgets, knitr, methods, mockery,\\nps (>= 1.3.4.9000), rmarkdown, rstudioapi, prettycode (>=\\n1.1.0), testthat, tibble, withr                                                                                                                                                                                                                                                                                                                                                                                                                                                                                                                                                                                                              \n",
       "clipr       covr, knitr, rmarkdown, rstudioapi (>= 0.5), testthat (>=\\n2.0.0)                                                                                                                                                                                                                                                                                                                                                                                                                                                                                                                                                                                                                                                                                                      \n",
       "codetools   NA                                                                                                                                                                                                                                                                                                                                                                                                                                                                                                                                                                                                                                                                                                                                                                     \n",
       "colorspace  datasets, utils, KernSmooth, MASS, kernlab, mvtnorm, vcd,\\ntcltk, shiny, shinyjs, ggplot2, dplyr, scales, grid, png, jpeg,\\nknitr, rmarkdown, RColorBrewer, rcartocolor, scico, viridis,\\nwesanderson                                                                                                                                                                                                                                                                                                                                                                                                                                                                                                                                                                  \n",
       "commonmark  curl, testthat, xml2                                                                                                                                                                                                                                                                                                                                                                                                                                                                                                                                                                                                                                                                                                                                                   \n",
       "compiler    NA                                                                                                                                                                                                                                                                                                                                                                                                                                                                                                                                                                                                                                                                                                                                                                     \n",
       "cpp11       bench, brio, callr, cli, covr, decor, desc, ggplot2, glue,\\nknitr, lobstr, mockery, progress, rmarkdown, scales, testthat,\\ntibble, utils, vctrs, withr                                                                                                                                                                                                                                                                                                                                                                                                                                                                                                                                                                                                                \n",
       "crayon      mockery, rstudioapi, testthat, withr                                                                                                                                                                                                                                                                                                                                                                                                                                                                                                                                                                                                                                                                                                                                   \n",
       "curl        spelling, testthat (>= 1.0.0), knitr, jsonlite, rmarkdown,\\nmagrittr, httpuv (>= 1.4.4), webutils                                                                                                                                                                                                                                                                                                                                                                                                                                                                                                                                                                                                                                                                      \n",
       "data.table  bit64 (>= 4.0.0), bit (>= 4.0.4), curl, R.utils, xts,\\nnanotime, zoo (>= 1.8-1), yaml, knitr, rmarkdown                                                                                                                                                                                                                                                                                                                                                                                                                                                                                                                                                                                                                                                                \n",
       "datasets    NA                                                                                                                                                                                                                                                                                                                                                                                                                                                                                                                                                                                                                                                                                                                                                                     \n",
       "DBI         blob, covr, dbplyr, dplyr, glue, hms, knitr, magrittr,\\nrmarkdown, rprojroot, RMariaDB, RSQLite (>= 1.1-2), testthat,\\nxml2                                                                                                                                                                                                                                                                                                                                                                                                                                                                                                                                                                                                                                            \n",
       "⋮           ⋮                                                                                                                                                                                                                                                                                                                                                                                                                                                                                                                                                                                                                                                                                                                                                                      \n",
       "survival    NA                                                                                                                                                                                                                                                                                                                                                                                                                                                                                                                                                                                                                                                                                                                                                                     \n",
       "sys         unix (>= 1.4), spelling, testthat                                                                                                                                                                                                                                                                                                                                                                                                                                                                                                                                                                                                                                                                                                                                      \n",
       "tcltk       NA                                                                                                                                                                                                                                                                                                                                                                                                                                                                                                                                                                                                                                                                                                                                                                     \n",
       "testthat    covr, curl (>= 0.9.5), diffviewer (>= 0.1.0), knitr, mockery,\\nrmarkdown, rstudioapi, shiny, usethis, vctrs (>= 0.1.0), xml2                                                                                                                                                                                                                                                                                                                                                                                                                                                                                                                                                                                                                                           \n",
       "tibble      bench, bit64, blob, cli, covr, crayon (>= 1.3.4), DiagrammeR,\\ndplyr, evaluate, formattable, ggplot2, hms, htmltools, knitr,\\nlubridate, mockr, nycflights13, purrr, rmarkdown, testthat (>=\\n3.0.2), tidyr, withr                                                                                                                                                                                                                                                                                                                                                                                                                                                                                                                                                     \n",
       "tidyr       covr, data.table, jsonlite, knitr, readr, repurrrsive (>=\\n1.0.0), rmarkdown, testthat (>= 3.0.0)                                                                                                                                                                                                                                                                                                                                                                                                                                                                                                                                                                                                                                                                      \n",
       "tidyselect  covr, crayon, dplyr, knitr, magrittr, rmarkdown, testthat (>=\\n2.3.0), tibble (>= 2.1.3), withr                                                                                                                                                                                                                                                                                                                                                                                                                                                                                                                                                                                                                                                                        \n",
       "tidyverse   covr, feather, glue, knitr, rmarkdown, testthat                                                                                                                                                                                                                                                                                                                                                                                                                                                                                                                                                                                                                                                                                                                        \n",
       "timeDate    date, RUnit                                                                                                                                                                                                                                                                                                                                                                                                                                                                                                                                                                                                                                                                                                                                                            \n",
       "tinytex     testit, rstudioapi                                                                                                                                                                                                                                                                                                                                                                                                                                                                                                                                                                                                                                                                                                                                                     \n",
       "tools       codetools, methods, xml2, curl, commonmark                                                                                                                                                                                                                                                                                                                                                                                                                                                                                                                                                                                                                                                                                                                             \n",
       "tseries     NA                                                                                                                                                                                                                                                                                                                                                                                                                                                                                                                                                                                                                                                                                                                                                                     \n",
       "TTR         RUnit                                                                                                                                                                                                                                                                                                                                                                                                                                                                                                                                                                                                                                                                                                                                                                  \n",
       "urca        NA                                                                                                                                                                                                                                                                                                                                                                                                                                                                                                                                                                                                                                                                                                                                                                     \n",
       "usethis     covr, knitr, magick, pkgdown (>= 1.4.0), rmarkdown, roxygen2,\\nspelling (>= 1.2), styler (>= 1.2.0), testthat (>= 2.1.0)                                                                                                                                                                                                                                                                                                                                                                                                                                                                                                                                                                                                                                               \n",
       "utf8        covr, knitr, rlang, rmarkdown, testthat (>= 3.0.0)                                                                                                                                                                                                                                                                                                                                                                                                                                                                                                                                                                                                                                                                                                                     \n",
       "utils       methods, xml2, commonmark                                                                                                                                                                                                                                                                                                                                                                                                                                                                                                                                                                                                                                                                                                                                              \n",
       "uuid        NA                                                                                                                                                                                                                                                                                                                                                                                                                                                                                                                                                                                                                                                                                                                                                                     \n",
       "vctrs       bit64, covr, crayon, dplyr (>= 0.8.5), generics, knitr,\\npillar (>= 1.4.4), pkgdown, rmarkdown, testthat (>= 2.3.0),\\ntibble, withr, xml2, waldo (>= 0.2.0), zeallot                                                                                                                                                                                                                                                                                                                                                                                                                                                                                                                                                                                                   \n",
       "viridisLite hexbin (>= 1.27.0), ggplot2 (>= 1.0.1), testthat, covr                                                                                                                                                                                                                                                                                                                                                                                                                                                                                                                                                                                                                                                                                                                 \n",
       "waldo       testthat (>= 3.0.0), covr, R6                                                                                                                                                                                                                                                                                                                                                                                                                                                                                                                                                                                                                                                                                                                                          \n",
       "whisker     markdown                                                                                                                                                                                                                                                                                                                                                                                                                                                                                                                                                                                                                                                                                                                                                               \n",
       "withr       covr, DBI, knitr, lattice, methods, rmarkdown, RSQLite,\\ntestthat (>= 2.1.0)                                                                                                                                                                                                                                                                                                                                                                                                                                                                                                                                                                                                                                                                                           \n",
       "xfun        testit, parallel, codetools, rstudioapi, tinytex (>= 0.30),\\nmime, markdown, knitr, htmltools, remotes, pak, renv, curl,\\njsonlite, rmarkdown                                                                                                                                                                                                                                                                                                                                                                                                                                                                                                                                                                                                                          \n",
       "xml2        covr, curl, httr, knitr, magrittr, mockery, rmarkdown,\\ntestthat (>= 2.1.0)                                                                                                                                                                                                                                                                                                                                                                                                                                                                                                                                                                                                                                                                                            \n",
       "xopen       ps, testthat                                                                                                                                                                                                                                                                                                                                                                                                                                                                                                                                                                                                                                                                                                                                                           \n",
       "xtable      knitr, plm, zoo, survival                                                                                                                                                                                                                                                                                                                                                                                                                                                                                                                                                                                                                                                                                                                                              \n",
       "xts         timeSeries, timeDate, tseries, chron, fts, tis, RUnit                                                                                                                                                                                                                                                                                                                                                                                                                                                                                                                                                                                                                                                                                                                  \n",
       "yaml        RUnit                                                                                                                                                                                                                                                                                                                                                                                                                                                                                                                                                                                                                                                                                                                                                                  \n",
       "zoo         AER, coda, chron, fts, ggplot2 (>= 3.0.0), mondate, scales,\\nstinepack, strucchange, timeDate, timeSeries, tis, tseries, xts                                                                                                                                                                                                                                                                                                                                                                                                                                                                                                                                                                                                                                           \n",
       "            Enhances License                                License_is_FOSS\n",
       "askpass     NA       MIT + file LICENSE                     NA             \n",
       "assertthat  NA       GPL-3                                  NA             \n",
       "backports   NA       GPL-2 | GPL-3                          NA             \n",
       "base        NA       Part of R 3.6.3                        NA             \n",
       "base64enc   png      GPL-2 | GPL-3                          NA             \n",
       "bit         NA       GPL-2 | GPL-3                          NA             \n",
       "bit64       NA       GPL-2 | GPL-3                          NA             \n",
       "bitops      NA       GPL (>= 2)                             NA             \n",
       "blob        NA       GPL-3                                  NA             \n",
       "brew        NA       GPL-2                                  NA             \n",
       "brio        NA       MIT + file LICENSE                     NA             \n",
       "broom       NA       MIT + file LICENSE                     NA             \n",
       "bslib       NA       MIT + file LICENSE                     NA             \n",
       "cachem      NA       MIT + file LICENSE                     NA             \n",
       "callr       NA       MIT + file LICENSE                     NA             \n",
       "caret       NA       GPL (>= 2)                             NA             \n",
       "cellranger  NA       MIT + file LICENSE                     NA             \n",
       "class       NA       GPL-2 | GPL-3                          NA             \n",
       "cli         NA       MIT + file LICENSE                     NA             \n",
       "clipr       NA       GPL-3                                  NA             \n",
       "codetools   NA       GPL                                    NA             \n",
       "colorspace  NA       BSD_3_clause + file LICENSE            NA             \n",
       "commonmark  NA       BSD_2_clause + file LICENSE            NA             \n",
       "compiler    NA       Part of R 3.6.3                        NA             \n",
       "cpp11       NA       MIT + file LICENSE                     NA             \n",
       "crayon      NA       MIT + file LICENSE                     NA             \n",
       "curl        NA       MIT + file LICENSE                     NA             \n",
       "data.table  NA       MPL-2.0 | file LICENSE                 NA             \n",
       "datasets    NA       Part of R 3.6.3                        NA             \n",
       "DBI         NA       LGPL (>= 2.1)                          NA             \n",
       "⋮           ⋮        ⋮                                      ⋮              \n",
       "survival    NA       LGPL (>= 2)                            NA             \n",
       "sys         NA       MIT + file LICENSE                     NA             \n",
       "tcltk       NA       Part of R 3.6.3                        NA             \n",
       "testthat    NA       MIT + file LICENSE                     NA             \n",
       "tibble      NA       MIT + file LICENSE                     NA             \n",
       "tidyr       NA       MIT + file LICENSE                     NA             \n",
       "tidyselect  NA       MIT + file LICENSE                     NA             \n",
       "tidyverse   NA       MIT + file LICENSE                     NA             \n",
       "timeDate    NA       GPL (>= 2)                             NA             \n",
       "tinytex     NA       MIT + file LICENSE                     NA             \n",
       "tools       NA       Part of R 3.6.3                        NA             \n",
       "tseries     NA       GPL-2                                  NA             \n",
       "TTR         quantmod GPL (>= 2)                             NA             \n",
       "urca        NA       GPL (>= 2)                             NA             \n",
       "usethis     NA       GPL-3                                  NA             \n",
       "utf8        NA       Apache License (== 2.0) | file LICENSE NA             \n",
       "utils       NA       Part of R 3.6.3                        NA             \n",
       "uuid        NA       MIT + file LICENSE                     NA             \n",
       "vctrs       NA       MIT + file LICENSE                     NA             \n",
       "viridisLite NA       MIT + file LICENSE                     NA             \n",
       "waldo       NA       MIT + file LICENSE                     NA             \n",
       "whisker     NA       GPL-3                                  NA             \n",
       "withr       NA       MIT + file LICENSE                     NA             \n",
       "xfun        NA       MIT + file LICENSE                     NA             \n",
       "xml2        NA       GPL (>= 2)                             NA             \n",
       "xopen       NA       MIT + file LICENSE                     NA             \n",
       "xtable      NA       GPL (>= 2)                             NA             \n",
       "xts         NA       GPL (>= 2)                             NA             \n",
       "yaml        NA       BSD_3_clause + file LICENSE            NA             \n",
       "zoo         NA       GPL-2 | GPL-3                          NA             \n",
       "            License_restricts_use OS_type MD5sum NeedsCompilation Built\n",
       "askpass     NA                    NA      NA     yes              3.6.3\n",
       "assertthat  NA                    NA      NA     no               3.6.3\n",
       "backports   NA                    NA      NA     yes              3.6.3\n",
       "base        NA                    NA      NA     NA               3.6.3\n",
       "base64enc   NA                    NA      NA     yes              3.6.3\n",
       "bit         NA                    NA      NA     yes              3.6.3\n",
       "bit64       NA                    NA      NA     yes              3.6.3\n",
       "bitops      NA                    NA      NA     yes              3.6.3\n",
       "blob        NA                    NA      NA     no               3.6.3\n",
       "brew        NA                    NA      NA     NA               3.6.3\n",
       "brio        NA                    NA      NA     yes              3.6.3\n",
       "broom       NA                    NA      NA     no               3.6.3\n",
       "bslib       NA                    NA      NA     no               3.6.3\n",
       "cachem      NA                    NA      NA     yes              3.6.3\n",
       "callr       NA                    NA      NA     no               3.6.3\n",
       "caret       NA                    NA      NA     yes              3.6.3\n",
       "cellranger  NA                    NA      NA     no               3.6.3\n",
       "class       NA                    NA      NA     yes              3.6.3\n",
       "cli         NA                    NA      NA     no               3.6.3\n",
       "clipr       NA                    NA      NA     no               3.6.3\n",
       "codetools   NA                    NA      NA     no               3.6.3\n",
       "colorspace  NA                    NA      NA     yes              3.6.3\n",
       "commonmark  NA                    NA      NA     yes              3.6.3\n",
       "compiler    NA                    NA      NA     NA               3.6.3\n",
       "cpp11       NA                    NA      NA     no               3.6.3\n",
       "crayon      NA                    NA      NA     no               3.6.3\n",
       "curl        NA                    NA      NA     yes              3.6.3\n",
       "data.table  NA                    NA      NA     yes              3.6.3\n",
       "datasets    NA                    NA      NA     NA               3.6.3\n",
       "DBI         NA                    NA      NA     no               3.6.3\n",
       "⋮           ⋮                     ⋮       ⋮      ⋮                ⋮    \n",
       "survival    NA                    NA      NA     yes              3.6.3\n",
       "sys         NA                    NA      NA     yes              3.6.3\n",
       "tcltk       NA                    NA      NA     yes              3.6.3\n",
       "testthat    NA                    NA      NA     yes              3.6.3\n",
       "tibble      NA                    NA      NA     yes              3.6.3\n",
       "tidyr       NA                    NA      NA     yes              3.6.3\n",
       "tidyselect  NA                    NA      NA     yes              3.6.3\n",
       "tidyverse   NA                    NA      NA     no               3.6.3\n",
       "timeDate    NA                    NA      NA     no               3.6.3\n",
       "tinytex     NA                    NA      NA     no               3.6.3\n",
       "tools       NA                    NA      NA     yes              3.6.3\n",
       "tseries     NA                    NA      NA     yes              3.6.3\n",
       "TTR         NA                    NA      NA     yes              3.6.3\n",
       "urca        NA                    NA      NA     yes              3.6.3\n",
       "usethis     NA                    NA      NA     no               3.6.3\n",
       "utf8        NA                    NA      NA     yes              3.6.3\n",
       "utils       NA                    NA      NA     yes              3.6.3\n",
       "uuid        NA                    NA      NA     yes              3.6.3\n",
       "vctrs       NA                    NA      NA     yes              3.6.3\n",
       "viridisLite NA                    NA      NA     no               3.6.3\n",
       "waldo       NA                    NA      NA     no               3.6.3\n",
       "whisker     NA                    NA      NA     no               3.6.3\n",
       "withr       NA                    NA      NA     no               3.6.3\n",
       "xfun        NA                    NA      NA     yes              3.6.3\n",
       "xml2        NA                    NA      NA     yes              3.6.3\n",
       "xopen       NA                    NA      NA     no               3.6.3\n",
       "xtable      NA                    NA      NA     no               3.6.3\n",
       "xts         NA                    NA      NA     yes              3.6.3\n",
       "yaml        NA                    NA      NA     yes              3.6.3\n",
       "zoo         NA                    NA      NA     yes              3.6.3"
      ]
     },
     "metadata": {},
     "output_type": "display_data"
    }
   ],
   "source": [
    "installed.packages()"
   ]
  },
  {
   "cell_type": "code",
   "execution_count": 2,
   "metadata": {},
   "outputs": [
    {
     "name": "stderr",
     "output_type": "stream",
     "text": [
      "── \u001b[1mAttaching packages\u001b[22m ─────────────────────────────────────── tidyverse 1.3.1 ──\n",
      "\n",
      "\u001b[32m✔\u001b[39m \u001b[34mggplot2\u001b[39m 3.3.3     \u001b[32m✔\u001b[39m \u001b[34mpurrr  \u001b[39m 0.3.4\n",
      "\u001b[32m✔\u001b[39m \u001b[34mtibble \u001b[39m 3.1.2     \u001b[32m✔\u001b[39m \u001b[34mdplyr  \u001b[39m 1.0.6\n",
      "\u001b[32m✔\u001b[39m \u001b[34mtidyr  \u001b[39m 1.1.3     \u001b[32m✔\u001b[39m \u001b[34mstringr\u001b[39m 1.4.0\n",
      "\u001b[32m✔\u001b[39m \u001b[34mreadr  \u001b[39m 1.4.0     \u001b[32m✔\u001b[39m \u001b[34mforcats\u001b[39m 0.5.1\n",
      "\n",
      "── \u001b[1mConflicts\u001b[22m ────────────────────────────────────────── tidyverse_conflicts() ──\n",
      "\u001b[31m✖\u001b[39m \u001b[34mdplyr\u001b[39m::\u001b[32mfilter()\u001b[39m masks \u001b[34mstats\u001b[39m::filter()\n",
      "\u001b[31m✖\u001b[39m \u001b[34mdplyr\u001b[39m::\u001b[32mlag()\u001b[39m    masks \u001b[34mstats\u001b[39m::lag()\n",
      "\n"
     ]
    }
   ],
   "source": [
    "library(\"tidyverse\")"
   ]
  },
  {
   "cell_type": "code",
   "execution_count": 3,
   "metadata": {},
   "outputs": [
    {
     "data": {
      "text/html": [
       "'/home/jovyan/work/chapter-1/src'"
      ],
      "text/latex": [
       "'/home/jovyan/work/chapter-1/src'"
      ],
      "text/markdown": [
       "'/home/jovyan/work/chapter-1/src'"
      ],
      "text/plain": [
       "[1] \"/home/jovyan/work/chapter-1/src\""
      ]
     },
     "metadata": {},
     "output_type": "display_data"
    }
   ],
   "source": [
    "work_dir <- \"/home/jovyan/work/chapter-1/src\"\n",
    "\n",
    "setwd(work_dir)\n",
    "\n",
    "getwd()"
   ]
  },
  {
   "cell_type": "markdown",
   "metadata": {
    "id": "OrJw1o3ZAf2z"
   },
   "source": [
    "## ノック１：法人情報データを読み込んでみよう"
   ]
  },
  {
   "cell_type": "markdown",
   "metadata": {},
   "source": [
    "文字バケエラー発生。[参考資料](https://github.com/YokohamaR/yokohama.r/issues/7)"
   ]
  },
  {
   "cell_type": "code",
   "execution_count": 4,
   "metadata": {},
   "outputs": [],
   "source": [
    "data <- read.csv(\"/home/jovyan/work/chapter-1/data/22_shizuoka_all_20210331.csv\",fileEncoding = \"cp932\")"
   ]
  },
  {
   "cell_type": "markdown",
   "metadata": {},
   "source": [
    " could not find function \"%>%\"エラー発生"
   ]
  },
  {
   "cell_type": "code",
   "execution_count": 5,
   "metadata": {
    "id": "Kxb1fvmCv_4a"
   },
   "outputs": [],
   "source": [
    "library(dplyr)"
   ]
  },
  {
   "cell_type": "code",
   "execution_count": 6,
   "metadata": {
    "id": "Vn9gtsmwv_9u"
   },
   "outputs": [
    {
     "data": {
      "text/html": [
       "<table class=\"dataframe\">\n",
       "<caption>A data.frame: 10 × 30</caption>\n",
       "<thead>\n",
       "\t<tr><th></th><th scope=col>X1</th><th scope=col>X1000013040008</th><th scope=col>X01</th><th scope=col>X1.1</th><th scope=col>X2018.04.02</th><th scope=col>X2015.10.05</th><th scope=col>静岡家庭裁判所</th><th scope=col>X</th><th scope=col>X101</th><th scope=col>静岡県</th><th scope=col>⋯</th><th scope=col>X.6</th><th scope=col>X.7</th><th scope=col>X2015.10.05.1</th><th scope=col>X1.2</th><th scope=col>Shizuoka.Family.Court</th><th scope=col>Shizuoka</th><th scope=col>X1.20..Jonaicho..Aoi.ku..Shizuoka.shi</th><th scope=col>X.8</th><th scope=col>シズオカカテイサイバンショ</th><th scope=col>X0</th></tr>\n",
       "\t<tr><th></th><th scope=col>&lt;int&gt;</th><th scope=col>&lt;dbl&gt;</th><th scope=col>&lt;int&gt;</th><th scope=col>&lt;int&gt;</th><th scope=col>&lt;fct&gt;</th><th scope=col>&lt;fct&gt;</th><th scope=col>&lt;fct&gt;</th><th scope=col>&lt;int&gt;</th><th scope=col>&lt;int&gt;</th><th scope=col>&lt;fct&gt;</th><th scope=col>⋯</th><th scope=col>&lt;dbl&gt;</th><th scope=col>&lt;fct&gt;</th><th scope=col>&lt;fct&gt;</th><th scope=col>&lt;int&gt;</th><th scope=col>&lt;fct&gt;</th><th scope=col>&lt;fct&gt;</th><th scope=col>&lt;fct&gt;</th><th scope=col>&lt;lgl&gt;</th><th scope=col>&lt;fct&gt;</th><th scope=col>&lt;int&gt;</th></tr>\n",
       "</thead>\n",
       "<tbody>\n",
       "\t<tr><th scope=row>1</th><td> 2</td><td>1.000013e+12</td><td>1</td><td>1</td><td>2018-04-02</td><td>2015-10-05</td><td>清水簡易裁判所</td><td>NA</td><td>101</td><td>静岡県</td><td>⋯</td><td>NA</td><td></td><td>2015-10-05</td><td>1</td><td>Shimizu Summary Court  </td><td>Shizuoka</td><td>1-6-15, Tenjin, Shimizu ku, Shizuoka shi</td><td>NA</td><td>シミズカンイサイバンショ  </td><td>0</td></tr>\n",
       "\t<tr><th scope=row>2</th><td> 3</td><td>1.000013e+12</td><td>1</td><td>1</td><td>2018-04-02</td><td>2015-10-05</td><td>浜松簡易裁判所</td><td>NA</td><td>101</td><td>静岡県</td><td>⋯</td><td>NA</td><td></td><td>2015-10-05</td><td>1</td><td>Hamamatsu Summary Court</td><td>Shizuoka</td><td>1-12-5, Chuo, Naka ku, Hamamatsu shi    </td><td>NA</td><td>ハママツカンイサイバンショ</td><td>0</td></tr>\n",
       "\t<tr><th scope=row>3</th><td> 4</td><td>1.000020e+12</td><td>1</td><td>1</td><td>2018-04-05</td><td>2015-10-05</td><td>磐田市        </td><td>NA</td><td>201</td><td>静岡県</td><td>⋯</td><td>NA</td><td></td><td>2015-10-05</td><td>1</td><td>Iwata City             </td><td>Shizuoka</td><td>3-1,Kounodai, Iwata shi                 </td><td>NA</td><td>イワタシ                  </td><td>0</td></tr>\n",
       "\t<tr><th scope=row>4</th><td> 5</td><td>1.000020e+12</td><td>1</td><td>1</td><td>2018-04-05</td><td>2015-10-05</td><td>焼津市        </td><td>NA</td><td>201</td><td>静岡県</td><td>⋯</td><td>NA</td><td></td><td>2015-10-05</td><td>1</td><td>Yaizu city             </td><td>Shizuoka</td><td>2-16-32 Honmachi, Yaizu shi             </td><td>NA</td><td>ヤイヅシ                  </td><td>0</td></tr>\n",
       "\t<tr><th scope=row>5</th><td> 6</td><td>1.000020e+12</td><td>1</td><td>1</td><td>2020-09-29</td><td>2015-10-05</td><td>掛川市        </td><td>NA</td><td>201</td><td>静岡県</td><td>⋯</td><td>NA</td><td></td><td>2015-10-05</td><td>1</td><td>Kakegawa City          </td><td>Shizuoka</td><td>1-1-1 Nagaya, Kakegawa shi              </td><td>NA</td><td>カケガワシ                </td><td>0</td></tr>\n",
       "\t<tr><th scope=row>6</th><td> 7</td><td>1.000020e+12</td><td>1</td><td>1</td><td>2018-04-05</td><td>2015-10-05</td><td>藤枝市        </td><td>NA</td><td>201</td><td>静岡県</td><td>⋯</td><td>NA</td><td></td><td>2015-10-05</td><td>1</td><td>Fujieda City           </td><td>Shizuoka</td><td>1-11-1,Okadeyama, Fujieda shi           </td><td>NA</td><td>フジエダシ                </td><td>0</td></tr>\n",
       "\t<tr><th scope=row>7</th><td> 8</td><td>1.000020e+12</td><td>1</td><td>1</td><td>2018-04-05</td><td>2015-10-05</td><td>御殿場市      </td><td>NA</td><td>201</td><td>静岡県</td><td>⋯</td><td>NA</td><td></td><td>2015-10-05</td><td>1</td><td>Gotemba City           </td><td>Shizuoka</td><td>483,Hagiwara, Gotemba shi               </td><td>NA</td><td>ゴテンバシ                </td><td>0</td></tr>\n",
       "\t<tr><th scope=row>8</th><td> 9</td><td>1.000020e+12</td><td>1</td><td>1</td><td>2018-04-05</td><td>2015-10-05</td><td>伊豆の国市    </td><td>NA</td><td>201</td><td>静岡県</td><td>⋯</td><td>NA</td><td></td><td>2015-10-05</td><td>1</td><td>Izunokuni shi          </td><td>Shizuoka</td><td>Nagaoka340-1, Izunokuni shi             </td><td>NA</td><td>イズノクニシ              </td><td>0</td></tr>\n",
       "\t<tr><th scope=row>9</th><td>10</td><td>1.000020e+12</td><td>1</td><td>1</td><td>2020-09-29</td><td>2015-10-05</td><td>牧之原市      </td><td>NA</td><td>201</td><td>静岡県</td><td>⋯</td><td>NA</td><td></td><td>2015-10-05</td><td>1</td><td>Makinohara City        </td><td>Shizuoka</td><td>447-1 Shizunami, Makinohara City        </td><td>NA</td><td>マキノハラシ              </td><td>0</td></tr>\n",
       "\t<tr><th scope=row>10</th><td>11</td><td>1.000020e+12</td><td>1</td><td>1</td><td>2018-04-05</td><td>2015-10-05</td><td>東伊豆町      </td><td>NA</td><td>201</td><td>静岡県</td><td>⋯</td><td>NA</td><td></td><td>2015-10-05</td><td>1</td><td>Higashiizu Town        </td><td>Shizuoka</td><td>3354,Inatori, Higashiizu cho            </td><td>NA</td><td>ヒガシイズチョウ          </td><td>0</td></tr>\n",
       "</tbody>\n",
       "</table>\n"
      ],
      "text/latex": [
       "A data.frame: 10 × 30\n",
       "\\begin{tabular}{r|lllllllllllllllllllll}\n",
       "  & X1 & X1000013040008 & X01 & X1.1 & X2018.04.02 & X2015.10.05 & 静岡家庭裁判所 & X & X101 & 静岡県 & ⋯ & X.6 & X.7 & X2015.10.05.1 & X1.2 & Shizuoka.Family.Court & Shizuoka & X1.20..Jonaicho..Aoi.ku..Shizuoka.shi & X.8 & シズオカカテイサイバンショ & X0\\\\\n",
       "  & <int> & <dbl> & <int> & <int> & <fct> & <fct> & <fct> & <int> & <int> & <fct> & ⋯ & <dbl> & <fct> & <fct> & <int> & <fct> & <fct> & <fct> & <lgl> & <fct> & <int>\\\\\n",
       "\\hline\n",
       "\t1 &  2 & 1.000013e+12 & 1 & 1 & 2018-04-02 & 2015-10-05 & 清水簡易裁判所 & NA & 101 & 静岡県 & ⋯ & NA &  & 2015-10-05 & 1 & Shimizu Summary Court   & Shizuoka & 1-6-15, Tenjin, Shimizu ku, Shizuoka shi & NA & シミズカンイサイバンショ   & 0\\\\\n",
       "\t2 &  3 & 1.000013e+12 & 1 & 1 & 2018-04-02 & 2015-10-05 & 浜松簡易裁判所 & NA & 101 & 静岡県 & ⋯ & NA &  & 2015-10-05 & 1 & Hamamatsu Summary Court & Shizuoka & 1-12-5, Chuo, Naka ku, Hamamatsu shi     & NA & ハママツカンイサイバンショ & 0\\\\\n",
       "\t3 &  4 & 1.000020e+12 & 1 & 1 & 2018-04-05 & 2015-10-05 & 磐田市         & NA & 201 & 静岡県 & ⋯ & NA &  & 2015-10-05 & 1 & Iwata City              & Shizuoka & 3-1,Kounodai, Iwata shi                  & NA & イワタシ                   & 0\\\\\n",
       "\t4 &  5 & 1.000020e+12 & 1 & 1 & 2018-04-05 & 2015-10-05 & 焼津市         & NA & 201 & 静岡県 & ⋯ & NA &  & 2015-10-05 & 1 & Yaizu city              & Shizuoka & 2-16-32 Honmachi, Yaizu shi              & NA & ヤイヅシ                   & 0\\\\\n",
       "\t5 &  6 & 1.000020e+12 & 1 & 1 & 2020-09-29 & 2015-10-05 & 掛川市         & NA & 201 & 静岡県 & ⋯ & NA &  & 2015-10-05 & 1 & Kakegawa City           & Shizuoka & 1-1-1 Nagaya, Kakegawa shi               & NA & カケガワシ                 & 0\\\\\n",
       "\t6 &  7 & 1.000020e+12 & 1 & 1 & 2018-04-05 & 2015-10-05 & 藤枝市         & NA & 201 & 静岡県 & ⋯ & NA &  & 2015-10-05 & 1 & Fujieda City            & Shizuoka & 1-11-1,Okadeyama, Fujieda shi            & NA & フジエダシ                 & 0\\\\\n",
       "\t7 &  8 & 1.000020e+12 & 1 & 1 & 2018-04-05 & 2015-10-05 & 御殿場市       & NA & 201 & 静岡県 & ⋯ & NA &  & 2015-10-05 & 1 & Gotemba City            & Shizuoka & 483,Hagiwara, Gotemba shi                & NA & ゴテンバシ                 & 0\\\\\n",
       "\t8 &  9 & 1.000020e+12 & 1 & 1 & 2018-04-05 & 2015-10-05 & 伊豆の国市     & NA & 201 & 静岡県 & ⋯ & NA &  & 2015-10-05 & 1 & Izunokuni shi           & Shizuoka & Nagaoka340-1, Izunokuni shi              & NA & イズノクニシ               & 0\\\\\n",
       "\t9 & 10 & 1.000020e+12 & 1 & 1 & 2020-09-29 & 2015-10-05 & 牧之原市       & NA & 201 & 静岡県 & ⋯ & NA &  & 2015-10-05 & 1 & Makinohara City         & Shizuoka & 447-1 Shizunami, Makinohara City         & NA & マキノハラシ               & 0\\\\\n",
       "\t10 & 11 & 1.000020e+12 & 1 & 1 & 2018-04-05 & 2015-10-05 & 東伊豆町       & NA & 201 & 静岡県 & ⋯ & NA &  & 2015-10-05 & 1 & Higashiizu Town         & Shizuoka & 3354,Inatori, Higashiizu cho             & NA & ヒガシイズチョウ           & 0\\\\\n",
       "\\end{tabular}\n"
      ],
      "text/markdown": [
       "\n",
       "A data.frame: 10 × 30\n",
       "\n",
       "| <!--/--> | X1 &lt;int&gt; | X1000013040008 &lt;dbl&gt; | X01 &lt;int&gt; | X1.1 &lt;int&gt; | X2018.04.02 &lt;fct&gt; | X2015.10.05 &lt;fct&gt; | 静岡家庭裁判所 &lt;fct&gt; | X &lt;int&gt; | X101 &lt;int&gt; | 静岡県 &lt;fct&gt; | ⋯ ⋯ | X.6 &lt;dbl&gt; | X.7 &lt;fct&gt; | X2015.10.05.1 &lt;fct&gt; | X1.2 &lt;int&gt; | Shizuoka.Family.Court &lt;fct&gt; | Shizuoka &lt;fct&gt; | X1.20..Jonaicho..Aoi.ku..Shizuoka.shi &lt;fct&gt; | X.8 &lt;lgl&gt; | シズオカカテイサイバンショ &lt;fct&gt; | X0 &lt;int&gt; |\n",
       "|---|---|---|---|---|---|---|---|---|---|---|---|---|---|---|---|---|---|---|---|---|---|\n",
       "| 1 |  2 | 1.000013e+12 | 1 | 1 | 2018-04-02 | 2015-10-05 | 清水簡易裁判所 | NA | 101 | 静岡県 | ⋯ | NA | <!----> | 2015-10-05 | 1 | Shimizu Summary Court   | Shizuoka | 1-6-15, Tenjin, Shimizu ku, Shizuoka shi | NA | シミズカンイサイバンショ   | 0 |\n",
       "| 2 |  3 | 1.000013e+12 | 1 | 1 | 2018-04-02 | 2015-10-05 | 浜松簡易裁判所 | NA | 101 | 静岡県 | ⋯ | NA | <!----> | 2015-10-05 | 1 | Hamamatsu Summary Court | Shizuoka | 1-12-5, Chuo, Naka ku, Hamamatsu shi     | NA | ハママツカンイサイバンショ | 0 |\n",
       "| 3 |  4 | 1.000020e+12 | 1 | 1 | 2018-04-05 | 2015-10-05 | 磐田市         | NA | 201 | 静岡県 | ⋯ | NA | <!----> | 2015-10-05 | 1 | Iwata City              | Shizuoka | 3-1,Kounodai, Iwata shi                  | NA | イワタシ                   | 0 |\n",
       "| 4 |  5 | 1.000020e+12 | 1 | 1 | 2018-04-05 | 2015-10-05 | 焼津市         | NA | 201 | 静岡県 | ⋯ | NA | <!----> | 2015-10-05 | 1 | Yaizu city              | Shizuoka | 2-16-32 Honmachi, Yaizu shi              | NA | ヤイヅシ                   | 0 |\n",
       "| 5 |  6 | 1.000020e+12 | 1 | 1 | 2020-09-29 | 2015-10-05 | 掛川市         | NA | 201 | 静岡県 | ⋯ | NA | <!----> | 2015-10-05 | 1 | Kakegawa City           | Shizuoka | 1-1-1 Nagaya, Kakegawa shi               | NA | カケガワシ                 | 0 |\n",
       "| 6 |  7 | 1.000020e+12 | 1 | 1 | 2018-04-05 | 2015-10-05 | 藤枝市         | NA | 201 | 静岡県 | ⋯ | NA | <!----> | 2015-10-05 | 1 | Fujieda City            | Shizuoka | 1-11-1,Okadeyama, Fujieda shi            | NA | フジエダシ                 | 0 |\n",
       "| 7 |  8 | 1.000020e+12 | 1 | 1 | 2018-04-05 | 2015-10-05 | 御殿場市       | NA | 201 | 静岡県 | ⋯ | NA | <!----> | 2015-10-05 | 1 | Gotemba City            | Shizuoka | 483,Hagiwara, Gotemba shi                | NA | ゴテンバシ                 | 0 |\n",
       "| 8 |  9 | 1.000020e+12 | 1 | 1 | 2018-04-05 | 2015-10-05 | 伊豆の国市     | NA | 201 | 静岡県 | ⋯ | NA | <!----> | 2015-10-05 | 1 | Izunokuni shi           | Shizuoka | Nagaoka340-1, Izunokuni shi              | NA | イズノクニシ               | 0 |\n",
       "| 9 | 10 | 1.000020e+12 | 1 | 1 | 2020-09-29 | 2015-10-05 | 牧之原市       | NA | 201 | 静岡県 | ⋯ | NA | <!----> | 2015-10-05 | 1 | Makinohara City         | Shizuoka | 447-1 Shizunami, Makinohara City         | NA | マキノハラシ               | 0 |\n",
       "| 10 | 11 | 1.000020e+12 | 1 | 1 | 2018-04-05 | 2015-10-05 | 東伊豆町       | NA | 201 | 静岡県 | ⋯ | NA | <!----> | 2015-10-05 | 1 | Higashiizu Town         | Shizuoka | 3354,Inatori, Higashiizu cho             | NA | ヒガシイズチョウ           | 0 |\n",
       "\n"
      ],
      "text/plain": [
       "   X1 X1000013040008 X01 X1.1 X2018.04.02 X2015.10.05 静岡家庭裁判所 X  X101\n",
       "1   2 1.000013e+12   1   1    2018-04-02  2015-10-05  清水簡易裁判所 NA 101 \n",
       "2   3 1.000013e+12   1   1    2018-04-02  2015-10-05  浜松簡易裁判所 NA 101 \n",
       "3   4 1.000020e+12   1   1    2018-04-05  2015-10-05  磐田市         NA 201 \n",
       "4   5 1.000020e+12   1   1    2018-04-05  2015-10-05  焼津市         NA 201 \n",
       "5   6 1.000020e+12   1   1    2020-09-29  2015-10-05  掛川市         NA 201 \n",
       "6   7 1.000020e+12   1   1    2018-04-05  2015-10-05  藤枝市         NA 201 \n",
       "7   8 1.000020e+12   1   1    2018-04-05  2015-10-05  御殿場市       NA 201 \n",
       "8   9 1.000020e+12   1   1    2018-04-05  2015-10-05  伊豆の国市     NA 201 \n",
       "9  10 1.000020e+12   1   1    2020-09-29  2015-10-05  牧之原市       NA 201 \n",
       "10 11 1.000020e+12   1   1    2018-04-05  2015-10-05  東伊豆町       NA 201 \n",
       "   静岡県 ⋯ X.6 X.7 X2015.10.05.1 X1.2 Shizuoka.Family.Court   Shizuoka\n",
       "1  静岡県 ⋯ NA      2015-10-05    1    Shimizu Summary Court   Shizuoka\n",
       "2  静岡県 ⋯ NA      2015-10-05    1    Hamamatsu Summary Court Shizuoka\n",
       "3  静岡県 ⋯ NA      2015-10-05    1    Iwata City              Shizuoka\n",
       "4  静岡県 ⋯ NA      2015-10-05    1    Yaizu city              Shizuoka\n",
       "5  静岡県 ⋯ NA      2015-10-05    1    Kakegawa City           Shizuoka\n",
       "6  静岡県 ⋯ NA      2015-10-05    1    Fujieda City            Shizuoka\n",
       "7  静岡県 ⋯ NA      2015-10-05    1    Gotemba City            Shizuoka\n",
       "8  静岡県 ⋯ NA      2015-10-05    1    Izunokuni shi           Shizuoka\n",
       "9  静岡県 ⋯ NA      2015-10-05    1    Makinohara City         Shizuoka\n",
       "10 静岡県 ⋯ NA      2015-10-05    1    Higashiizu Town         Shizuoka\n",
       "   X1.20..Jonaicho..Aoi.ku..Shizuoka.shi    X.8 シズオカカテイサイバンショ X0\n",
       "1  1-6-15, Tenjin, Shimizu ku, Shizuoka shi NA  シミズカンイサイバンショ   0 \n",
       "2  1-12-5, Chuo, Naka ku, Hamamatsu shi     NA  ハママツカンイサイバンショ 0 \n",
       "3  3-1,Kounodai, Iwata shi                  NA  イワタシ                   0 \n",
       "4  2-16-32 Honmachi, Yaizu shi              NA  ヤイヅシ                   0 \n",
       "5  1-1-1 Nagaya, Kakegawa shi               NA  カケガワシ                 0 \n",
       "6  1-11-1,Okadeyama, Fujieda shi            NA  フジエダシ                 0 \n",
       "7  483,Hagiwara, Gotemba shi                NA  ゴテンバシ                 0 \n",
       "8  Nagaoka340-1, Izunokuni shi              NA  イズノクニシ               0 \n",
       "9  447-1 Shizunami, Makinohara City         NA  マキノハラシ               0 \n",
       "10 3354,Inatori, Higashiizu cho             NA  ヒガシイズチョウ           0 "
      ]
     },
     "metadata": {},
     "output_type": "display_data"
    }
   ],
   "source": [
    "data %>%\n",
    "  head(n = 10)"
   ]
  },
  {
   "cell_type": "code",
   "execution_count": 7,
   "metadata": {
    "id": "QvwXkOiQxWjP"
   },
   "outputs": [
    {
     "data": {
      "text/html": [
       "114612"
      ],
      "text/latex": [
       "114612"
      ],
      "text/markdown": [
       "114612"
      ],
      "text/plain": [
       "[1] 114612"
      ]
     },
     "metadata": {},
     "output_type": "display_data"
    }
   ],
   "source": [
    "data %>% NROW()"
   ]
  },
  {
   "cell_type": "markdown",
   "metadata": {
    "id": "4_tpsKnw4nr1"
   },
   "source": [
    "headerなしでのファイル読み込み"
   ]
  },
  {
   "cell_type": "code",
   "execution_count": 8,
   "metadata": {
    "id": "XKjiB1s94qf8"
   },
   "outputs": [],
   "source": [
    "data <- read.csv(\"/home/jovyan/work/chapter-1/data/22_shizuoka_all_20210331.csv\",fileEncoding = \"cp932\",header=FALSE)"
   ]
  },
  {
   "cell_type": "code",
   "execution_count": 9,
   "metadata": {
    "id": "KPKVCG9U4qmB"
   },
   "outputs": [
    {
     "data": {
      "text/html": [
       "<table class=\"dataframe\">\n",
       "<caption>A data.frame: 10 × 30</caption>\n",
       "<thead>\n",
       "\t<tr><th></th><th scope=col>V1</th><th scope=col>V2</th><th scope=col>V3</th><th scope=col>V4</th><th scope=col>V5</th><th scope=col>V6</th><th scope=col>V7</th><th scope=col>V8</th><th scope=col>V9</th><th scope=col>V10</th><th scope=col>⋯</th><th scope=col>V21</th><th scope=col>V22</th><th scope=col>V23</th><th scope=col>V24</th><th scope=col>V25</th><th scope=col>V26</th><th scope=col>V27</th><th scope=col>V28</th><th scope=col>V29</th><th scope=col>V30</th></tr>\n",
       "\t<tr><th></th><th scope=col>&lt;int&gt;</th><th scope=col>&lt;dbl&gt;</th><th scope=col>&lt;int&gt;</th><th scope=col>&lt;int&gt;</th><th scope=col>&lt;fct&gt;</th><th scope=col>&lt;fct&gt;</th><th scope=col>&lt;fct&gt;</th><th scope=col>&lt;int&gt;</th><th scope=col>&lt;int&gt;</th><th scope=col>&lt;fct&gt;</th><th scope=col>⋯</th><th scope=col>&lt;dbl&gt;</th><th scope=col>&lt;fct&gt;</th><th scope=col>&lt;fct&gt;</th><th scope=col>&lt;int&gt;</th><th scope=col>&lt;fct&gt;</th><th scope=col>&lt;fct&gt;</th><th scope=col>&lt;fct&gt;</th><th scope=col>&lt;lgl&gt;</th><th scope=col>&lt;fct&gt;</th><th scope=col>&lt;int&gt;</th></tr>\n",
       "</thead>\n",
       "<tbody>\n",
       "\t<tr><th scope=row>1</th><td> 1</td><td>1.000013e+12</td><td>1</td><td>1</td><td>2018-04-02</td><td>2015-10-05</td><td>静岡家庭裁判所</td><td>NA</td><td>101</td><td>静岡県</td><td>⋯</td><td>NA</td><td></td><td>2015-10-05</td><td>1</td><td>Shizuoka Family Court  </td><td>Shizuoka</td><td>1-20, Jonaicho, Aoi ku, Shizuoka shi    </td><td>NA</td><td>シズオカカテイサイバンショ</td><td>0</td></tr>\n",
       "\t<tr><th scope=row>2</th><td> 2</td><td>1.000013e+12</td><td>1</td><td>1</td><td>2018-04-02</td><td>2015-10-05</td><td>清水簡易裁判所</td><td>NA</td><td>101</td><td>静岡県</td><td>⋯</td><td>NA</td><td></td><td>2015-10-05</td><td>1</td><td>Shimizu Summary Court  </td><td>Shizuoka</td><td>1-6-15, Tenjin, Shimizu ku, Shizuoka shi</td><td>NA</td><td>シミズカンイサイバンショ  </td><td>0</td></tr>\n",
       "\t<tr><th scope=row>3</th><td> 3</td><td>1.000013e+12</td><td>1</td><td>1</td><td>2018-04-02</td><td>2015-10-05</td><td>浜松簡易裁判所</td><td>NA</td><td>101</td><td>静岡県</td><td>⋯</td><td>NA</td><td></td><td>2015-10-05</td><td>1</td><td>Hamamatsu Summary Court</td><td>Shizuoka</td><td>1-12-5, Chuo, Naka ku, Hamamatsu shi    </td><td>NA</td><td>ハママツカンイサイバンショ</td><td>0</td></tr>\n",
       "\t<tr><th scope=row>4</th><td> 4</td><td>1.000020e+12</td><td>1</td><td>1</td><td>2018-04-05</td><td>2015-10-05</td><td>磐田市        </td><td>NA</td><td>201</td><td>静岡県</td><td>⋯</td><td>NA</td><td></td><td>2015-10-05</td><td>1</td><td>Iwata City             </td><td>Shizuoka</td><td>3-1,Kounodai, Iwata shi                 </td><td>NA</td><td>イワタシ                  </td><td>0</td></tr>\n",
       "\t<tr><th scope=row>5</th><td> 5</td><td>1.000020e+12</td><td>1</td><td>1</td><td>2018-04-05</td><td>2015-10-05</td><td>焼津市        </td><td>NA</td><td>201</td><td>静岡県</td><td>⋯</td><td>NA</td><td></td><td>2015-10-05</td><td>1</td><td>Yaizu city             </td><td>Shizuoka</td><td>2-16-32 Honmachi, Yaizu shi             </td><td>NA</td><td>ヤイヅシ                  </td><td>0</td></tr>\n",
       "\t<tr><th scope=row>6</th><td> 6</td><td>1.000020e+12</td><td>1</td><td>1</td><td>2020-09-29</td><td>2015-10-05</td><td>掛川市        </td><td>NA</td><td>201</td><td>静岡県</td><td>⋯</td><td>NA</td><td></td><td>2015-10-05</td><td>1</td><td>Kakegawa City          </td><td>Shizuoka</td><td>1-1-1 Nagaya, Kakegawa shi              </td><td>NA</td><td>カケガワシ                </td><td>0</td></tr>\n",
       "\t<tr><th scope=row>7</th><td> 7</td><td>1.000020e+12</td><td>1</td><td>1</td><td>2018-04-05</td><td>2015-10-05</td><td>藤枝市        </td><td>NA</td><td>201</td><td>静岡県</td><td>⋯</td><td>NA</td><td></td><td>2015-10-05</td><td>1</td><td>Fujieda City           </td><td>Shizuoka</td><td>1-11-1,Okadeyama, Fujieda shi           </td><td>NA</td><td>フジエダシ                </td><td>0</td></tr>\n",
       "\t<tr><th scope=row>8</th><td> 8</td><td>1.000020e+12</td><td>1</td><td>1</td><td>2018-04-05</td><td>2015-10-05</td><td>御殿場市      </td><td>NA</td><td>201</td><td>静岡県</td><td>⋯</td><td>NA</td><td></td><td>2015-10-05</td><td>1</td><td>Gotemba City           </td><td>Shizuoka</td><td>483,Hagiwara, Gotemba shi               </td><td>NA</td><td>ゴテンバシ                </td><td>0</td></tr>\n",
       "\t<tr><th scope=row>9</th><td> 9</td><td>1.000020e+12</td><td>1</td><td>1</td><td>2018-04-05</td><td>2015-10-05</td><td>伊豆の国市    </td><td>NA</td><td>201</td><td>静岡県</td><td>⋯</td><td>NA</td><td></td><td>2015-10-05</td><td>1</td><td>Izunokuni shi          </td><td>Shizuoka</td><td>Nagaoka340-1, Izunokuni shi             </td><td>NA</td><td>イズノクニシ              </td><td>0</td></tr>\n",
       "\t<tr><th scope=row>10</th><td>10</td><td>1.000020e+12</td><td>1</td><td>1</td><td>2020-09-29</td><td>2015-10-05</td><td>牧之原市      </td><td>NA</td><td>201</td><td>静岡県</td><td>⋯</td><td>NA</td><td></td><td>2015-10-05</td><td>1</td><td>Makinohara City        </td><td>Shizuoka</td><td>447-1 Shizunami, Makinohara City        </td><td>NA</td><td>マキノハラシ              </td><td>0</td></tr>\n",
       "</tbody>\n",
       "</table>\n"
      ],
      "text/latex": [
       "A data.frame: 10 × 30\n",
       "\\begin{tabular}{r|lllllllllllllllllllll}\n",
       "  & V1 & V2 & V3 & V4 & V5 & V6 & V7 & V8 & V9 & V10 & ⋯ & V21 & V22 & V23 & V24 & V25 & V26 & V27 & V28 & V29 & V30\\\\\n",
       "  & <int> & <dbl> & <int> & <int> & <fct> & <fct> & <fct> & <int> & <int> & <fct> & ⋯ & <dbl> & <fct> & <fct> & <int> & <fct> & <fct> & <fct> & <lgl> & <fct> & <int>\\\\\n",
       "\\hline\n",
       "\t1 &  1 & 1.000013e+12 & 1 & 1 & 2018-04-02 & 2015-10-05 & 静岡家庭裁判所 & NA & 101 & 静岡県 & ⋯ & NA &  & 2015-10-05 & 1 & Shizuoka Family Court   & Shizuoka & 1-20, Jonaicho, Aoi ku, Shizuoka shi     & NA & シズオカカテイサイバンショ & 0\\\\\n",
       "\t2 &  2 & 1.000013e+12 & 1 & 1 & 2018-04-02 & 2015-10-05 & 清水簡易裁判所 & NA & 101 & 静岡県 & ⋯ & NA &  & 2015-10-05 & 1 & Shimizu Summary Court   & Shizuoka & 1-6-15, Tenjin, Shimizu ku, Shizuoka shi & NA & シミズカンイサイバンショ   & 0\\\\\n",
       "\t3 &  3 & 1.000013e+12 & 1 & 1 & 2018-04-02 & 2015-10-05 & 浜松簡易裁判所 & NA & 101 & 静岡県 & ⋯ & NA &  & 2015-10-05 & 1 & Hamamatsu Summary Court & Shizuoka & 1-12-5, Chuo, Naka ku, Hamamatsu shi     & NA & ハママツカンイサイバンショ & 0\\\\\n",
       "\t4 &  4 & 1.000020e+12 & 1 & 1 & 2018-04-05 & 2015-10-05 & 磐田市         & NA & 201 & 静岡県 & ⋯ & NA &  & 2015-10-05 & 1 & Iwata City              & Shizuoka & 3-1,Kounodai, Iwata shi                  & NA & イワタシ                   & 0\\\\\n",
       "\t5 &  5 & 1.000020e+12 & 1 & 1 & 2018-04-05 & 2015-10-05 & 焼津市         & NA & 201 & 静岡県 & ⋯ & NA &  & 2015-10-05 & 1 & Yaizu city              & Shizuoka & 2-16-32 Honmachi, Yaizu shi              & NA & ヤイヅシ                   & 0\\\\\n",
       "\t6 &  6 & 1.000020e+12 & 1 & 1 & 2020-09-29 & 2015-10-05 & 掛川市         & NA & 201 & 静岡県 & ⋯ & NA &  & 2015-10-05 & 1 & Kakegawa City           & Shizuoka & 1-1-1 Nagaya, Kakegawa shi               & NA & カケガワシ                 & 0\\\\\n",
       "\t7 &  7 & 1.000020e+12 & 1 & 1 & 2018-04-05 & 2015-10-05 & 藤枝市         & NA & 201 & 静岡県 & ⋯ & NA &  & 2015-10-05 & 1 & Fujieda City            & Shizuoka & 1-11-1,Okadeyama, Fujieda shi            & NA & フジエダシ                 & 0\\\\\n",
       "\t8 &  8 & 1.000020e+12 & 1 & 1 & 2018-04-05 & 2015-10-05 & 御殿場市       & NA & 201 & 静岡県 & ⋯ & NA &  & 2015-10-05 & 1 & Gotemba City            & Shizuoka & 483,Hagiwara, Gotemba shi                & NA & ゴテンバシ                 & 0\\\\\n",
       "\t9 &  9 & 1.000020e+12 & 1 & 1 & 2018-04-05 & 2015-10-05 & 伊豆の国市     & NA & 201 & 静岡県 & ⋯ & NA &  & 2015-10-05 & 1 & Izunokuni shi           & Shizuoka & Nagaoka340-1, Izunokuni shi              & NA & イズノクニシ               & 0\\\\\n",
       "\t10 & 10 & 1.000020e+12 & 1 & 1 & 2020-09-29 & 2015-10-05 & 牧之原市       & NA & 201 & 静岡県 & ⋯ & NA &  & 2015-10-05 & 1 & Makinohara City         & Shizuoka & 447-1 Shizunami, Makinohara City         & NA & マキノハラシ               & 0\\\\\n",
       "\\end{tabular}\n"
      ],
      "text/markdown": [
       "\n",
       "A data.frame: 10 × 30\n",
       "\n",
       "| <!--/--> | V1 &lt;int&gt; | V2 &lt;dbl&gt; | V3 &lt;int&gt; | V4 &lt;int&gt; | V5 &lt;fct&gt; | V6 &lt;fct&gt; | V7 &lt;fct&gt; | V8 &lt;int&gt; | V9 &lt;int&gt; | V10 &lt;fct&gt; | ⋯ ⋯ | V21 &lt;dbl&gt; | V22 &lt;fct&gt; | V23 &lt;fct&gt; | V24 &lt;int&gt; | V25 &lt;fct&gt; | V26 &lt;fct&gt; | V27 &lt;fct&gt; | V28 &lt;lgl&gt; | V29 &lt;fct&gt; | V30 &lt;int&gt; |\n",
       "|---|---|---|---|---|---|---|---|---|---|---|---|---|---|---|---|---|---|---|---|---|---|\n",
       "| 1 |  1 | 1.000013e+12 | 1 | 1 | 2018-04-02 | 2015-10-05 | 静岡家庭裁判所 | NA | 101 | 静岡県 | ⋯ | NA | <!----> | 2015-10-05 | 1 | Shizuoka Family Court   | Shizuoka | 1-20, Jonaicho, Aoi ku, Shizuoka shi     | NA | シズオカカテイサイバンショ | 0 |\n",
       "| 2 |  2 | 1.000013e+12 | 1 | 1 | 2018-04-02 | 2015-10-05 | 清水簡易裁判所 | NA | 101 | 静岡県 | ⋯ | NA | <!----> | 2015-10-05 | 1 | Shimizu Summary Court   | Shizuoka | 1-6-15, Tenjin, Shimizu ku, Shizuoka shi | NA | シミズカンイサイバンショ   | 0 |\n",
       "| 3 |  3 | 1.000013e+12 | 1 | 1 | 2018-04-02 | 2015-10-05 | 浜松簡易裁判所 | NA | 101 | 静岡県 | ⋯ | NA | <!----> | 2015-10-05 | 1 | Hamamatsu Summary Court | Shizuoka | 1-12-5, Chuo, Naka ku, Hamamatsu shi     | NA | ハママツカンイサイバンショ | 0 |\n",
       "| 4 |  4 | 1.000020e+12 | 1 | 1 | 2018-04-05 | 2015-10-05 | 磐田市         | NA | 201 | 静岡県 | ⋯ | NA | <!----> | 2015-10-05 | 1 | Iwata City              | Shizuoka | 3-1,Kounodai, Iwata shi                  | NA | イワタシ                   | 0 |\n",
       "| 5 |  5 | 1.000020e+12 | 1 | 1 | 2018-04-05 | 2015-10-05 | 焼津市         | NA | 201 | 静岡県 | ⋯ | NA | <!----> | 2015-10-05 | 1 | Yaizu city              | Shizuoka | 2-16-32 Honmachi, Yaizu shi              | NA | ヤイヅシ                   | 0 |\n",
       "| 6 |  6 | 1.000020e+12 | 1 | 1 | 2020-09-29 | 2015-10-05 | 掛川市         | NA | 201 | 静岡県 | ⋯ | NA | <!----> | 2015-10-05 | 1 | Kakegawa City           | Shizuoka | 1-1-1 Nagaya, Kakegawa shi               | NA | カケガワシ                 | 0 |\n",
       "| 7 |  7 | 1.000020e+12 | 1 | 1 | 2018-04-05 | 2015-10-05 | 藤枝市         | NA | 201 | 静岡県 | ⋯ | NA | <!----> | 2015-10-05 | 1 | Fujieda City            | Shizuoka | 1-11-1,Okadeyama, Fujieda shi            | NA | フジエダシ                 | 0 |\n",
       "| 8 |  8 | 1.000020e+12 | 1 | 1 | 2018-04-05 | 2015-10-05 | 御殿場市       | NA | 201 | 静岡県 | ⋯ | NA | <!----> | 2015-10-05 | 1 | Gotemba City            | Shizuoka | 483,Hagiwara, Gotemba shi                | NA | ゴテンバシ                 | 0 |\n",
       "| 9 |  9 | 1.000020e+12 | 1 | 1 | 2018-04-05 | 2015-10-05 | 伊豆の国市     | NA | 201 | 静岡県 | ⋯ | NA | <!----> | 2015-10-05 | 1 | Izunokuni shi           | Shizuoka | Nagaoka340-1, Izunokuni shi              | NA | イズノクニシ               | 0 |\n",
       "| 10 | 10 | 1.000020e+12 | 1 | 1 | 2020-09-29 | 2015-10-05 | 牧之原市       | NA | 201 | 静岡県 | ⋯ | NA | <!----> | 2015-10-05 | 1 | Makinohara City         | Shizuoka | 447-1 Shizunami, Makinohara City         | NA | マキノハラシ               | 0 |\n",
       "\n"
      ],
      "text/plain": [
       "   V1 V2           V3 V4 V5         V6         V7             V8 V9  V10    ⋯\n",
       "1   1 1.000013e+12 1  1  2018-04-02 2015-10-05 静岡家庭裁判所 NA 101 静岡県 ⋯\n",
       "2   2 1.000013e+12 1  1  2018-04-02 2015-10-05 清水簡易裁判所 NA 101 静岡県 ⋯\n",
       "3   3 1.000013e+12 1  1  2018-04-02 2015-10-05 浜松簡易裁判所 NA 101 静岡県 ⋯\n",
       "4   4 1.000020e+12 1  1  2018-04-05 2015-10-05 磐田市         NA 201 静岡県 ⋯\n",
       "5   5 1.000020e+12 1  1  2018-04-05 2015-10-05 焼津市         NA 201 静岡県 ⋯\n",
       "6   6 1.000020e+12 1  1  2020-09-29 2015-10-05 掛川市         NA 201 静岡県 ⋯\n",
       "7   7 1.000020e+12 1  1  2018-04-05 2015-10-05 藤枝市         NA 201 静岡県 ⋯\n",
       "8   8 1.000020e+12 1  1  2018-04-05 2015-10-05 御殿場市       NA 201 静岡県 ⋯\n",
       "9   9 1.000020e+12 1  1  2018-04-05 2015-10-05 伊豆の国市     NA 201 静岡県 ⋯\n",
       "10 10 1.000020e+12 1  1  2020-09-29 2015-10-05 牧之原市       NA 201 静岡県 ⋯\n",
       "   V21 V22 V23        V24 V25                     V26     \n",
       "1  NA      2015-10-05 1   Shizuoka Family Court   Shizuoka\n",
       "2  NA      2015-10-05 1   Shimizu Summary Court   Shizuoka\n",
       "3  NA      2015-10-05 1   Hamamatsu Summary Court Shizuoka\n",
       "4  NA      2015-10-05 1   Iwata City              Shizuoka\n",
       "5  NA      2015-10-05 1   Yaizu city              Shizuoka\n",
       "6  NA      2015-10-05 1   Kakegawa City           Shizuoka\n",
       "7  NA      2015-10-05 1   Fujieda City            Shizuoka\n",
       "8  NA      2015-10-05 1   Gotemba City            Shizuoka\n",
       "9  NA      2015-10-05 1   Izunokuni shi           Shizuoka\n",
       "10 NA      2015-10-05 1   Makinohara City         Shizuoka\n",
       "   V27                                      V28 V29                        V30\n",
       "1  1-20, Jonaicho, Aoi ku, Shizuoka shi     NA  シズオカカテイサイバンショ 0  \n",
       "2  1-6-15, Tenjin, Shimizu ku, Shizuoka shi NA  シミズカンイサイバンショ   0  \n",
       "3  1-12-5, Chuo, Naka ku, Hamamatsu shi     NA  ハママツカンイサイバンショ 0  \n",
       "4  3-1,Kounodai, Iwata shi                  NA  イワタシ                   0  \n",
       "5  2-16-32 Honmachi, Yaizu shi              NA  ヤイヅシ                   0  \n",
       "6  1-1-1 Nagaya, Kakegawa shi               NA  カケガワシ                 0  \n",
       "7  1-11-1,Okadeyama, Fujieda shi            NA  フジエダシ                 0  \n",
       "8  483,Hagiwara, Gotemba shi                NA  ゴテンバシ                 0  \n",
       "9  Nagaoka340-1, Izunokuni shi              NA  イズノクニシ               0  \n",
       "10 447-1 Shizunami, Makinohara City         NA  マキノハラシ               0  "
      ]
     },
     "metadata": {},
     "output_type": "display_data"
    }
   ],
   "source": [
    "data %>%\n",
    "  head(n = 10)"
   ]
  },
  {
   "cell_type": "markdown",
   "metadata": {
    "id": "0FrKeZvUrFKn"
   },
   "source": [
    "## ノック２：読み込んだデータを確認しよう"
   ]
  },
  {
   "cell_type": "code",
   "execution_count": null,
   "metadata": {
    "id": "dQeuZrhAROgy"
   },
   "outputs": [],
   "source": []
  },
  {
   "cell_type": "code",
   "execution_count": null,
   "metadata": {
    "id": "QkP4J0i5wuUQ"
   },
   "outputs": [],
   "source": []
  },
  {
   "cell_type": "code",
   "execution_count": null,
   "metadata": {
    "id": "YjsTahEfUOPh"
   },
   "outputs": [],
   "source": []
  },
  {
   "cell_type": "code",
   "execution_count": null,
   "metadata": {
    "id": "4cFKuOBExPI_"
   },
   "outputs": [],
   "source": []
  },
  {
   "cell_type": "code",
   "execution_count": null,
   "metadata": {
    "id": "9Ei4rMoXYsDI"
   },
   "outputs": [],
   "source": []
  },
  {
   "cell_type": "code",
   "execution_count": null,
   "metadata": {
    "id": "Y06igshtZutV"
   },
   "outputs": [],
   "source": []
  },
  {
   "cell_type": "code",
   "execution_count": null,
   "metadata": {
    "id": "B5RI6J3OZNR9"
   },
   "outputs": [],
   "source": []
  },
  {
   "cell_type": "markdown",
   "metadata": {
    "id": "M4by1Jywr4G2"
   },
   "source": [
    "## ノック３：ヘッダ用のテキストファイルを読み込もう"
   ]
  },
  {
   "cell_type": "code",
   "execution_count": null,
   "metadata": {
    "id": "7ogDQr2Kya4I"
   },
   "outputs": [],
   "source": []
  },
  {
   "cell_type": "code",
   "execution_count": null,
   "metadata": {
    "id": "gG1lNXn-ya65"
   },
   "outputs": [],
   "source": []
  },
  {
   "cell_type": "code",
   "execution_count": null,
   "metadata": {
    "id": "Z5be3u4kz5iH"
   },
   "outputs": [],
   "source": []
  },
  {
   "cell_type": "code",
   "execution_count": null,
   "metadata": {
    "id": "l00v3lF_PM8k"
   },
   "outputs": [],
   "source": []
  },
  {
   "cell_type": "markdown",
   "metadata": {
    "id": "XueV-vtPwMY7"
   },
   "source": [
    "## ノック４：ヘッダ行を追加しよう"
   ]
  },
  {
   "cell_type": "code",
   "execution_count": null,
   "metadata": {
    "id": "yl6UHFMX0Gvq"
   },
   "outputs": [],
   "source": []
  },
  {
   "cell_type": "code",
   "execution_count": null,
   "metadata": {
    "id": "IdQIr8vOG-14"
   },
   "outputs": [],
   "source": []
  },
  {
   "cell_type": "code",
   "execution_count": null,
   "metadata": {
    "id": "CKedAXnp0Jop"
   },
   "outputs": [],
   "source": []
  },
  {
   "cell_type": "markdown",
   "metadata": {
    "id": "nrlLRoaExgGP"
   },
   "source": [
    "## ノック５：統計量や欠損値を確認しよう"
   ]
  },
  {
   "cell_type": "code",
   "execution_count": null,
   "metadata": {
    "id": "zVoqN0NSxw2S"
   },
   "outputs": [],
   "source": []
  },
  {
   "cell_type": "code",
   "execution_count": null,
   "metadata": {
    "id": "UPF1Inj8X3j5"
   },
   "outputs": [],
   "source": []
  },
  {
   "cell_type": "code",
   "execution_count": null,
   "metadata": {
    "id": "BWJGrOBJxz1F"
   },
   "outputs": [],
   "source": []
  },
  {
   "cell_type": "markdown",
   "metadata": {
    "id": "1Z8rwT646g7X"
   },
   "source": [
    "## ノック６：データの追加（繰り返し・読込・抽出・結合）"
   ]
  },
  {
   "cell_type": "code",
   "execution_count": null,
   "metadata": {
    "id": "_6ESyddb0lha"
   },
   "outputs": [],
   "source": []
  },
  {
   "cell_type": "code",
   "execution_count": null,
   "metadata": {
    "id": "lN3unz0ZNh4x"
   },
   "outputs": [],
   "source": []
  },
  {
   "cell_type": "code",
   "execution_count": null,
   "metadata": {
    "id": "oyzaHgbP0lxI"
   },
   "outputs": [],
   "source": []
  },
  {
   "cell_type": "code",
   "execution_count": null,
   "metadata": {
    "id": "9l-ZzTWnaHLR"
   },
   "outputs": [],
   "source": []
  },
  {
   "cell_type": "code",
   "execution_count": null,
   "metadata": {
    "id": "QmO-WGYfatBA"
   },
   "outputs": [],
   "source": []
  },
  {
   "cell_type": "code",
   "execution_count": null,
   "metadata": {
    "id": "jews9WyY2pU6"
   },
   "outputs": [],
   "source": []
  },
  {
   "cell_type": "code",
   "execution_count": null,
   "metadata": {
    "id": "1wsUlE5wPpfY"
   },
   "outputs": [],
   "source": []
  },
  {
   "cell_type": "code",
   "execution_count": null,
   "metadata": {
    "id": "4Yxyb8yYOVN5"
   },
   "outputs": [],
   "source": []
  },
  {
   "cell_type": "code",
   "execution_count": null,
   "metadata": {
    "id": "UyaZcj3WY59P"
   },
   "outputs": [],
   "source": []
  },
  {
   "cell_type": "code",
   "execution_count": null,
   "metadata": {
    "id": "FB0jcpNbh7L7"
   },
   "outputs": [],
   "source": []
  },
  {
   "cell_type": "code",
   "execution_count": null,
   "metadata": {
    "id": "NR6s7J-lPr4L"
   },
   "outputs": [],
   "source": []
  },
  {
   "cell_type": "markdown",
   "metadata": {
    "id": "EmMEqFfNwdYB"
   },
   "source": [
    "## ノック７：マスタを読み込んで項目を横に繋げよう"
   ]
  },
  {
   "cell_type": "code",
   "execution_count": null,
   "metadata": {
    "id": "D8lyUCQ6QtY-"
   },
   "outputs": [],
   "source": []
  },
  {
   "cell_type": "code",
   "execution_count": null,
   "metadata": {
    "id": "x77F4mLe7i2e"
   },
   "outputs": [],
   "source": []
  },
  {
   "cell_type": "code",
   "execution_count": null,
   "metadata": {
    "id": "WxiLuvtM7jB5"
   },
   "outputs": [],
   "source": []
  },
  {
   "cell_type": "code",
   "execution_count": null,
   "metadata": {
    "id": "PpAJDJwc7sBy"
   },
   "outputs": [],
   "source": []
  },
  {
   "cell_type": "code",
   "execution_count": null,
   "metadata": {
    "id": "ETz0LwEkiLaN"
   },
   "outputs": [],
   "source": []
  },
  {
   "cell_type": "code",
   "execution_count": null,
   "metadata": {
    "id": "pb30UGboVvLj"
   },
   "outputs": [],
   "source": []
  },
  {
   "cell_type": "code",
   "execution_count": null,
   "metadata": {
    "id": "CjgQzboxiLWz"
   },
   "outputs": [],
   "source": []
  },
  {
   "cell_type": "code",
   "execution_count": null,
   "metadata": {
    "id": "HqfXFSaoWGTx"
   },
   "outputs": [],
   "source": []
  },
  {
   "cell_type": "code",
   "execution_count": null,
   "metadata": {
    "id": "6CJqDq2iQtf2"
   },
   "outputs": [],
   "source": []
  },
  {
   "cell_type": "code",
   "execution_count": null,
   "metadata": {
    "id": "gQC3_PosiLTD"
   },
   "outputs": [],
   "source": []
  },
  {
   "cell_type": "code",
   "execution_count": null,
   "metadata": {
    "id": "5fqJ4wDIi6Oe"
   },
   "outputs": [],
   "source": []
  },
  {
   "cell_type": "code",
   "execution_count": null,
   "metadata": {
    "id": "dmW_80f__Uqa"
   },
   "outputs": [],
   "source": []
  },
  {
   "cell_type": "code",
   "execution_count": null,
   "metadata": {
    "id": "rqEjlChui6L6"
   },
   "outputs": [],
   "source": []
  },
  {
   "cell_type": "code",
   "execution_count": null,
   "metadata": {
    "id": "KzDF_WOH-3iH"
   },
   "outputs": [],
   "source": []
  },
  {
   "cell_type": "markdown",
   "metadata": {
    "id": "9K0jraNW615H"
   },
   "source": [
    "## ノック８：テキストの連結や分割をしよう"
   ]
  },
  {
   "cell_type": "code",
   "execution_count": null,
   "metadata": {
    "id": "tAY0PgnG7Two"
   },
   "outputs": [],
   "source": []
  },
  {
   "cell_type": "code",
   "execution_count": null,
   "metadata": {
    "id": "L5X2wDCPws7j"
   },
   "outputs": [],
   "source": []
  },
  {
   "cell_type": "code",
   "execution_count": null,
   "metadata": {
    "id": "ExieiuWXxrAX"
   },
   "outputs": [],
   "source": []
  },
  {
   "cell_type": "code",
   "execution_count": null,
   "metadata": {
    "id": "Rssx-kkDxrEl"
   },
   "outputs": [],
   "source": []
  },
  {
   "cell_type": "code",
   "execution_count": null,
   "metadata": {
    "id": "V9JeCiW0yaKx"
   },
   "outputs": [],
   "source": []
  },
  {
   "cell_type": "code",
   "execution_count": null,
   "metadata": {
    "id": "czPeOvRpC0q-"
   },
   "outputs": [],
   "source": []
  },
  {
   "cell_type": "code",
   "execution_count": null,
   "metadata": {
    "id": "KbYfrW_vJ3fi"
   },
   "outputs": [],
   "source": []
  },
  {
   "cell_type": "code",
   "execution_count": null,
   "metadata": {
    "id": "B5Hn_XxOJ3ph"
   },
   "outputs": [],
   "source": []
  },
  {
   "cell_type": "markdown",
   "metadata": {
    "id": "T6n7m5TJ7AkB"
   },
   "source": [
    "## ノック９：日付を加工しよう"
   ]
  },
  {
   "cell_type": "code",
   "execution_count": null,
   "metadata": {
    "id": "Hh4voaK5EWIy"
   },
   "outputs": [],
   "source": []
  },
  {
   "cell_type": "code",
   "execution_count": null,
   "metadata": {
    "id": "pp4IM35pEWNx"
   },
   "outputs": [],
   "source": []
  },
  {
   "cell_type": "code",
   "execution_count": null,
   "metadata": {
    "id": "PYcrAHBXEWXy"
   },
   "outputs": [],
   "source": []
  },
  {
   "cell_type": "code",
   "execution_count": null,
   "metadata": {
    "id": "SQ5WXWwLKe6G"
   },
   "outputs": [],
   "source": []
  },
  {
   "cell_type": "code",
   "execution_count": null,
   "metadata": {
    "id": "DrSSIdr-EWer"
   },
   "outputs": [],
   "source": []
  },
  {
   "cell_type": "code",
   "execution_count": null,
   "metadata": {
    "id": "NmkV16LBKHYz"
   },
   "outputs": [],
   "source": []
  },
  {
   "cell_type": "code",
   "execution_count": null,
   "metadata": {
    "id": "HYCFhKdNxE0o"
   },
   "outputs": [],
   "source": []
  },
  {
   "cell_type": "code",
   "execution_count": null,
   "metadata": {
    "id": "pxB5wykkKHdL"
   },
   "outputs": [],
   "source": []
  },
  {
   "cell_type": "code",
   "execution_count": null,
   "metadata": {
    "id": "HkpTWI6VLKzs"
   },
   "outputs": [],
   "source": []
  },
  {
   "cell_type": "code",
   "execution_count": null,
   "metadata": {
    "id": "NhtPdrAmLqf6"
   },
   "outputs": [],
   "source": []
  },
  {
   "cell_type": "code",
   "execution_count": null,
   "metadata": {
    "id": "_-nKto7YL7Bm"
   },
   "outputs": [],
   "source": []
  },
  {
   "cell_type": "markdown",
   "metadata": {
    "id": "XMwFLVzu-CZC"
   },
   "source": [
    "## ノック１０：年度を設定しよう"
   ]
  },
  {
   "cell_type": "code",
   "execution_count": null,
   "metadata": {
    "id": "8Qm0lSGh-eXC"
   },
   "outputs": [],
   "source": []
  },
  {
   "cell_type": "code",
   "execution_count": null,
   "metadata": {
    "id": "yd-2BV8CbXqf"
   },
   "outputs": [],
   "source": []
  },
  {
   "cell_type": "code",
   "execution_count": null,
   "metadata": {
    "id": "DNZpbuhvX2QD"
   },
   "outputs": [],
   "source": []
  },
  {
   "cell_type": "markdown",
   "metadata": {
    "id": "QPEBK5A47IFZ"
   },
   "source": [
    "## ノック１１：加工したデータをファイルに出力しよう"
   ]
  },
  {
   "cell_type": "code",
   "execution_count": null,
   "metadata": {
    "id": "DmJe35nRzIYT"
   },
   "outputs": [],
   "source": []
  },
  {
   "cell_type": "code",
   "execution_count": null,
   "metadata": {
    "id": "oFrIz626NtRx"
   },
   "outputs": [],
   "source": []
  },
  {
   "cell_type": "code",
   "execution_count": null,
   "metadata": {
    "id": "4jBHTfcRNtWK"
   },
   "outputs": [],
   "source": []
  },
  {
   "cell_type": "markdown",
   "metadata": {
    "id": "3adikQ_m65BI"
   },
   "source": [
    "## ノック１２：不要な項目の削除と並べ替えをしよう"
   ]
  },
  {
   "cell_type": "code",
   "execution_count": null,
   "metadata": {
    "id": "d8kal8_4w0vQ"
   },
   "outputs": [],
   "source": []
  },
  {
   "cell_type": "code",
   "execution_count": null,
   "metadata": {
    "id": "WIHn2hG4w0yw"
   },
   "outputs": [],
   "source": []
  },
  {
   "cell_type": "code",
   "execution_count": null,
   "metadata": {
    "id": "v1sp97Bow041"
   },
   "outputs": [],
   "source": []
  },
  {
   "cell_type": "code",
   "execution_count": null,
   "metadata": {
    "id": "aXfxDIbJPYcS"
   },
   "outputs": [],
   "source": []
  },
  {
   "cell_type": "markdown",
   "metadata": {
    "id": "m87Vuvjb69bU"
   },
   "source": [
    "## ノック１３：まとまった単位で集計しよう"
   ]
  },
  {
   "cell_type": "code",
   "execution_count": null,
   "metadata": {
    "id": "3yC1LA6Gosp0"
   },
   "outputs": [],
   "source": []
  },
  {
   "cell_type": "code",
   "execution_count": null,
   "metadata": {
    "id": "LebTq01-hwjW"
   },
   "outputs": [],
   "source": []
  },
  {
   "cell_type": "code",
   "execution_count": null,
   "metadata": {
    "id": "SB7cpmJflhPW"
   },
   "outputs": [],
   "source": []
  },
  {
   "cell_type": "code",
   "execution_count": null,
   "metadata": {
    "id": "Zk1k3xaQjyX7"
   },
   "outputs": [],
   "source": []
  },
  {
   "cell_type": "code",
   "execution_count": null,
   "metadata": {
    "id": "Uc_fFgydqhNj"
   },
   "outputs": [],
   "source": []
  },
  {
   "cell_type": "markdown",
   "metadata": {
    "id": "ChDnISx2McsC"
   },
   "source": [
    "## ノック１４：市区町村別の法人数を可視化しよう"
   ]
  },
  {
   "cell_type": "code",
   "execution_count": null,
   "metadata": {
    "id": "ltr0lIZ7YnVF"
   },
   "outputs": [],
   "source": []
  },
  {
   "cell_type": "code",
   "execution_count": null,
   "metadata": {
    "id": "EIF1Jx8nHlzu"
   },
   "outputs": [],
   "source": []
  },
  {
   "cell_type": "code",
   "execution_count": null,
   "metadata": {
    "id": "otM88RmMYU1t"
   },
   "outputs": [],
   "source": []
  },
  {
   "cell_type": "code",
   "execution_count": null,
   "metadata": {
    "id": "JLjaeA5SBYzu"
   },
   "outputs": [],
   "source": []
  },
  {
   "cell_type": "markdown",
   "metadata": {
    "id": "xZUzoupPKyHu"
   },
   "source": [
    "## ノック１５：グラフの縦横と表示順を変えてみよう"
   ]
  },
  {
   "cell_type": "code",
   "execution_count": null,
   "metadata": {
    "id": "56cZ_GCFLeC-"
   },
   "outputs": [],
   "source": []
  },
  {
   "cell_type": "code",
   "execution_count": null,
   "metadata": {
    "id": "1Roi13s5U6Tv"
   },
   "outputs": [],
   "source": []
  },
  {
   "cell_type": "markdown",
   "metadata": {
    "id": "3rjir-OYMuSC"
   },
   "source": [
    "## ノック１６：グラフのタイトルとラベルを設定しよう"
   ]
  },
  {
   "cell_type": "code",
   "execution_count": null,
   "metadata": {
    "id": "3Sn0LaQjXs36"
   },
   "outputs": [],
   "source": []
  },
  {
   "cell_type": "code",
   "execution_count": null,
   "metadata": {
    "id": "SCFxrkPIJ89L"
   },
   "outputs": [],
   "source": []
  },
  {
   "cell_type": "markdown",
   "metadata": {
    "id": "ZVbB0ORNMuce"
   },
   "source": [
    "## ノック１７：グラフの見た目をもっと変えてみよう"
   ]
  },
  {
   "cell_type": "code",
   "execution_count": null,
   "metadata": {
    "id": "Imo1pjuQcDMT"
   },
   "outputs": [],
   "source": []
  },
  {
   "cell_type": "markdown",
   "metadata": {
    "id": "MPSnLkD0Mkly"
   },
   "source": [
    "## ノック１８：９０日以内に新規登録された法人数を可視化してみよう"
   ]
  },
  {
   "cell_type": "code",
   "execution_count": null,
   "metadata": {
    "id": "Gm9PR3GwM4F8"
   },
   "outputs": [],
   "source": []
  },
  {
   "cell_type": "code",
   "execution_count": null,
   "metadata": {
    "id": "79WyMnMEVTK4"
   },
   "outputs": [],
   "source": []
  },
  {
   "cell_type": "code",
   "execution_count": null,
   "metadata": {
    "id": "aHPDh73iNATi"
   },
   "outputs": [],
   "source": []
  },
  {
   "cell_type": "code",
   "execution_count": null,
   "metadata": {
    "id": "pWDrnaBIqck0"
   },
   "outputs": [],
   "source": []
  },
  {
   "cell_type": "code",
   "execution_count": null,
   "metadata": {
    "id": "FV_zIHl0EGQb"
   },
   "outputs": [],
   "source": []
  },
  {
   "cell_type": "code",
   "execution_count": null,
   "metadata": {
    "id": "oIIvA-vHEGTO"
   },
   "outputs": [],
   "source": []
  },
  {
   "cell_type": "code",
   "execution_count": null,
   "metadata": {
    "id": "fZZlKIRpEGV7"
   },
   "outputs": [],
   "source": []
  },
  {
   "cell_type": "markdown",
   "metadata": {
    "id": "MitoEhNPM5s1"
   },
   "source": [
    "## ノック１９：年度別の推移を可視化しよう"
   ]
  },
  {
   "cell_type": "code",
   "execution_count": null,
   "metadata": {
    "id": "NBcoQ9bnLaWW"
   },
   "outputs": [],
   "source": []
  },
  {
   "cell_type": "code",
   "execution_count": null,
   "metadata": {
    "id": "YrytswQ5xVhc"
   },
   "outputs": [],
   "source": []
  },
  {
   "cell_type": "code",
   "execution_count": null,
   "metadata": {
    "id": "LTNolgJoGN3q"
   },
   "outputs": [],
   "source": []
  },
  {
   "cell_type": "code",
   "execution_count": null,
   "metadata": {
    "id": "NMh07RKdxUWQ"
   },
   "outputs": [],
   "source": []
  },
  {
   "cell_type": "markdown",
   "metadata": {
    "id": "20F9WmchGlfL"
   },
   "source": [
    "## ノック２０：データとグラフを出力しよう"
   ]
  },
  {
   "cell_type": "code",
   "execution_count": null,
   "metadata": {
    "id": "RKR4X1so6XQW"
   },
   "outputs": [],
   "source": []
  },
  {
   "cell_type": "code",
   "execution_count": null,
   "metadata": {
    "id": "LXQIkSZY2Zys"
   },
   "outputs": [],
   "source": []
  }
 ],
 "metadata": {
  "colab": {
   "collapsed_sections": [],
   "name": "1章.ipynb",
   "provenance": []
  },
  "kernelspec": {
   "display_name": "R",
   "language": "R",
   "name": "ir"
  },
  "language_info": {
   "codemirror_mode": "r",
   "file_extension": ".r",
   "mimetype": "text/x-r-source",
   "name": "R",
   "pygments_lexer": "r",
   "version": "4.2.2"
  }
 },
 "nbformat": 4,
 "nbformat_minor": 4
}
