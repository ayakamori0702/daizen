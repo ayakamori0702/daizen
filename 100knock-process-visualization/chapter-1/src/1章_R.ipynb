{
 "cells": [
  {
   "cell_type": "markdown",
   "metadata": {
    "id": "pCbOP-x725Jd"
   },
   "source": [
    "# １章 システムデータの加工・可視化を行う２０本ノック"
   ]
  },
  {
   "cell_type": "code",
   "execution_count": 1,
   "metadata": {
    "tags": []
   },
   "outputs": [
    {
     "data": {
      "text/html": [
       "<table class=\"dataframe\">\n",
       "<caption>A matrix: 231 × 16 of type chr</caption>\n",
       "<thead>\n",
       "\t<tr><th></th><th scope=col>Package</th><th scope=col>LibPath</th><th scope=col>Version</th><th scope=col>Priority</th><th scope=col>Depends</th><th scope=col>Imports</th><th scope=col>LinkingTo</th><th scope=col>Suggests</th><th scope=col>Enhances</th><th scope=col>License</th><th scope=col>License_is_FOSS</th><th scope=col>License_restricts_use</th><th scope=col>OS_type</th><th scope=col>MD5sum</th><th scope=col>NeedsCompilation</th><th scope=col>Built</th></tr>\n",
       "</thead>\n",
       "<tbody>\n",
       "\t<tr><th scope=row>askpass</th><td><span style=white-space:pre-wrap>askpass    </span></td><td>/opt/conda/lib/R/library</td><td><span style=white-space:pre-wrap>1.1   </span></td><td><span style=white-space:pre-wrap>NA         </span></td><td><span style=white-space:pre-wrap>NA                                                 </span></td><td><span style=white-space:pre-wrap>sys (&gt;= 2.1)                                                                                                                                            </span></td><td><span style=white-space:pre-wrap>NA                               </span></td><td><span style=white-space:pre-wrap>testthat                                                                                                                                                                                                                                                                                                                                                                                                                                                                                                                                                                                                                                                                                                                                                                    </span></td><td>NA </td><td><span style=white-space:pre-wrap>MIT + file LICENSE         </span></td><td>NA</td><td>NA</td><td>NA</td><td>NA</td><td>yes</td><td>4.2.1</td></tr>\n",
       "\t<tr><th scope=row>assertthat</th><td>assertthat </td><td>/opt/conda/lib/R/library</td><td>0.2.1 </td><td>NA         </td><td>NA                                                 </td><td>tools                                                                                                                                                   </td><td>NA                               </td><td>testthat, covr                                                                                                                                                                                                                                                                                                                                                                                                                                                                                                                                                                                                                                                                                                                                                              </td><td>NA </td><td>GPL-3                      </td><td>NA</td><td>NA</td><td>NA</td><td>NA</td><td>no </td><td>4.2.1</td></tr>\n",
       "\t<tr><th scope=row>backports</th><td><span style=white-space:pre-wrap>backports  </span></td><td>/opt/conda/lib/R/library</td><td>1.4.1 </td><td><span style=white-space:pre-wrap>NA         </span></td><td><span style=white-space:pre-wrap>R (&gt;= 3.0.0)                                       </span></td><td><span style=white-space:pre-wrap>NA                                                                                                                                                      </span></td><td><span style=white-space:pre-wrap>NA                               </span></td><td><span style=white-space:pre-wrap>NA                                                                                                                                                                                                                                                                                                                                                                                                                                                                                                                                                                                                                                                                                                                                                                          </span></td><td>NA </td><td><span style=white-space:pre-wrap>GPL-2 | GPL-3              </span></td><td>NA</td><td>NA</td><td>NA</td><td>NA</td><td>yes</td><td>4.2.1</td></tr>\n",
       "\t<tr><th scope=row>base</th><td>base       </td><td>/opt/conda/lib/R/library</td><td>4.2.1 </td><td>base       </td><td>NA                                                 </td><td>NA                                                                                                                                                      </td><td>NA                               </td><td>methods                                                                                                                                                                                                                                                                                                                                                                                                                                                                                                                                                                                                                                                                                                                                                                     </td><td>NA </td><td>Part of R 4.2.1            </td><td>NA</td><td>NA</td><td>NA</td><td>NA</td><td>NA </td><td>4.2.1</td></tr>\n",
       "\t<tr><th scope=row>base64enc</th><td><span style=white-space:pre-wrap>base64enc  </span></td><td>/opt/conda/lib/R/library</td><td>0.1-3 </td><td><span style=white-space:pre-wrap>NA         </span></td><td><span style=white-space:pre-wrap>R (&gt;= 2.9.0)                                       </span></td><td><span style=white-space:pre-wrap>NA                                                                                                                                                      </span></td><td><span style=white-space:pre-wrap>NA                               </span></td><td><span style=white-space:pre-wrap>NA                                                                                                                                                                                                                                                                                                                                                                                                                                                                                                                                                                                                                                                                                                                                                                          </span></td><td>png</td><td><span style=white-space:pre-wrap>GPL-2 | GPL-3              </span></td><td>NA</td><td>NA</td><td>NA</td><td>NA</td><td>yes</td><td>4.2.1</td></tr>\n",
       "\t<tr><th scope=row>bit</th><td><span style=white-space:pre-wrap>bit        </span></td><td>/opt/conda/lib/R/library</td><td>4.0.4 </td><td><span style=white-space:pre-wrap>NA         </span></td><td><span style=white-space:pre-wrap>R (&gt;= 2.9.2)                                       </span></td><td><span style=white-space:pre-wrap>NA                                                                                                                                                      </span></td><td><span style=white-space:pre-wrap>NA                               </span></td><td><span style=white-space:pre-wrap>testthat (&gt;= 0.11.0), roxygen2, knitr, rmarkdown,\n",
       "microbenchmark, bit64 (&gt;= 4.0.0), ff (&gt;= 4.0.0)                                                                                                                                                                                                                                                                                                                                                                                                                                                                                                                                                                                                                                                                          </span></td><td>NA </td><td><span style=white-space:pre-wrap>GPL-2 | GPL-3              </span></td><td>NA</td><td>NA</td><td>NA</td><td>NA</td><td>yes</td><td>4.2.1</td></tr>\n",
       "\t<tr><th scope=row>bit64</th><td><span style=white-space:pre-wrap>bit64      </span></td><td>/opt/conda/lib/R/library</td><td>4.0.5 </td><td><span style=white-space:pre-wrap>NA         </span></td><td>R (&gt;= 3.0.1), bit (&gt;= 4.0.0), utils, methods, stats</td><td><span style=white-space:pre-wrap>NA                                                                                                                                                      </span></td><td><span style=white-space:pre-wrap>NA                               </span></td><td><span style=white-space:pre-wrap>NA                                                                                                                                                                                                                                                                                                                                                                                                                                                                                                                                                                                                                                                                                                                                                                          </span></td><td>NA </td><td><span style=white-space:pre-wrap>GPL-2 | GPL-3              </span></td><td>NA</td><td>NA</td><td>NA</td><td>NA</td><td>yes</td><td>4.2.1</td></tr>\n",
       "\t<tr><th scope=row>bitops</th><td><span style=white-space:pre-wrap>bitops     </span></td><td>/opt/conda/lib/R/library</td><td>1.0-7 </td><td><span style=white-space:pre-wrap>NA         </span></td><td><span style=white-space:pre-wrap>NA                                                 </span></td><td><span style=white-space:pre-wrap>NA                                                                                                                                                      </span></td><td><span style=white-space:pre-wrap>NA                               </span></td><td><span style=white-space:pre-wrap>NA                                                                                                                                                                                                                                                                                                                                                                                                                                                                                                                                                                                                                                                                                                                                                                          </span></td><td>NA </td><td><span style=white-space:pre-wrap>GPL (&gt;= 2)                 </span></td><td>NA</td><td>NA</td><td>NA</td><td>NA</td><td>yes</td><td>4.2.1</td></tr>\n",
       "\t<tr><th scope=row>blob</th><td><span style=white-space:pre-wrap>blob       </span></td><td>/opt/conda/lib/R/library</td><td>1.2.3 </td><td><span style=white-space:pre-wrap>NA         </span></td><td><span style=white-space:pre-wrap>NA                                                 </span></td><td><span style=white-space:pre-wrap>methods, rlang, vctrs (&gt;= 0.2.1)                                                                                                                        </span></td><td><span style=white-space:pre-wrap>NA                               </span></td><td><span style=white-space:pre-wrap>covr, crayon, pillar (&gt;= 1.2.1), testthat                                                                                                                                                                                                                                                                                                                                                                                                                                                                                                                                                                                                                                                                                                                                   </span></td><td>NA </td><td><span style=white-space:pre-wrap>MIT + file LICENSE         </span></td><td>NA</td><td>NA</td><td>NA</td><td>NA</td><td>no </td><td>4.2.1</td></tr>\n",
       "\t<tr><th scope=row>brew</th><td><span style=white-space:pre-wrap>brew       </span></td><td>/opt/conda/lib/R/library</td><td>1.0-8 </td><td><span style=white-space:pre-wrap>NA         </span></td><td><span style=white-space:pre-wrap>NA                                                 </span></td><td><span style=white-space:pre-wrap>NA                                                                                                                                                      </span></td><td><span style=white-space:pre-wrap>NA                               </span></td><td><span style=white-space:pre-wrap>testthat (&gt;= 3.0.0)                                                                                                                                                                                                                                                                                                                                                                                                                                                                                                                                                                                                                                                                                                                                                         </span></td><td>NA </td><td><span style=white-space:pre-wrap>GPL-2                      </span></td><td>NA</td><td>NA</td><td>NA</td><td>NA</td><td>no </td><td>4.2.1</td></tr>\n",
       "\t<tr><th scope=row>brio</th><td><span style=white-space:pre-wrap>brio       </span></td><td>/opt/conda/lib/R/library</td><td>1.1.3 </td><td><span style=white-space:pre-wrap>NA         </span></td><td><span style=white-space:pre-wrap>NA                                                 </span></td><td><span style=white-space:pre-wrap>NA                                                                                                                                                      </span></td><td><span style=white-space:pre-wrap>NA                               </span></td><td><span style=white-space:pre-wrap>covr, testthat (&gt;= 2.1.0)                                                                                                                                                                                                                                                                                                                                                                                                                                                                                                                                                                                                                                                                                                                                                   </span></td><td>NA </td><td><span style=white-space:pre-wrap>MIT + file LICENSE         </span></td><td>NA</td><td>NA</td><td>NA</td><td>NA</td><td>yes</td><td>4.2.1</td></tr>\n",
       "\t<tr><th scope=row>broom</th><td><span style=white-space:pre-wrap>broom      </span></td><td>/opt/conda/lib/R/library</td><td>1.0.1 </td><td><span style=white-space:pre-wrap>NA         </span></td><td><span style=white-space:pre-wrap>R (&gt;= 3.1)                                         </span></td><td><span style=white-space:pre-wrap>backports, dplyr (&gt;= 1.0.0), ellipsis, generics (&gt;= 0.0.2),\n",
       "glue, purrr, rlang, stringr, tibble (&gt;= 3.0.0), tidyr (&gt;=\n",
       "1.0.0), ggplot2                 </span></td><td><span style=white-space:pre-wrap>NA                               </span></td><td>AER, AUC, bbmle, betareg, biglm, binGroup, boot, btergm (&gt;=\n",
       "1.10.6), car, carData, caret, cluster, cmprsk, coda, covr, drc,\n",
       "e1071, emmeans, epiR, ergm (&gt;= 3.10.4), fixest (&gt;= 0.9.0), gam\n",
       "(&gt;= 1.15), gee, geepack, glmnet, glmnetUtils, gmm, Hmisc,\n",
       "irlba, interp, joineRML, Kendall, knitr, ks, Lahman, lavaan,\n",
       "leaps, lfe, lm.beta, lme4, lmodel2, lmtest (&gt;= 0.9.38),\n",
       "lsmeans, maps, maptools, margins, MASS, mclust, mediation,\n",
       "metafor, mfx, mgcv, mlogit, modeldata, modeltests, muhaz,\n",
       "multcomp, network, nnet, orcutt (&gt;= 2.2), ordinal, plm, poLCA,\n",
       "psych, quantreg, rgeos, rmarkdown, robust, robustbase, rsample,\n",
       "sandwich, sp, spdep (&gt;= 1.1), spatialreg, speedglm, spelling,\n",
       "survey, survival, systemfit, testthat (&gt;= 2.1.0), tseries,\n",
       "vars, zoo</td><td>NA </td><td><span style=white-space:pre-wrap>MIT + file LICENSE         </span></td><td>NA</td><td>NA</td><td>NA</td><td>NA</td><td>no </td><td>4.2.1</td></tr>\n",
       "\t<tr><th scope=row>bslib</th><td><span style=white-space:pre-wrap>bslib      </span></td><td>/opt/conda/lib/R/library</td><td>0.4.1 </td><td><span style=white-space:pre-wrap>NA         </span></td><td><span style=white-space:pre-wrap>R (&gt;= 2.10)                                        </span></td><td><span style=white-space:pre-wrap>grDevices, htmltools (&gt;= 0.5.2), jsonlite, sass (&gt;= 0.4.0),\n",
       "jquerylib (&gt;= 0.1.3), rlang, cachem, memoise (&gt;= 2.0.1)                                    </span></td><td><span style=white-space:pre-wrap>NA                               </span></td><td><span style=white-space:pre-wrap>shiny (&gt;= 1.6.0), rmarkdown (&gt;= 2.7), thematic, knitr,\n",
       "testthat, withr, rappdirs, curl, magrittr                                                                                                                                                                                                                                                                                                                                                                                                                                                                                                                                                                                                                                                                           </span></td><td>NA </td><td><span style=white-space:pre-wrap>MIT + file LICENSE         </span></td><td>NA</td><td>NA</td><td>NA</td><td>NA</td><td>no </td><td>4.2.1</td></tr>\n",
       "\t<tr><th scope=row>cachem</th><td>cachem     </td><td>/opt/conda/lib/R/library</td><td>1.0.6 </td><td>NA         </td><td>NA                                                 </td><td>rlang, fastmap                                                                                                                                          </td><td>NA                               </td><td>testthat                                                                                                                                                                                                                                                                                                                                                                                                                                                                                                                                                                                                                                                                                                                                                                    </td><td>NA </td><td>MIT + file LICENSE         </td><td>NA</td><td>NA</td><td>NA</td><td>NA</td><td>yes</td><td>4.2.1</td></tr>\n",
       "\t<tr><th scope=row>callr</th><td><span style=white-space:pre-wrap>callr      </span></td><td>/opt/conda/lib/R/library</td><td>3.7.3 </td><td><span style=white-space:pre-wrap>NA         </span></td><td><span style=white-space:pre-wrap>R (&gt;= 3.4)                                         </span></td><td><span style=white-space:pre-wrap>processx (&gt;= 3.6.1), R6, utils                                                                                                                          </span></td><td><span style=white-space:pre-wrap>NA                               </span></td><td><span style=white-space:pre-wrap>asciicast, cli (&gt;= 1.1.0), covr, mockery, ps, rprojroot,\n",
       "spelling, testthat (&gt;= 3.0.0), withr (&gt;= 2.3.0)                                                                                                                                                                                                                                                                                                                                                                                                                                                                                                                                                                                                                                                                   </span></td><td>NA </td><td><span style=white-space:pre-wrap>MIT + file LICENSE         </span></td><td>NA</td><td>NA</td><td>NA</td><td>NA</td><td>no </td><td>4.2.1</td></tr>\n",
       "\t<tr><th scope=row>caret</th><td><span style=white-space:pre-wrap>caret      </span></td><td>/opt/conda/lib/R/library</td><td>6.0-93</td><td><span style=white-space:pre-wrap>NA         </span></td><td><span style=white-space:pre-wrap>ggplot2, lattice (&gt;= 0.20), R (&gt;= 3.2.0)           </span></td><td>e1071, foreach, grDevices, methods, ModelMetrics (&gt;= 1.2.2.2),\n",
       "nlme, plyr, pROC, recipes (&gt;= 0.1.10), reshape2, stats, stats4,\n",
       "utils, withr (&gt;= 2.0.0)</td><td><span style=white-space:pre-wrap>NA                               </span></td><td><span style=white-space:pre-wrap>BradleyTerry2, covr, Cubist, dplyr, earth (&gt;= 2.2-3),\n",
       "ellipse, fastICA, gam (&gt;= 1.15), ipred, kernlab, klaR, knitr,\n",
       "MASS, Matrix, mda, mgcv, mlbench, MLmetrics, nnet, pamr, party\n",
       "(&gt;= 0.9-99992), pls, proxy, randomForest, RANN, rmarkdown,\n",
       "rpart, spls, subselect, superpc, testthat (&gt;= 0.9.1), themis\n",
       "(&gt;= 0.1.3)                                                                                                                                                                                                                                                                                                                                                                                                                                                  </span></td><td>NA </td><td><span style=white-space:pre-wrap>GPL (&gt;= 2)                 </span></td><td>NA</td><td>NA</td><td>NA</td><td>NA</td><td>yes</td><td>4.2.1</td></tr>\n",
       "\t<tr><th scope=row>cellranger</th><td>cellranger </td><td>/opt/conda/lib/R/library</td><td>1.1.0 </td><td><span style=white-space:pre-wrap>NA         </span></td><td><span style=white-space:pre-wrap>R (&gt;= 3.0.0)                                       </span></td><td><span style=white-space:pre-wrap>rematch, tibble                                                                                                                                         </span></td><td><span style=white-space:pre-wrap>NA                               </span></td><td><span style=white-space:pre-wrap>covr, testthat (&gt;= 1.0.0), knitr, rmarkdown                                                                                                                                                                                                                                                                                                                                                                                                                                                                                                                                                                                                                                                                                                                                 </span></td><td>NA </td><td><span style=white-space:pre-wrap>MIT + file LICENSE         </span></td><td>NA</td><td>NA</td><td>NA</td><td>NA</td><td>no </td><td>4.2.1</td></tr>\n",
       "\t<tr><th scope=row>class</th><td><span style=white-space:pre-wrap>class      </span></td><td>/opt/conda/lib/R/library</td><td>7.3-20</td><td>recommended</td><td><span style=white-space:pre-wrap>R (&gt;= 3.0.0), stats, utils                         </span></td><td><span style=white-space:pre-wrap>MASS                                                                                                                                                    </span></td><td><span style=white-space:pre-wrap>NA                               </span></td><td><span style=white-space:pre-wrap>NA                                                                                                                                                                                                                                                                                                                                                                                                                                                                                                                                                                                                                                                                                                                                                                          </span></td><td>NA </td><td><span style=white-space:pre-wrap>GPL-2 | GPL-3              </span></td><td>NA</td><td>NA</td><td>NA</td><td>NA</td><td>yes</td><td>4.2.1</td></tr>\n",
       "\t<tr><th scope=row>cli</th><td><span style=white-space:pre-wrap>cli        </span></td><td>/opt/conda/lib/R/library</td><td>3.4.1 </td><td><span style=white-space:pre-wrap>NA         </span></td><td><span style=white-space:pre-wrap>R (&gt;= 3.4)                                         </span></td><td><span style=white-space:pre-wrap>utils                                                                                                                                                   </span></td><td><span style=white-space:pre-wrap>NA                               </span></td><td><span style=white-space:pre-wrap>callr, covr, digest, glue (&gt;= 1.6.0), grDevices, htmltools,\n",
       "htmlwidgets, knitr, methods, mockery, processx, ps (&gt;=\n",
       "1.3.4.9000), rlang (&gt;= 1.0.2.9003), rmarkdown, rprojroot,\n",
       "rstudioapi, testthat, tibble, whoami, withr                                                                                                                                                                                                                                                                                                                                                                                                                                                                                                                                                 </span></td><td>NA </td><td><span style=white-space:pre-wrap>MIT + file LICENSE         </span></td><td>NA</td><td>NA</td><td>NA</td><td>NA</td><td>yes</td><td>4.2.1</td></tr>\n",
       "\t<tr><th scope=row>clipr</th><td><span style=white-space:pre-wrap>clipr      </span></td><td>/opt/conda/lib/R/library</td><td>0.8.0 </td><td><span style=white-space:pre-wrap>NA         </span></td><td><span style=white-space:pre-wrap>NA                                                 </span></td><td><span style=white-space:pre-wrap>utils                                                                                                                                                   </span></td><td><span style=white-space:pre-wrap>NA                               </span></td><td><span style=white-space:pre-wrap>covr, knitr, rmarkdown, rstudioapi (&gt;= 0.5), testthat (&gt;=\n",
       "2.0.0)                                                                                                                                                                                                                                                                                                                                                                                                                                                                                                                                                                                                                                                                                                           </span></td><td>NA </td><td><span style=white-space:pre-wrap>GPL-3                      </span></td><td>NA</td><td>NA</td><td>NA</td><td>NA</td><td>no </td><td>4.2.1</td></tr>\n",
       "\t<tr><th scope=row>clock</th><td><span style=white-space:pre-wrap>clock      </span></td><td>/opt/conda/lib/R/library</td><td>0.6.1 </td><td><span style=white-space:pre-wrap>NA         </span></td><td><span style=white-space:pre-wrap>R (&gt;= 3.4)                                         </span></td><td><span style=white-space:pre-wrap>rlang (&gt;= 1.0.4), tzdb (&gt;= 0.3.0), vctrs (&gt;= 0.4.1)                                                                                                     </span></td><td>cpp11 (&gt;= 0.4.2), tzdb (&gt;= 0.3.0)</td><td><span style=white-space:pre-wrap>covr, knitr, magrittr, pillar, rmarkdown, testthat (&gt;=\n",
       "3.0.0), withr                                                                                                                                                                                                                                                                                                                                                                                                                                                                                                                                                                                                                                                                                                       </span></td><td>NA </td><td><span style=white-space:pre-wrap>MIT + file LICENSE         </span></td><td>NA</td><td>NA</td><td>NA</td><td>NA</td><td>yes</td><td>4.2.1</td></tr>\n",
       "\t<tr><th scope=row>codetools</th><td><span style=white-space:pre-wrap>codetools  </span></td><td>/opt/conda/lib/R/library</td><td>0.2-18</td><td>recommended</td><td><span style=white-space:pre-wrap>R (&gt;= 2.1)                                         </span></td><td><span style=white-space:pre-wrap>NA                                                                                                                                                      </span></td><td><span style=white-space:pre-wrap>NA                               </span></td><td><span style=white-space:pre-wrap>NA                                                                                                                                                                                                                                                                                                                                                                                                                                                                                                                                                                                                                                                                                                                                                                          </span></td><td>NA </td><td><span style=white-space:pre-wrap>GPL                        </span></td><td>NA</td><td>NA</td><td>NA</td><td>NA</td><td>no </td><td>4.2.1</td></tr>\n",
       "\t<tr><th scope=row>colorspace</th><td>colorspace </td><td>/opt/conda/lib/R/library</td><td>2.0-3 </td><td><span style=white-space:pre-wrap>NA         </span></td><td><span style=white-space:pre-wrap>R (&gt;= 3.0.0), methods                              </span></td><td><span style=white-space:pre-wrap>graphics, grDevices, stats                                                                                                                              </span></td><td><span style=white-space:pre-wrap>NA                               </span></td><td><span style=white-space:pre-wrap>datasets, utils, KernSmooth, MASS, kernlab, mvtnorm, vcd,\n",
       "tcltk, shiny, shinyjs, ggplot2, dplyr, scales, grid, png, jpeg,\n",
       "knitr, rmarkdown, RColorBrewer, rcartocolor, scico, viridis,\n",
       "wesanderson                                                                                                                                                                                                                                                                                                                                                                                                                                                                                                                                                                       </span></td><td>NA </td><td>BSD_3_clause + file LICENSE</td><td>NA</td><td>NA</td><td>NA</td><td>NA</td><td>yes</td><td>4.2.1</td></tr>\n",
       "\t<tr><th scope=row>commonmark</th><td>commonmark </td><td>/opt/conda/lib/R/library</td><td>1.8.1 </td><td>NA         </td><td>NA                                                 </td><td>NA                                                                                                                                                      </td><td>NA                               </td><td>curl, testthat, xml2                                                                                                                                                                                                                                                                                                                                                                                                                                                                                                                                                                                                                                                                                                                                                        </td><td>NA </td><td>BSD_2_clause + file LICENSE</td><td>NA</td><td>NA</td><td>NA</td><td>NA</td><td>yes</td><td>4.2.1</td></tr>\n",
       "\t<tr><th scope=row>compiler</th><td>compiler   </td><td>/opt/conda/lib/R/library</td><td>4.2.1 </td><td>base       </td><td>NA                                                 </td><td>NA                                                                                                                                                      </td><td>NA                               </td><td>NA                                                                                                                                                                                                                                                                                                                                                                                                                                                                                                                                                                                                                                                                                                                                                                          </td><td>NA </td><td>Part of R 4.2.1            </td><td>NA</td><td>NA</td><td>NA</td><td>NA</td><td>NA </td><td>4.2.1</td></tr>\n",
       "\t<tr><th scope=row>conflicted</th><td>conflicted </td><td>/opt/conda/lib/R/library</td><td>1.1.0 </td><td><span style=white-space:pre-wrap>NA         </span></td><td><span style=white-space:pre-wrap>R (&gt;= 3.2)                                         </span></td><td><span style=white-space:pre-wrap>memoise, rlang (&gt;= 0.3.4)                                                                                                                               </span></td><td><span style=white-space:pre-wrap>NA                               </span></td><td><span style=white-space:pre-wrap>callr, crayon, dplyr, Matrix, methods, pkgload, testthat (&gt;=\n",
       "3.0.0)                                                                                                                                                                                                                                                                                                                                                                                                                                                                                                                                                                                                                                                                                                        </span></td><td>NA </td><td><span style=white-space:pre-wrap>MIT + file LICENSE         </span></td><td>NA</td><td>NA</td><td>NA</td><td>NA</td><td>no </td><td>4.2.1</td></tr>\n",
       "\t<tr><th scope=row>cpp11</th><td>cpp11      </td><td>/opt/conda/lib/R/library</td><td>0.4.3 </td><td>NA         </td><td>NA                                                 </td><td>NA                                                                                                                                                      </td><td>NA                               </td><td>bench, brio, callr, cli, covr, decor, desc, ggplot2, glue,\n",
       "knitr, lobstr, mockery, progress, rmarkdown, scales, Rcpp,\n",
       "testthat, tibble, utils, vctrs, withr                                                                                                                                                                                                                                                                                                                                                                                                                                                                                                                                                                                                               </td><td>NA </td><td>MIT + file LICENSE         </td><td>NA</td><td>NA</td><td>NA</td><td>NA</td><td>no </td><td>4.2.1</td></tr>\n",
       "\t<tr><th scope=row>crayon</th><td>crayon     </td><td>/opt/conda/lib/R/library</td><td>1.5.2 </td><td>NA         </td><td>NA                                                 </td><td>grDevices, methods, utils                                                                                                                               </td><td>NA                               </td><td>mockery, rstudioapi, testthat, withr                                                                                                                                                                                                                                                                                                                                                                                                                                                                                                                                                                                                                                                                                                                                        </td><td>NA </td><td>MIT + file LICENSE         </td><td>NA</td><td>NA</td><td>NA</td><td>NA</td><td>no </td><td>4.2.1</td></tr>\n",
       "\t<tr><th scope=row>credentials</th><td>credentials</td><td>/opt/conda/lib/R/library</td><td>1.3.2 </td><td><span style=white-space:pre-wrap>NA         </span></td><td><span style=white-space:pre-wrap>NA                                                 </span></td><td><span style=white-space:pre-wrap>openssl (&gt;= 1.3), sys (&gt;= 2.1), curl, jsonlite, askpass                                                                                                 </span></td><td><span style=white-space:pre-wrap>NA                               </span></td><td><span style=white-space:pre-wrap>testthat, knitr, rmarkdown                                                                                                                                                                                                                                                                                                                                                                                                                                                                                                                                                                                                                                                                                                                                                  </span></td><td>NA </td><td><span style=white-space:pre-wrap>MIT + file LICENSE         </span></td><td>NA</td><td>NA</td><td>NA</td><td>NA</td><td>no </td><td>4.2.1</td></tr>\n",
       "\t<tr><th scope=row>curl</th><td><span style=white-space:pre-wrap>curl       </span></td><td>/opt/conda/lib/R/library</td><td>4.3.3 </td><td><span style=white-space:pre-wrap>NA         </span></td><td><span style=white-space:pre-wrap>R (&gt;= 3.0.0)                                       </span></td><td><span style=white-space:pre-wrap>NA                                                                                                                                                      </span></td><td><span style=white-space:pre-wrap>NA                               </span></td><td><span style=white-space:pre-wrap>spelling, testthat (&gt;= 1.0.0), knitr, jsonlite, rmarkdown,\n",
       "magrittr, httpuv (&gt;= 1.4.4), webutils                                                                                                                                                                                                                                                                                                                                                                                                                                                                                                                                                                                                                                                                           </span></td><td>NA </td><td><span style=white-space:pre-wrap>MIT + file LICENSE         </span></td><td>NA</td><td>NA</td><td>NA</td><td>NA</td><td>yes</td><td>4.2.1</td></tr>\n",
       "\t<tr><th scope=row>⋮</th><td>⋮</td><td>⋮</td><td>⋮</td><td>⋮</td><td>⋮</td><td>⋮</td><td>⋮</td><td>⋮</td><td>⋮</td><td>⋮</td><td>⋮</td><td>⋮</td><td>⋮</td><td>⋮</td><td>⋮</td><td>⋮</td></tr>\n",
       "\t<tr><th scope=row>tinytex</th><td><span style=white-space:pre-wrap>tinytex     </span></td><td>/opt/conda/lib/R/library</td><td><span style=white-space:pre-wrap>0.42   </span></td><td><span style=white-space:pre-wrap>NA  </span></td><td><span style=white-space:pre-wrap>NA                   </span></td><td><span style=white-space:pre-wrap>xfun (&gt;= 0.29)                                                                                                                                                                                                                                                                                                                                                                                    </span></td><td><span style=white-space:pre-wrap>NA                                                    </span></td><td><span style=white-space:pre-wrap>testit, rstudioapi                                                                                                                                                                                  </span></td><td><span style=white-space:pre-wrap>NA      </span></td><td><span style=white-space:pre-wrap>MIT + file LICENSE                    </span></td><td>NA</td><td>NA</td><td>NA</td><td>NA</td><td>no </td><td>4.2.1</td></tr>\n",
       "\t<tr><th scope=row>tools</th><td>tools       </td><td>/opt/conda/lib/R/library</td><td>4.2.1  </td><td>base</td><td>NA                   </td><td>NA                                                                                                                                                                                                                                                                                                                                                                                                </td><td>NA                                                    </td><td>codetools, methods, xml2, curl, commonmark, knitr, xfun,\n",
       "mathjaxr                                                                                                                                  </td><td>NA      </td><td>Part of R 4.2.1                       </td><td>NA</td><td>NA</td><td>NA</td><td>NA</td><td>yes</td><td>4.2.1</td></tr>\n",
       "\t<tr><th scope=row>tseries</th><td><span style=white-space:pre-wrap>tseries     </span></td><td>/opt/conda/lib/R/library</td><td>0.10-52</td><td><span style=white-space:pre-wrap>NA  </span></td><td><span style=white-space:pre-wrap>R (&gt;= 2.10.0)        </span></td><td><span style=white-space:pre-wrap>graphics, stats, utils, quadprog, zoo, quantmod (&gt;= 0.4-9)                                                                                                                                                                                                                                                                                                                                        </span></td><td><span style=white-space:pre-wrap>NA                                                    </span></td><td><span style=white-space:pre-wrap>NA                                                                                                                                                                                                  </span></td><td><span style=white-space:pre-wrap>NA      </span></td><td><span style=white-space:pre-wrap>GPL-2                                 </span></td><td>NA</td><td>NA</td><td>NA</td><td>NA</td><td>yes</td><td>4.2.1</td></tr>\n",
       "\t<tr><th scope=row>TTR</th><td><span style=white-space:pre-wrap>TTR         </span></td><td>/opt/conda/lib/R/library</td><td>0.24.3 </td><td><span style=white-space:pre-wrap>NA  </span></td><td><span style=white-space:pre-wrap>NA                   </span></td><td><span style=white-space:pre-wrap>xts (&gt;= 0.10-0), zoo, curl                                                                                                                                                                                                                                                                                                                                                                        </span></td><td><span style=white-space:pre-wrap>xts                                                   </span></td><td><span style=white-space:pre-wrap>RUnit                                                                                                                                                                                               </span></td><td>quantmod</td><td><span style=white-space:pre-wrap>GPL (&gt;= 2)                            </span></td><td>NA</td><td>NA</td><td>NA</td><td>NA</td><td>yes</td><td>4.2.1</td></tr>\n",
       "\t<tr><th scope=row>tune</th><td><span style=white-space:pre-wrap>tune        </span></td><td>/opt/conda/lib/R/library</td><td><span style=white-space:pre-wrap>1.0.1  </span></td><td><span style=white-space:pre-wrap>NA  </span></td><td><span style=white-space:pre-wrap>R (&gt;= 3.4)           </span></td><td>cli (&gt;= 3.3.0), dials (&gt;= 1.0.0), dplyr (&gt;= 1.0.8), foreach,\n",
       "generics (&gt;= 0.1.2), ggplot2, glue (&gt;= 1.6.2), GPfit, hardhat\n",
       "(&gt;= 1.2.0), lifecycle (&gt;= 1.0.0), parsnip (&gt;= 1.0.2), purrr (&gt;=\n",
       "0.3.2), recipes (&gt;= 1.0.0), rlang (&gt;= 1.0.2), rsample (&gt;=\n",
       "1.0.0), tibble (&gt;= 3.1.0), tidyr (&gt;= 1.2.0), tidyselect (&gt;=\n",
       "1.1.2), vctrs (&gt;= 0.4.1), withr, workflows (&gt;= 1.0.0),\n",
       "yardstick (&gt;= 1.0.0)</td><td><span style=white-space:pre-wrap>NA                                                    </span></td><td><span style=white-space:pre-wrap>covr, kernlab, knitr, modeldata, spelling, testthat (&gt;=\n",
       "3.0.0), xml2                                                                                                                               </span></td><td><span style=white-space:pre-wrap>NA      </span></td><td><span style=white-space:pre-wrap>MIT + file LICENSE                    </span></td><td>NA</td><td>NA</td><td>NA</td><td>NA</td><td>no </td><td>4.2.1</td></tr>\n",
       "\t<tr><th scope=row>tzdb</th><td><span style=white-space:pre-wrap>tzdb        </span></td><td>/opt/conda/lib/R/library</td><td><span style=white-space:pre-wrap>0.3.0  </span></td><td><span style=white-space:pre-wrap>NA  </span></td><td><span style=white-space:pre-wrap>R (&gt;= 3.4.0)         </span></td><td><span style=white-space:pre-wrap>NA                                                                                                                                                                                                                                                                                                                                                                                                </span></td><td><span style=white-space:pre-wrap>cpp11 (&gt;= 0.4.2)                                      </span></td><td><span style=white-space:pre-wrap>covr, testthat (&gt;= 3.0.0)                                                                                                                                                                           </span></td><td><span style=white-space:pre-wrap>NA      </span></td><td><span style=white-space:pre-wrap>MIT + file LICENSE                    </span></td><td>NA</td><td>NA</td><td>NA</td><td>NA</td><td>yes</td><td>4.2.1</td></tr>\n",
       "\t<tr><th scope=row>urca</th><td><span style=white-space:pre-wrap>urca        </span></td><td>/opt/conda/lib/R/library</td><td><span style=white-space:pre-wrap>1.3-3  </span></td><td><span style=white-space:pre-wrap>NA  </span></td><td>R (&gt;= 2.0.0), methods</td><td><span style=white-space:pre-wrap>nlme, graphics, stats                                                                                                                                                                                                                                                                                                                                                                             </span></td><td><span style=white-space:pre-wrap>NA                                                    </span></td><td><span style=white-space:pre-wrap>NA                                                                                                                                                                                                  </span></td><td><span style=white-space:pre-wrap>NA      </span></td><td><span style=white-space:pre-wrap>GPL (&gt;= 2)                            </span></td><td>NA</td><td>NA</td><td>NA</td><td>NA</td><td>yes</td><td>4.2.1</td></tr>\n",
       "\t<tr><th scope=row>urlchecker</th><td><span style=white-space:pre-wrap>urlchecker  </span></td><td>/opt/conda/lib/R/library</td><td><span style=white-space:pre-wrap>1.0.1  </span></td><td><span style=white-space:pre-wrap>NA  </span></td><td><span style=white-space:pre-wrap>R (&gt;= 3.3)           </span></td><td><span style=white-space:pre-wrap>cli, curl, tools, xml2                                                                                                                                                                                                                                                                                                                                                                            </span></td><td><span style=white-space:pre-wrap>NA                                                    </span></td><td><span style=white-space:pre-wrap>covr                                                                                                                                                                                                </span></td><td><span style=white-space:pre-wrap>NA      </span></td><td><span style=white-space:pre-wrap>GPL-3                                 </span></td><td>NA</td><td>NA</td><td>NA</td><td>NA</td><td>no </td><td>4.2.1</td></tr>\n",
       "\t<tr><th scope=row>usethis</th><td><span style=white-space:pre-wrap>usethis     </span></td><td>/opt/conda/lib/R/library</td><td><span style=white-space:pre-wrap>2.1.6  </span></td><td><span style=white-space:pre-wrap>NA  </span></td><td><span style=white-space:pre-wrap>R (&gt;= 3.4)           </span></td><td><span style=white-space:pre-wrap>cli (&gt;= 3.0.1), clipr (&gt;= 0.3.0), crayon, curl (&gt;= 2.7), desc\n",
       "(&gt;= 1.4.0), fs (&gt;= 1.3.0), gert (&gt;= 1.4.1), gh (&gt;= 1.2.1), glue\n",
       "(&gt;= 1.3.0), jsonlite, lifecycle (&gt;= 1.0.0), purrr, rappdirs,\n",
       "rlang (&gt;= 1.0.0), rprojroot (&gt;= 1.2), rstudioapi, stats, utils,\n",
       "whisker, withr (&gt;= 2.3.0), yaml                                                                                                    </span></td><td><span style=white-space:pre-wrap>NA                                                    </span></td><td><span style=white-space:pre-wrap>covr, knitr, magick, mockr, pkgload, rmarkdown, roxygen2 (&gt;=\n",
       "7.1.2), spelling (&gt;= 1.2), styler (&gt;= 1.2.0), testthat (&gt;=\n",
       "3.1.0)                                                                    </span></td><td><span style=white-space:pre-wrap>NA      </span></td><td><span style=white-space:pre-wrap>MIT + file LICENSE                    </span></td><td>NA</td><td>NA</td><td>NA</td><td>NA</td><td>no </td><td>4.2.1</td></tr>\n",
       "\t<tr><th scope=row>utf8</th><td><span style=white-space:pre-wrap>utf8        </span></td><td>/opt/conda/lib/R/library</td><td><span style=white-space:pre-wrap>1.2.2  </span></td><td><span style=white-space:pre-wrap>NA  </span></td><td><span style=white-space:pre-wrap>R (&gt;= 2.10)          </span></td><td><span style=white-space:pre-wrap>NA                                                                                                                                                                                                                                                                                                                                                                                                </span></td><td><span style=white-space:pre-wrap>NA                                                    </span></td><td><span style=white-space:pre-wrap>cli, covr, knitr, rlang, rmarkdown, testthat (&gt;= 3.0.0),\n",
       "withr                                                                                                                                     </span></td><td><span style=white-space:pre-wrap>NA      </span></td><td>Apache License (== 2.0) | file LICENSE</td><td>NA</td><td>NA</td><td>NA</td><td>NA</td><td>yes</td><td>4.2.1</td></tr>\n",
       "\t<tr><th scope=row>utils</th><td>utils       </td><td>/opt/conda/lib/R/library</td><td>4.2.1  </td><td>base</td><td>NA                   </td><td>NA                                                                                                                                                                                                                                                                                                                                                                                                </td><td>NA                                                    </td><td>methods, xml2, commonmark, knitr                                                                                                                                                                    </td><td>NA      </td><td>Part of R 4.2.1                       </td><td>NA</td><td>NA</td><td>NA</td><td>NA</td><td>yes</td><td>4.2.1</td></tr>\n",
       "\t<tr><th scope=row>uuid</th><td><span style=white-space:pre-wrap>uuid        </span></td><td>/opt/conda/lib/R/library</td><td><span style=white-space:pre-wrap>1.1-0  </span></td><td><span style=white-space:pre-wrap>NA  </span></td><td><span style=white-space:pre-wrap>R (&gt;= 2.9.0)         </span></td><td><span style=white-space:pre-wrap>NA                                                                                                                                                                                                                                                                                                                                                                                                </span></td><td><span style=white-space:pre-wrap>NA                                                    </span></td><td><span style=white-space:pre-wrap>NA                                                                                                                                                                                                  </span></td><td><span style=white-space:pre-wrap>NA      </span></td><td><span style=white-space:pre-wrap>MIT + file LICENSE                    </span></td><td>NA</td><td>NA</td><td>NA</td><td>NA</td><td>yes</td><td>4.2.1</td></tr>\n",
       "\t<tr><th scope=row>vctrs</th><td><span style=white-space:pre-wrap>vctrs       </span></td><td>/opt/conda/lib/R/library</td><td><span style=white-space:pre-wrap>0.5.0  </span></td><td><span style=white-space:pre-wrap>NA  </span></td><td><span style=white-space:pre-wrap>R (&gt;= 3.3)           </span></td><td><span style=white-space:pre-wrap>cli (&gt;= 3.4.0), glue, lifecycle (&gt;= 1.0.3), rlang (&gt;= 1.0.6)                                                                                                                                                                                                                                                                                                                                      </span></td><td><span style=white-space:pre-wrap>NA                                                    </span></td><td><span style=white-space:pre-wrap>bit64, covr, crayon, dplyr (&gt;= 0.8.5), generics, knitr,\n",
       "pillar (&gt;= 1.4.4), pkgdown (&gt;= 2.0.1), rmarkdown, testthat (&gt;=\n",
       "3.0.0), tibble (&gt;= 3.1.3), withr, xml2, waldo (&gt;= 0.2.0),\n",
       "zeallot         </span></td><td><span style=white-space:pre-wrap>NA      </span></td><td><span style=white-space:pre-wrap>MIT + file LICENSE                    </span></td><td>NA</td><td>NA</td><td>NA</td><td>NA</td><td>yes</td><td>4.2.1</td></tr>\n",
       "\t<tr><th scope=row>viridisLite</th><td>viridisLite </td><td>/opt/conda/lib/R/library</td><td><span style=white-space:pre-wrap>0.4.1  </span></td><td><span style=white-space:pre-wrap>NA  </span></td><td><span style=white-space:pre-wrap>R (&gt;= 2.10)          </span></td><td><span style=white-space:pre-wrap>NA                                                                                                                                                                                                                                                                                                                                                                                                </span></td><td><span style=white-space:pre-wrap>NA                                                    </span></td><td><span style=white-space:pre-wrap>hexbin (&gt;= 1.27.0), ggplot2 (&gt;= 1.0.1), testthat, covr                                                                                                                                              </span></td><td><span style=white-space:pre-wrap>NA      </span></td><td><span style=white-space:pre-wrap>MIT + file LICENSE                    </span></td><td>NA</td><td>NA</td><td>NA</td><td>NA</td><td>no </td><td>4.2.1</td></tr>\n",
       "\t<tr><th scope=row>vroom</th><td><span style=white-space:pre-wrap>vroom       </span></td><td>/opt/conda/lib/R/library</td><td><span style=white-space:pre-wrap>1.6.0  </span></td><td><span style=white-space:pre-wrap>NA  </span></td><td><span style=white-space:pre-wrap>R (&gt;= 3.4)           </span></td><td><span style=white-space:pre-wrap>bit64, cli (&gt;= 3.2.0), crayon, glue, hms, lifecycle, methods,\n",
       "rlang (&gt;= 0.4.2), stats, tibble (&gt;= 2.0.0), tidyselect, tzdb\n",
       "(&gt;= 0.1.1), vctrs (&gt;= 0.2.0), withr                                                                                                                                                                                                                                  </span></td><td>cpp11 (&gt;= 0.2.0), progress (&gt;= 1.2.1), tzdb (&gt;= 0.1.1)</td><td>archive, bench (&gt;= 1.1.0), covr, curl, dplyr, forcats, fs,\n",
       "ggplot2, knitr, patchwork, prettyunits, purrr, rmarkdown,\n",
       "rstudioapi, scales, spelling, testthat (&gt;= 2.1.0), tidyr,\n",
       "utils, waldo, xml2</td><td><span style=white-space:pre-wrap>NA      </span></td><td><span style=white-space:pre-wrap>MIT + file LICENSE                    </span></td><td>NA</td><td>NA</td><td>NA</td><td>NA</td><td>yes</td><td>4.2.1</td></tr>\n",
       "\t<tr><th scope=row>waldo</th><td><span style=white-space:pre-wrap>waldo       </span></td><td>/opt/conda/lib/R/library</td><td><span style=white-space:pre-wrap>0.4.0  </span></td><td><span style=white-space:pre-wrap>NA  </span></td><td><span style=white-space:pre-wrap>NA                   </span></td><td><span style=white-space:pre-wrap>cli, diffobj (&gt;= 0.3.4), fansi, glue, methods, rematch2, rlang\n",
       "(&gt;= 1.0.0), tibble                                                                                                                                                                                                                                                                                                                </span></td><td><span style=white-space:pre-wrap>NA                                                    </span></td><td><span style=white-space:pre-wrap>covr, R6, testthat (&gt;= 3.0.0), withr, xml2                                                                                                                                                          </span></td><td><span style=white-space:pre-wrap>NA      </span></td><td><span style=white-space:pre-wrap>MIT + file LICENSE                    </span></td><td>NA</td><td>NA</td><td>NA</td><td>NA</td><td>no </td><td>4.2.1</td></tr>\n",
       "\t<tr><th scope=row>warp</th><td><span style=white-space:pre-wrap>warp        </span></td><td>/opt/conda/lib/R/library</td><td><span style=white-space:pre-wrap>0.2.0  </span></td><td><span style=white-space:pre-wrap>NA  </span></td><td><span style=white-space:pre-wrap>R (&gt;= 3.2)           </span></td><td><span style=white-space:pre-wrap>NA                                                                                                                                                                                                                                                                                                                                                                                                </span></td><td><span style=white-space:pre-wrap>NA                                                    </span></td><td><span style=white-space:pre-wrap>covr, testthat (&gt;= 2.1.0), knitr, rmarkdown                                                                                                                                                         </span></td><td><span style=white-space:pre-wrap>NA      </span></td><td><span style=white-space:pre-wrap>MIT + file LICENSE                    </span></td><td>NA</td><td>NA</td><td>NA</td><td>NA</td><td>yes</td><td>4.2.1</td></tr>\n",
       "\t<tr><th scope=row>whisker</th><td>whisker     </td><td>/opt/conda/lib/R/library</td><td>0.4    </td><td>NA  </td><td>NA                   </td><td>NA                                                                                                                                                                                                                                                                                                                                                                                                </td><td>NA                                                    </td><td>markdown                                                                                                                                                                                            </td><td>NA      </td><td>GPL-3                                 </td><td>NA</td><td>NA</td><td>NA</td><td>NA</td><td>no </td><td>4.2.1</td></tr>\n",
       "\t<tr><th scope=row>withr</th><td><span style=white-space:pre-wrap>withr       </span></td><td>/opt/conda/lib/R/library</td><td><span style=white-space:pre-wrap>2.5.0  </span></td><td><span style=white-space:pre-wrap>NA  </span></td><td><span style=white-space:pre-wrap>R (&gt;= 3.2.0)         </span></td><td><span style=white-space:pre-wrap>graphics, grDevices, stats                                                                                                                                                                                                                                                                                                                                                                        </span></td><td><span style=white-space:pre-wrap>NA                                                    </span></td><td><span style=white-space:pre-wrap>callr, covr, DBI, knitr, lattice, methods, rlang, rmarkdown\n",
       "(&gt;= 2.12), RSQLite, testthat (&gt;= 3.0.0)                                                                                                </span></td><td><span style=white-space:pre-wrap>NA      </span></td><td><span style=white-space:pre-wrap>MIT + file LICENSE                    </span></td><td>NA</td><td>NA</td><td>NA</td><td>NA</td><td>no </td><td>4.2.1</td></tr>\n",
       "\t<tr><th scope=row>workflows</th><td><span style=white-space:pre-wrap>workflows   </span></td><td>/opt/conda/lib/R/library</td><td><span style=white-space:pre-wrap>1.1.0  </span></td><td><span style=white-space:pre-wrap>NA  </span></td><td><span style=white-space:pre-wrap>R (&gt;= 3.4)           </span></td><td><span style=white-space:pre-wrap>cli (&gt;= 3.3.0), generics (&gt;= 0.1.2), glue (&gt;= 1.6.2), hardhat\n",
       "(&gt;= 1.2.0), lifecycle (&gt;= 1.0.1), parsnip (&gt;= 1.0.0), rlang (&gt;=\n",
       "1.0.3), tidyselect (&gt;= 1.1.2), vctrs (&gt;= 0.4.1)                                                                                                                                                                                                                   </span></td><td><span style=white-space:pre-wrap>NA                                                    </span></td><td><span style=white-space:pre-wrap>butcher (&gt;= 0.2.0), covr, dials (&gt;= 1.0.0), knitr, magrittr,\n",
       "modeldata (&gt;= 1.0.0), recipes (&gt;= 1.0.0), rmarkdown, testthat\n",
       "(&gt;= 3.0.0)                                                             </span></td><td><span style=white-space:pre-wrap>NA      </span></td><td><span style=white-space:pre-wrap>MIT + file LICENSE                    </span></td><td>NA</td><td>NA</td><td>NA</td><td>NA</td><td>no </td><td>4.2.1</td></tr>\n",
       "\t<tr><th scope=row>workflowsets</th><td>workflowsets</td><td>/opt/conda/lib/R/library</td><td><span style=white-space:pre-wrap>1.0.0  </span></td><td><span style=white-space:pre-wrap>NA  </span></td><td><span style=white-space:pre-wrap>R (&gt;= 3.4)           </span></td><td><span style=white-space:pre-wrap>cli, dplyr (&gt;= 1.0.0), generics (&gt;= 0.1.2), ggplot2, glue,\n",
       "hardhat (&gt;= 1.2.0), lifecycle (&gt;= 1.0.0), parsnip (&gt;= 1.0.0),\n",
       "pillar (&gt;= 1.7.0), prettyunits, purrr, rlang, rsample (&gt;=\n",
       "0.0.9), stats, tibble (&gt;= 3.1.0), tidyr, tune (&gt;= 1.0.0),\n",
       "vctrs, withr, workflows (&gt;= 1.0.0)                                                                                                               </span></td><td><span style=white-space:pre-wrap>NA                                                    </span></td><td><span style=white-space:pre-wrap>covr, dials (&gt;= 0.1.0), kknn, knitr, modeldata, recipes (&gt;=\n",
       "1.0.0), rmarkdown, spelling, testthat (&gt;= 3.0.0), yardstick (&gt;=\n",
       "1.0.0)                                                                </span></td><td><span style=white-space:pre-wrap>NA      </span></td><td><span style=white-space:pre-wrap>MIT + file LICENSE                    </span></td><td>NA</td><td>NA</td><td>NA</td><td>NA</td><td>no </td><td>4.2.1</td></tr>\n",
       "\t<tr><th scope=row>xfun</th><td><span style=white-space:pre-wrap>xfun        </span></td><td>/opt/conda/lib/R/library</td><td><span style=white-space:pre-wrap>0.34   </span></td><td><span style=white-space:pre-wrap>NA  </span></td><td><span style=white-space:pre-wrap>NA                   </span></td><td><span style=white-space:pre-wrap>stats, tools                                                                                                                                                                                                                                                                                                                                                                                      </span></td><td><span style=white-space:pre-wrap>NA                                                    </span></td><td><span style=white-space:pre-wrap>testit, parallel, codetools, rstudioapi, tinytex (&gt;= 0.30),\n",
       "mime, markdown, knitr, htmltools, remotes, pak, rhub, renv,\n",
       "curl, jsonlite, magick, rmarkdown                                         </span></td><td><span style=white-space:pre-wrap>NA      </span></td><td><span style=white-space:pre-wrap>MIT + file LICENSE                    </span></td><td>NA</td><td>NA</td><td>NA</td><td>NA</td><td>yes</td><td>4.2.1</td></tr>\n",
       "\t<tr><th scope=row>xml2</th><td><span style=white-space:pre-wrap>xml2        </span></td><td>/opt/conda/lib/R/library</td><td><span style=white-space:pre-wrap>1.3.3  </span></td><td><span style=white-space:pre-wrap>NA  </span></td><td><span style=white-space:pre-wrap>R (&gt;= 3.1.0)         </span></td><td><span style=white-space:pre-wrap>methods                                                                                                                                                                                                                                                                                                                                                                                           </span></td><td><span style=white-space:pre-wrap>NA                                                    </span></td><td><span style=white-space:pre-wrap>covr, curl, httr, knitr, magrittr, mockery, rmarkdown,\n",
       "testthat (&gt;= 2.1.0)                                                                                                                         </span></td><td><span style=white-space:pre-wrap>NA      </span></td><td><span style=white-space:pre-wrap>MIT + file LICENSE                    </span></td><td>NA</td><td>NA</td><td>NA</td><td>NA</td><td>yes</td><td>4.2.1</td></tr>\n",
       "\t<tr><th scope=row>xopen</th><td><span style=white-space:pre-wrap>xopen       </span></td><td>/opt/conda/lib/R/library</td><td><span style=white-space:pre-wrap>1.0.0  </span></td><td><span style=white-space:pre-wrap>NA  </span></td><td><span style=white-space:pre-wrap>R (&gt;= 3.1)           </span></td><td><span style=white-space:pre-wrap>processx                                                                                                                                                                                                                                                                                                                                                                                          </span></td><td><span style=white-space:pre-wrap>NA                                                    </span></td><td><span style=white-space:pre-wrap>ps, testthat                                                                                                                                                                                        </span></td><td><span style=white-space:pre-wrap>NA      </span></td><td><span style=white-space:pre-wrap>MIT + file LICENSE                    </span></td><td>NA</td><td>NA</td><td>NA</td><td>NA</td><td>no </td><td>4.2.1</td></tr>\n",
       "\t<tr><th scope=row>xtable</th><td><span style=white-space:pre-wrap>xtable      </span></td><td>/opt/conda/lib/R/library</td><td><span style=white-space:pre-wrap>1.8-4  </span></td><td><span style=white-space:pre-wrap>NA  </span></td><td><span style=white-space:pre-wrap>R (&gt;= 2.10.0)        </span></td><td><span style=white-space:pre-wrap>stats, utils                                                                                                                                                                                                                                                                                                                                                                                      </span></td><td><span style=white-space:pre-wrap>NA                                                    </span></td><td><span style=white-space:pre-wrap>knitr, plm, zoo, survival                                                                                                                                                                           </span></td><td><span style=white-space:pre-wrap>NA      </span></td><td><span style=white-space:pre-wrap>GPL (&gt;= 2)                            </span></td><td>NA</td><td>NA</td><td>NA</td><td>NA</td><td>no </td><td>4.2.1</td></tr>\n",
       "\t<tr><th scope=row>xts</th><td><span style=white-space:pre-wrap>xts         </span></td><td>/opt/conda/lib/R/library</td><td>0.12.2 </td><td><span style=white-space:pre-wrap>NA  </span></td><td><span style=white-space:pre-wrap>zoo (&gt;= 1.7-12)      </span></td><td><span style=white-space:pre-wrap>methods                                                                                                                                                                                                                                                                                                                                                                                           </span></td><td><span style=white-space:pre-wrap>zoo                                                   </span></td><td><span style=white-space:pre-wrap>timeSeries, timeDate, tseries, chron, tis, RUnit                                                                                                                                                    </span></td><td><span style=white-space:pre-wrap>NA      </span></td><td><span style=white-space:pre-wrap>GPL (&gt;= 2)                            </span></td><td>NA</td><td>NA</td><td>NA</td><td>NA</td><td>yes</td><td>4.2.1</td></tr>\n",
       "\t<tr><th scope=row>yaml</th><td>yaml        </td><td>/opt/conda/lib/R/library</td><td>2.3.6  </td><td>NA  </td><td>NA                   </td><td>NA                                                                                                                                                                                                                                                                                                                                                                                                </td><td>NA                                                    </td><td>RUnit                                                                                                                                                                                               </td><td>NA      </td><td>BSD_3_clause + file LICENSE           </td><td>NA</td><td>NA</td><td>NA</td><td>NA</td><td>yes</td><td>4.2.1</td></tr>\n",
       "\t<tr><th scope=row>yardstick</th><td><span style=white-space:pre-wrap>yardstick   </span></td><td>/opt/conda/lib/R/library</td><td><span style=white-space:pre-wrap>1.1.0  </span></td><td><span style=white-space:pre-wrap>NA  </span></td><td><span style=white-space:pre-wrap>R (&gt;= 3.4.0)         </span></td><td><span style=white-space:pre-wrap>dplyr (&gt;= 1.0.9), generics (&gt;= 0.1.2), hardhat (&gt;= 1.0.0),\n",
       "rlang (&gt;= 1.0.2), tidyselect (&gt;= 1.1.2), utils, vctrs (&gt;=\n",
       "0.4.1)                                                                                                                                                                                                                                                                     </span></td><td><span style=white-space:pre-wrap>NA                                                    </span></td><td><span style=white-space:pre-wrap>covr, crayon, ggplot2, knitr, probably (&gt;= 0.0.6), rmarkdown,\n",
       "testthat (&gt;= 3.0.0), tidyr                                                                                                           </span></td><td><span style=white-space:pre-wrap>NA      </span></td><td><span style=white-space:pre-wrap>MIT + file LICENSE                    </span></td><td>NA</td><td>NA</td><td>NA</td><td>NA</td><td>yes</td><td>4.2.1</td></tr>\n",
       "\t<tr><th scope=row>zip</th><td>zip         </td><td>/opt/conda/lib/R/library</td><td>2.2.2  </td><td>NA  </td><td>NA                   </td><td>NA                                                                                                                                                                                                                                                                                                                                                                                                </td><td>NA                                                    </td><td>covr, processx, R6, testthat, withr                                                                                                                                                                 </td><td>NA      </td><td>MIT + file LICENSE                    </td><td>NA</td><td>NA</td><td>NA</td><td>NA</td><td>yes</td><td>4.2.1</td></tr>\n",
       "\t<tr><th scope=row>zoo</th><td><span style=white-space:pre-wrap>zoo         </span></td><td>/opt/conda/lib/R/library</td><td>1.8-11 </td><td><span style=white-space:pre-wrap>NA  </span></td><td><span style=white-space:pre-wrap>R (&gt;= 3.1.0), stats  </span></td><td><span style=white-space:pre-wrap>utils, graphics, grDevices, lattice (&gt;= 0.20-27)                                                                                                                                                                                                                                                                                                                                                  </span></td><td><span style=white-space:pre-wrap>NA                                                    </span></td><td><span style=white-space:pre-wrap>AER, coda, chron, ggplot2 (&gt;= 3.0.0), mondate, scales,\n",
       "stinepack, strucchange, timeDate, timeSeries, tis, tseries, xts                                                                             </span></td><td><span style=white-space:pre-wrap>NA      </span></td><td><span style=white-space:pre-wrap>GPL-2 | GPL-3                         </span></td><td>NA</td><td>NA</td><td>NA</td><td>NA</td><td>yes</td><td>4.2.1</td></tr>\n",
       "</tbody>\n",
       "</table>\n"
      ],
      "text/latex": [
       "A matrix: 231 × 16 of type chr\n",
       "\\begin{tabular}{r|llllllllllllllll}\n",
       "  & Package & LibPath & Version & Priority & Depends & Imports & LinkingTo & Suggests & Enhances & License & License\\_is\\_FOSS & License\\_restricts\\_use & OS\\_type & MD5sum & NeedsCompilation & Built\\\\\n",
       "\\hline\n",
       "\taskpass & askpass     & /opt/conda/lib/R/library & 1.1    & NA          & NA                                                  & sys (>= 2.1)                                                                                                                                             & NA                                & testthat                                                                                                                                                                                                                                                                                                                                                                                                                                                                                                                                                                                                                                                                                                                                                                     & NA  & MIT + file LICENSE          & NA & NA & NA & NA & yes & 4.2.1\\\\\n",
       "\tassertthat & assertthat  & /opt/conda/lib/R/library & 0.2.1  & NA          & NA                                                  & tools                                                                                                                                                    & NA                                & testthat, covr                                                                                                                                                                                                                                                                                                                                                                                                                                                                                                                                                                                                                                                                                                                                                               & NA  & GPL-3                       & NA & NA & NA & NA & no  & 4.2.1\\\\\n",
       "\tbackports & backports   & /opt/conda/lib/R/library & 1.4.1  & NA          & R (>= 3.0.0)                                        & NA                                                                                                                                                       & NA                                & NA                                                                                                                                                                                                                                                                                                                                                                                                                                                                                                                                                                                                                                                                                                                                                                           & NA  & GPL-2 \\textbar{} GPL-3               & NA & NA & NA & NA & yes & 4.2.1\\\\\n",
       "\tbase & base        & /opt/conda/lib/R/library & 4.2.1  & base        & NA                                                  & NA                                                                                                                                                       & NA                                & methods                                                                                                                                                                                                                                                                                                                                                                                                                                                                                                                                                                                                                                                                                                                                                                      & NA  & Part of R 4.2.1             & NA & NA & NA & NA & NA  & 4.2.1\\\\\n",
       "\tbase64enc & base64enc   & /opt/conda/lib/R/library & 0.1-3  & NA          & R (>= 2.9.0)                                        & NA                                                                                                                                                       & NA                                & NA                                                                                                                                                                                                                                                                                                                                                                                                                                                                                                                                                                                                                                                                                                                                                                           & png & GPL-2 \\textbar{} GPL-3               & NA & NA & NA & NA & yes & 4.2.1\\\\\n",
       "\tbit & bit         & /opt/conda/lib/R/library & 4.0.4  & NA          & R (>= 2.9.2)                                        & NA                                                                                                                                                       & NA                                & testthat (>= 0.11.0), roxygen2, knitr, rmarkdown,\n",
       "microbenchmark, bit64 (>= 4.0.0), ff (>= 4.0.0)                                                                                                                                                                                                                                                                                                                                                                                                                                                                                                                                                                                                                                                                           & NA  & GPL-2 \\textbar{} GPL-3               & NA & NA & NA & NA & yes & 4.2.1\\\\\n",
       "\tbit64 & bit64       & /opt/conda/lib/R/library & 4.0.5  & NA          & R (>= 3.0.1), bit (>= 4.0.0), utils, methods, stats & NA                                                                                                                                                       & NA                                & NA                                                                                                                                                                                                                                                                                                                                                                                                                                                                                                                                                                                                                                                                                                                                                                           & NA  & GPL-2 \\textbar{} GPL-3               & NA & NA & NA & NA & yes & 4.2.1\\\\\n",
       "\tbitops & bitops      & /opt/conda/lib/R/library & 1.0-7  & NA          & NA                                                  & NA                                                                                                                                                       & NA                                & NA                                                                                                                                                                                                                                                                                                                                                                                                                                                                                                                                                                                                                                                                                                                                                                           & NA  & GPL (>= 2)                  & NA & NA & NA & NA & yes & 4.2.1\\\\\n",
       "\tblob & blob        & /opt/conda/lib/R/library & 1.2.3  & NA          & NA                                                  & methods, rlang, vctrs (>= 0.2.1)                                                                                                                         & NA                                & covr, crayon, pillar (>= 1.2.1), testthat                                                                                                                                                                                                                                                                                                                                                                                                                                                                                                                                                                                                                                                                                                                                    & NA  & MIT + file LICENSE          & NA & NA & NA & NA & no  & 4.2.1\\\\\n",
       "\tbrew & brew        & /opt/conda/lib/R/library & 1.0-8  & NA          & NA                                                  & NA                                                                                                                                                       & NA                                & testthat (>= 3.0.0)                                                                                                                                                                                                                                                                                                                                                                                                                                                                                                                                                                                                                                                                                                                                                          & NA  & GPL-2                       & NA & NA & NA & NA & no  & 4.2.1\\\\\n",
       "\tbrio & brio        & /opt/conda/lib/R/library & 1.1.3  & NA          & NA                                                  & NA                                                                                                                                                       & NA                                & covr, testthat (>= 2.1.0)                                                                                                                                                                                                                                                                                                                                                                                                                                                                                                                                                                                                                                                                                                                                                    & NA  & MIT + file LICENSE          & NA & NA & NA & NA & yes & 4.2.1\\\\\n",
       "\tbroom & broom       & /opt/conda/lib/R/library & 1.0.1  & NA          & R (>= 3.1)                                          & backports, dplyr (>= 1.0.0), ellipsis, generics (>= 0.0.2),\n",
       "glue, purrr, rlang, stringr, tibble (>= 3.0.0), tidyr (>=\n",
       "1.0.0), ggplot2                  & NA                                & AER, AUC, bbmle, betareg, biglm, binGroup, boot, btergm (>=\n",
       "1.10.6), car, carData, caret, cluster, cmprsk, coda, covr, drc,\n",
       "e1071, emmeans, epiR, ergm (>= 3.10.4), fixest (>= 0.9.0), gam\n",
       "(>= 1.15), gee, geepack, glmnet, glmnetUtils, gmm, Hmisc,\n",
       "irlba, interp, joineRML, Kendall, knitr, ks, Lahman, lavaan,\n",
       "leaps, lfe, lm.beta, lme4, lmodel2, lmtest (>= 0.9.38),\n",
       "lsmeans, maps, maptools, margins, MASS, mclust, mediation,\n",
       "metafor, mfx, mgcv, mlogit, modeldata, modeltests, muhaz,\n",
       "multcomp, network, nnet, orcutt (>= 2.2), ordinal, plm, poLCA,\n",
       "psych, quantreg, rgeos, rmarkdown, robust, robustbase, rsample,\n",
       "sandwich, sp, spdep (>= 1.1), spatialreg, speedglm, spelling,\n",
       "survey, survival, systemfit, testthat (>= 2.1.0), tseries,\n",
       "vars, zoo & NA  & MIT + file LICENSE          & NA & NA & NA & NA & no  & 4.2.1\\\\\n",
       "\tbslib & bslib       & /opt/conda/lib/R/library & 0.4.1  & NA          & R (>= 2.10)                                         & grDevices, htmltools (>= 0.5.2), jsonlite, sass (>= 0.4.0),\n",
       "jquerylib (>= 0.1.3), rlang, cachem, memoise (>= 2.0.1)                                     & NA                                & shiny (>= 1.6.0), rmarkdown (>= 2.7), thematic, knitr,\n",
       "testthat, withr, rappdirs, curl, magrittr                                                                                                                                                                                                                                                                                                                                                                                                                                                                                                                                                                                                                                                                            & NA  & MIT + file LICENSE          & NA & NA & NA & NA & no  & 4.2.1\\\\\n",
       "\tcachem & cachem      & /opt/conda/lib/R/library & 1.0.6  & NA          & NA                                                  & rlang, fastmap                                                                                                                                           & NA                                & testthat                                                                                                                                                                                                                                                                                                                                                                                                                                                                                                                                                                                                                                                                                                                                                                     & NA  & MIT + file LICENSE          & NA & NA & NA & NA & yes & 4.2.1\\\\\n",
       "\tcallr & callr       & /opt/conda/lib/R/library & 3.7.3  & NA          & R (>= 3.4)                                          & processx (>= 3.6.1), R6, utils                                                                                                                           & NA                                & asciicast, cli (>= 1.1.0), covr, mockery, ps, rprojroot,\n",
       "spelling, testthat (>= 3.0.0), withr (>= 2.3.0)                                                                                                                                                                                                                                                                                                                                                                                                                                                                                                                                                                                                                                                                    & NA  & MIT + file LICENSE          & NA & NA & NA & NA & no  & 4.2.1\\\\\n",
       "\tcaret & caret       & /opt/conda/lib/R/library & 6.0-93 & NA          & ggplot2, lattice (>= 0.20), R (>= 3.2.0)            & e1071, foreach, grDevices, methods, ModelMetrics (>= 1.2.2.2),\n",
       "nlme, plyr, pROC, recipes (>= 0.1.10), reshape2, stats, stats4,\n",
       "utils, withr (>= 2.0.0) & NA                                & BradleyTerry2, covr, Cubist, dplyr, earth (>= 2.2-3),\n",
       "ellipse, fastICA, gam (>= 1.15), ipred, kernlab, klaR, knitr,\n",
       "MASS, Matrix, mda, mgcv, mlbench, MLmetrics, nnet, pamr, party\n",
       "(>= 0.9-99992), pls, proxy, randomForest, RANN, rmarkdown,\n",
       "rpart, spls, subselect, superpc, testthat (>= 0.9.1), themis\n",
       "(>= 0.1.3)                                                                                                                                                                                                                                                                                                                                                                                                                                                   & NA  & GPL (>= 2)                  & NA & NA & NA & NA & yes & 4.2.1\\\\\n",
       "\tcellranger & cellranger  & /opt/conda/lib/R/library & 1.1.0  & NA          & R (>= 3.0.0)                                        & rematch, tibble                                                                                                                                          & NA                                & covr, testthat (>= 1.0.0), knitr, rmarkdown                                                                                                                                                                                                                                                                                                                                                                                                                                                                                                                                                                                                                                                                                                                                  & NA  & MIT + file LICENSE          & NA & NA & NA & NA & no  & 4.2.1\\\\\n",
       "\tclass & class       & /opt/conda/lib/R/library & 7.3-20 & recommended & R (>= 3.0.0), stats, utils                          & MASS                                                                                                                                                     & NA                                & NA                                                                                                                                                                                                                                                                                                                                                                                                                                                                                                                                                                                                                                                                                                                                                                           & NA  & GPL-2 \\textbar{} GPL-3               & NA & NA & NA & NA & yes & 4.2.1\\\\\n",
       "\tcli & cli         & /opt/conda/lib/R/library & 3.4.1  & NA          & R (>= 3.4)                                          & utils                                                                                                                                                    & NA                                & callr, covr, digest, glue (>= 1.6.0), grDevices, htmltools,\n",
       "htmlwidgets, knitr, methods, mockery, processx, ps (>=\n",
       "1.3.4.9000), rlang (>= 1.0.2.9003), rmarkdown, rprojroot,\n",
       "rstudioapi, testthat, tibble, whoami, withr                                                                                                                                                                                                                                                                                                                                                                                                                                                                                                                                                  & NA  & MIT + file LICENSE          & NA & NA & NA & NA & yes & 4.2.1\\\\\n",
       "\tclipr & clipr       & /opt/conda/lib/R/library & 0.8.0  & NA          & NA                                                  & utils                                                                                                                                                    & NA                                & covr, knitr, rmarkdown, rstudioapi (>= 0.5), testthat (>=\n",
       "2.0.0)                                                                                                                                                                                                                                                                                                                                                                                                                                                                                                                                                                                                                                                                                                            & NA  & GPL-3                       & NA & NA & NA & NA & no  & 4.2.1\\\\\n",
       "\tclock & clock       & /opt/conda/lib/R/library & 0.6.1  & NA          & R (>= 3.4)                                          & rlang (>= 1.0.4), tzdb (>= 0.3.0), vctrs (>= 0.4.1)                                                                                                      & cpp11 (>= 0.4.2), tzdb (>= 0.3.0) & covr, knitr, magrittr, pillar, rmarkdown, testthat (>=\n",
       "3.0.0), withr                                                                                                                                                                                                                                                                                                                                                                                                                                                                                                                                                                                                                                                                                                        & NA  & MIT + file LICENSE          & NA & NA & NA & NA & yes & 4.2.1\\\\\n",
       "\tcodetools & codetools   & /opt/conda/lib/R/library & 0.2-18 & recommended & R (>= 2.1)                                          & NA                                                                                                                                                       & NA                                & NA                                                                                                                                                                                                                                                                                                                                                                                                                                                                                                                                                                                                                                                                                                                                                                           & NA  & GPL                         & NA & NA & NA & NA & no  & 4.2.1\\\\\n",
       "\tcolorspace & colorspace  & /opt/conda/lib/R/library & 2.0-3  & NA          & R (>= 3.0.0), methods                               & graphics, grDevices, stats                                                                                                                               & NA                                & datasets, utils, KernSmooth, MASS, kernlab, mvtnorm, vcd,\n",
       "tcltk, shiny, shinyjs, ggplot2, dplyr, scales, grid, png, jpeg,\n",
       "knitr, rmarkdown, RColorBrewer, rcartocolor, scico, viridis,\n",
       "wesanderson                                                                                                                                                                                                                                                                                                                                                                                                                                                                                                                                                                        & NA  & BSD\\_3\\_clause + file LICENSE & NA & NA & NA & NA & yes & 4.2.1\\\\\n",
       "\tcommonmark & commonmark  & /opt/conda/lib/R/library & 1.8.1  & NA          & NA                                                  & NA                                                                                                                                                       & NA                                & curl, testthat, xml2                                                                                                                                                                                                                                                                                                                                                                                                                                                                                                                                                                                                                                                                                                                                                         & NA  & BSD\\_2\\_clause + file LICENSE & NA & NA & NA & NA & yes & 4.2.1\\\\\n",
       "\tcompiler & compiler    & /opt/conda/lib/R/library & 4.2.1  & base        & NA                                                  & NA                                                                                                                                                       & NA                                & NA                                                                                                                                                                                                                                                                                                                                                                                                                                                                                                                                                                                                                                                                                                                                                                           & NA  & Part of R 4.2.1             & NA & NA & NA & NA & NA  & 4.2.1\\\\\n",
       "\tconflicted & conflicted  & /opt/conda/lib/R/library & 1.1.0  & NA          & R (>= 3.2)                                          & memoise, rlang (>= 0.3.4)                                                                                                                                & NA                                & callr, crayon, dplyr, Matrix, methods, pkgload, testthat (>=\n",
       "3.0.0)                                                                                                                                                                                                                                                                                                                                                                                                                                                                                                                                                                                                                                                                                                         & NA  & MIT + file LICENSE          & NA & NA & NA & NA & no  & 4.2.1\\\\\n",
       "\tcpp11 & cpp11       & /opt/conda/lib/R/library & 0.4.3  & NA          & NA                                                  & NA                                                                                                                                                       & NA                                & bench, brio, callr, cli, covr, decor, desc, ggplot2, glue,\n",
       "knitr, lobstr, mockery, progress, rmarkdown, scales, Rcpp,\n",
       "testthat, tibble, utils, vctrs, withr                                                                                                                                                                                                                                                                                                                                                                                                                                                                                                                                                                                                                & NA  & MIT + file LICENSE          & NA & NA & NA & NA & no  & 4.2.1\\\\\n",
       "\tcrayon & crayon      & /opt/conda/lib/R/library & 1.5.2  & NA          & NA                                                  & grDevices, methods, utils                                                                                                                                & NA                                & mockery, rstudioapi, testthat, withr                                                                                                                                                                                                                                                                                                                                                                                                                                                                                                                                                                                                                                                                                                                                         & NA  & MIT + file LICENSE          & NA & NA & NA & NA & no  & 4.2.1\\\\\n",
       "\tcredentials & credentials & /opt/conda/lib/R/library & 1.3.2  & NA          & NA                                                  & openssl (>= 1.3), sys (>= 2.1), curl, jsonlite, askpass                                                                                                  & NA                                & testthat, knitr, rmarkdown                                                                                                                                                                                                                                                                                                                                                                                                                                                                                                                                                                                                                                                                                                                                                   & NA  & MIT + file LICENSE          & NA & NA & NA & NA & no  & 4.2.1\\\\\n",
       "\tcurl & curl        & /opt/conda/lib/R/library & 4.3.3  & NA          & R (>= 3.0.0)                                        & NA                                                                                                                                                       & NA                                & spelling, testthat (>= 1.0.0), knitr, jsonlite, rmarkdown,\n",
       "magrittr, httpuv (>= 1.4.4), webutils                                                                                                                                                                                                                                                                                                                                                                                                                                                                                                                                                                                                                                                                            & NA  & MIT + file LICENSE          & NA & NA & NA & NA & yes & 4.2.1\\\\\n",
       "\t⋮ & ⋮ & ⋮ & ⋮ & ⋮ & ⋮ & ⋮ & ⋮ & ⋮ & ⋮ & ⋮ & ⋮ & ⋮ & ⋮ & ⋮ & ⋮ & ⋮\\\\\n",
       "\ttinytex & tinytex      & /opt/conda/lib/R/library & 0.42    & NA   & NA                    & xfun (>= 0.29)                                                                                                                                                                                                                                                                                                                                                                                     & NA                                                     & testit, rstudioapi                                                                                                                                                                                   & NA       & MIT + file LICENSE                     & NA & NA & NA & NA & no  & 4.2.1\\\\\n",
       "\ttools & tools        & /opt/conda/lib/R/library & 4.2.1   & base & NA                    & NA                                                                                                                                                                                                                                                                                                                                                                                                 & NA                                                     & codetools, methods, xml2, curl, commonmark, knitr, xfun,\n",
       "mathjaxr                                                                                                                                   & NA       & Part of R 4.2.1                        & NA & NA & NA & NA & yes & 4.2.1\\\\\n",
       "\ttseries & tseries      & /opt/conda/lib/R/library & 0.10-52 & NA   & R (>= 2.10.0)         & graphics, stats, utils, quadprog, zoo, quantmod (>= 0.4-9)                                                                                                                                                                                                                                                                                                                                         & NA                                                     & NA                                                                                                                                                                                                   & NA       & GPL-2                                  & NA & NA & NA & NA & yes & 4.2.1\\\\\n",
       "\tTTR & TTR          & /opt/conda/lib/R/library & 0.24.3  & NA   & NA                    & xts (>= 0.10-0), zoo, curl                                                                                                                                                                                                                                                                                                                                                                         & xts                                                    & RUnit                                                                                                                                                                                                & quantmod & GPL (>= 2)                             & NA & NA & NA & NA & yes & 4.2.1\\\\\n",
       "\ttune & tune         & /opt/conda/lib/R/library & 1.0.1   & NA   & R (>= 3.4)            & cli (>= 3.3.0), dials (>= 1.0.0), dplyr (>= 1.0.8), foreach,\n",
       "generics (>= 0.1.2), ggplot2, glue (>= 1.6.2), GPfit, hardhat\n",
       "(>= 1.2.0), lifecycle (>= 1.0.0), parsnip (>= 1.0.2), purrr (>=\n",
       "0.3.2), recipes (>= 1.0.0), rlang (>= 1.0.2), rsample (>=\n",
       "1.0.0), tibble (>= 3.1.0), tidyr (>= 1.2.0), tidyselect (>=\n",
       "1.1.2), vctrs (>= 0.4.1), withr, workflows (>= 1.0.0),\n",
       "yardstick (>= 1.0.0) & NA                                                     & covr, kernlab, knitr, modeldata, spelling, testthat (>=\n",
       "3.0.0), xml2                                                                                                                                & NA       & MIT + file LICENSE                     & NA & NA & NA & NA & no  & 4.2.1\\\\\n",
       "\ttzdb & tzdb         & /opt/conda/lib/R/library & 0.3.0   & NA   & R (>= 3.4.0)          & NA                                                                                                                                                                                                                                                                                                                                                                                                 & cpp11 (>= 0.4.2)                                       & covr, testthat (>= 3.0.0)                                                                                                                                                                            & NA       & MIT + file LICENSE                     & NA & NA & NA & NA & yes & 4.2.1\\\\\n",
       "\turca & urca         & /opt/conda/lib/R/library & 1.3-3   & NA   & R (>= 2.0.0), methods & nlme, graphics, stats                                                                                                                                                                                                                                                                                                                                                                              & NA                                                     & NA                                                                                                                                                                                                   & NA       & GPL (>= 2)                             & NA & NA & NA & NA & yes & 4.2.1\\\\\n",
       "\turlchecker & urlchecker   & /opt/conda/lib/R/library & 1.0.1   & NA   & R (>= 3.3)            & cli, curl, tools, xml2                                                                                                                                                                                                                                                                                                                                                                             & NA                                                     & covr                                                                                                                                                                                                 & NA       & GPL-3                                  & NA & NA & NA & NA & no  & 4.2.1\\\\\n",
       "\tusethis & usethis      & /opt/conda/lib/R/library & 2.1.6   & NA   & R (>= 3.4)            & cli (>= 3.0.1), clipr (>= 0.3.0), crayon, curl (>= 2.7), desc\n",
       "(>= 1.4.0), fs (>= 1.3.0), gert (>= 1.4.1), gh (>= 1.2.1), glue\n",
       "(>= 1.3.0), jsonlite, lifecycle (>= 1.0.0), purrr, rappdirs,\n",
       "rlang (>= 1.0.0), rprojroot (>= 1.2), rstudioapi, stats, utils,\n",
       "whisker, withr (>= 2.3.0), yaml                                                                                                     & NA                                                     & covr, knitr, magick, mockr, pkgload, rmarkdown, roxygen2 (>=\n",
       "7.1.2), spelling (>= 1.2), styler (>= 1.2.0), testthat (>=\n",
       "3.1.0)                                                                     & NA       & MIT + file LICENSE                     & NA & NA & NA & NA & no  & 4.2.1\\\\\n",
       "\tutf8 & utf8         & /opt/conda/lib/R/library & 1.2.2   & NA   & R (>= 2.10)           & NA                                                                                                                                                                                                                                                                                                                                                                                                 & NA                                                     & cli, covr, knitr, rlang, rmarkdown, testthat (>= 3.0.0),\n",
       "withr                                                                                                                                      & NA       & Apache License (== 2.0) \\textbar{} file LICENSE & NA & NA & NA & NA & yes & 4.2.1\\\\\n",
       "\tutils & utils        & /opt/conda/lib/R/library & 4.2.1   & base & NA                    & NA                                                                                                                                                                                                                                                                                                                                                                                                 & NA                                                     & methods, xml2, commonmark, knitr                                                                                                                                                                     & NA       & Part of R 4.2.1                        & NA & NA & NA & NA & yes & 4.2.1\\\\\n",
       "\tuuid & uuid         & /opt/conda/lib/R/library & 1.1-0   & NA   & R (>= 2.9.0)          & NA                                                                                                                                                                                                                                                                                                                                                                                                 & NA                                                     & NA                                                                                                                                                                                                   & NA       & MIT + file LICENSE                     & NA & NA & NA & NA & yes & 4.2.1\\\\\n",
       "\tvctrs & vctrs        & /opt/conda/lib/R/library & 0.5.0   & NA   & R (>= 3.3)            & cli (>= 3.4.0), glue, lifecycle (>= 1.0.3), rlang (>= 1.0.6)                                                                                                                                                                                                                                                                                                                                       & NA                                                     & bit64, covr, crayon, dplyr (>= 0.8.5), generics, knitr,\n",
       "pillar (>= 1.4.4), pkgdown (>= 2.0.1), rmarkdown, testthat (>=\n",
       "3.0.0), tibble (>= 3.1.3), withr, xml2, waldo (>= 0.2.0),\n",
       "zeallot          & NA       & MIT + file LICENSE                     & NA & NA & NA & NA & yes & 4.2.1\\\\\n",
       "\tviridisLite & viridisLite  & /opt/conda/lib/R/library & 0.4.1   & NA   & R (>= 2.10)           & NA                                                                                                                                                                                                                                                                                                                                                                                                 & NA                                                     & hexbin (>= 1.27.0), ggplot2 (>= 1.0.1), testthat, covr                                                                                                                                               & NA       & MIT + file LICENSE                     & NA & NA & NA & NA & no  & 4.2.1\\\\\n",
       "\tvroom & vroom        & /opt/conda/lib/R/library & 1.6.0   & NA   & R (>= 3.4)            & bit64, cli (>= 3.2.0), crayon, glue, hms, lifecycle, methods,\n",
       "rlang (>= 0.4.2), stats, tibble (>= 2.0.0), tidyselect, tzdb\n",
       "(>= 0.1.1), vctrs (>= 0.2.0), withr                                                                                                                                                                                                                                   & cpp11 (>= 0.2.0), progress (>= 1.2.1), tzdb (>= 0.1.1) & archive, bench (>= 1.1.0), covr, curl, dplyr, forcats, fs,\n",
       "ggplot2, knitr, patchwork, prettyunits, purrr, rmarkdown,\n",
       "rstudioapi, scales, spelling, testthat (>= 2.1.0), tidyr,\n",
       "utils, waldo, xml2 & NA       & MIT + file LICENSE                     & NA & NA & NA & NA & yes & 4.2.1\\\\\n",
       "\twaldo & waldo        & /opt/conda/lib/R/library & 0.4.0   & NA   & NA                    & cli, diffobj (>= 0.3.4), fansi, glue, methods, rematch2, rlang\n",
       "(>= 1.0.0), tibble                                                                                                                                                                                                                                                                                                                 & NA                                                     & covr, R6, testthat (>= 3.0.0), withr, xml2                                                                                                                                                           & NA       & MIT + file LICENSE                     & NA & NA & NA & NA & no  & 4.2.1\\\\\n",
       "\twarp & warp         & /opt/conda/lib/R/library & 0.2.0   & NA   & R (>= 3.2)            & NA                                                                                                                                                                                                                                                                                                                                                                                                 & NA                                                     & covr, testthat (>= 2.1.0), knitr, rmarkdown                                                                                                                                                          & NA       & MIT + file LICENSE                     & NA & NA & NA & NA & yes & 4.2.1\\\\\n",
       "\twhisker & whisker      & /opt/conda/lib/R/library & 0.4     & NA   & NA                    & NA                                                                                                                                                                                                                                                                                                                                                                                                 & NA                                                     & markdown                                                                                                                                                                                             & NA       & GPL-3                                  & NA & NA & NA & NA & no  & 4.2.1\\\\\n",
       "\twithr & withr        & /opt/conda/lib/R/library & 2.5.0   & NA   & R (>= 3.2.0)          & graphics, grDevices, stats                                                                                                                                                                                                                                                                                                                                                                         & NA                                                     & callr, covr, DBI, knitr, lattice, methods, rlang, rmarkdown\n",
       "(>= 2.12), RSQLite, testthat (>= 3.0.0)                                                                                                 & NA       & MIT + file LICENSE                     & NA & NA & NA & NA & no  & 4.2.1\\\\\n",
       "\tworkflows & workflows    & /opt/conda/lib/R/library & 1.1.0   & NA   & R (>= 3.4)            & cli (>= 3.3.0), generics (>= 0.1.2), glue (>= 1.6.2), hardhat\n",
       "(>= 1.2.0), lifecycle (>= 1.0.1), parsnip (>= 1.0.0), rlang (>=\n",
       "1.0.3), tidyselect (>= 1.1.2), vctrs (>= 0.4.1)                                                                                                                                                                                                                    & NA                                                     & butcher (>= 0.2.0), covr, dials (>= 1.0.0), knitr, magrittr,\n",
       "modeldata (>= 1.0.0), recipes (>= 1.0.0), rmarkdown, testthat\n",
       "(>= 3.0.0)                                                              & NA       & MIT + file LICENSE                     & NA & NA & NA & NA & no  & 4.2.1\\\\\n",
       "\tworkflowsets & workflowsets & /opt/conda/lib/R/library & 1.0.0   & NA   & R (>= 3.4)            & cli, dplyr (>= 1.0.0), generics (>= 0.1.2), ggplot2, glue,\n",
       "hardhat (>= 1.2.0), lifecycle (>= 1.0.0), parsnip (>= 1.0.0),\n",
       "pillar (>= 1.7.0), prettyunits, purrr, rlang, rsample (>=\n",
       "0.0.9), stats, tibble (>= 3.1.0), tidyr, tune (>= 1.0.0),\n",
       "vctrs, withr, workflows (>= 1.0.0)                                                                                                                & NA                                                     & covr, dials (>= 0.1.0), kknn, knitr, modeldata, recipes (>=\n",
       "1.0.0), rmarkdown, spelling, testthat (>= 3.0.0), yardstick (>=\n",
       "1.0.0)                                                                 & NA       & MIT + file LICENSE                     & NA & NA & NA & NA & no  & 4.2.1\\\\\n",
       "\txfun & xfun         & /opt/conda/lib/R/library & 0.34    & NA   & NA                    & stats, tools                                                                                                                                                                                                                                                                                                                                                                                       & NA                                                     & testit, parallel, codetools, rstudioapi, tinytex (>= 0.30),\n",
       "mime, markdown, knitr, htmltools, remotes, pak, rhub, renv,\n",
       "curl, jsonlite, magick, rmarkdown                                          & NA       & MIT + file LICENSE                     & NA & NA & NA & NA & yes & 4.2.1\\\\\n",
       "\txml2 & xml2         & /opt/conda/lib/R/library & 1.3.3   & NA   & R (>= 3.1.0)          & methods                                                                                                                                                                                                                                                                                                                                                                                            & NA                                                     & covr, curl, httr, knitr, magrittr, mockery, rmarkdown,\n",
       "testthat (>= 2.1.0)                                                                                                                          & NA       & MIT + file LICENSE                     & NA & NA & NA & NA & yes & 4.2.1\\\\\n",
       "\txopen & xopen        & /opt/conda/lib/R/library & 1.0.0   & NA   & R (>= 3.1)            & processx                                                                                                                                                                                                                                                                                                                                                                                           & NA                                                     & ps, testthat                                                                                                                                                                                         & NA       & MIT + file LICENSE                     & NA & NA & NA & NA & no  & 4.2.1\\\\\n",
       "\txtable & xtable       & /opt/conda/lib/R/library & 1.8-4   & NA   & R (>= 2.10.0)         & stats, utils                                                                                                                                                                                                                                                                                                                                                                                       & NA                                                     & knitr, plm, zoo, survival                                                                                                                                                                            & NA       & GPL (>= 2)                             & NA & NA & NA & NA & no  & 4.2.1\\\\\n",
       "\txts & xts          & /opt/conda/lib/R/library & 0.12.2  & NA   & zoo (>= 1.7-12)       & methods                                                                                                                                                                                                                                                                                                                                                                                            & zoo                                                    & timeSeries, timeDate, tseries, chron, tis, RUnit                                                                                                                                                     & NA       & GPL (>= 2)                             & NA & NA & NA & NA & yes & 4.2.1\\\\\n",
       "\tyaml & yaml         & /opt/conda/lib/R/library & 2.3.6   & NA   & NA                    & NA                                                                                                                                                                                                                                                                                                                                                                                                 & NA                                                     & RUnit                                                                                                                                                                                                & NA       & BSD\\_3\\_clause + file LICENSE            & NA & NA & NA & NA & yes & 4.2.1\\\\\n",
       "\tyardstick & yardstick    & /opt/conda/lib/R/library & 1.1.0   & NA   & R (>= 3.4.0)          & dplyr (>= 1.0.9), generics (>= 0.1.2), hardhat (>= 1.0.0),\n",
       "rlang (>= 1.0.2), tidyselect (>= 1.1.2), utils, vctrs (>=\n",
       "0.4.1)                                                                                                                                                                                                                                                                      & NA                                                     & covr, crayon, ggplot2, knitr, probably (>= 0.0.6), rmarkdown,\n",
       "testthat (>= 3.0.0), tidyr                                                                                                            & NA       & MIT + file LICENSE                     & NA & NA & NA & NA & yes & 4.2.1\\\\\n",
       "\tzip & zip          & /opt/conda/lib/R/library & 2.2.2   & NA   & NA                    & NA                                                                                                                                                                                                                                                                                                                                                                                                 & NA                                                     & covr, processx, R6, testthat, withr                                                                                                                                                                  & NA       & MIT + file LICENSE                     & NA & NA & NA & NA & yes & 4.2.1\\\\\n",
       "\tzoo & zoo          & /opt/conda/lib/R/library & 1.8-11  & NA   & R (>= 3.1.0), stats   & utils, graphics, grDevices, lattice (>= 0.20-27)                                                                                                                                                                                                                                                                                                                                                   & NA                                                     & AER, coda, chron, ggplot2 (>= 3.0.0), mondate, scales,\n",
       "stinepack, strucchange, timeDate, timeSeries, tis, tseries, xts                                                                              & NA       & GPL-2 \\textbar{} GPL-3                          & NA & NA & NA & NA & yes & 4.2.1\\\\\n",
       "\\end{tabular}\n"
      ],
      "text/markdown": [
       "\n",
       "A matrix: 231 × 16 of type chr\n",
       "\n",
       "| <!--/--> | Package | LibPath | Version | Priority | Depends | Imports | LinkingTo | Suggests | Enhances | License | License_is_FOSS | License_restricts_use | OS_type | MD5sum | NeedsCompilation | Built |\n",
       "|---|---|---|---|---|---|---|---|---|---|---|---|---|---|---|---|---|\n",
       "| askpass | askpass     | /opt/conda/lib/R/library | 1.1    | NA          | NA                                                  | sys (&gt;= 2.1)                                                                                                                                             | NA                                | testthat                                                                                                                                                                                                                                                                                                                                                                                                                                                                                                                                                                                                                                                                                                                                                                     | NA  | MIT + file LICENSE          | NA | NA | NA | NA | yes | 4.2.1 |\n",
       "| assertthat | assertthat  | /opt/conda/lib/R/library | 0.2.1  | NA          | NA                                                  | tools                                                                                                                                                    | NA                                | testthat, covr                                                                                                                                                                                                                                                                                                                                                                                                                                                                                                                                                                                                                                                                                                                                                               | NA  | GPL-3                       | NA | NA | NA | NA | no  | 4.2.1 |\n",
       "| backports | backports   | /opt/conda/lib/R/library | 1.4.1  | NA          | R (&gt;= 3.0.0)                                        | NA                                                                                                                                                       | NA                                | NA                                                                                                                                                                                                                                                                                                                                                                                                                                                                                                                                                                                                                                                                                                                                                                           | NA  | GPL-2 | GPL-3               | NA | NA | NA | NA | yes | 4.2.1 |\n",
       "| base | base        | /opt/conda/lib/R/library | 4.2.1  | base        | NA                                                  | NA                                                                                                                                                       | NA                                | methods                                                                                                                                                                                                                                                                                                                                                                                                                                                                                                                                                                                                                                                                                                                                                                      | NA  | Part of R 4.2.1             | NA | NA | NA | NA | NA  | 4.2.1 |\n",
       "| base64enc | base64enc   | /opt/conda/lib/R/library | 0.1-3  | NA          | R (&gt;= 2.9.0)                                        | NA                                                                                                                                                       | NA                                | NA                                                                                                                                                                                                                                                                                                                                                                                                                                                                                                                                                                                                                                                                                                                                                                           | png | GPL-2 | GPL-3               | NA | NA | NA | NA | yes | 4.2.1 |\n",
       "| bit | bit         | /opt/conda/lib/R/library | 4.0.4  | NA          | R (&gt;= 2.9.2)                                        | NA                                                                                                                                                       | NA                                | testthat (&gt;= 0.11.0), roxygen2, knitr, rmarkdown,\n",
       "microbenchmark, bit64 (&gt;= 4.0.0), ff (&gt;= 4.0.0)                                                                                                                                                                                                                                                                                                                                                                                                                                                                                                                                                                                                                                                                           | NA  | GPL-2 | GPL-3               | NA | NA | NA | NA | yes | 4.2.1 |\n",
       "| bit64 | bit64       | /opt/conda/lib/R/library | 4.0.5  | NA          | R (&gt;= 3.0.1), bit (&gt;= 4.0.0), utils, methods, stats | NA                                                                                                                                                       | NA                                | NA                                                                                                                                                                                                                                                                                                                                                                                                                                                                                                                                                                                                                                                                                                                                                                           | NA  | GPL-2 | GPL-3               | NA | NA | NA | NA | yes | 4.2.1 |\n",
       "| bitops | bitops      | /opt/conda/lib/R/library | 1.0-7  | NA          | NA                                                  | NA                                                                                                                                                       | NA                                | NA                                                                                                                                                                                                                                                                                                                                                                                                                                                                                                                                                                                                                                                                                                                                                                           | NA  | GPL (&gt;= 2)                  | NA | NA | NA | NA | yes | 4.2.1 |\n",
       "| blob | blob        | /opt/conda/lib/R/library | 1.2.3  | NA          | NA                                                  | methods, rlang, vctrs (&gt;= 0.2.1)                                                                                                                         | NA                                | covr, crayon, pillar (&gt;= 1.2.1), testthat                                                                                                                                                                                                                                                                                                                                                                                                                                                                                                                                                                                                                                                                                                                                    | NA  | MIT + file LICENSE          | NA | NA | NA | NA | no  | 4.2.1 |\n",
       "| brew | brew        | /opt/conda/lib/R/library | 1.0-8  | NA          | NA                                                  | NA                                                                                                                                                       | NA                                | testthat (&gt;= 3.0.0)                                                                                                                                                                                                                                                                                                                                                                                                                                                                                                                                                                                                                                                                                                                                                          | NA  | GPL-2                       | NA | NA | NA | NA | no  | 4.2.1 |\n",
       "| brio | brio        | /opt/conda/lib/R/library | 1.1.3  | NA          | NA                                                  | NA                                                                                                                                                       | NA                                | covr, testthat (&gt;= 2.1.0)                                                                                                                                                                                                                                                                                                                                                                                                                                                                                                                                                                                                                                                                                                                                                    | NA  | MIT + file LICENSE          | NA | NA | NA | NA | yes | 4.2.1 |\n",
       "| broom | broom       | /opt/conda/lib/R/library | 1.0.1  | NA          | R (&gt;= 3.1)                                          | backports, dplyr (&gt;= 1.0.0), ellipsis, generics (&gt;= 0.0.2),\n",
       "glue, purrr, rlang, stringr, tibble (&gt;= 3.0.0), tidyr (&gt;=\n",
       "1.0.0), ggplot2                  | NA                                | AER, AUC, bbmle, betareg, biglm, binGroup, boot, btergm (&gt;=\n",
       "1.10.6), car, carData, caret, cluster, cmprsk, coda, covr, drc,\n",
       "e1071, emmeans, epiR, ergm (&gt;= 3.10.4), fixest (&gt;= 0.9.0), gam\n",
       "(&gt;= 1.15), gee, geepack, glmnet, glmnetUtils, gmm, Hmisc,\n",
       "irlba, interp, joineRML, Kendall, knitr, ks, Lahman, lavaan,\n",
       "leaps, lfe, lm.beta, lme4, lmodel2, lmtest (&gt;= 0.9.38),\n",
       "lsmeans, maps, maptools, margins, MASS, mclust, mediation,\n",
       "metafor, mfx, mgcv, mlogit, modeldata, modeltests, muhaz,\n",
       "multcomp, network, nnet, orcutt (&gt;= 2.2), ordinal, plm, poLCA,\n",
       "psych, quantreg, rgeos, rmarkdown, robust, robustbase, rsample,\n",
       "sandwich, sp, spdep (&gt;= 1.1), spatialreg, speedglm, spelling,\n",
       "survey, survival, systemfit, testthat (&gt;= 2.1.0), tseries,\n",
       "vars, zoo | NA  | MIT + file LICENSE          | NA | NA | NA | NA | no  | 4.2.1 |\n",
       "| bslib | bslib       | /opt/conda/lib/R/library | 0.4.1  | NA          | R (&gt;= 2.10)                                         | grDevices, htmltools (&gt;= 0.5.2), jsonlite, sass (&gt;= 0.4.0),\n",
       "jquerylib (&gt;= 0.1.3), rlang, cachem, memoise (&gt;= 2.0.1)                                     | NA                                | shiny (&gt;= 1.6.0), rmarkdown (&gt;= 2.7), thematic, knitr,\n",
       "testthat, withr, rappdirs, curl, magrittr                                                                                                                                                                                                                                                                                                                                                                                                                                                                                                                                                                                                                                                                            | NA  | MIT + file LICENSE          | NA | NA | NA | NA | no  | 4.2.1 |\n",
       "| cachem | cachem      | /opt/conda/lib/R/library | 1.0.6  | NA          | NA                                                  | rlang, fastmap                                                                                                                                           | NA                                | testthat                                                                                                                                                                                                                                                                                                                                                                                                                                                                                                                                                                                                                                                                                                                                                                     | NA  | MIT + file LICENSE          | NA | NA | NA | NA | yes | 4.2.1 |\n",
       "| callr | callr       | /opt/conda/lib/R/library | 3.7.3  | NA          | R (&gt;= 3.4)                                          | processx (&gt;= 3.6.1), R6, utils                                                                                                                           | NA                                | asciicast, cli (&gt;= 1.1.0), covr, mockery, ps, rprojroot,\n",
       "spelling, testthat (&gt;= 3.0.0), withr (&gt;= 2.3.0)                                                                                                                                                                                                                                                                                                                                                                                                                                                                                                                                                                                                                                                                    | NA  | MIT + file LICENSE          | NA | NA | NA | NA | no  | 4.2.1 |\n",
       "| caret | caret       | /opt/conda/lib/R/library | 6.0-93 | NA          | ggplot2, lattice (&gt;= 0.20), R (&gt;= 3.2.0)            | e1071, foreach, grDevices, methods, ModelMetrics (&gt;= 1.2.2.2),\n",
       "nlme, plyr, pROC, recipes (&gt;= 0.1.10), reshape2, stats, stats4,\n",
       "utils, withr (&gt;= 2.0.0) | NA                                | BradleyTerry2, covr, Cubist, dplyr, earth (&gt;= 2.2-3),\n",
       "ellipse, fastICA, gam (&gt;= 1.15), ipred, kernlab, klaR, knitr,\n",
       "MASS, Matrix, mda, mgcv, mlbench, MLmetrics, nnet, pamr, party\n",
       "(&gt;= 0.9-99992), pls, proxy, randomForest, RANN, rmarkdown,\n",
       "rpart, spls, subselect, superpc, testthat (&gt;= 0.9.1), themis\n",
       "(&gt;= 0.1.3)                                                                                                                                                                                                                                                                                                                                                                                                                                                   | NA  | GPL (&gt;= 2)                  | NA | NA | NA | NA | yes | 4.2.1 |\n",
       "| cellranger | cellranger  | /opt/conda/lib/R/library | 1.1.0  | NA          | R (&gt;= 3.0.0)                                        | rematch, tibble                                                                                                                                          | NA                                | covr, testthat (&gt;= 1.0.0), knitr, rmarkdown                                                                                                                                                                                                                                                                                                                                                                                                                                                                                                                                                                                                                                                                                                                                  | NA  | MIT + file LICENSE          | NA | NA | NA | NA | no  | 4.2.1 |\n",
       "| class | class       | /opt/conda/lib/R/library | 7.3-20 | recommended | R (&gt;= 3.0.0), stats, utils                          | MASS                                                                                                                                                     | NA                                | NA                                                                                                                                                                                                                                                                                                                                                                                                                                                                                                                                                                                                                                                                                                                                                                           | NA  | GPL-2 | GPL-3               | NA | NA | NA | NA | yes | 4.2.1 |\n",
       "| cli | cli         | /opt/conda/lib/R/library | 3.4.1  | NA          | R (&gt;= 3.4)                                          | utils                                                                                                                                                    | NA                                | callr, covr, digest, glue (&gt;= 1.6.0), grDevices, htmltools,\n",
       "htmlwidgets, knitr, methods, mockery, processx, ps (&gt;=\n",
       "1.3.4.9000), rlang (&gt;= 1.0.2.9003), rmarkdown, rprojroot,\n",
       "rstudioapi, testthat, tibble, whoami, withr                                                                                                                                                                                                                                                                                                                                                                                                                                                                                                                                                  | NA  | MIT + file LICENSE          | NA | NA | NA | NA | yes | 4.2.1 |\n",
       "| clipr | clipr       | /opt/conda/lib/R/library | 0.8.0  | NA          | NA                                                  | utils                                                                                                                                                    | NA                                | covr, knitr, rmarkdown, rstudioapi (&gt;= 0.5), testthat (&gt;=\n",
       "2.0.0)                                                                                                                                                                                                                                                                                                                                                                                                                                                                                                                                                                                                                                                                                                            | NA  | GPL-3                       | NA | NA | NA | NA | no  | 4.2.1 |\n",
       "| clock | clock       | /opt/conda/lib/R/library | 0.6.1  | NA          | R (&gt;= 3.4)                                          | rlang (&gt;= 1.0.4), tzdb (&gt;= 0.3.0), vctrs (&gt;= 0.4.1)                                                                                                      | cpp11 (&gt;= 0.4.2), tzdb (&gt;= 0.3.0) | covr, knitr, magrittr, pillar, rmarkdown, testthat (&gt;=\n",
       "3.0.0), withr                                                                                                                                                                                                                                                                                                                                                                                                                                                                                                                                                                                                                                                                                                        | NA  | MIT + file LICENSE          | NA | NA | NA | NA | yes | 4.2.1 |\n",
       "| codetools | codetools   | /opt/conda/lib/R/library | 0.2-18 | recommended | R (&gt;= 2.1)                                          | NA                                                                                                                                                       | NA                                | NA                                                                                                                                                                                                                                                                                                                                                                                                                                                                                                                                                                                                                                                                                                                                                                           | NA  | GPL                         | NA | NA | NA | NA | no  | 4.2.1 |\n",
       "| colorspace | colorspace  | /opt/conda/lib/R/library | 2.0-3  | NA          | R (&gt;= 3.0.0), methods                               | graphics, grDevices, stats                                                                                                                               | NA                                | datasets, utils, KernSmooth, MASS, kernlab, mvtnorm, vcd,\n",
       "tcltk, shiny, shinyjs, ggplot2, dplyr, scales, grid, png, jpeg,\n",
       "knitr, rmarkdown, RColorBrewer, rcartocolor, scico, viridis,\n",
       "wesanderson                                                                                                                                                                                                                                                                                                                                                                                                                                                                                                                                                                        | NA  | BSD_3_clause + file LICENSE | NA | NA | NA | NA | yes | 4.2.1 |\n",
       "| commonmark | commonmark  | /opt/conda/lib/R/library | 1.8.1  | NA          | NA                                                  | NA                                                                                                                                                       | NA                                | curl, testthat, xml2                                                                                                                                                                                                                                                                                                                                                                                                                                                                                                                                                                                                                                                                                                                                                         | NA  | BSD_2_clause + file LICENSE | NA | NA | NA | NA | yes | 4.2.1 |\n",
       "| compiler | compiler    | /opt/conda/lib/R/library | 4.2.1  | base        | NA                                                  | NA                                                                                                                                                       | NA                                | NA                                                                                                                                                                                                                                                                                                                                                                                                                                                                                                                                                                                                                                                                                                                                                                           | NA  | Part of R 4.2.1             | NA | NA | NA | NA | NA  | 4.2.1 |\n",
       "| conflicted | conflicted  | /opt/conda/lib/R/library | 1.1.0  | NA          | R (&gt;= 3.2)                                          | memoise, rlang (&gt;= 0.3.4)                                                                                                                                | NA                                | callr, crayon, dplyr, Matrix, methods, pkgload, testthat (&gt;=\n",
       "3.0.0)                                                                                                                                                                                                                                                                                                                                                                                                                                                                                                                                                                                                                                                                                                         | NA  | MIT + file LICENSE          | NA | NA | NA | NA | no  | 4.2.1 |\n",
       "| cpp11 | cpp11       | /opt/conda/lib/R/library | 0.4.3  | NA          | NA                                                  | NA                                                                                                                                                       | NA                                | bench, brio, callr, cli, covr, decor, desc, ggplot2, glue,\n",
       "knitr, lobstr, mockery, progress, rmarkdown, scales, Rcpp,\n",
       "testthat, tibble, utils, vctrs, withr                                                                                                                                                                                                                                                                                                                                                                                                                                                                                                                                                                                                                | NA  | MIT + file LICENSE          | NA | NA | NA | NA | no  | 4.2.1 |\n",
       "| crayon | crayon      | /opt/conda/lib/R/library | 1.5.2  | NA          | NA                                                  | grDevices, methods, utils                                                                                                                                | NA                                | mockery, rstudioapi, testthat, withr                                                                                                                                                                                                                                                                                                                                                                                                                                                                                                                                                                                                                                                                                                                                         | NA  | MIT + file LICENSE          | NA | NA | NA | NA | no  | 4.2.1 |\n",
       "| credentials | credentials | /opt/conda/lib/R/library | 1.3.2  | NA          | NA                                                  | openssl (&gt;= 1.3), sys (&gt;= 2.1), curl, jsonlite, askpass                                                                                                  | NA                                | testthat, knitr, rmarkdown                                                                                                                                                                                                                                                                                                                                                                                                                                                                                                                                                                                                                                                                                                                                                   | NA  | MIT + file LICENSE          | NA | NA | NA | NA | no  | 4.2.1 |\n",
       "| curl | curl        | /opt/conda/lib/R/library | 4.3.3  | NA          | R (&gt;= 3.0.0)                                        | NA                                                                                                                                                       | NA                                | spelling, testthat (&gt;= 1.0.0), knitr, jsonlite, rmarkdown,\n",
       "magrittr, httpuv (&gt;= 1.4.4), webutils                                                                                                                                                                                                                                                                                                                                                                                                                                                                                                                                                                                                                                                                            | NA  | MIT + file LICENSE          | NA | NA | NA | NA | yes | 4.2.1 |\n",
       "| ⋮ | ⋮ | ⋮ | ⋮ | ⋮ | ⋮ | ⋮ | ⋮ | ⋮ | ⋮ | ⋮ | ⋮ | ⋮ | ⋮ | ⋮ | ⋮ | ⋮ |\n",
       "| tinytex | tinytex      | /opt/conda/lib/R/library | 0.42    | NA   | NA                    | xfun (&gt;= 0.29)                                                                                                                                                                                                                                                                                                                                                                                     | NA                                                     | testit, rstudioapi                                                                                                                                                                                   | NA       | MIT + file LICENSE                     | NA | NA | NA | NA | no  | 4.2.1 |\n",
       "| tools | tools        | /opt/conda/lib/R/library | 4.2.1   | base | NA                    | NA                                                                                                                                                                                                                                                                                                                                                                                                 | NA                                                     | codetools, methods, xml2, curl, commonmark, knitr, xfun,\n",
       "mathjaxr                                                                                                                                   | NA       | Part of R 4.2.1                        | NA | NA | NA | NA | yes | 4.2.1 |\n",
       "| tseries | tseries      | /opt/conda/lib/R/library | 0.10-52 | NA   | R (&gt;= 2.10.0)         | graphics, stats, utils, quadprog, zoo, quantmod (&gt;= 0.4-9)                                                                                                                                                                                                                                                                                                                                         | NA                                                     | NA                                                                                                                                                                                                   | NA       | GPL-2                                  | NA | NA | NA | NA | yes | 4.2.1 |\n",
       "| TTR | TTR          | /opt/conda/lib/R/library | 0.24.3  | NA   | NA                    | xts (&gt;= 0.10-0), zoo, curl                                                                                                                                                                                                                                                                                                                                                                         | xts                                                    | RUnit                                                                                                                                                                                                | quantmod | GPL (&gt;= 2)                             | NA | NA | NA | NA | yes | 4.2.1 |\n",
       "| tune | tune         | /opt/conda/lib/R/library | 1.0.1   | NA   | R (&gt;= 3.4)            | cli (&gt;= 3.3.0), dials (&gt;= 1.0.0), dplyr (&gt;= 1.0.8), foreach,\n",
       "generics (&gt;= 0.1.2), ggplot2, glue (&gt;= 1.6.2), GPfit, hardhat\n",
       "(&gt;= 1.2.0), lifecycle (&gt;= 1.0.0), parsnip (&gt;= 1.0.2), purrr (&gt;=\n",
       "0.3.2), recipes (&gt;= 1.0.0), rlang (&gt;= 1.0.2), rsample (&gt;=\n",
       "1.0.0), tibble (&gt;= 3.1.0), tidyr (&gt;= 1.2.0), tidyselect (&gt;=\n",
       "1.1.2), vctrs (&gt;= 0.4.1), withr, workflows (&gt;= 1.0.0),\n",
       "yardstick (&gt;= 1.0.0) | NA                                                     | covr, kernlab, knitr, modeldata, spelling, testthat (&gt;=\n",
       "3.0.0), xml2                                                                                                                                | NA       | MIT + file LICENSE                     | NA | NA | NA | NA | no  | 4.2.1 |\n",
       "| tzdb | tzdb         | /opt/conda/lib/R/library | 0.3.0   | NA   | R (&gt;= 3.4.0)          | NA                                                                                                                                                                                                                                                                                                                                                                                                 | cpp11 (&gt;= 0.4.2)                                       | covr, testthat (&gt;= 3.0.0)                                                                                                                                                                            | NA       | MIT + file LICENSE                     | NA | NA | NA | NA | yes | 4.2.1 |\n",
       "| urca | urca         | /opt/conda/lib/R/library | 1.3-3   | NA   | R (&gt;= 2.0.0), methods | nlme, graphics, stats                                                                                                                                                                                                                                                                                                                                                                              | NA                                                     | NA                                                                                                                                                                                                   | NA       | GPL (&gt;= 2)                             | NA | NA | NA | NA | yes | 4.2.1 |\n",
       "| urlchecker | urlchecker   | /opt/conda/lib/R/library | 1.0.1   | NA   | R (&gt;= 3.3)            | cli, curl, tools, xml2                                                                                                                                                                                                                                                                                                                                                                             | NA                                                     | covr                                                                                                                                                                                                 | NA       | GPL-3                                  | NA | NA | NA | NA | no  | 4.2.1 |\n",
       "| usethis | usethis      | /opt/conda/lib/R/library | 2.1.6   | NA   | R (&gt;= 3.4)            | cli (&gt;= 3.0.1), clipr (&gt;= 0.3.0), crayon, curl (&gt;= 2.7), desc\n",
       "(&gt;= 1.4.0), fs (&gt;= 1.3.0), gert (&gt;= 1.4.1), gh (&gt;= 1.2.1), glue\n",
       "(&gt;= 1.3.0), jsonlite, lifecycle (&gt;= 1.0.0), purrr, rappdirs,\n",
       "rlang (&gt;= 1.0.0), rprojroot (&gt;= 1.2), rstudioapi, stats, utils,\n",
       "whisker, withr (&gt;= 2.3.0), yaml                                                                                                     | NA                                                     | covr, knitr, magick, mockr, pkgload, rmarkdown, roxygen2 (&gt;=\n",
       "7.1.2), spelling (&gt;= 1.2), styler (&gt;= 1.2.0), testthat (&gt;=\n",
       "3.1.0)                                                                     | NA       | MIT + file LICENSE                     | NA | NA | NA | NA | no  | 4.2.1 |\n",
       "| utf8 | utf8         | /opt/conda/lib/R/library | 1.2.2   | NA   | R (&gt;= 2.10)           | NA                                                                                                                                                                                                                                                                                                                                                                                                 | NA                                                     | cli, covr, knitr, rlang, rmarkdown, testthat (&gt;= 3.0.0),\n",
       "withr                                                                                                                                      | NA       | Apache License (== 2.0) | file LICENSE | NA | NA | NA | NA | yes | 4.2.1 |\n",
       "| utils | utils        | /opt/conda/lib/R/library | 4.2.1   | base | NA                    | NA                                                                                                                                                                                                                                                                                                                                                                                                 | NA                                                     | methods, xml2, commonmark, knitr                                                                                                                                                                     | NA       | Part of R 4.2.1                        | NA | NA | NA | NA | yes | 4.2.1 |\n",
       "| uuid | uuid         | /opt/conda/lib/R/library | 1.1-0   | NA   | R (&gt;= 2.9.0)          | NA                                                                                                                                                                                                                                                                                                                                                                                                 | NA                                                     | NA                                                                                                                                                                                                   | NA       | MIT + file LICENSE                     | NA | NA | NA | NA | yes | 4.2.1 |\n",
       "| vctrs | vctrs        | /opt/conda/lib/R/library | 0.5.0   | NA   | R (&gt;= 3.3)            | cli (&gt;= 3.4.0), glue, lifecycle (&gt;= 1.0.3), rlang (&gt;= 1.0.6)                                                                                                                                                                                                                                                                                                                                       | NA                                                     | bit64, covr, crayon, dplyr (&gt;= 0.8.5), generics, knitr,\n",
       "pillar (&gt;= 1.4.4), pkgdown (&gt;= 2.0.1), rmarkdown, testthat (&gt;=\n",
       "3.0.0), tibble (&gt;= 3.1.3), withr, xml2, waldo (&gt;= 0.2.0),\n",
       "zeallot          | NA       | MIT + file LICENSE                     | NA | NA | NA | NA | yes | 4.2.1 |\n",
       "| viridisLite | viridisLite  | /opt/conda/lib/R/library | 0.4.1   | NA   | R (&gt;= 2.10)           | NA                                                                                                                                                                                                                                                                                                                                                                                                 | NA                                                     | hexbin (&gt;= 1.27.0), ggplot2 (&gt;= 1.0.1), testthat, covr                                                                                                                                               | NA       | MIT + file LICENSE                     | NA | NA | NA | NA | no  | 4.2.1 |\n",
       "| vroom | vroom        | /opt/conda/lib/R/library | 1.6.0   | NA   | R (&gt;= 3.4)            | bit64, cli (&gt;= 3.2.0), crayon, glue, hms, lifecycle, methods,\n",
       "rlang (&gt;= 0.4.2), stats, tibble (&gt;= 2.0.0), tidyselect, tzdb\n",
       "(&gt;= 0.1.1), vctrs (&gt;= 0.2.0), withr                                                                                                                                                                                                                                   | cpp11 (&gt;= 0.2.0), progress (&gt;= 1.2.1), tzdb (&gt;= 0.1.1) | archive, bench (&gt;= 1.1.0), covr, curl, dplyr, forcats, fs,\n",
       "ggplot2, knitr, patchwork, prettyunits, purrr, rmarkdown,\n",
       "rstudioapi, scales, spelling, testthat (&gt;= 2.1.0), tidyr,\n",
       "utils, waldo, xml2 | NA       | MIT + file LICENSE                     | NA | NA | NA | NA | yes | 4.2.1 |\n",
       "| waldo | waldo        | /opt/conda/lib/R/library | 0.4.0   | NA   | NA                    | cli, diffobj (&gt;= 0.3.4), fansi, glue, methods, rematch2, rlang\n",
       "(&gt;= 1.0.0), tibble                                                                                                                                                                                                                                                                                                                 | NA                                                     | covr, R6, testthat (&gt;= 3.0.0), withr, xml2                                                                                                                                                           | NA       | MIT + file LICENSE                     | NA | NA | NA | NA | no  | 4.2.1 |\n",
       "| warp | warp         | /opt/conda/lib/R/library | 0.2.0   | NA   | R (&gt;= 3.2)            | NA                                                                                                                                                                                                                                                                                                                                                                                                 | NA                                                     | covr, testthat (&gt;= 2.1.0), knitr, rmarkdown                                                                                                                                                          | NA       | MIT + file LICENSE                     | NA | NA | NA | NA | yes | 4.2.1 |\n",
       "| whisker | whisker      | /opt/conda/lib/R/library | 0.4     | NA   | NA                    | NA                                                                                                                                                                                                                                                                                                                                                                                                 | NA                                                     | markdown                                                                                                                                                                                             | NA       | GPL-3                                  | NA | NA | NA | NA | no  | 4.2.1 |\n",
       "| withr | withr        | /opt/conda/lib/R/library | 2.5.0   | NA   | R (&gt;= 3.2.0)          | graphics, grDevices, stats                                                                                                                                                                                                                                                                                                                                                                         | NA                                                     | callr, covr, DBI, knitr, lattice, methods, rlang, rmarkdown\n",
       "(&gt;= 2.12), RSQLite, testthat (&gt;= 3.0.0)                                                                                                 | NA       | MIT + file LICENSE                     | NA | NA | NA | NA | no  | 4.2.1 |\n",
       "| workflows | workflows    | /opt/conda/lib/R/library | 1.1.0   | NA   | R (&gt;= 3.4)            | cli (&gt;= 3.3.0), generics (&gt;= 0.1.2), glue (&gt;= 1.6.2), hardhat\n",
       "(&gt;= 1.2.0), lifecycle (&gt;= 1.0.1), parsnip (&gt;= 1.0.0), rlang (&gt;=\n",
       "1.0.3), tidyselect (&gt;= 1.1.2), vctrs (&gt;= 0.4.1)                                                                                                                                                                                                                    | NA                                                     | butcher (&gt;= 0.2.0), covr, dials (&gt;= 1.0.0), knitr, magrittr,\n",
       "modeldata (&gt;= 1.0.0), recipes (&gt;= 1.0.0), rmarkdown, testthat\n",
       "(&gt;= 3.0.0)                                                              | NA       | MIT + file LICENSE                     | NA | NA | NA | NA | no  | 4.2.1 |\n",
       "| workflowsets | workflowsets | /opt/conda/lib/R/library | 1.0.0   | NA   | R (&gt;= 3.4)            | cli, dplyr (&gt;= 1.0.0), generics (&gt;= 0.1.2), ggplot2, glue,\n",
       "hardhat (&gt;= 1.2.0), lifecycle (&gt;= 1.0.0), parsnip (&gt;= 1.0.0),\n",
       "pillar (&gt;= 1.7.0), prettyunits, purrr, rlang, rsample (&gt;=\n",
       "0.0.9), stats, tibble (&gt;= 3.1.0), tidyr, tune (&gt;= 1.0.0),\n",
       "vctrs, withr, workflows (&gt;= 1.0.0)                                                                                                                | NA                                                     | covr, dials (&gt;= 0.1.0), kknn, knitr, modeldata, recipes (&gt;=\n",
       "1.0.0), rmarkdown, spelling, testthat (&gt;= 3.0.0), yardstick (&gt;=\n",
       "1.0.0)                                                                 | NA       | MIT + file LICENSE                     | NA | NA | NA | NA | no  | 4.2.1 |\n",
       "| xfun | xfun         | /opt/conda/lib/R/library | 0.34    | NA   | NA                    | stats, tools                                                                                                                                                                                                                                                                                                                                                                                       | NA                                                     | testit, parallel, codetools, rstudioapi, tinytex (&gt;= 0.30),\n",
       "mime, markdown, knitr, htmltools, remotes, pak, rhub, renv,\n",
       "curl, jsonlite, magick, rmarkdown                                          | NA       | MIT + file LICENSE                     | NA | NA | NA | NA | yes | 4.2.1 |\n",
       "| xml2 | xml2         | /opt/conda/lib/R/library | 1.3.3   | NA   | R (&gt;= 3.1.0)          | methods                                                                                                                                                                                                                                                                                                                                                                                            | NA                                                     | covr, curl, httr, knitr, magrittr, mockery, rmarkdown,\n",
       "testthat (&gt;= 2.1.0)                                                                                                                          | NA       | MIT + file LICENSE                     | NA | NA | NA | NA | yes | 4.2.1 |\n",
       "| xopen | xopen        | /opt/conda/lib/R/library | 1.0.0   | NA   | R (&gt;= 3.1)            | processx                                                                                                                                                                                                                                                                                                                                                                                           | NA                                                     | ps, testthat                                                                                                                                                                                         | NA       | MIT + file LICENSE                     | NA | NA | NA | NA | no  | 4.2.1 |\n",
       "| xtable | xtable       | /opt/conda/lib/R/library | 1.8-4   | NA   | R (&gt;= 2.10.0)         | stats, utils                                                                                                                                                                                                                                                                                                                                                                                       | NA                                                     | knitr, plm, zoo, survival                                                                                                                                                                            | NA       | GPL (&gt;= 2)                             | NA | NA | NA | NA | no  | 4.2.1 |\n",
       "| xts | xts          | /opt/conda/lib/R/library | 0.12.2  | NA   | zoo (&gt;= 1.7-12)       | methods                                                                                                                                                                                                                                                                                                                                                                                            | zoo                                                    | timeSeries, timeDate, tseries, chron, tis, RUnit                                                                                                                                                     | NA       | GPL (&gt;= 2)                             | NA | NA | NA | NA | yes | 4.2.1 |\n",
       "| yaml | yaml         | /opt/conda/lib/R/library | 2.3.6   | NA   | NA                    | NA                                                                                                                                                                                                                                                                                                                                                                                                 | NA                                                     | RUnit                                                                                                                                                                                                | NA       | BSD_3_clause + file LICENSE            | NA | NA | NA | NA | yes | 4.2.1 |\n",
       "| yardstick | yardstick    | /opt/conda/lib/R/library | 1.1.0   | NA   | R (&gt;= 3.4.0)          | dplyr (&gt;= 1.0.9), generics (&gt;= 0.1.2), hardhat (&gt;= 1.0.0),\n",
       "rlang (&gt;= 1.0.2), tidyselect (&gt;= 1.1.2), utils, vctrs (&gt;=\n",
       "0.4.1)                                                                                                                                                                                                                                                                      | NA                                                     | covr, crayon, ggplot2, knitr, probably (&gt;= 0.0.6), rmarkdown,\n",
       "testthat (&gt;= 3.0.0), tidyr                                                                                                            | NA       | MIT + file LICENSE                     | NA | NA | NA | NA | yes | 4.2.1 |\n",
       "| zip | zip          | /opt/conda/lib/R/library | 2.2.2   | NA   | NA                    | NA                                                                                                                                                                                                                                                                                                                                                                                                 | NA                                                     | covr, processx, R6, testthat, withr                                                                                                                                                                  | NA       | MIT + file LICENSE                     | NA | NA | NA | NA | yes | 4.2.1 |\n",
       "| zoo | zoo          | /opt/conda/lib/R/library | 1.8-11  | NA   | R (&gt;= 3.1.0), stats   | utils, graphics, grDevices, lattice (&gt;= 0.20-27)                                                                                                                                                                                                                                                                                                                                                   | NA                                                     | AER, coda, chron, ggplot2 (&gt;= 3.0.0), mondate, scales,\n",
       "stinepack, strucchange, timeDate, timeSeries, tis, tseries, xts                                                                              | NA       | GPL-2 | GPL-3                          | NA | NA | NA | NA | yes | 4.2.1 |\n",
       "\n"
      ],
      "text/plain": [
       "             Package      LibPath                  Version Priority   \n",
       "askpass      askpass      /opt/conda/lib/R/library 1.1     NA         \n",
       "assertthat   assertthat   /opt/conda/lib/R/library 0.2.1   NA         \n",
       "backports    backports    /opt/conda/lib/R/library 1.4.1   NA         \n",
       "base         base         /opt/conda/lib/R/library 4.2.1   base       \n",
       "base64enc    base64enc    /opt/conda/lib/R/library 0.1-3   NA         \n",
       "bit          bit          /opt/conda/lib/R/library 4.0.4   NA         \n",
       "bit64        bit64        /opt/conda/lib/R/library 4.0.5   NA         \n",
       "bitops       bitops       /opt/conda/lib/R/library 1.0-7   NA         \n",
       "blob         blob         /opt/conda/lib/R/library 1.2.3   NA         \n",
       "brew         brew         /opt/conda/lib/R/library 1.0-8   NA         \n",
       "brio         brio         /opt/conda/lib/R/library 1.1.3   NA         \n",
       "broom        broom        /opt/conda/lib/R/library 1.0.1   NA         \n",
       "bslib        bslib        /opt/conda/lib/R/library 0.4.1   NA         \n",
       "cachem       cachem       /opt/conda/lib/R/library 1.0.6   NA         \n",
       "callr        callr        /opt/conda/lib/R/library 3.7.3   NA         \n",
       "caret        caret        /opt/conda/lib/R/library 6.0-93  NA         \n",
       "cellranger   cellranger   /opt/conda/lib/R/library 1.1.0   NA         \n",
       "class        class        /opt/conda/lib/R/library 7.3-20  recommended\n",
       "cli          cli          /opt/conda/lib/R/library 3.4.1   NA         \n",
       "clipr        clipr        /opt/conda/lib/R/library 0.8.0   NA         \n",
       "clock        clock        /opt/conda/lib/R/library 0.6.1   NA         \n",
       "codetools    codetools    /opt/conda/lib/R/library 0.2-18  recommended\n",
       "colorspace   colorspace   /opt/conda/lib/R/library 2.0-3   NA         \n",
       "commonmark   commonmark   /opt/conda/lib/R/library 1.8.1   NA         \n",
       "compiler     compiler     /opt/conda/lib/R/library 4.2.1   base       \n",
       "conflicted   conflicted   /opt/conda/lib/R/library 1.1.0   NA         \n",
       "cpp11        cpp11        /opt/conda/lib/R/library 0.4.3   NA         \n",
       "crayon       crayon       /opt/conda/lib/R/library 1.5.2   NA         \n",
       "credentials  credentials  /opt/conda/lib/R/library 1.3.2   NA         \n",
       "curl         curl         /opt/conda/lib/R/library 4.3.3   NA         \n",
       "⋮            ⋮            ⋮                        ⋮       ⋮          \n",
       "tinytex      tinytex      /opt/conda/lib/R/library 0.42    NA         \n",
       "tools        tools        /opt/conda/lib/R/library 4.2.1   base       \n",
       "tseries      tseries      /opt/conda/lib/R/library 0.10-52 NA         \n",
       "TTR          TTR          /opt/conda/lib/R/library 0.24.3  NA         \n",
       "tune         tune         /opt/conda/lib/R/library 1.0.1   NA         \n",
       "tzdb         tzdb         /opt/conda/lib/R/library 0.3.0   NA         \n",
       "urca         urca         /opt/conda/lib/R/library 1.3-3   NA         \n",
       "urlchecker   urlchecker   /opt/conda/lib/R/library 1.0.1   NA         \n",
       "usethis      usethis      /opt/conda/lib/R/library 2.1.6   NA         \n",
       "utf8         utf8         /opt/conda/lib/R/library 1.2.2   NA         \n",
       "utils        utils        /opt/conda/lib/R/library 4.2.1   base       \n",
       "uuid         uuid         /opt/conda/lib/R/library 1.1-0   NA         \n",
       "vctrs        vctrs        /opt/conda/lib/R/library 0.5.0   NA         \n",
       "viridisLite  viridisLite  /opt/conda/lib/R/library 0.4.1   NA         \n",
       "vroom        vroom        /opt/conda/lib/R/library 1.6.0   NA         \n",
       "waldo        waldo        /opt/conda/lib/R/library 0.4.0   NA         \n",
       "warp         warp         /opt/conda/lib/R/library 0.2.0   NA         \n",
       "whisker      whisker      /opt/conda/lib/R/library 0.4     NA         \n",
       "withr        withr        /opt/conda/lib/R/library 2.5.0   NA         \n",
       "workflows    workflows    /opt/conda/lib/R/library 1.1.0   NA         \n",
       "workflowsets workflowsets /opt/conda/lib/R/library 1.0.0   NA         \n",
       "xfun         xfun         /opt/conda/lib/R/library 0.34    NA         \n",
       "xml2         xml2         /opt/conda/lib/R/library 1.3.3   NA         \n",
       "xopen        xopen        /opt/conda/lib/R/library 1.0.0   NA         \n",
       "xtable       xtable       /opt/conda/lib/R/library 1.8-4   NA         \n",
       "xts          xts          /opt/conda/lib/R/library 0.12.2  NA         \n",
       "yaml         yaml         /opt/conda/lib/R/library 2.3.6   NA         \n",
       "yardstick    yardstick    /opt/conda/lib/R/library 1.1.0   NA         \n",
       "zip          zip          /opt/conda/lib/R/library 2.2.2   NA         \n",
       "zoo          zoo          /opt/conda/lib/R/library 1.8-11  NA         \n",
       "             Depends                                            \n",
       "askpass      NA                                                 \n",
       "assertthat   NA                                                 \n",
       "backports    R (>= 3.0.0)                                       \n",
       "base         NA                                                 \n",
       "base64enc    R (>= 2.9.0)                                       \n",
       "bit          R (>= 2.9.2)                                       \n",
       "bit64        R (>= 3.0.1), bit (>= 4.0.0), utils, methods, stats\n",
       "bitops       NA                                                 \n",
       "blob         NA                                                 \n",
       "brew         NA                                                 \n",
       "brio         NA                                                 \n",
       "broom        R (>= 3.1)                                         \n",
       "bslib        R (>= 2.10)                                        \n",
       "cachem       NA                                                 \n",
       "callr        R (>= 3.4)                                         \n",
       "caret        ggplot2, lattice (>= 0.20), R (>= 3.2.0)           \n",
       "cellranger   R (>= 3.0.0)                                       \n",
       "class        R (>= 3.0.0), stats, utils                         \n",
       "cli          R (>= 3.4)                                         \n",
       "clipr        NA                                                 \n",
       "clock        R (>= 3.4)                                         \n",
       "codetools    R (>= 2.1)                                         \n",
       "colorspace   R (>= 3.0.0), methods                              \n",
       "commonmark   NA                                                 \n",
       "compiler     NA                                                 \n",
       "conflicted   R (>= 3.2)                                         \n",
       "cpp11        NA                                                 \n",
       "crayon       NA                                                 \n",
       "credentials  NA                                                 \n",
       "curl         R (>= 3.0.0)                                       \n",
       "⋮            ⋮                                                  \n",
       "tinytex      NA                                                 \n",
       "tools        NA                                                 \n",
       "tseries      R (>= 2.10.0)                                      \n",
       "TTR          NA                                                 \n",
       "tune         R (>= 3.4)                                         \n",
       "tzdb         R (>= 3.4.0)                                       \n",
       "urca         R (>= 2.0.0), methods                              \n",
       "urlchecker   R (>= 3.3)                                         \n",
       "usethis      R (>= 3.4)                                         \n",
       "utf8         R (>= 2.10)                                        \n",
       "utils        NA                                                 \n",
       "uuid         R (>= 2.9.0)                                       \n",
       "vctrs        R (>= 3.3)                                         \n",
       "viridisLite  R (>= 2.10)                                        \n",
       "vroom        R (>= 3.4)                                         \n",
       "waldo        NA                                                 \n",
       "warp         R (>= 3.2)                                         \n",
       "whisker      NA                                                 \n",
       "withr        R (>= 3.2.0)                                       \n",
       "workflows    R (>= 3.4)                                         \n",
       "workflowsets R (>= 3.4)                                         \n",
       "xfun         NA                                                 \n",
       "xml2         R (>= 3.1.0)                                       \n",
       "xopen        R (>= 3.1)                                         \n",
       "xtable       R (>= 2.10.0)                                      \n",
       "xts          zoo (>= 1.7-12)                                    \n",
       "yaml         NA                                                 \n",
       "yardstick    R (>= 3.4.0)                                       \n",
       "zip          NA                                                 \n",
       "zoo          R (>= 3.1.0), stats                                \n",
       "             Imports                                                                                                                                                                                                                                                                                                                                                                                           \n",
       "askpass      sys (>= 2.1)                                                                                                                                                                                                                                                                                                                                                                                      \n",
       "assertthat   tools                                                                                                                                                                                                                                                                                                                                                                                             \n",
       "backports    NA                                                                                                                                                                                                                                                                                                                                                                                                \n",
       "base         NA                                                                                                                                                                                                                                                                                                                                                                                                \n",
       "base64enc    NA                                                                                                                                                                                                                                                                                                                                                                                                \n",
       "bit          NA                                                                                                                                                                                                                                                                                                                                                                                                \n",
       "bit64        NA                                                                                                                                                                                                                                                                                                                                                                                                \n",
       "bitops       NA                                                                                                                                                                                                                                                                                                                                                                                                \n",
       "blob         methods, rlang, vctrs (>= 0.2.1)                                                                                                                                                                                                                                                                                                                                                                  \n",
       "brew         NA                                                                                                                                                                                                                                                                                                                                                                                                \n",
       "brio         NA                                                                                                                                                                                                                                                                                                                                                                                                \n",
       "broom        backports, dplyr (>= 1.0.0), ellipsis, generics (>= 0.0.2),\\nglue, purrr, rlang, stringr, tibble (>= 3.0.0), tidyr (>=\\n1.0.0), ggplot2                                                                                                                                                                                                                                                           \n",
       "bslib        grDevices, htmltools (>= 0.5.2), jsonlite, sass (>= 0.4.0),\\njquerylib (>= 0.1.3), rlang, cachem, memoise (>= 2.0.1)                                                                                                                                                                                                                                                                              \n",
       "cachem       rlang, fastmap                                                                                                                                                                                                                                                                                                                                                                                    \n",
       "callr        processx (>= 3.6.1), R6, utils                                                                                                                                                                                                                                                                                                                                                                    \n",
       "caret        e1071, foreach, grDevices, methods, ModelMetrics (>= 1.2.2.2),\\nnlme, plyr, pROC, recipes (>= 0.1.10), reshape2, stats, stats4,\\nutils, withr (>= 2.0.0)                                                                                                                                                                                                                                          \n",
       "cellranger   rematch, tibble                                                                                                                                                                                                                                                                                                                                                                                   \n",
       "class        MASS                                                                                                                                                                                                                                                                                                                                                                                              \n",
       "cli          utils                                                                                                                                                                                                                                                                                                                                                                                             \n",
       "clipr        utils                                                                                                                                                                                                                                                                                                                                                                                             \n",
       "clock        rlang (>= 1.0.4), tzdb (>= 0.3.0), vctrs (>= 0.4.1)                                                                                                                                                                                                                                                                                                                                               \n",
       "codetools    NA                                                                                                                                                                                                                                                                                                                                                                                                \n",
       "colorspace   graphics, grDevices, stats                                                                                                                                                                                                                                                                                                                                                                        \n",
       "commonmark   NA                                                                                                                                                                                                                                                                                                                                                                                                \n",
       "compiler     NA                                                                                                                                                                                                                                                                                                                                                                                                \n",
       "conflicted   memoise, rlang (>= 0.3.4)                                                                                                                                                                                                                                                                                                                                                                         \n",
       "cpp11        NA                                                                                                                                                                                                                                                                                                                                                                                                \n",
       "crayon       grDevices, methods, utils                                                                                                                                                                                                                                                                                                                                                                         \n",
       "credentials  openssl (>= 1.3), sys (>= 2.1), curl, jsonlite, askpass                                                                                                                                                                                                                                                                                                                                           \n",
       "curl         NA                                                                                                                                                                                                                                                                                                                                                                                                \n",
       "⋮            ⋮                                                                                                                                                                                                                                                                                                                                                                                                 \n",
       "tinytex      xfun (>= 0.29)                                                                                                                                                                                                                                                                                                                                                                                    \n",
       "tools        NA                                                                                                                                                                                                                                                                                                                                                                                                \n",
       "tseries      graphics, stats, utils, quadprog, zoo, quantmod (>= 0.4-9)                                                                                                                                                                                                                                                                                                                                        \n",
       "TTR          xts (>= 0.10-0), zoo, curl                                                                                                                                                                                                                                                                                                                                                                        \n",
       "tune         cli (>= 3.3.0), dials (>= 1.0.0), dplyr (>= 1.0.8), foreach,\\ngenerics (>= 0.1.2), ggplot2, glue (>= 1.6.2), GPfit, hardhat\\n(>= 1.2.0), lifecycle (>= 1.0.0), parsnip (>= 1.0.2), purrr (>=\\n0.3.2), recipes (>= 1.0.0), rlang (>= 1.0.2), rsample (>=\\n1.0.0), tibble (>= 3.1.0), tidyr (>= 1.2.0), tidyselect (>=\\n1.1.2), vctrs (>= 0.4.1), withr, workflows (>= 1.0.0),\\nyardstick (>= 1.0.0)\n",
       "tzdb         NA                                                                                                                                                                                                                                                                                                                                                                                                \n",
       "urca         nlme, graphics, stats                                                                                                                                                                                                                                                                                                                                                                             \n",
       "urlchecker   cli, curl, tools, xml2                                                                                                                                                                                                                                                                                                                                                                            \n",
       "usethis      cli (>= 3.0.1), clipr (>= 0.3.0), crayon, curl (>= 2.7), desc\\n(>= 1.4.0), fs (>= 1.3.0), gert (>= 1.4.1), gh (>= 1.2.1), glue\\n(>= 1.3.0), jsonlite, lifecycle (>= 1.0.0), purrr, rappdirs,\\nrlang (>= 1.0.0), rprojroot (>= 1.2), rstudioapi, stats, utils,\\nwhisker, withr (>= 2.3.0), yaml                                                                                                    \n",
       "utf8         NA                                                                                                                                                                                                                                                                                                                                                                                                \n",
       "utils        NA                                                                                                                                                                                                                                                                                                                                                                                                \n",
       "uuid         NA                                                                                                                                                                                                                                                                                                                                                                                                \n",
       "vctrs        cli (>= 3.4.0), glue, lifecycle (>= 1.0.3), rlang (>= 1.0.6)                                                                                                                                                                                                                                                                                                                                      \n",
       "viridisLite  NA                                                                                                                                                                                                                                                                                                                                                                                                \n",
       "vroom        bit64, cli (>= 3.2.0), crayon, glue, hms, lifecycle, methods,\\nrlang (>= 0.4.2), stats, tibble (>= 2.0.0), tidyselect, tzdb\\n(>= 0.1.1), vctrs (>= 0.2.0), withr                                                                                                                                                                                                                                  \n",
       "waldo        cli, diffobj (>= 0.3.4), fansi, glue, methods, rematch2, rlang\\n(>= 1.0.0), tibble                                                                                                                                                                                                                                                                                                                \n",
       "warp         NA                                                                                                                                                                                                                                                                                                                                                                                                \n",
       "whisker      NA                                                                                                                                                                                                                                                                                                                                                                                                \n",
       "withr        graphics, grDevices, stats                                                                                                                                                                                                                                                                                                                                                                        \n",
       "workflows    cli (>= 3.3.0), generics (>= 0.1.2), glue (>= 1.6.2), hardhat\\n(>= 1.2.0), lifecycle (>= 1.0.1), parsnip (>= 1.0.0), rlang (>=\\n1.0.3), tidyselect (>= 1.1.2), vctrs (>= 0.4.1)                                                                                                                                                                                                                   \n",
       "workflowsets cli, dplyr (>= 1.0.0), generics (>= 0.1.2), ggplot2, glue,\\nhardhat (>= 1.2.0), lifecycle (>= 1.0.0), parsnip (>= 1.0.0),\\npillar (>= 1.7.0), prettyunits, purrr, rlang, rsample (>=\\n0.0.9), stats, tibble (>= 3.1.0), tidyr, tune (>= 1.0.0),\\nvctrs, withr, workflows (>= 1.0.0)                                                                                                               \n",
       "xfun         stats, tools                                                                                                                                                                                                                                                                                                                                                                                      \n",
       "xml2         methods                                                                                                                                                                                                                                                                                                                                                                                           \n",
       "xopen        processx                                                                                                                                                                                                                                                                                                                                                                                          \n",
       "xtable       stats, utils                                                                                                                                                                                                                                                                                                                                                                                      \n",
       "xts          methods                                                                                                                                                                                                                                                                                                                                                                                           \n",
       "yaml         NA                                                                                                                                                                                                                                                                                                                                                                                                \n",
       "yardstick    dplyr (>= 1.0.9), generics (>= 0.1.2), hardhat (>= 1.0.0),\\nrlang (>= 1.0.2), tidyselect (>= 1.1.2), utils, vctrs (>=\\n0.4.1)                                                                                                                                                                                                                                                                     \n",
       "zip          NA                                                                                                                                                                                                                                                                                                                                                                                                \n",
       "zoo          utils, graphics, grDevices, lattice (>= 0.20-27)                                                                                                                                                                                                                                                                                                                                                  \n",
       "             LinkingTo                                             \n",
       "askpass      NA                                                    \n",
       "assertthat   NA                                                    \n",
       "backports    NA                                                    \n",
       "base         NA                                                    \n",
       "base64enc    NA                                                    \n",
       "bit          NA                                                    \n",
       "bit64        NA                                                    \n",
       "bitops       NA                                                    \n",
       "blob         NA                                                    \n",
       "brew         NA                                                    \n",
       "brio         NA                                                    \n",
       "broom        NA                                                    \n",
       "bslib        NA                                                    \n",
       "cachem       NA                                                    \n",
       "callr        NA                                                    \n",
       "caret        NA                                                    \n",
       "cellranger   NA                                                    \n",
       "class        NA                                                    \n",
       "cli          NA                                                    \n",
       "clipr        NA                                                    \n",
       "clock        cpp11 (>= 0.4.2), tzdb (>= 0.3.0)                     \n",
       "codetools    NA                                                    \n",
       "colorspace   NA                                                    \n",
       "commonmark   NA                                                    \n",
       "compiler     NA                                                    \n",
       "conflicted   NA                                                    \n",
       "cpp11        NA                                                    \n",
       "crayon       NA                                                    \n",
       "credentials  NA                                                    \n",
       "curl         NA                                                    \n",
       "⋮            ⋮                                                     \n",
       "tinytex      NA                                                    \n",
       "tools        NA                                                    \n",
       "tseries      NA                                                    \n",
       "TTR          xts                                                   \n",
       "tune         NA                                                    \n",
       "tzdb         cpp11 (>= 0.4.2)                                      \n",
       "urca         NA                                                    \n",
       "urlchecker   NA                                                    \n",
       "usethis      NA                                                    \n",
       "utf8         NA                                                    \n",
       "utils        NA                                                    \n",
       "uuid         NA                                                    \n",
       "vctrs        NA                                                    \n",
       "viridisLite  NA                                                    \n",
       "vroom        cpp11 (>= 0.2.0), progress (>= 1.2.1), tzdb (>= 0.1.1)\n",
       "waldo        NA                                                    \n",
       "warp         NA                                                    \n",
       "whisker      NA                                                    \n",
       "withr        NA                                                    \n",
       "workflows    NA                                                    \n",
       "workflowsets NA                                                    \n",
       "xfun         NA                                                    \n",
       "xml2         NA                                                    \n",
       "xopen        NA                                                    \n",
       "xtable       NA                                                    \n",
       "xts          zoo                                                   \n",
       "yaml         NA                                                    \n",
       "yardstick    NA                                                    \n",
       "zip          NA                                                    \n",
       "zoo          NA                                                    \n",
       "             Suggests                                                                                                                                                                                                                                                                                                                                                                                                                                                                                                                                                                                                                                                                                                                                                                    \n",
       "askpass      testthat                                                                                                                                                                                                                                                                                                                                                                                                                                                                                                                                                                                                                                                                                                                                                                    \n",
       "assertthat   testthat, covr                                                                                                                                                                                                                                                                                                                                                                                                                                                                                                                                                                                                                                                                                                                                                              \n",
       "backports    NA                                                                                                                                                                                                                                                                                                                                                                                                                                                                                                                                                                                                                                                                                                                                                                          \n",
       "base         methods                                                                                                                                                                                                                                                                                                                                                                                                                                                                                                                                                                                                                                                                                                                                                                     \n",
       "base64enc    NA                                                                                                                                                                                                                                                                                                                                                                                                                                                                                                                                                                                                                                                                                                                                                                          \n",
       "bit          testthat (>= 0.11.0), roxygen2, knitr, rmarkdown,\\nmicrobenchmark, bit64 (>= 4.0.0), ff (>= 4.0.0)                                                                                                                                                                                                                                                                                                                                                                                                                                                                                                                                                                                                                                                                          \n",
       "bit64        NA                                                                                                                                                                                                                                                                                                                                                                                                                                                                                                                                                                                                                                                                                                                                                                          \n",
       "bitops       NA                                                                                                                                                                                                                                                                                                                                                                                                                                                                                                                                                                                                                                                                                                                                                                          \n",
       "blob         covr, crayon, pillar (>= 1.2.1), testthat                                                                                                                                                                                                                                                                                                                                                                                                                                                                                                                                                                                                                                                                                                                                   \n",
       "brew         testthat (>= 3.0.0)                                                                                                                                                                                                                                                                                                                                                                                                                                                                                                                                                                                                                                                                                                                                                         \n",
       "brio         covr, testthat (>= 2.1.0)                                                                                                                                                                                                                                                                                                                                                                                                                                                                                                                                                                                                                                                                                                                                                   \n",
       "broom        AER, AUC, bbmle, betareg, biglm, binGroup, boot, btergm (>=\\n1.10.6), car, carData, caret, cluster, cmprsk, coda, covr, drc,\\ne1071, emmeans, epiR, ergm (>= 3.10.4), fixest (>= 0.9.0), gam\\n(>= 1.15), gee, geepack, glmnet, glmnetUtils, gmm, Hmisc,\\nirlba, interp, joineRML, Kendall, knitr, ks, Lahman, lavaan,\\nleaps, lfe, lm.beta, lme4, lmodel2, lmtest (>= 0.9.38),\\nlsmeans, maps, maptools, margins, MASS, mclust, mediation,\\nmetafor, mfx, mgcv, mlogit, modeldata, modeltests, muhaz,\\nmultcomp, network, nnet, orcutt (>= 2.2), ordinal, plm, poLCA,\\npsych, quantreg, rgeos, rmarkdown, robust, robustbase, rsample,\\nsandwich, sp, spdep (>= 1.1), spatialreg, speedglm, spelling,\\nsurvey, survival, systemfit, testthat (>= 2.1.0), tseries,\\nvars, zoo\n",
       "bslib        shiny (>= 1.6.0), rmarkdown (>= 2.7), thematic, knitr,\\ntestthat, withr, rappdirs, curl, magrittr                                                                                                                                                                                                                                                                                                                                                                                                                                                                                                                                                                                                                                                                           \n",
       "cachem       testthat                                                                                                                                                                                                                                                                                                                                                                                                                                                                                                                                                                                                                                                                                                                                                                    \n",
       "callr        asciicast, cli (>= 1.1.0), covr, mockery, ps, rprojroot,\\nspelling, testthat (>= 3.0.0), withr (>= 2.3.0)                                                                                                                                                                                                                                                                                                                                                                                                                                                                                                                                                                                                                                                                   \n",
       "caret        BradleyTerry2, covr, Cubist, dplyr, earth (>= 2.2-3),\\nellipse, fastICA, gam (>= 1.15), ipred, kernlab, klaR, knitr,\\nMASS, Matrix, mda, mgcv, mlbench, MLmetrics, nnet, pamr, party\\n(>= 0.9-99992), pls, proxy, randomForest, RANN, rmarkdown,\\nrpart, spls, subselect, superpc, testthat (>= 0.9.1), themis\\n(>= 0.1.3)                                                                                                                                                                                                                                                                                                                                                                                                                                                  \n",
       "cellranger   covr, testthat (>= 1.0.0), knitr, rmarkdown                                                                                                                                                                                                                                                                                                                                                                                                                                                                                                                                                                                                                                                                                                                                 \n",
       "class        NA                                                                                                                                                                                                                                                                                                                                                                                                                                                                                                                                                                                                                                                                                                                                                                          \n",
       "cli          callr, covr, digest, glue (>= 1.6.0), grDevices, htmltools,\\nhtmlwidgets, knitr, methods, mockery, processx, ps (>=\\n1.3.4.9000), rlang (>= 1.0.2.9003), rmarkdown, rprojroot,\\nrstudioapi, testthat, tibble, whoami, withr                                                                                                                                                                                                                                                                                                                                                                                                                                                                                                                                                 \n",
       "clipr        covr, knitr, rmarkdown, rstudioapi (>= 0.5), testthat (>=\\n2.0.0)                                                                                                                                                                                                                                                                                                                                                                                                                                                                                                                                                                                                                                                                                                           \n",
       "clock        covr, knitr, magrittr, pillar, rmarkdown, testthat (>=\\n3.0.0), withr                                                                                                                                                                                                                                                                                                                                                                                                                                                                                                                                                                                                                                                                                                       \n",
       "codetools    NA                                                                                                                                                                                                                                                                                                                                                                                                                                                                                                                                                                                                                                                                                                                                                                          \n",
       "colorspace   datasets, utils, KernSmooth, MASS, kernlab, mvtnorm, vcd,\\ntcltk, shiny, shinyjs, ggplot2, dplyr, scales, grid, png, jpeg,\\nknitr, rmarkdown, RColorBrewer, rcartocolor, scico, viridis,\\nwesanderson                                                                                                                                                                                                                                                                                                                                                                                                                                                                                                                                                                       \n",
       "commonmark   curl, testthat, xml2                                                                                                                                                                                                                                                                                                                                                                                                                                                                                                                                                                                                                                                                                                                                                        \n",
       "compiler     NA                                                                                                                                                                                                                                                                                                                                                                                                                                                                                                                                                                                                                                                                                                                                                                          \n",
       "conflicted   callr, crayon, dplyr, Matrix, methods, pkgload, testthat (>=\\n3.0.0)                                                                                                                                                                                                                                                                                                                                                                                                                                                                                                                                                                                                                                                                                                        \n",
       "cpp11        bench, brio, callr, cli, covr, decor, desc, ggplot2, glue,\\nknitr, lobstr, mockery, progress, rmarkdown, scales, Rcpp,\\ntestthat, tibble, utils, vctrs, withr                                                                                                                                                                                                                                                                                                                                                                                                                                                                                                                                                                                                               \n",
       "crayon       mockery, rstudioapi, testthat, withr                                                                                                                                                                                                                                                                                                                                                                                                                                                                                                                                                                                                                                                                                                                                        \n",
       "credentials  testthat, knitr, rmarkdown                                                                                                                                                                                                                                                                                                                                                                                                                                                                                                                                                                                                                                                                                                                                                  \n",
       "curl         spelling, testthat (>= 1.0.0), knitr, jsonlite, rmarkdown,\\nmagrittr, httpuv (>= 1.4.4), webutils                                                                                                                                                                                                                                                                                                                                                                                                                                                                                                                                                                                                                                                                           \n",
       "⋮            ⋮                                                                                                                                                                                                                                                                                                                                                                                                                                                                                                                                                                                                                                                                                                                                                                           \n",
       "tinytex      testit, rstudioapi                                                                                                                                                                                                                                                                                                                                                                                                                                                                                                                                                                                                                                                                                                                                                          \n",
       "tools        codetools, methods, xml2, curl, commonmark, knitr, xfun,\\nmathjaxr                                                                                                                                                                                                                                                                                                                                                                                                                                                                                                                                                                                                                                                                                                          \n",
       "tseries      NA                                                                                                                                                                                                                                                                                                                                                                                                                                                                                                                                                                                                                                                                                                                                                                          \n",
       "TTR          RUnit                                                                                                                                                                                                                                                                                                                                                                                                                                                                                                                                                                                                                                                                                                                                                                       \n",
       "tune         covr, kernlab, knitr, modeldata, spelling, testthat (>=\\n3.0.0), xml2                                                                                                                                                                                                                                                                                                                                                                                                                                                                                                                                                                                                                                                                                                       \n",
       "tzdb         covr, testthat (>= 3.0.0)                                                                                                                                                                                                                                                                                                                                                                                                                                                                                                                                                                                                                                                                                                                                                   \n",
       "urca         NA                                                                                                                                                                                                                                                                                                                                                                                                                                                                                                                                                                                                                                                                                                                                                                          \n",
       "urlchecker   covr                                                                                                                                                                                                                                                                                                                                                                                                                                                                                                                                                                                                                                                                                                                                                                        \n",
       "usethis      covr, knitr, magick, mockr, pkgload, rmarkdown, roxygen2 (>=\\n7.1.2), spelling (>= 1.2), styler (>= 1.2.0), testthat (>=\\n3.1.0)                                                                                                                                                                                                                                                                                                                                                                                                                                                                                                                                                                                                                                            \n",
       "utf8         cli, covr, knitr, rlang, rmarkdown, testthat (>= 3.0.0),\\nwithr                                                                                                                                                                                                                                                                                                                                                                                                                                                                                                                                                                                                                                                                                                             \n",
       "utils        methods, xml2, commonmark, knitr                                                                                                                                                                                                                                                                                                                                                                                                                                                                                                                                                                                                                                                                                                                                            \n",
       "uuid         NA                                                                                                                                                                                                                                                                                                                                                                                                                                                                                                                                                                                                                                                                                                                                                                          \n",
       "vctrs        bit64, covr, crayon, dplyr (>= 0.8.5), generics, knitr,\\npillar (>= 1.4.4), pkgdown (>= 2.0.1), rmarkdown, testthat (>=\\n3.0.0), tibble (>= 3.1.3), withr, xml2, waldo (>= 0.2.0),\\nzeallot                                                                                                                                                                                                                                                                                                                                                                                                                                                                                                                                                                                 \n",
       "viridisLite  hexbin (>= 1.27.0), ggplot2 (>= 1.0.1), testthat, covr                                                                                                                                                                                                                                                                                                                                                                                                                                                                                                                                                                                                                                                                                                                      \n",
       "vroom        archive, bench (>= 1.1.0), covr, curl, dplyr, forcats, fs,\\nggplot2, knitr, patchwork, prettyunits, purrr, rmarkdown,\\nrstudioapi, scales, spelling, testthat (>= 2.1.0), tidyr,\\nutils, waldo, xml2                                                                                                                                                                                                                                                                                                                                                                                                                                                                                                                                                                        \n",
       "waldo        covr, R6, testthat (>= 3.0.0), withr, xml2                                                                                                                                                                                                                                                                                                                                                                                                                                                                                                                                                                                                                                                                                                                                  \n",
       "warp         covr, testthat (>= 2.1.0), knitr, rmarkdown                                                                                                                                                                                                                                                                                                                                                                                                                                                                                                                                                                                                                                                                                                                                 \n",
       "whisker      markdown                                                                                                                                                                                                                                                                                                                                                                                                                                                                                                                                                                                                                                                                                                                                                                    \n",
       "withr        callr, covr, DBI, knitr, lattice, methods, rlang, rmarkdown\\n(>= 2.12), RSQLite, testthat (>= 3.0.0)                                                                                                                                                                                                                                                                                                                                                                                                                                                                                                                                                                                                                                                                        \n",
       "workflows    butcher (>= 0.2.0), covr, dials (>= 1.0.0), knitr, magrittr,\\nmodeldata (>= 1.0.0), recipes (>= 1.0.0), rmarkdown, testthat\\n(>= 3.0.0)                                                                                                                                                                                                                                                                                                                                                                                                                                                                                                                                                                                                                                     \n",
       "workflowsets covr, dials (>= 0.1.0), kknn, knitr, modeldata, recipes (>=\\n1.0.0), rmarkdown, spelling, testthat (>= 3.0.0), yardstick (>=\\n1.0.0)                                                                                                                                                                                                                                                                                                                                                                                                                                                                                                                                                                                                                                        \n",
       "xfun         testit, parallel, codetools, rstudioapi, tinytex (>= 0.30),\\nmime, markdown, knitr, htmltools, remotes, pak, rhub, renv,\\ncurl, jsonlite, magick, rmarkdown                                                                                                                                                                                                                                                                                                                                                                                                                                                                                                                                                                                                                 \n",
       "xml2         covr, curl, httr, knitr, magrittr, mockery, rmarkdown,\\ntestthat (>= 2.1.0)                                                                                                                                                                                                                                                                                                                                                                                                                                                                                                                                                                                                                                                                                                 \n",
       "xopen        ps, testthat                                                                                                                                                                                                                                                                                                                                                                                                                                                                                                                                                                                                                                                                                                                                                                \n",
       "xtable       knitr, plm, zoo, survival                                                                                                                                                                                                                                                                                                                                                                                                                                                                                                                                                                                                                                                                                                                                                   \n",
       "xts          timeSeries, timeDate, tseries, chron, tis, RUnit                                                                                                                                                                                                                                                                                                                                                                                                                                                                                                                                                                                                                                                                                                                            \n",
       "yaml         RUnit                                                                                                                                                                                                                                                                                                                                                                                                                                                                                                                                                                                                                                                                                                                                                                       \n",
       "yardstick    covr, crayon, ggplot2, knitr, probably (>= 0.0.6), rmarkdown,\\ntestthat (>= 3.0.0), tidyr                                                                                                                                                                                                                                                                                                                                                                                                                                                                                                                                                                                                                                                                                   \n",
       "zip          covr, processx, R6, testthat, withr                                                                                                                                                                                                                                                                                                                                                                                                                                                                                                                                                                                                                                                                                                                                         \n",
       "zoo          AER, coda, chron, ggplot2 (>= 3.0.0), mondate, scales,\\nstinepack, strucchange, timeDate, timeSeries, tis, tseries, xts                                                                                                                                                                                                                                                                                                                                                                                                                                                                                                                                                                                                                                                     \n",
       "             Enhances License                                License_is_FOSS\n",
       "askpass      NA       MIT + file LICENSE                     NA             \n",
       "assertthat   NA       GPL-3                                  NA             \n",
       "backports    NA       GPL-2 | GPL-3                          NA             \n",
       "base         NA       Part of R 4.2.1                        NA             \n",
       "base64enc    png      GPL-2 | GPL-3                          NA             \n",
       "bit          NA       GPL-2 | GPL-3                          NA             \n",
       "bit64        NA       GPL-2 | GPL-3                          NA             \n",
       "bitops       NA       GPL (>= 2)                             NA             \n",
       "blob         NA       MIT + file LICENSE                     NA             \n",
       "brew         NA       GPL-2                                  NA             \n",
       "brio         NA       MIT + file LICENSE                     NA             \n",
       "broom        NA       MIT + file LICENSE                     NA             \n",
       "bslib        NA       MIT + file LICENSE                     NA             \n",
       "cachem       NA       MIT + file LICENSE                     NA             \n",
       "callr        NA       MIT + file LICENSE                     NA             \n",
       "caret        NA       GPL (>= 2)                             NA             \n",
       "cellranger   NA       MIT + file LICENSE                     NA             \n",
       "class        NA       GPL-2 | GPL-3                          NA             \n",
       "cli          NA       MIT + file LICENSE                     NA             \n",
       "clipr        NA       GPL-3                                  NA             \n",
       "clock        NA       MIT + file LICENSE                     NA             \n",
       "codetools    NA       GPL                                    NA             \n",
       "colorspace   NA       BSD_3_clause + file LICENSE            NA             \n",
       "commonmark   NA       BSD_2_clause + file LICENSE            NA             \n",
       "compiler     NA       Part of R 4.2.1                        NA             \n",
       "conflicted   NA       MIT + file LICENSE                     NA             \n",
       "cpp11        NA       MIT + file LICENSE                     NA             \n",
       "crayon       NA       MIT + file LICENSE                     NA             \n",
       "credentials  NA       MIT + file LICENSE                     NA             \n",
       "curl         NA       MIT + file LICENSE                     NA             \n",
       "⋮            ⋮        ⋮                                      ⋮              \n",
       "tinytex      NA       MIT + file LICENSE                     NA             \n",
       "tools        NA       Part of R 4.2.1                        NA             \n",
       "tseries      NA       GPL-2                                  NA             \n",
       "TTR          quantmod GPL (>= 2)                             NA             \n",
       "tune         NA       MIT + file LICENSE                     NA             \n",
       "tzdb         NA       MIT + file LICENSE                     NA             \n",
       "urca         NA       GPL (>= 2)                             NA             \n",
       "urlchecker   NA       GPL-3                                  NA             \n",
       "usethis      NA       MIT + file LICENSE                     NA             \n",
       "utf8         NA       Apache License (== 2.0) | file LICENSE NA             \n",
       "utils        NA       Part of R 4.2.1                        NA             \n",
       "uuid         NA       MIT + file LICENSE                     NA             \n",
       "vctrs        NA       MIT + file LICENSE                     NA             \n",
       "viridisLite  NA       MIT + file LICENSE                     NA             \n",
       "vroom        NA       MIT + file LICENSE                     NA             \n",
       "waldo        NA       MIT + file LICENSE                     NA             \n",
       "warp         NA       MIT + file LICENSE                     NA             \n",
       "whisker      NA       GPL-3                                  NA             \n",
       "withr        NA       MIT + file LICENSE                     NA             \n",
       "workflows    NA       MIT + file LICENSE                     NA             \n",
       "workflowsets NA       MIT + file LICENSE                     NA             \n",
       "xfun         NA       MIT + file LICENSE                     NA             \n",
       "xml2         NA       MIT + file LICENSE                     NA             \n",
       "xopen        NA       MIT + file LICENSE                     NA             \n",
       "xtable       NA       GPL (>= 2)                             NA             \n",
       "xts          NA       GPL (>= 2)                             NA             \n",
       "yaml         NA       BSD_3_clause + file LICENSE            NA             \n",
       "yardstick    NA       MIT + file LICENSE                     NA             \n",
       "zip          NA       MIT + file LICENSE                     NA             \n",
       "zoo          NA       GPL-2 | GPL-3                          NA             \n",
       "             License_restricts_use OS_type MD5sum NeedsCompilation Built\n",
       "askpass      NA                    NA      NA     yes              4.2.1\n",
       "assertthat   NA                    NA      NA     no               4.2.1\n",
       "backports    NA                    NA      NA     yes              4.2.1\n",
       "base         NA                    NA      NA     NA               4.2.1\n",
       "base64enc    NA                    NA      NA     yes              4.2.1\n",
       "bit          NA                    NA      NA     yes              4.2.1\n",
       "bit64        NA                    NA      NA     yes              4.2.1\n",
       "bitops       NA                    NA      NA     yes              4.2.1\n",
       "blob         NA                    NA      NA     no               4.2.1\n",
       "brew         NA                    NA      NA     no               4.2.1\n",
       "brio         NA                    NA      NA     yes              4.2.1\n",
       "broom        NA                    NA      NA     no               4.2.1\n",
       "bslib        NA                    NA      NA     no               4.2.1\n",
       "cachem       NA                    NA      NA     yes              4.2.1\n",
       "callr        NA                    NA      NA     no               4.2.1\n",
       "caret        NA                    NA      NA     yes              4.2.1\n",
       "cellranger   NA                    NA      NA     no               4.2.1\n",
       "class        NA                    NA      NA     yes              4.2.1\n",
       "cli          NA                    NA      NA     yes              4.2.1\n",
       "clipr        NA                    NA      NA     no               4.2.1\n",
       "clock        NA                    NA      NA     yes              4.2.1\n",
       "codetools    NA                    NA      NA     no               4.2.1\n",
       "colorspace   NA                    NA      NA     yes              4.2.1\n",
       "commonmark   NA                    NA      NA     yes              4.2.1\n",
       "compiler     NA                    NA      NA     NA               4.2.1\n",
       "conflicted   NA                    NA      NA     no               4.2.1\n",
       "cpp11        NA                    NA      NA     no               4.2.1\n",
       "crayon       NA                    NA      NA     no               4.2.1\n",
       "credentials  NA                    NA      NA     no               4.2.1\n",
       "curl         NA                    NA      NA     yes              4.2.1\n",
       "⋮            ⋮                     ⋮       ⋮      ⋮                ⋮    \n",
       "tinytex      NA                    NA      NA     no               4.2.1\n",
       "tools        NA                    NA      NA     yes              4.2.1\n",
       "tseries      NA                    NA      NA     yes              4.2.1\n",
       "TTR          NA                    NA      NA     yes              4.2.1\n",
       "tune         NA                    NA      NA     no               4.2.1\n",
       "tzdb         NA                    NA      NA     yes              4.2.1\n",
       "urca         NA                    NA      NA     yes              4.2.1\n",
       "urlchecker   NA                    NA      NA     no               4.2.1\n",
       "usethis      NA                    NA      NA     no               4.2.1\n",
       "utf8         NA                    NA      NA     yes              4.2.1\n",
       "utils        NA                    NA      NA     yes              4.2.1\n",
       "uuid         NA                    NA      NA     yes              4.2.1\n",
       "vctrs        NA                    NA      NA     yes              4.2.1\n",
       "viridisLite  NA                    NA      NA     no               4.2.1\n",
       "vroom        NA                    NA      NA     yes              4.2.1\n",
       "waldo        NA                    NA      NA     no               4.2.1\n",
       "warp         NA                    NA      NA     yes              4.2.1\n",
       "whisker      NA                    NA      NA     no               4.2.1\n",
       "withr        NA                    NA      NA     no               4.2.1\n",
       "workflows    NA                    NA      NA     no               4.2.1\n",
       "workflowsets NA                    NA      NA     no               4.2.1\n",
       "xfun         NA                    NA      NA     yes              4.2.1\n",
       "xml2         NA                    NA      NA     yes              4.2.1\n",
       "xopen        NA                    NA      NA     no               4.2.1\n",
       "xtable       NA                    NA      NA     no               4.2.1\n",
       "xts          NA                    NA      NA     yes              4.2.1\n",
       "yaml         NA                    NA      NA     yes              4.2.1\n",
       "yardstick    NA                    NA      NA     yes              4.2.1\n",
       "zip          NA                    NA      NA     yes              4.2.1\n",
       "zoo          NA                    NA      NA     yes              4.2.1"
      ]
     },
     "metadata": {},
     "output_type": "display_data"
    }
   ],
   "source": [
    "installed.packages()"
   ]
  },
  {
   "cell_type": "code",
   "execution_count": 2,
   "metadata": {},
   "outputs": [
    {
     "name": "stderr",
     "output_type": "stream",
     "text": [
      "── \u001b[1mAttaching packages\u001b[22m ────────────────────────────────────────────────────────────────────────────────────────────────────────────────────────────────────────────── tidyverse 1.3.2 ──\n",
      "\u001b[32m✔\u001b[39m \u001b[34mggplot2\u001b[39m 3.4.0      \u001b[32m✔\u001b[39m \u001b[34mpurrr  \u001b[39m 0.3.5 \n",
      "\u001b[32m✔\u001b[39m \u001b[34mtibble \u001b[39m 3.1.8      \u001b[32m✔\u001b[39m \u001b[34mdplyr  \u001b[39m 1.0.10\n",
      "\u001b[32m✔\u001b[39m \u001b[34mtidyr  \u001b[39m 1.2.1      \u001b[32m✔\u001b[39m \u001b[34mstringr\u001b[39m 1.4.1 \n",
      "\u001b[32m✔\u001b[39m \u001b[34mreadr  \u001b[39m 2.1.3      \u001b[32m✔\u001b[39m \u001b[34mforcats\u001b[39m 0.5.2 \n",
      "── \u001b[1mConflicts\u001b[22m ───────────────────────────────────────────────────────────────────────────────────────────────────────────────────────────────────────────────── tidyverse_conflicts() ──\n",
      "\u001b[31m✖\u001b[39m \u001b[34mdplyr\u001b[39m::\u001b[32mfilter()\u001b[39m masks \u001b[34mstats\u001b[39m::filter()\n",
      "\u001b[31m✖\u001b[39m \u001b[34mdplyr\u001b[39m::\u001b[32mlag()\u001b[39m    masks \u001b[34mstats\u001b[39m::lag()\n"
     ]
    }
   ],
   "source": [
    "library(\"tidyverse\")"
   ]
  },
  {
   "cell_type": "code",
   "execution_count": 3,
   "metadata": {},
   "outputs": [
    {
     "data": {
      "text/html": [
       "'/home/jovyan/work/100knock-process-visualization/chapter-1/src'"
      ],
      "text/latex": [
       "'/home/jovyan/work/100knock-process-visualization/chapter-1/src'"
      ],
      "text/markdown": [
       "'/home/jovyan/work/100knock-process-visualization/chapter-1/src'"
      ],
      "text/plain": [
       "[1] \"/home/jovyan/work/100knock-process-visualization/chapter-1/src\""
      ]
     },
     "metadata": {},
     "output_type": "display_data"
    }
   ],
   "source": [
    "work_dir <- \"/home/jovyan/work/100knock-process-visualization/chapter-1/src\"\n",
    "\n",
    "setwd(work_dir)\n",
    "\n",
    "getwd()"
   ]
  },
  {
   "cell_type": "markdown",
   "metadata": {
    "id": "OrJw1o3ZAf2z"
   },
   "source": [
    "## ノック１：法人情報データを読み込んでみよう"
   ]
  },
  {
   "cell_type": "markdown",
   "metadata": {},
   "source": [
    "文字バケエラー発生。[参考資料](https://github.com/YokohamaR/yokohama.r/issues/7)"
   ]
  },
  {
   "cell_type": "code",
   "execution_count": 4,
   "metadata": {},
   "outputs": [],
   "source": [
    "data <- read.csv(\"/home/jovyan/work//100knock-process-visualization/chapter-1/data/22_shizuoka_all_20210331.csv\",fileEncoding = \"cp932\")"
   ]
  },
  {
   "cell_type": "code",
   "execution_count": 5,
   "metadata": {
    "id": "Kxb1fvmCv_4a"
   },
   "outputs": [],
   "source": [
    "library(dplyr)"
   ]
  },
  {
   "cell_type": "code",
   "execution_count": 6,
   "metadata": {
    "id": "Vn9gtsmwv_9u"
   },
   "outputs": [
    {
     "data": {
      "text/html": [
       "<table class=\"dataframe\">\n",
       "<caption>A data.frame: 10 × 30</caption>\n",
       "<thead>\n",
       "\t<tr><th></th><th scope=col>X1</th><th scope=col>X1000013040008</th><th scope=col>X01</th><th scope=col>X1.1</th><th scope=col>X2018.04.02</th><th scope=col>X2015.10.05</th><th scope=col>静岡家庭裁判所</th><th scope=col>X</th><th scope=col>X101</th><th scope=col>静岡県</th><th scope=col>⋯</th><th scope=col>X.6</th><th scope=col>X.7</th><th scope=col>X2015.10.05.1</th><th scope=col>X1.2</th><th scope=col>Shizuoka.Family.Court</th><th scope=col>Shizuoka</th><th scope=col>X1.20..Jonaicho..Aoi.ku..Shizuoka.shi</th><th scope=col>X.8</th><th scope=col>シズオカカテイサイバンショ</th><th scope=col>X0</th></tr>\n",
       "\t<tr><th></th><th scope=col>&lt;int&gt;</th><th scope=col>&lt;dbl&gt;</th><th scope=col>&lt;int&gt;</th><th scope=col>&lt;int&gt;</th><th scope=col>&lt;chr&gt;</th><th scope=col>&lt;chr&gt;</th><th scope=col>&lt;chr&gt;</th><th scope=col>&lt;int&gt;</th><th scope=col>&lt;int&gt;</th><th scope=col>&lt;chr&gt;</th><th scope=col>⋯</th><th scope=col>&lt;dbl&gt;</th><th scope=col>&lt;chr&gt;</th><th scope=col>&lt;chr&gt;</th><th scope=col>&lt;int&gt;</th><th scope=col>&lt;chr&gt;</th><th scope=col>&lt;chr&gt;</th><th scope=col>&lt;chr&gt;</th><th scope=col>&lt;lgl&gt;</th><th scope=col>&lt;chr&gt;</th><th scope=col>&lt;int&gt;</th></tr>\n",
       "</thead>\n",
       "<tbody>\n",
       "\t<tr><th scope=row>1</th><td> 2</td><td>1.000013e+12</td><td>1</td><td>1</td><td>2018-04-02</td><td>2015-10-05</td><td>清水簡易裁判所</td><td>NA</td><td>101</td><td>静岡県</td><td>⋯</td><td>NA</td><td></td><td>2015-10-05</td><td>1</td><td>Shimizu Summary Court  </td><td>Shizuoka</td><td>1-6-15, Tenjin, Shimizu ku, Shizuoka shi</td><td>NA</td><td>シミズカンイサイバンショ  </td><td>0</td></tr>\n",
       "\t<tr><th scope=row>2</th><td> 3</td><td>1.000013e+12</td><td>1</td><td>1</td><td>2018-04-02</td><td>2015-10-05</td><td>浜松簡易裁判所</td><td>NA</td><td>101</td><td>静岡県</td><td>⋯</td><td>NA</td><td></td><td>2015-10-05</td><td>1</td><td>Hamamatsu Summary Court</td><td>Shizuoka</td><td>1-12-5, Chuo, Naka ku, Hamamatsu shi    </td><td>NA</td><td>ハママツカンイサイバンショ</td><td>0</td></tr>\n",
       "\t<tr><th scope=row>3</th><td> 4</td><td>1.000020e+12</td><td>1</td><td>1</td><td>2018-04-05</td><td>2015-10-05</td><td>磐田市        </td><td>NA</td><td>201</td><td>静岡県</td><td>⋯</td><td>NA</td><td></td><td>2015-10-05</td><td>1</td><td>Iwata City             </td><td>Shizuoka</td><td>3-1,Kounodai, Iwata shi                 </td><td>NA</td><td>イワタシ                  </td><td>0</td></tr>\n",
       "\t<tr><th scope=row>4</th><td> 5</td><td>1.000020e+12</td><td>1</td><td>1</td><td>2018-04-05</td><td>2015-10-05</td><td>焼津市        </td><td>NA</td><td>201</td><td>静岡県</td><td>⋯</td><td>NA</td><td></td><td>2015-10-05</td><td>1</td><td>Yaizu city             </td><td>Shizuoka</td><td>2-16-32 Honmachi, Yaizu shi             </td><td>NA</td><td>ヤイヅシ                  </td><td>0</td></tr>\n",
       "\t<tr><th scope=row>5</th><td> 6</td><td>1.000020e+12</td><td>1</td><td>1</td><td>2020-09-29</td><td>2015-10-05</td><td>掛川市        </td><td>NA</td><td>201</td><td>静岡県</td><td>⋯</td><td>NA</td><td></td><td>2015-10-05</td><td>1</td><td>Kakegawa City          </td><td>Shizuoka</td><td>1-1-1 Nagaya, Kakegawa shi              </td><td>NA</td><td>カケガワシ                </td><td>0</td></tr>\n",
       "\t<tr><th scope=row>6</th><td> 7</td><td>1.000020e+12</td><td>1</td><td>1</td><td>2018-04-05</td><td>2015-10-05</td><td>藤枝市        </td><td>NA</td><td>201</td><td>静岡県</td><td>⋯</td><td>NA</td><td></td><td>2015-10-05</td><td>1</td><td>Fujieda City           </td><td>Shizuoka</td><td>1-11-1,Okadeyama, Fujieda shi           </td><td>NA</td><td>フジエダシ                </td><td>0</td></tr>\n",
       "\t<tr><th scope=row>7</th><td> 8</td><td>1.000020e+12</td><td>1</td><td>1</td><td>2018-04-05</td><td>2015-10-05</td><td>御殿場市      </td><td>NA</td><td>201</td><td>静岡県</td><td>⋯</td><td>NA</td><td></td><td>2015-10-05</td><td>1</td><td>Gotemba City           </td><td>Shizuoka</td><td>483,Hagiwara, Gotemba shi               </td><td>NA</td><td>ゴテンバシ                </td><td>0</td></tr>\n",
       "\t<tr><th scope=row>8</th><td> 9</td><td>1.000020e+12</td><td>1</td><td>1</td><td>2018-04-05</td><td>2015-10-05</td><td>伊豆の国市    </td><td>NA</td><td>201</td><td>静岡県</td><td>⋯</td><td>NA</td><td></td><td>2015-10-05</td><td>1</td><td>Izunokuni shi          </td><td>Shizuoka</td><td>Nagaoka340-1, Izunokuni shi             </td><td>NA</td><td>イズノクニシ              </td><td>0</td></tr>\n",
       "\t<tr><th scope=row>9</th><td>10</td><td>1.000020e+12</td><td>1</td><td>1</td><td>2020-09-29</td><td>2015-10-05</td><td>牧之原市      </td><td>NA</td><td>201</td><td>静岡県</td><td>⋯</td><td>NA</td><td></td><td>2015-10-05</td><td>1</td><td>Makinohara City        </td><td>Shizuoka</td><td>447-1 Shizunami, Makinohara City        </td><td>NA</td><td>マキノハラシ              </td><td>0</td></tr>\n",
       "\t<tr><th scope=row>10</th><td>11</td><td>1.000020e+12</td><td>1</td><td>1</td><td>2018-04-05</td><td>2015-10-05</td><td>東伊豆町      </td><td>NA</td><td>201</td><td>静岡県</td><td>⋯</td><td>NA</td><td></td><td>2015-10-05</td><td>1</td><td>Higashiizu Town        </td><td>Shizuoka</td><td>3354,Inatori, Higashiizu cho            </td><td>NA</td><td>ヒガシイズチョウ          </td><td>0</td></tr>\n",
       "</tbody>\n",
       "</table>\n"
      ],
      "text/latex": [
       "A data.frame: 10 × 30\n",
       "\\begin{tabular}{r|lllllllllllllllllllll}\n",
       "  & X1 & X1000013040008 & X01 & X1.1 & X2018.04.02 & X2015.10.05 & 静岡家庭裁判所 & X & X101 & 静岡県 & ⋯ & X.6 & X.7 & X2015.10.05.1 & X1.2 & Shizuoka.Family.Court & Shizuoka & X1.20..Jonaicho..Aoi.ku..Shizuoka.shi & X.8 & シズオカカテイサイバンショ & X0\\\\\n",
       "  & <int> & <dbl> & <int> & <int> & <chr> & <chr> & <chr> & <int> & <int> & <chr> & ⋯ & <dbl> & <chr> & <chr> & <int> & <chr> & <chr> & <chr> & <lgl> & <chr> & <int>\\\\\n",
       "\\hline\n",
       "\t1 &  2 & 1.000013e+12 & 1 & 1 & 2018-04-02 & 2015-10-05 & 清水簡易裁判所 & NA & 101 & 静岡県 & ⋯ & NA &  & 2015-10-05 & 1 & Shimizu Summary Court   & Shizuoka & 1-6-15, Tenjin, Shimizu ku, Shizuoka shi & NA & シミズカンイサイバンショ   & 0\\\\\n",
       "\t2 &  3 & 1.000013e+12 & 1 & 1 & 2018-04-02 & 2015-10-05 & 浜松簡易裁判所 & NA & 101 & 静岡県 & ⋯ & NA &  & 2015-10-05 & 1 & Hamamatsu Summary Court & Shizuoka & 1-12-5, Chuo, Naka ku, Hamamatsu shi     & NA & ハママツカンイサイバンショ & 0\\\\\n",
       "\t3 &  4 & 1.000020e+12 & 1 & 1 & 2018-04-05 & 2015-10-05 & 磐田市         & NA & 201 & 静岡県 & ⋯ & NA &  & 2015-10-05 & 1 & Iwata City              & Shizuoka & 3-1,Kounodai, Iwata shi                  & NA & イワタシ                   & 0\\\\\n",
       "\t4 &  5 & 1.000020e+12 & 1 & 1 & 2018-04-05 & 2015-10-05 & 焼津市         & NA & 201 & 静岡県 & ⋯ & NA &  & 2015-10-05 & 1 & Yaizu city              & Shizuoka & 2-16-32 Honmachi, Yaizu shi              & NA & ヤイヅシ                   & 0\\\\\n",
       "\t5 &  6 & 1.000020e+12 & 1 & 1 & 2020-09-29 & 2015-10-05 & 掛川市         & NA & 201 & 静岡県 & ⋯ & NA &  & 2015-10-05 & 1 & Kakegawa City           & Shizuoka & 1-1-1 Nagaya, Kakegawa shi               & NA & カケガワシ                 & 0\\\\\n",
       "\t6 &  7 & 1.000020e+12 & 1 & 1 & 2018-04-05 & 2015-10-05 & 藤枝市         & NA & 201 & 静岡県 & ⋯ & NA &  & 2015-10-05 & 1 & Fujieda City            & Shizuoka & 1-11-1,Okadeyama, Fujieda shi            & NA & フジエダシ                 & 0\\\\\n",
       "\t7 &  8 & 1.000020e+12 & 1 & 1 & 2018-04-05 & 2015-10-05 & 御殿場市       & NA & 201 & 静岡県 & ⋯ & NA &  & 2015-10-05 & 1 & Gotemba City            & Shizuoka & 483,Hagiwara, Gotemba shi                & NA & ゴテンバシ                 & 0\\\\\n",
       "\t8 &  9 & 1.000020e+12 & 1 & 1 & 2018-04-05 & 2015-10-05 & 伊豆の国市     & NA & 201 & 静岡県 & ⋯ & NA &  & 2015-10-05 & 1 & Izunokuni shi           & Shizuoka & Nagaoka340-1, Izunokuni shi              & NA & イズノクニシ               & 0\\\\\n",
       "\t9 & 10 & 1.000020e+12 & 1 & 1 & 2020-09-29 & 2015-10-05 & 牧之原市       & NA & 201 & 静岡県 & ⋯ & NA &  & 2015-10-05 & 1 & Makinohara City         & Shizuoka & 447-1 Shizunami, Makinohara City         & NA & マキノハラシ               & 0\\\\\n",
       "\t10 & 11 & 1.000020e+12 & 1 & 1 & 2018-04-05 & 2015-10-05 & 東伊豆町       & NA & 201 & 静岡県 & ⋯ & NA &  & 2015-10-05 & 1 & Higashiizu Town         & Shizuoka & 3354,Inatori, Higashiizu cho             & NA & ヒガシイズチョウ           & 0\\\\\n",
       "\\end{tabular}\n"
      ],
      "text/markdown": [
       "\n",
       "A data.frame: 10 × 30\n",
       "\n",
       "| <!--/--> | X1 &lt;int&gt; | X1000013040008 &lt;dbl&gt; | X01 &lt;int&gt; | X1.1 &lt;int&gt; | X2018.04.02 &lt;chr&gt; | X2015.10.05 &lt;chr&gt; | 静岡家庭裁判所 &lt;chr&gt; | X &lt;int&gt; | X101 &lt;int&gt; | 静岡県 &lt;chr&gt; | ⋯ ⋯ | X.6 &lt;dbl&gt; | X.7 &lt;chr&gt; | X2015.10.05.1 &lt;chr&gt; | X1.2 &lt;int&gt; | Shizuoka.Family.Court &lt;chr&gt; | Shizuoka &lt;chr&gt; | X1.20..Jonaicho..Aoi.ku..Shizuoka.shi &lt;chr&gt; | X.8 &lt;lgl&gt; | シズオカカテイサイバンショ &lt;chr&gt; | X0 &lt;int&gt; |\n",
       "|---|---|---|---|---|---|---|---|---|---|---|---|---|---|---|---|---|---|---|---|---|---|\n",
       "| 1 |  2 | 1.000013e+12 | 1 | 1 | 2018-04-02 | 2015-10-05 | 清水簡易裁判所 | NA | 101 | 静岡県 | ⋯ | NA | <!----> | 2015-10-05 | 1 | Shimizu Summary Court   | Shizuoka | 1-6-15, Tenjin, Shimizu ku, Shizuoka shi | NA | シミズカンイサイバンショ   | 0 |\n",
       "| 2 |  3 | 1.000013e+12 | 1 | 1 | 2018-04-02 | 2015-10-05 | 浜松簡易裁判所 | NA | 101 | 静岡県 | ⋯ | NA | <!----> | 2015-10-05 | 1 | Hamamatsu Summary Court | Shizuoka | 1-12-5, Chuo, Naka ku, Hamamatsu shi     | NA | ハママツカンイサイバンショ | 0 |\n",
       "| 3 |  4 | 1.000020e+12 | 1 | 1 | 2018-04-05 | 2015-10-05 | 磐田市         | NA | 201 | 静岡県 | ⋯ | NA | <!----> | 2015-10-05 | 1 | Iwata City              | Shizuoka | 3-1,Kounodai, Iwata shi                  | NA | イワタシ                   | 0 |\n",
       "| 4 |  5 | 1.000020e+12 | 1 | 1 | 2018-04-05 | 2015-10-05 | 焼津市         | NA | 201 | 静岡県 | ⋯ | NA | <!----> | 2015-10-05 | 1 | Yaizu city              | Shizuoka | 2-16-32 Honmachi, Yaizu shi              | NA | ヤイヅシ                   | 0 |\n",
       "| 5 |  6 | 1.000020e+12 | 1 | 1 | 2020-09-29 | 2015-10-05 | 掛川市         | NA | 201 | 静岡県 | ⋯ | NA | <!----> | 2015-10-05 | 1 | Kakegawa City           | Shizuoka | 1-1-1 Nagaya, Kakegawa shi               | NA | カケガワシ                 | 0 |\n",
       "| 6 |  7 | 1.000020e+12 | 1 | 1 | 2018-04-05 | 2015-10-05 | 藤枝市         | NA | 201 | 静岡県 | ⋯ | NA | <!----> | 2015-10-05 | 1 | Fujieda City            | Shizuoka | 1-11-1,Okadeyama, Fujieda shi            | NA | フジエダシ                 | 0 |\n",
       "| 7 |  8 | 1.000020e+12 | 1 | 1 | 2018-04-05 | 2015-10-05 | 御殿場市       | NA | 201 | 静岡県 | ⋯ | NA | <!----> | 2015-10-05 | 1 | Gotemba City            | Shizuoka | 483,Hagiwara, Gotemba shi                | NA | ゴテンバシ                 | 0 |\n",
       "| 8 |  9 | 1.000020e+12 | 1 | 1 | 2018-04-05 | 2015-10-05 | 伊豆の国市     | NA | 201 | 静岡県 | ⋯ | NA | <!----> | 2015-10-05 | 1 | Izunokuni shi           | Shizuoka | Nagaoka340-1, Izunokuni shi              | NA | イズノクニシ               | 0 |\n",
       "| 9 | 10 | 1.000020e+12 | 1 | 1 | 2020-09-29 | 2015-10-05 | 牧之原市       | NA | 201 | 静岡県 | ⋯ | NA | <!----> | 2015-10-05 | 1 | Makinohara City         | Shizuoka | 447-1 Shizunami, Makinohara City         | NA | マキノハラシ               | 0 |\n",
       "| 10 | 11 | 1.000020e+12 | 1 | 1 | 2018-04-05 | 2015-10-05 | 東伊豆町       | NA | 201 | 静岡県 | ⋯ | NA | <!----> | 2015-10-05 | 1 | Higashiizu Town         | Shizuoka | 3354,Inatori, Higashiizu cho             | NA | ヒガシイズチョウ           | 0 |\n",
       "\n"
      ],
      "text/plain": [
       "   X1 X1000013040008 X01 X1.1 X2018.04.02 X2015.10.05 静岡家庭裁判所 X  X101\n",
       "1   2 1.000013e+12   1   1    2018-04-02  2015-10-05  清水簡易裁判所 NA 101 \n",
       "2   3 1.000013e+12   1   1    2018-04-02  2015-10-05  浜松簡易裁判所 NA 101 \n",
       "3   4 1.000020e+12   1   1    2018-04-05  2015-10-05  磐田市         NA 201 \n",
       "4   5 1.000020e+12   1   1    2018-04-05  2015-10-05  焼津市         NA 201 \n",
       "5   6 1.000020e+12   1   1    2020-09-29  2015-10-05  掛川市         NA 201 \n",
       "6   7 1.000020e+12   1   1    2018-04-05  2015-10-05  藤枝市         NA 201 \n",
       "7   8 1.000020e+12   1   1    2018-04-05  2015-10-05  御殿場市       NA 201 \n",
       "8   9 1.000020e+12   1   1    2018-04-05  2015-10-05  伊豆の国市     NA 201 \n",
       "9  10 1.000020e+12   1   1    2020-09-29  2015-10-05  牧之原市       NA 201 \n",
       "10 11 1.000020e+12   1   1    2018-04-05  2015-10-05  東伊豆町       NA 201 \n",
       "   静岡県 ⋯ X.6 X.7 X2015.10.05.1 X1.2 Shizuoka.Family.Court   Shizuoka\n",
       "1  静岡県 ⋯ NA      2015-10-05    1    Shimizu Summary Court   Shizuoka\n",
       "2  静岡県 ⋯ NA      2015-10-05    1    Hamamatsu Summary Court Shizuoka\n",
       "3  静岡県 ⋯ NA      2015-10-05    1    Iwata City              Shizuoka\n",
       "4  静岡県 ⋯ NA      2015-10-05    1    Yaizu city              Shizuoka\n",
       "5  静岡県 ⋯ NA      2015-10-05    1    Kakegawa City           Shizuoka\n",
       "6  静岡県 ⋯ NA      2015-10-05    1    Fujieda City            Shizuoka\n",
       "7  静岡県 ⋯ NA      2015-10-05    1    Gotemba City            Shizuoka\n",
       "8  静岡県 ⋯ NA      2015-10-05    1    Izunokuni shi           Shizuoka\n",
       "9  静岡県 ⋯ NA      2015-10-05    1    Makinohara City         Shizuoka\n",
       "10 静岡県 ⋯ NA      2015-10-05    1    Higashiizu Town         Shizuoka\n",
       "   X1.20..Jonaicho..Aoi.ku..Shizuoka.shi    X.8 シズオカカテイサイバンショ X0\n",
       "1  1-6-15, Tenjin, Shimizu ku, Shizuoka shi NA  シミズカンイサイバンショ   0 \n",
       "2  1-12-5, Chuo, Naka ku, Hamamatsu shi     NA  ハママツカンイサイバンショ 0 \n",
       "3  3-1,Kounodai, Iwata shi                  NA  イワタシ                   0 \n",
       "4  2-16-32 Honmachi, Yaizu shi              NA  ヤイヅシ                   0 \n",
       "5  1-1-1 Nagaya, Kakegawa shi               NA  カケガワシ                 0 \n",
       "6  1-11-1,Okadeyama, Fujieda shi            NA  フジエダシ                 0 \n",
       "7  483,Hagiwara, Gotemba shi                NA  ゴテンバシ                 0 \n",
       "8  Nagaoka340-1, Izunokuni shi              NA  イズノクニシ               0 \n",
       "9  447-1 Shizunami, Makinohara City         NA  マキノハラシ               0 \n",
       "10 3354,Inatori, Higashiizu cho             NA  ヒガシイズチョウ           0 "
      ]
     },
     "metadata": {},
     "output_type": "display_data"
    }
   ],
   "source": [
    "data %>%\n",
    "  head(n = 10)"
   ]
  },
  {
   "cell_type": "code",
   "execution_count": 7,
   "metadata": {
    "id": "QvwXkOiQxWjP"
   },
   "outputs": [
    {
     "data": {
      "text/html": [
       "114612"
      ],
      "text/latex": [
       "114612"
      ],
      "text/markdown": [
       "114612"
      ],
      "text/plain": [
       "[1] 114612"
      ]
     },
     "metadata": {},
     "output_type": "display_data"
    }
   ],
   "source": [
    "data %>% NROW()"
   ]
  },
  {
   "cell_type": "markdown",
   "metadata": {
    "id": "4_tpsKnw4nr1"
   },
   "source": [
    "headerなしでのファイル読み込み"
   ]
  },
  {
   "cell_type": "code",
   "execution_count": 10,
   "metadata": {
    "id": "XKjiB1s94qf8"
   },
   "outputs": [],
   "source": [
    "data <- read.csv(\"/home/jovyan/work/100knock-process-visualization/chapter-1/data/22_shizuoka_all_20210331.csv\",fileEncoding = \"cp932\",header=FALSE)"
   ]
  },
  {
   "cell_type": "code",
   "execution_count": null,
   "metadata": {
    "id": "KPKVCG9U4qmB"
   },
   "outputs": [],
   "source": [
    "data %>%\n",
    "  head(n = 10)"
   ]
  },
  {
   "cell_type": "markdown",
   "metadata": {
    "id": "0FrKeZvUrFKn"
   },
   "source": [
    "## ノック２：読み込んだデータを確認しよう"
   ]
  },
  {
   "cell_type": "code",
   "execution_count": null,
   "metadata": {
    "id": "dQeuZrhAROgy"
   },
   "outputs": [],
   "source": []
  },
  {
   "cell_type": "code",
   "execution_count": null,
   "metadata": {
    "id": "QkP4J0i5wuUQ"
   },
   "outputs": [],
   "source": []
  },
  {
   "cell_type": "code",
   "execution_count": null,
   "metadata": {
    "id": "YjsTahEfUOPh"
   },
   "outputs": [],
   "source": []
  },
  {
   "cell_type": "code",
   "execution_count": null,
   "metadata": {
    "id": "4cFKuOBExPI_"
   },
   "outputs": [],
   "source": []
  },
  {
   "cell_type": "code",
   "execution_count": null,
   "metadata": {
    "id": "9Ei4rMoXYsDI"
   },
   "outputs": [],
   "source": []
  },
  {
   "cell_type": "code",
   "execution_count": null,
   "metadata": {
    "id": "Y06igshtZutV"
   },
   "outputs": [],
   "source": []
  },
  {
   "cell_type": "code",
   "execution_count": null,
   "metadata": {
    "id": "B5RI6J3OZNR9"
   },
   "outputs": [],
   "source": []
  },
  {
   "cell_type": "markdown",
   "metadata": {
    "id": "M4by1Jywr4G2"
   },
   "source": [
    "## ノック３：ヘッダ用のテキストファイルを読み込もう"
   ]
  },
  {
   "cell_type": "code",
   "execution_count": null,
   "metadata": {
    "id": "7ogDQr2Kya4I"
   },
   "outputs": [],
   "source": []
  },
  {
   "cell_type": "code",
   "execution_count": null,
   "metadata": {
    "id": "gG1lNXn-ya65"
   },
   "outputs": [],
   "source": []
  },
  {
   "cell_type": "code",
   "execution_count": null,
   "metadata": {
    "id": "Z5be3u4kz5iH"
   },
   "outputs": [],
   "source": []
  },
  {
   "cell_type": "code",
   "execution_count": null,
   "metadata": {
    "id": "l00v3lF_PM8k"
   },
   "outputs": [],
   "source": []
  },
  {
   "cell_type": "markdown",
   "metadata": {
    "id": "XueV-vtPwMY7"
   },
   "source": [
    "## ノック４：ヘッダ行を追加しよう"
   ]
  },
  {
   "cell_type": "code",
   "execution_count": null,
   "metadata": {
    "id": "yl6UHFMX0Gvq"
   },
   "outputs": [],
   "source": []
  },
  {
   "cell_type": "code",
   "execution_count": null,
   "metadata": {
    "id": "IdQIr8vOG-14"
   },
   "outputs": [],
   "source": []
  },
  {
   "cell_type": "code",
   "execution_count": null,
   "metadata": {
    "id": "CKedAXnp0Jop"
   },
   "outputs": [],
   "source": []
  },
  {
   "cell_type": "markdown",
   "metadata": {
    "id": "nrlLRoaExgGP"
   },
   "source": [
    "## ノック５：統計量や欠損値を確認しよう"
   ]
  },
  {
   "cell_type": "code",
   "execution_count": null,
   "metadata": {
    "id": "zVoqN0NSxw2S"
   },
   "outputs": [],
   "source": []
  },
  {
   "cell_type": "code",
   "execution_count": null,
   "metadata": {
    "id": "UPF1Inj8X3j5"
   },
   "outputs": [],
   "source": []
  },
  {
   "cell_type": "code",
   "execution_count": null,
   "metadata": {
    "id": "BWJGrOBJxz1F"
   },
   "outputs": [],
   "source": []
  },
  {
   "cell_type": "markdown",
   "metadata": {
    "id": "1Z8rwT646g7X"
   },
   "source": [
    "## ノック６：データの追加（繰り返し・読込・抽出・結合）"
   ]
  },
  {
   "cell_type": "code",
   "execution_count": null,
   "metadata": {
    "id": "_6ESyddb0lha"
   },
   "outputs": [],
   "source": []
  },
  {
   "cell_type": "code",
   "execution_count": null,
   "metadata": {
    "id": "lN3unz0ZNh4x"
   },
   "outputs": [],
   "source": []
  },
  {
   "cell_type": "code",
   "execution_count": null,
   "metadata": {
    "id": "oyzaHgbP0lxI"
   },
   "outputs": [],
   "source": []
  },
  {
   "cell_type": "code",
   "execution_count": null,
   "metadata": {
    "id": "9l-ZzTWnaHLR"
   },
   "outputs": [],
   "source": []
  },
  {
   "cell_type": "code",
   "execution_count": null,
   "metadata": {
    "id": "QmO-WGYfatBA"
   },
   "outputs": [],
   "source": []
  },
  {
   "cell_type": "code",
   "execution_count": null,
   "metadata": {
    "id": "jews9WyY2pU6"
   },
   "outputs": [],
   "source": []
  },
  {
   "cell_type": "code",
   "execution_count": null,
   "metadata": {
    "id": "1wsUlE5wPpfY"
   },
   "outputs": [],
   "source": []
  },
  {
   "cell_type": "code",
   "execution_count": null,
   "metadata": {
    "id": "4Yxyb8yYOVN5"
   },
   "outputs": [],
   "source": []
  },
  {
   "cell_type": "code",
   "execution_count": null,
   "metadata": {
    "id": "UyaZcj3WY59P"
   },
   "outputs": [],
   "source": []
  },
  {
   "cell_type": "code",
   "execution_count": null,
   "metadata": {
    "id": "FB0jcpNbh7L7"
   },
   "outputs": [],
   "source": []
  },
  {
   "cell_type": "code",
   "execution_count": null,
   "metadata": {
    "id": "NR6s7J-lPr4L"
   },
   "outputs": [],
   "source": []
  },
  {
   "cell_type": "markdown",
   "metadata": {
    "id": "EmMEqFfNwdYB"
   },
   "source": [
    "## ノック７：マスタを読み込んで項目を横に繋げよう"
   ]
  },
  {
   "cell_type": "code",
   "execution_count": null,
   "metadata": {
    "id": "D8lyUCQ6QtY-"
   },
   "outputs": [],
   "source": []
  },
  {
   "cell_type": "code",
   "execution_count": null,
   "metadata": {
    "id": "x77F4mLe7i2e"
   },
   "outputs": [],
   "source": []
  },
  {
   "cell_type": "code",
   "execution_count": null,
   "metadata": {
    "id": "WxiLuvtM7jB5"
   },
   "outputs": [],
   "source": []
  },
  {
   "cell_type": "code",
   "execution_count": null,
   "metadata": {
    "id": "PpAJDJwc7sBy"
   },
   "outputs": [],
   "source": []
  },
  {
   "cell_type": "code",
   "execution_count": null,
   "metadata": {
    "id": "ETz0LwEkiLaN"
   },
   "outputs": [],
   "source": []
  },
  {
   "cell_type": "code",
   "execution_count": null,
   "metadata": {
    "id": "pb30UGboVvLj"
   },
   "outputs": [],
   "source": []
  },
  {
   "cell_type": "code",
   "execution_count": null,
   "metadata": {
    "id": "CjgQzboxiLWz"
   },
   "outputs": [],
   "source": []
  },
  {
   "cell_type": "code",
   "execution_count": null,
   "metadata": {
    "id": "HqfXFSaoWGTx"
   },
   "outputs": [],
   "source": []
  },
  {
   "cell_type": "code",
   "execution_count": null,
   "metadata": {
    "id": "6CJqDq2iQtf2"
   },
   "outputs": [],
   "source": []
  },
  {
   "cell_type": "code",
   "execution_count": null,
   "metadata": {
    "id": "gQC3_PosiLTD"
   },
   "outputs": [],
   "source": []
  },
  {
   "cell_type": "code",
   "execution_count": null,
   "metadata": {
    "id": "5fqJ4wDIi6Oe"
   },
   "outputs": [],
   "source": []
  },
  {
   "cell_type": "code",
   "execution_count": null,
   "metadata": {
    "id": "dmW_80f__Uqa"
   },
   "outputs": [],
   "source": []
  },
  {
   "cell_type": "code",
   "execution_count": null,
   "metadata": {
    "id": "rqEjlChui6L6"
   },
   "outputs": [],
   "source": []
  },
  {
   "cell_type": "code",
   "execution_count": null,
   "metadata": {
    "id": "KzDF_WOH-3iH"
   },
   "outputs": [],
   "source": []
  },
  {
   "cell_type": "markdown",
   "metadata": {
    "id": "9K0jraNW615H"
   },
   "source": [
    "## ノック８：テキストの連結や分割をしよう"
   ]
  },
  {
   "cell_type": "code",
   "execution_count": null,
   "metadata": {
    "id": "tAY0PgnG7Two"
   },
   "outputs": [],
   "source": []
  },
  {
   "cell_type": "code",
   "execution_count": null,
   "metadata": {
    "id": "L5X2wDCPws7j"
   },
   "outputs": [],
   "source": []
  },
  {
   "cell_type": "code",
   "execution_count": null,
   "metadata": {
    "id": "ExieiuWXxrAX"
   },
   "outputs": [],
   "source": []
  },
  {
   "cell_type": "code",
   "execution_count": null,
   "metadata": {
    "id": "Rssx-kkDxrEl"
   },
   "outputs": [],
   "source": []
  },
  {
   "cell_type": "code",
   "execution_count": null,
   "metadata": {
    "id": "V9JeCiW0yaKx"
   },
   "outputs": [],
   "source": []
  },
  {
   "cell_type": "code",
   "execution_count": null,
   "metadata": {
    "id": "czPeOvRpC0q-"
   },
   "outputs": [],
   "source": []
  },
  {
   "cell_type": "code",
   "execution_count": null,
   "metadata": {
    "id": "KbYfrW_vJ3fi"
   },
   "outputs": [],
   "source": []
  },
  {
   "cell_type": "code",
   "execution_count": null,
   "metadata": {
    "id": "B5Hn_XxOJ3ph"
   },
   "outputs": [],
   "source": []
  },
  {
   "cell_type": "markdown",
   "metadata": {
    "id": "T6n7m5TJ7AkB"
   },
   "source": [
    "## ノック９：日付を加工しよう"
   ]
  },
  {
   "cell_type": "code",
   "execution_count": null,
   "metadata": {
    "id": "Hh4voaK5EWIy"
   },
   "outputs": [],
   "source": []
  },
  {
   "cell_type": "code",
   "execution_count": null,
   "metadata": {
    "id": "pp4IM35pEWNx"
   },
   "outputs": [],
   "source": []
  },
  {
   "cell_type": "code",
   "execution_count": null,
   "metadata": {
    "id": "PYcrAHBXEWXy"
   },
   "outputs": [],
   "source": []
  },
  {
   "cell_type": "code",
   "execution_count": null,
   "metadata": {
    "id": "SQ5WXWwLKe6G"
   },
   "outputs": [],
   "source": []
  },
  {
   "cell_type": "code",
   "execution_count": null,
   "metadata": {
    "id": "DrSSIdr-EWer"
   },
   "outputs": [],
   "source": []
  },
  {
   "cell_type": "code",
   "execution_count": null,
   "metadata": {
    "id": "NmkV16LBKHYz"
   },
   "outputs": [],
   "source": []
  },
  {
   "cell_type": "code",
   "execution_count": null,
   "metadata": {
    "id": "HYCFhKdNxE0o"
   },
   "outputs": [],
   "source": []
  },
  {
   "cell_type": "code",
   "execution_count": null,
   "metadata": {
    "id": "pxB5wykkKHdL"
   },
   "outputs": [],
   "source": []
  },
  {
   "cell_type": "code",
   "execution_count": null,
   "metadata": {
    "id": "HkpTWI6VLKzs"
   },
   "outputs": [],
   "source": []
  },
  {
   "cell_type": "code",
   "execution_count": null,
   "metadata": {
    "id": "NhtPdrAmLqf6"
   },
   "outputs": [],
   "source": []
  },
  {
   "cell_type": "code",
   "execution_count": null,
   "metadata": {
    "id": "_-nKto7YL7Bm"
   },
   "outputs": [],
   "source": []
  },
  {
   "cell_type": "markdown",
   "metadata": {
    "id": "XMwFLVzu-CZC"
   },
   "source": [
    "## ノック１０：年度を設定しよう"
   ]
  },
  {
   "cell_type": "code",
   "execution_count": null,
   "metadata": {
    "id": "8Qm0lSGh-eXC"
   },
   "outputs": [],
   "source": []
  },
  {
   "cell_type": "code",
   "execution_count": null,
   "metadata": {
    "id": "yd-2BV8CbXqf"
   },
   "outputs": [],
   "source": []
  },
  {
   "cell_type": "code",
   "execution_count": null,
   "metadata": {
    "id": "DNZpbuhvX2QD"
   },
   "outputs": [],
   "source": []
  },
  {
   "cell_type": "markdown",
   "metadata": {
    "id": "QPEBK5A47IFZ"
   },
   "source": [
    "## ノック１１：加工したデータをファイルに出力しよう"
   ]
  },
  {
   "cell_type": "code",
   "execution_count": null,
   "metadata": {
    "id": "DmJe35nRzIYT"
   },
   "outputs": [],
   "source": []
  },
  {
   "cell_type": "code",
   "execution_count": null,
   "metadata": {
    "id": "oFrIz626NtRx"
   },
   "outputs": [],
   "source": []
  },
  {
   "cell_type": "code",
   "execution_count": null,
   "metadata": {
    "id": "4jBHTfcRNtWK"
   },
   "outputs": [],
   "source": []
  },
  {
   "cell_type": "markdown",
   "metadata": {
    "id": "3adikQ_m65BI"
   },
   "source": [
    "## ノック１２：不要な項目の削除と並べ替えをしよう"
   ]
  },
  {
   "cell_type": "code",
   "execution_count": null,
   "metadata": {
    "id": "d8kal8_4w0vQ"
   },
   "outputs": [],
   "source": []
  },
  {
   "cell_type": "code",
   "execution_count": null,
   "metadata": {
    "id": "WIHn2hG4w0yw"
   },
   "outputs": [],
   "source": []
  },
  {
   "cell_type": "code",
   "execution_count": null,
   "metadata": {
    "id": "v1sp97Bow041"
   },
   "outputs": [],
   "source": []
  },
  {
   "cell_type": "code",
   "execution_count": null,
   "metadata": {
    "id": "aXfxDIbJPYcS"
   },
   "outputs": [],
   "source": []
  },
  {
   "cell_type": "markdown",
   "metadata": {
    "id": "m87Vuvjb69bU"
   },
   "source": [
    "## ノック１３：まとまった単位で集計しよう"
   ]
  },
  {
   "cell_type": "code",
   "execution_count": null,
   "metadata": {
    "id": "3yC1LA6Gosp0"
   },
   "outputs": [],
   "source": []
  },
  {
   "cell_type": "code",
   "execution_count": null,
   "metadata": {
    "id": "LebTq01-hwjW"
   },
   "outputs": [],
   "source": []
  },
  {
   "cell_type": "code",
   "execution_count": null,
   "metadata": {
    "id": "SB7cpmJflhPW"
   },
   "outputs": [],
   "source": []
  },
  {
   "cell_type": "code",
   "execution_count": null,
   "metadata": {
    "id": "Zk1k3xaQjyX7"
   },
   "outputs": [],
   "source": []
  },
  {
   "cell_type": "code",
   "execution_count": null,
   "metadata": {
    "id": "Uc_fFgydqhNj"
   },
   "outputs": [],
   "source": []
  },
  {
   "cell_type": "markdown",
   "metadata": {
    "id": "ChDnISx2McsC"
   },
   "source": [
    "## ノック１４：市区町村別の法人数を可視化しよう"
   ]
  },
  {
   "cell_type": "code",
   "execution_count": null,
   "metadata": {
    "id": "ltr0lIZ7YnVF"
   },
   "outputs": [],
   "source": []
  },
  {
   "cell_type": "code",
   "execution_count": null,
   "metadata": {
    "id": "EIF1Jx8nHlzu"
   },
   "outputs": [],
   "source": []
  },
  {
   "cell_type": "code",
   "execution_count": null,
   "metadata": {
    "id": "otM88RmMYU1t"
   },
   "outputs": [],
   "source": []
  },
  {
   "cell_type": "code",
   "execution_count": null,
   "metadata": {
    "id": "JLjaeA5SBYzu"
   },
   "outputs": [],
   "source": []
  },
  {
   "cell_type": "markdown",
   "metadata": {
    "id": "xZUzoupPKyHu"
   },
   "source": [
    "## ノック１５：グラフの縦横と表示順を変えてみよう"
   ]
  },
  {
   "cell_type": "code",
   "execution_count": null,
   "metadata": {
    "id": "56cZ_GCFLeC-"
   },
   "outputs": [],
   "source": []
  },
  {
   "cell_type": "code",
   "execution_count": null,
   "metadata": {
    "id": "1Roi13s5U6Tv"
   },
   "outputs": [],
   "source": []
  },
  {
   "cell_type": "markdown",
   "metadata": {
    "id": "3rjir-OYMuSC"
   },
   "source": [
    "## ノック１６：グラフのタイトルとラベルを設定しよう"
   ]
  },
  {
   "cell_type": "code",
   "execution_count": null,
   "metadata": {
    "id": "3Sn0LaQjXs36"
   },
   "outputs": [],
   "source": []
  },
  {
   "cell_type": "code",
   "execution_count": null,
   "metadata": {
    "id": "SCFxrkPIJ89L"
   },
   "outputs": [],
   "source": []
  },
  {
   "cell_type": "markdown",
   "metadata": {
    "id": "ZVbB0ORNMuce"
   },
   "source": [
    "## ノック１７：グラフの見た目をもっと変えてみよう"
   ]
  },
  {
   "cell_type": "code",
   "execution_count": null,
   "metadata": {
    "id": "Imo1pjuQcDMT"
   },
   "outputs": [],
   "source": []
  },
  {
   "cell_type": "markdown",
   "metadata": {
    "id": "MPSnLkD0Mkly"
   },
   "source": [
    "## ノック１８：９０日以内に新規登録された法人数を可視化してみよう"
   ]
  },
  {
   "cell_type": "code",
   "execution_count": null,
   "metadata": {
    "id": "Gm9PR3GwM4F8"
   },
   "outputs": [],
   "source": []
  },
  {
   "cell_type": "code",
   "execution_count": null,
   "metadata": {
    "id": "79WyMnMEVTK4"
   },
   "outputs": [],
   "source": []
  },
  {
   "cell_type": "code",
   "execution_count": null,
   "metadata": {
    "id": "aHPDh73iNATi"
   },
   "outputs": [],
   "source": []
  },
  {
   "cell_type": "code",
   "execution_count": null,
   "metadata": {
    "id": "pWDrnaBIqck0"
   },
   "outputs": [],
   "source": []
  },
  {
   "cell_type": "code",
   "execution_count": null,
   "metadata": {
    "id": "FV_zIHl0EGQb"
   },
   "outputs": [],
   "source": []
  },
  {
   "cell_type": "code",
   "execution_count": null,
   "metadata": {
    "id": "oIIvA-vHEGTO"
   },
   "outputs": [],
   "source": []
  },
  {
   "cell_type": "code",
   "execution_count": null,
   "metadata": {
    "id": "fZZlKIRpEGV7"
   },
   "outputs": [],
   "source": []
  },
  {
   "cell_type": "markdown",
   "metadata": {
    "id": "MitoEhNPM5s1"
   },
   "source": [
    "## ノック１９：年度別の推移を可視化しよう"
   ]
  },
  {
   "cell_type": "code",
   "execution_count": null,
   "metadata": {
    "id": "NBcoQ9bnLaWW"
   },
   "outputs": [],
   "source": []
  },
  {
   "cell_type": "code",
   "execution_count": null,
   "metadata": {
    "id": "YrytswQ5xVhc"
   },
   "outputs": [],
   "source": []
  },
  {
   "cell_type": "code",
   "execution_count": null,
   "metadata": {
    "id": "LTNolgJoGN3q"
   },
   "outputs": [],
   "source": []
  },
  {
   "cell_type": "code",
   "execution_count": null,
   "metadata": {
    "id": "NMh07RKdxUWQ"
   },
   "outputs": [],
   "source": []
  },
  {
   "cell_type": "markdown",
   "metadata": {
    "id": "20F9WmchGlfL"
   },
   "source": [
    "## ノック２０：データとグラフを出力しよう"
   ]
  },
  {
   "cell_type": "code",
   "execution_count": null,
   "metadata": {
    "id": "RKR4X1so6XQW"
   },
   "outputs": [],
   "source": []
  },
  {
   "cell_type": "code",
   "execution_count": null,
   "metadata": {
    "id": "LXQIkSZY2Zys"
   },
   "outputs": [],
   "source": []
  }
 ],
 "metadata": {
  "colab": {
   "collapsed_sections": [],
   "name": "1章.ipynb",
   "provenance": []
  },
  "kernelspec": {
   "display_name": "R",
   "language": "R",
   "name": "ir"
  },
  "language_info": {
   "codemirror_mode": "r",
   "file_extension": ".r",
   "mimetype": "text/x-r-source",
   "name": "R",
   "pygments_lexer": "r",
   "version": "4.2.1"
  }
 },
 "nbformat": 4,
 "nbformat_minor": 4
}
