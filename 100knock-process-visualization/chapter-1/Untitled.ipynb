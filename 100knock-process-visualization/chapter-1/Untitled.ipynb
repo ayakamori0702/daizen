{
 "cells": [
  {
   "cell_type": "code",
   "execution_count": 4,
   "id": "b4230b4b-2865-4182-8e57-6d4533117937",
   "metadata": {},
   "outputs": [
    {
     "name": "stdout",
     "output_type": "stream",
     "text": [
      "/opt/conda/lib/python3.10/site-packages/matplotlib/mpl-data\n"
     ]
    }
   ],
   "source": [
    "cd /opt/conda/lib/python3.10/site-packages/matplotlib/mpl-data/"
   ]
  },
  {
   "cell_type": "code",
   "execution_count": 5,
   "id": "79ace5cb-c77f-4d6a-b9ca-3d08cdc418d0",
   "metadata": {},
   "outputs": [
    {
     "name": "stdout",
     "output_type": "stream",
     "text": [
      "\u001b[0m\u001b[01;34mfonts\u001b[0m/   kpsewhich.lua  \u001b[01;34mplot_directive\u001b[0m/  \u001b[01;34mstylelib\u001b[0m/\n",
      "\u001b[01;34mimages\u001b[0m/  matplotlibrc   \u001b[01;34msample_data\u001b[0m/\n"
     ]
    }
   ],
   "source": [
    "ls"
   ]
  },
  {
   "cell_type": "code",
   "execution_count": 6,
   "id": "a903e303-837c-41cd-a7c1-c821818adef6",
   "metadata": {},
   "outputs": [
    {
     "name": "stdout",
     "output_type": "stream",
     "text": [
      "/opt/conda/lib/python3.10/site-packages/matplotlib/mpl-data/fonts\n"
     ]
    }
   ],
   "source": [
    "cd fonts/"
   ]
  },
  {
   "cell_type": "code",
   "execution_count": 7,
   "id": "1205c2f0-6d58-4ebb-8f4e-99afdccd4e77",
   "metadata": {},
   "outputs": [
    {
     "name": "stdout",
     "output_type": "stream",
     "text": [
      "\u001b[0m\u001b[01;34mafm\u001b[0m/  \u001b[01;34mpdfcorefonts\u001b[0m/  \u001b[01;34mttf\u001b[0m/\n"
     ]
    }
   ],
   "source": [
    "ls"
   ]
  },
  {
   "cell_type": "code",
   "execution_count": 8,
   "id": "eccf9364-f7fc-48f1-a9ec-47babc685df5",
   "metadata": {},
   "outputs": [
    {
     "name": "stdout",
     "output_type": "stream",
     "text": [
      "/opt/conda/lib/python3.10/site-packages/matplotlib/mpl-data/fonts/ttf\n"
     ]
    }
   ],
   "source": [
    "cd ttf"
   ]
  },
  {
   "cell_type": "code",
   "execution_count": 9,
   "id": "9fd6f721-028e-4ccd-88c0-8d219a95fa18",
   "metadata": {},
   "outputs": [
    {
     "name": "stdout",
     "output_type": "stream",
     "text": [
      "cmb10.ttf                       \u001b[0m\u001b[01;32mipaexg.ttf\u001b[0m*\n",
      "cmex10.ttf                      LICENSE_DEJAVU\n",
      "cmmi10.ttf                      LICENSE_STIX\n",
      "cmr10.ttf                       STIXGeneralBolIta.ttf\n",
      "cmss10.ttf                      STIXGeneralBol.ttf\n",
      "cmsy10.ttf                      STIXGeneralItalic.ttf\n",
      "cmtt10.ttf                      STIXGeneral.ttf\n",
      "DejaVuSans-BoldOblique.ttf      STIXNonUniBolIta.ttf\n",
      "DejaVuSans-Bold.ttf             STIXNonUniBol.ttf\n",
      "DejaVuSansDisplay.ttf           STIXNonUniIta.ttf\n",
      "DejaVuSansMono-BoldOblique.ttf  STIXNonUni.ttf\n",
      "DejaVuSansMono-Bold.ttf         STIXSizFiveSymReg.ttf\n",
      "DejaVuSansMono-Oblique.ttf      STIXSizFourSymBol.ttf\n",
      "DejaVuSansMono.ttf              STIXSizFourSymReg.ttf\n",
      "DejaVuSans-Oblique.ttf          STIXSizOneSymBol.ttf\n",
      "DejaVuSans.ttf                  STIXSizOneSymReg.ttf\n",
      "DejaVuSerif-BoldItalic.ttf      STIXSizThreeSymBol.ttf\n",
      "DejaVuSerif-Bold.ttf            STIXSizThreeSymReg.ttf\n",
      "DejaVuSerifDisplay.ttf          STIXSizTwoSymBol.ttf\n",
      "DejaVuSerif-Italic.ttf          STIXSizTwoSymReg.ttf\n",
      "DejaVuSerif.ttf\n"
     ]
    }
   ],
   "source": [
    "ls"
   ]
  },
  {
   "cell_type": "code",
   "execution_count": 13,
   "id": "765206e9-09fc-43cd-a500-493c0dc3df58",
   "metadata": {},
   "outputs": [
    {
     "name": "stdout",
     "output_type": "stream",
     "text": [
      "/opt/conda/lib/python3.10/site-packages/matplotlib/mpl-data/fonts\n"
     ]
    }
   ],
   "source": [
    "cd .."
   ]
  },
  {
   "cell_type": "code",
   "execution_count": 14,
   "id": "68935c3e-a509-4985-87f2-3cab1e891dff",
   "metadata": {},
   "outputs": [
    {
     "name": "stdout",
     "output_type": "stream",
     "text": [
      "/opt/conda/lib/python3.10/site-packages/matplotlib/mpl-data\n"
     ]
    }
   ],
   "source": [
    "cd .."
   ]
  },
  {
   "cell_type": "code",
   "execution_count": 17,
   "id": "3c16587e-3cf1-431f-a469-50073f47b4da",
   "metadata": {},
   "outputs": [
    {
     "name": "stdout",
     "output_type": "stream",
     "text": [
      "\u001b[0m\u001b[01;34mfonts\u001b[0m/   kpsewhich.lua  \u001b[01;34mplot_directive\u001b[0m/  \u001b[01;34mstylelib\u001b[0m/\n",
      "\u001b[01;34mimages\u001b[0m/  matplotlibrc   \u001b[01;34msample_data\u001b[0m/\n"
     ]
    }
   ],
   "source": [
    "ls"
   ]
  },
  {
   "cell_type": "code",
   "execution_count": null,
   "id": "1d9c3f40-dab7-42c6-9afb-aa796cc61239",
   "metadata": {},
   "outputs": [],
   "source": []
  }
 ],
 "metadata": {
  "kernelspec": {
   "display_name": "Python 3 (ipykernel)",
   "language": "python",
   "name": "python3"
  },
  "language_info": {
   "codemirror_mode": {
    "name": "ipython",
    "version": 3
   },
   "file_extension": ".py",
   "mimetype": "text/x-python",
   "name": "python",
   "nbconvert_exporter": "python",
   "pygments_lexer": "ipython3",
   "version": "3.10.6"
  }
 },
 "nbformat": 4,
 "nbformat_minor": 5
}
