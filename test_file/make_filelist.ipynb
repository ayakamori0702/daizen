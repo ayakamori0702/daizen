{
 "cells": [
  {
   "cell_type": "markdown",
   "id": "84fbfa1d-631c-4d03-8545-812be3bd8be7",
   "metadata": {},
   "source": [
    "# ファイルリストを作成\n",
    "M1MBPで実験</br>\n",
    "参考：https://qiita.com/amowwee/items/e63b3610ea750f7dba1b"
   ]
  },
  {
   "cell_type": "code",
   "execution_count": 1,
   "id": "a48f7b12-f6e3-4767-ba4f-b2af25962e76",
   "metadata": {},
   "outputs": [],
   "source": [
    "from pathlib import Path"
   ]
  },
  {
   "cell_type": "code",
   "execution_count": 3,
   "id": "4aa00c45-4923-4956-9d82-663c7fd90220",
   "metadata": {},
   "outputs": [
    {
     "data": {
      "text/plain": [
       "[PosixPath('100knock-process-visualization/chapter-1'),\n",
       " PosixPath('100knock-process-visualization/font.zip')]"
      ]
     },
     "execution_count": 3,
     "metadata": {},
     "output_type": "execute_result"
    }
   ],
   "source": [
    "# Pathオブジェクトを生成\n",
    "p = Path(\"./100knock-process-visualization/\")\n",
    "\n",
    "# 100knock~~~直下のファイルとディレクトリを取得\n",
    "# Path.glob(pattern)はジェネレータを返す。結果を明示するためlist化しているが、普段は不要。\n",
    "list(p.glob(\"*\"))"
   ]
  },
  {
   "cell_type": "code",
   "execution_count": 8,
   "id": "252379a9-d41e-49f8-aa95-5870cdc21759",
   "metadata": {},
   "outputs": [
    {
     "data": {
      "text/plain": [
       "[PosixPath('100knock-process-visualization/chapter-1/data/22_shizuoka_all_20210331.csv'),\n",
       " PosixPath('100knock-process-visualization/chapter-1/data/diff_20210401.csv'),\n",
       " PosixPath('100knock-process-visualization/chapter-1/data/diff_20210405.csv'),\n",
       " PosixPath('100knock-process-visualization/chapter-1/data/diff_20210406.csv'),\n",
       " PosixPath('100knock-process-visualization/chapter-1/data/diff_20210407.csv'),\n",
       " PosixPath('100knock-process-visualization/chapter-1/data/diff_20210408.csv'),\n",
       " PosixPath('100knock-process-visualization/chapter-1/data/diff_20210409.csv'),\n",
       " PosixPath('100knock-process-visualization/chapter-1/data/mst_closeCause.csv'),\n",
       " PosixPath('100knock-process-visualization/chapter-1/data/mst_corp_kind.csv'),\n",
       " PosixPath('100knock-process-visualization/chapter-1/data/mst_correct_kbn.csv'),\n",
       " PosixPath('100knock-process-visualization/chapter-1/data/mst_hihyoji.csv'),\n",
       " PosixPath('100knock-process-visualization/chapter-1/data/mst_latest.csv'),\n",
       " PosixPath('100knock-process-visualization/chapter-1/data/mst_process_kbn.csv'),\n",
       " PosixPath('100knock-process-visualization/chapter-1/data/output/knock20_graphdata.csv'),\n",
       " PosixPath('100knock-process-visualization/chapter-1/data/output/processed_shizuoka.csv')]"
      ]
     },
     "execution_count": 8,
     "metadata": {},
     "output_type": "execute_result"
    }
   ],
   "source": [
    "# ファイル名の条件指定\n",
    "list(p.glob(\"**/*.csv\"))"
   ]
  },
  {
   "cell_type": "code",
   "execution_count": 5,
   "id": "8145ccdd-bca4-42f0-94d0-0ab774308e7c",
   "metadata": {},
   "outputs": [
    {
     "data": {
      "text/plain": [
       "[PosixPath('100knock-process-visualization/chapter-1'),\n",
       " PosixPath('100knock-process-visualization/font.zip'),\n",
       " PosixPath('100knock-process-visualization/chapter-1/.vscode'),\n",
       " PosixPath('100knock-process-visualization/chapter-1/Untitled.ipynb'),\n",
       " PosixPath('100knock-process-visualization/chapter-1/data'),\n",
       " PosixPath('100knock-process-visualization/chapter-1/requirements.txt'),\n",
       " PosixPath('100knock-process-visualization/chapter-1/src'),\n",
       " PosixPath('100knock-process-visualization/chapter-1/.vscode/settings.json'),\n",
       " PosixPath('100knock-process-visualization/chapter-1/data/22_shizuoka_all_20210331.csv'),\n",
       " PosixPath('100knock-process-visualization/chapter-1/data/diff_20210401.csv'),\n",
       " PosixPath('100knock-process-visualization/chapter-1/data/diff_20210405.csv'),\n",
       " PosixPath('100knock-process-visualization/chapter-1/data/diff_20210406.csv'),\n",
       " PosixPath('100knock-process-visualization/chapter-1/data/diff_20210407.csv'),\n",
       " PosixPath('100knock-process-visualization/chapter-1/data/diff_20210408.csv'),\n",
       " PosixPath('100knock-process-visualization/chapter-1/data/diff_20210409.csv'),\n",
       " PosixPath('100knock-process-visualization/chapter-1/data/mst_closeCause.csv'),\n",
       " PosixPath('100knock-process-visualization/chapter-1/data/mst_column_name.txt'),\n",
       " PosixPath('100knock-process-visualization/chapter-1/data/mst_corp_kind.csv'),\n",
       " PosixPath('100knock-process-visualization/chapter-1/data/mst_correct_kbn.csv'),\n",
       " PosixPath('100knock-process-visualization/chapter-1/data/mst_hihyoji.csv'),\n",
       " PosixPath('100knock-process-visualization/chapter-1/data/mst_latest.csv'),\n",
       " PosixPath('100knock-process-visualization/chapter-1/data/mst_process_kbn.csv'),\n",
       " PosixPath('100knock-process-visualization/chapter-1/data/output'),\n",
       " PosixPath('100knock-process-visualization/chapter-1/data/output/knock20_graph.png'),\n",
       " PosixPath('100knock-process-visualization/chapter-1/data/output/knock20_graphdata.csv'),\n",
       " PosixPath('100knock-process-visualization/chapter-1/data/output/processed_shizuoka.csv'),\n",
       " PosixPath('100knock-process-visualization/chapter-1/data/output/processed_shizuoka.xlsx'),\n",
       " PosixPath('100knock-process-visualization/chapter-1/src/1章_R.ipynb'),\n",
       " PosixPath('100knock-process-visualization/chapter-1/src/1章_answer.ipynb'),\n",
       " PosixPath('100knock-process-visualization/chapter-1/src/1章_python.ipynb')]"
      ]
     },
     "execution_count": 5,
     "metadata": {},
     "output_type": "execute_result"
    }
   ],
   "source": [
    "# 再帰的な検索\n",
    "list(p.glob(\"**/*\"))"
   ]
  },
  {
   "cell_type": "code",
   "execution_count": 11,
   "id": "09884561-f96e-4f55-9504-05c5236af2b1",
   "metadata": {},
   "outputs": [
    {
     "data": {
      "text/plain": [
       "<generator object Path.glob at 0x404a4851c0>"
      ]
     },
     "execution_count": 11,
     "metadata": {},
     "output_type": "execute_result"
    }
   ],
   "source": [
    "p.glob(\"**/*\")"
   ]
  },
  {
   "cell_type": "markdown",
   "id": "cf47fb58-f6bd-4ecb-9363-300f28f2418f",
   "metadata": {},
   "source": [
    "Pathlibについてさらなる情報\n",
    "https://dev.classmethod.jp/articles/python-pathlib-intro/"
   ]
  },
  {
   "cell_type": "code",
   "execution_count": null,
   "id": "9819ecc4-afcf-4d8d-8655-c37f30cca1a0",
   "metadata": {},
   "outputs": [],
   "source": []
  }
 ],
 "metadata": {
  "kernelspec": {
   "display_name": "Python 3 (ipykernel)",
   "language": "python",
   "name": "python3"
  },
  "language_info": {
   "codemirror_mode": {
    "name": "ipython",
    "version": 3
   },
   "file_extension": ".py",
   "mimetype": "text/x-python",
   "name": "python",
   "nbconvert_exporter": "python",
   "pygments_lexer": "ipython3",
   "version": "3.10.6"
  }
 },
 "nbformat": 4,
 "nbformat_minor": 5
}
